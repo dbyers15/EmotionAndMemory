{
 "cells": [
  {
   "cell_type": "markdown",
   "metadata": {},
   "source": [
    "# Emotion and Memory\n",
    "### Matthew Chong A16156411\n",
    "### Daneil Byers A15396367\n",
    "### Steve Kuk A15521681\n",
    "### Robert Aispuro"
   ]
  },
  {
   "cell_type": "markdown",
   "metadata": {},
   "source": [
    "# I. Introduction and Background"
   ]
  },
  {
   "cell_type": "markdown",
   "metadata": {},
   "source": [
    "### IA. Overview"
   ]
  },
  {
   "cell_type": "markdown",
   "metadata": {},
   "source": [
    "For our project, we wanted to analyze data on an individual's ability to comprehend and recall information and see if their ability to execute these tasks are influenced by either positive or negative sentiment. We decided to split the data between age groups and divided them into 3 buckets: 18-25, 30-40, 45-55 as well as splitting the data between 3 columns: recalled, imagined and retold.  We focused on specific columns of information from the dataset such as age, draining, distracted similarity, etc, that can potentially influence one’s ability to comprehend and recall information. We took an approach using these variables to simultaneously analyze memory recollection as well as sentiment for individuals."
   ]
  },
  {
   "cell_type": "markdown",
   "metadata": {},
   "source": [
    "### IB. Research Question"
   ]
  },
  {
   "cell_type": "markdown",
   "metadata": {},
   "source": [
    " Does Positive and Negative emotion influence memory when isolated regardless of environment and regardless of gender?\n",
    "\n"
   ]
  },
  {
   "cell_type": "markdown",
   "metadata": {},
   "source": [
    "### IC. Background & Prior Work"
   ]
  },
  {
   "cell_type": "markdown",
   "metadata": {},
   "source": [
    "Over the past few years, students' academic performance has been largely affected by the pandemic where in-person classes transitioned into online classes. Traditionally, a student's learning and education has always been delivered in person. Now, students are abruptly forced to adapt to a new learning environment where their education is being delivered through a monitor screen. This sudden change either had a positive or negative academic impact, depending on the prefered learning method on the individual. In the research article, *Integrating students' Perspective about Online Learning: A hierarchy of factors* by Montgomery Van Wart, Van Wart and his team found that the most critical factor of online classes is the \"loss of physical interaction\". The loss of physical interaction demanded a higher level of interactivity and instructional sophistication in the virtual aspect. Furthermore, how students personally feel about the sudden shift in learning may have an influence in their ability to comprehend and recall information delivered through their computers. The research article, *Impact of online classes on the satisfaction and performance of students during the pandemic period of COVID-19* by Ram Gopal, looks at this factor. The study evaluated student's thoughts about how they personally felt about online learning. The study found that \"overall students agreed that online teaching was valuable for them\". From this article, it seems that students are satisfied with online learning. In fact, in another article called *The Influence of Virtual Learning Environments in Students' performance* by Paul Alves, Alves found that the more access a student has to VLE (Virtual Learning Environments), the more this leads to an increase of the number of units they register, an increase in the number of units they pass, and a decrease in the \"percentage of students who failed all course units\". Thus, not only are students satisfied with online learning, they are also overall performing better in their academics. From these articles, we have a general idea that a student's emotions (positive or negative) do in fact play a role in their academic performance.\n",
    "\n",
    "From our own group's experience, we have noticed that it has gotten increasingly difficult to direct our attention and retain knowledge given in class. As a result of this, we are motivated in finding the factors that influence attention. We want to uncover if positive,negative or neutral emotions contribute to one's ability to focus, retain memory and perform cognitive tasks. More in-depth, we are interested in measuring the difference of cognitive performance when one's emotion is changed. As a result we believe that it is crucial to find the most productive way to retain academic knowledge so that we can better assist fellow students during these unusual times.\n",
    "\n",
    "- https://educationaltechnologyjournal.springeropen.com/articles/10.1186/s41239-020-00229-8\n",
    "- https://link.springer.com/article/10.1007/s10639-021-10523-1\n",
    "- https://www.semanticscholar.org/paper/The-Influence-of-Virtual-Learning-Environments-in-Alves-Miranda/a7c7ba6194633bd68a300522089c795fb4c83a79"
   ]
  },
  {
   "cell_type": "markdown",
   "metadata": {},
   "source": [
    "### ID. Hypothesis"
   ]
  },
  {
   "cell_type": "markdown",
   "metadata": {},
   "source": [
    "If an individual is infected with positive emotion then their ability to comprehend and recall information is enhanced. Likewise, if an individual is infected with negative emotions then their ability to comprehend information is imperiled. Positive emotion is supplemental to learning and memory recollection because we believe positive sentiment influences motivation as well as focus which are two essential factors in memory. Negative emotion is detrimental to learning and memory recollection because having a negative mindset in the context of a learning environment restricts one's ability to recall and comprehend new information."
   ]
  },
  {
   "cell_type": "markdown",
   "metadata": {},
   "source": [
    "# II. Data Analysis"
   ]
  },
  {
   "cell_type": "markdown",
   "metadata": {},
   "source": [
    "### IIA. Set Up"
   ]
  },
  {
   "cell_type": "markdown",
   "metadata": {},
   "source": [
    "First, we need to import all the packages and data we will need"
   ]
  },
  {
   "cell_type": "code",
   "execution_count": 1,
   "metadata": {},
   "outputs": [],
   "source": [
    "#Installations required\n",
    "\n",
    "#python -m spacy download en_core_web_lg\n",
    "#pip install spacy\n",
    "#pip install vaderSentiment"
   ]
  },
  {
   "cell_type": "code",
   "execution_count": 3,
   "metadata": {
    "scrolled": true
   },
   "outputs": [
    {
     "ename": "ModuleNotFoundError",
     "evalue": "No module named 'lisc'",
     "output_type": "error",
     "traceback": [
      "\u001b[1;31m---------------------------------------------------------------------------\u001b[0m",
      "\u001b[1;31mModuleNotFoundError\u001b[0m                       Traceback (most recent call last)",
      "\u001b[1;32m~\\AppData\\Local\\Temp/ipykernel_10044/860717615.py\u001b[0m in \u001b[0;36m<module>\u001b[1;34m\u001b[0m\n\u001b[0;32m      1\u001b[0m \u001b[1;31m#Import packages\u001b[0m\u001b[1;33m\u001b[0m\u001b[1;33m\u001b[0m\u001b[0m\n\u001b[1;32m----> 2\u001b[1;33m \u001b[1;32mfrom\u001b[0m \u001b[0mlisc\u001b[0m \u001b[1;32mimport\u001b[0m \u001b[0mCounts\u001b[0m\u001b[1;33m\u001b[0m\u001b[1;33m\u001b[0m\u001b[0m\n\u001b[0m\u001b[0;32m      3\u001b[0m \u001b[1;32mfrom\u001b[0m \u001b[0mlisc\u001b[0m\u001b[1;33m.\u001b[0m\u001b[0mutils\u001b[0m\u001b[1;33m.\u001b[0m\u001b[0mdb\u001b[0m \u001b[1;32mimport\u001b[0m \u001b[0mSCDB\u001b[0m\u001b[1;33m\u001b[0m\u001b[1;33m\u001b[0m\u001b[0m\n\u001b[0;32m      4\u001b[0m \u001b[1;32mfrom\u001b[0m \u001b[0mlisc\u001b[0m\u001b[1;33m.\u001b[0m\u001b[0mplts\u001b[0m\u001b[1;33m.\u001b[0m\u001b[0mcounts\u001b[0m \u001b[1;32mimport\u001b[0m \u001b[1;33m*\u001b[0m\u001b[1;33m\u001b[0m\u001b[1;33m\u001b[0m\u001b[0m\n\u001b[0;32m      5\u001b[0m \u001b[1;32mimport\u001b[0m \u001b[0mpandas\u001b[0m \u001b[1;32mas\u001b[0m \u001b[0mpd\u001b[0m\u001b[1;33m\u001b[0m\u001b[1;33m\u001b[0m\u001b[0m\n",
      "\u001b[1;31mModuleNotFoundError\u001b[0m: No module named 'lisc'"
     ]
    }
   ],
   "source": [
    "#Import packages\n",
    "from lisc import Counts\n",
    "from lisc.utils.db import SCDB\n",
    "from lisc.plts.counts import *\n",
    "import pandas as pd\n",
    "from vaderSentiment.vaderSentiment import SentimentIntensityAnalyzer\n",
    "import numpy as np\n",
    "import matplotlib.pyplot as plt\n",
    "import seaborn as sns\n",
    "from matplotlib.ticker import PercentFormatter\n",
    "import spacy\n",
    "\n",
    "#Data Import\n",
    "hippDf = pd.read_csv('hippoCorpusV2.csv')\n",
    "#Suppress shallow copy warnings\n",
    "pd.options.mode.chained_assignment = None"
   ]
  },
  {
   "cell_type": "markdown",
   "metadata": {},
   "source": [
    "### IIB. Data Wrangling and Data Cleaning"
   ]
  },
  {
   "cell_type": "markdown",
   "metadata": {},
   "source": [
    "\n",
    "Next, we will do some data wrangling. We are going to focus on these columns and check for null values:\n",
    "- annotatorAge: Lower limit of the age bucket of the worker.\n",
    "  Buckets are: 18-24, 25-29, 30-34, 35-39, 40-44, 45-49, 50-54,55+\n",
    "  \n",
    "- story: Story about the imagined or recalled event (15-25     sentences)\n",
    "- distracted: How distracted were you while writing your story? (5-point Likert)\n",
    "\n",
    "- draining: How taxing/draining was writing for you emotionally? (5-point Likert)\n",
    "\n",
    "- frequency: How often do you think about or talk about this event? (5-point Likert)\n",
    "\n",
    "- importance: How impactful, important, or personal is this story/event to you? (5-point Likert)\n",
    "\n",
    "- logTimeSinceEvent: Log of time (days) since the recalled event happened\n",
    "\n",
    "- mainEvent: Short phrase describing the main event described\n",
    "\n",
    "- similarity: How similar to your life does this event/story feel to you? (5-point Likert)\n",
    "\n",
    "- stressful: How stressful was this writing task? (5-point Likert)\n",
    "\n",
    "- summary: Summary of the events in the story (1-3 sentences)\n",
    "\n",
    "- timeSinceEvent: Time (number of days) since the recalled event happened"
   ]
  },
  {
   "cell_type": "markdown",
   "metadata": {},
   "source": [
    "#### Check for null values\n",
    "Let's check to see if our dataset has any null values"
   ]
  },
  {
   "cell_type": "code",
   "execution_count": null,
   "metadata": {},
   "outputs": [
    {
     "name": "stdout",
     "output_type": "stream",
     "text": [
      "AnnotatorAge null values ...  True\n",
      "Story null values ...         False\n",
      "Distracted null values ...    False\n",
      "Draining null values ...      False\n",
      "Frequency null values ...     True\n",
      "Importance null values ...    True\n",
      "LTSinceEvent null values ...  False\n",
      "Similarity null values ...    True\n",
      "Stressful null values ...     False\n",
      "TimeSinceEvent null values .. False\n"
     ]
    }
   ],
   "source": [
    "#Check for null values, if null value found returns True\n",
    "print('AnnotatorAge null values ... ',hippDf['annotatorAge'].isnull().values.any())\n",
    "print('Story null values ...        ',hippDf['story'].isnull().values.any())\n",
    "print('Distracted null values ...   ', hippDf['distracted'].isnull().values.any())\n",
    "print('Draining null values ...     ', hippDf['draining'].isnull().values.any())\n",
    "print('Frequency null values ...    ', hippDf['frequency'].isnull().values.any())\n",
    "print('Importance null values ...   ', hippDf['importance'].isnull().values.any())\n",
    "print('LTSinceEvent null values ... ', hippDf['logTimeSinceEvent'].isnull().values.any())\n",
    "print('Similarity null values ...   ', hippDf['similarity'].isnull().values.any())\n",
    "print('Stressful null values ...    ', hippDf['stressful'].isnull().values.any())\n",
    "print('TimeSinceEvent null values ..', hippDf['timeSinceEvent'].isnull().values.any())\n"
   ]
  },
  {
   "cell_type": "markdown",
   "metadata": {},
   "source": [
    "As we can see there are some null values which is expected based on the dataset the was provided. Since we are interested in the age of the indivduals and their emotion we are going to drop any row with a NaN value in the AnnotatorAge column and importance column"
   ]
  },
  {
   "cell_type": "code",
   "execution_count": null,
   "metadata": {},
   "outputs": [],
   "source": [
    "noNaNHippDf = hippDf.dropna(subset=['annotatorAge','importance',])"
   ]
  },
  {
   "cell_type": "code",
   "execution_count": null,
   "metadata": {},
   "outputs": [
    {
     "data": {
      "text/plain": [
       "(6687, 23)"
      ]
     },
     "execution_count": 4,
     "metadata": {},
     "output_type": "execute_result"
    }
   ],
   "source": [
    "noNaNHippDf.shape"
   ]
  },
  {
   "cell_type": "markdown",
   "metadata": {},
   "source": [
    "We want to make sure our dataset is cleaned so there are no more NaN values. Next, let's take a look at the annotatorAge column"
   ]
  },
  {
   "cell_type": "code",
   "execution_count": null,
   "metadata": {},
   "outputs": [
    {
     "data": {
      "text/plain": [
       "array([25., 35., 30., 18., 50., 40., 45., 55.])"
      ]
     },
     "execution_count": 5,
     "metadata": {},
     "output_type": "execute_result"
    }
   ],
   "source": [
    "noNaNHippDf['annotatorAge'].unique()"
   ]
  },
  {
   "cell_type": "markdown",
   "metadata": {},
   "source": [
    "\n",
    "From this, we can see that there are 8 unique age variables. For this project, we will classify the age bucket 18 and 25 as **'Youth'**, 30,35,40 as **'Adults'**, and 45,50,55 as **'Seniors'** into a new column called **\"AgeGroup\"**"
   ]
  },
  {
   "cell_type": "code",
   "execution_count": null,
   "metadata": {},
   "outputs": [],
   "source": [
    "#Categorizes annotatorAge into different age groups\n",
    "def ageGroup(row):\n",
    "    if row['annotatorAge'] == 18 or row['annotatorAge'] == 25:\n",
    "        return 'Youth'\n",
    "    elif row['annotatorAge'] == 30 or row['annotatorAge'] == 35 or row['annotatorAge'] == 40:\n",
    "        return 'Adult'\n",
    "    elif row['annotatorAge'] == 45 or row['annotatorAge'] == 50 or row['annotatorAge'] == 55:\n",
    "        return 'Senior'\n",
    "    else:\n",
    "        return None"
   ]
  },
  {
   "cell_type": "code",
   "execution_count": null,
   "metadata": {},
   "outputs": [],
   "source": [
    "#apply new column\n",
    "ageKey = noNaNHippDf.apply(lambda row: ageGroup(row),axis=1)\n"
   ]
  },
  {
   "cell_type": "code",
   "execution_count": null,
   "metadata": {},
   "outputs": [
    {
     "name": "stderr",
     "output_type": "stream",
     "text": [
      "/var/folders/wr/0q2rvryx0jn018lpjc485t9m0000gn/T/ipykernel_55980/2312913534.py:1: SettingWithCopyWarning: \n",
      "A value is trying to be set on a copy of a slice from a DataFrame.\n",
      "Try using .loc[row_indexer,col_indexer] = value instead\n",
      "\n",
      "See the caveats in the documentation: https://pandas.pydata.org/pandas-docs/stable/user_guide/indexing.html#returning-a-view-versus-a-copy\n",
      "  noNaNHippDf['AgeGroup'] = ageKey\n"
     ]
    }
   ],
   "source": [
    "noNaNHippDf['AgeGroup'] = ageKey\n"
   ]
  },
  {
   "cell_type": "code",
   "execution_count": null,
   "metadata": {},
   "outputs": [
    {
     "data": {
      "text/plain": [
       "array(['Youth', 'Adult', 'Senior'], dtype=object)"
      ]
     },
     "execution_count": 9,
     "metadata": {},
     "output_type": "execute_result"
    }
   ],
   "source": [
    "noNaNHippDf['AgeGroup'].unique()"
   ]
  },
  {
   "cell_type": "markdown",
   "metadata": {},
   "source": [
    "This new column is now set with our unique variables and we can move on to continue wrangling the rest of the data"
   ]
  },
  {
   "cell_type": "markdown",
   "metadata": {},
   "source": [
    "#### Splitting data by group\n",
    "Next, we will split the data into 3 groups with the memType column with **\"recalled\"**,**\"imagined\"**, and **\"retold\"** so we can analyze them separately later"
   ]
  },
  {
   "cell_type": "code",
   "execution_count": null,
   "metadata": {},
   "outputs": [],
   "source": [
    "recalled_df = noNaNHippDf[noNaNHippDf['memType']==\"recalled\"]\n",
    "imagined_df = noNaNHippDf[noNaNHippDf['memType']==\"imagined\"]\n",
    "retold_df = noNaNHippDf[noNaNHippDf['memType']==\"retold\"]\n"
   ]
  },
  {
   "cell_type": "markdown",
   "metadata": {},
   "source": [
    "Again, we are going to focus on these columns:\n",
    "- annotatorAge: Lower limit of the age bucket of the worker.\n",
    "  Buckets are: 18-24, 25-29, 30-34, 35-39, 40-44, 45-49, 50-54,55+\n",
    "  \n",
    "- story: Story about the imagined or recalled event (15-25     sentences)\n",
    "- distracted: How distracted were you while writing your story? (5-point Likert)\n",
    "\n",
    "- draining: How taxing/draining was writing for you emotionally? (5-point Likert)\n",
    "\n",
    "- frequency: How often do you think about or talk about this event? (5-point Likert)\n",
    "\n",
    "- importance: How impactful, important, or personal is this story/event to you? (5-point Likert)\n",
    "\n",
    "- logTimeSinceEvent: Log of time (days) since the recalled event happened\n",
    "\n",
    "- mainEvent: Short phrase describing the main event described\n",
    "\n",
    "- similarity: How similar to your life does this event/story feel to you? (5-point Likert)\n",
    "\n",
    "- stressful: How stressful was this writing task? (5-point Likert)\n",
    "\n",
    "- summary: Summary of the events in the story (1-3 sentences)\n",
    "\n",
    "- timeSinceEvent: Time (number of days) since the recalled event happened\n",
    "\n",
    "- recAgnPairId: ID of the recalled story that corresponds to this retold story (null for imagined stories). Group on   this variable to get the recalled-retold pairs.\n",
    "\n",
    "So we are going to create new datasets based on their group with the columns listed above."
   ]
  },
  {
   "cell_type": "code",
   "execution_count": null,
   "metadata": {},
   "outputs": [],
   "source": [
    "newRecalled = recalled_df[['annotatorAge','story','distracted','draining','frequency',\n",
    "                                         'importance','logTimeSinceEvent','mainEvent','similarity',\n",
    "                                         'stressful','summary','timeSinceEvent','AgeGroup','recAgnPairId','memType']]\n",
    "newImagined = imagined_df[['annotatorAge','story','distracted','draining','frequency',\n",
    "                                         'importance','logTimeSinceEvent','mainEvent','similarity',\n",
    "                                         'stressful','summary','timeSinceEvent','AgeGroup','recAgnPairId','memType']]\n",
    "newRetold = retold_df[['annotatorAge','story','distracted','draining','frequency',\n",
    "                                         'importance','logTimeSinceEvent','mainEvent','similarity',\n",
    "                                         'stressful','summary','timeSinceEvent','AgeGroup','recAgnPairId','memType']]"
   ]
  },
  {
   "cell_type": "markdown",
   "metadata": {},
   "source": [
    "#### Performing text comparison\n",
    "We are going to look at how similar the stories are between recalled and retold using the spacy package for analysis later. Though, first we need to prepare the data through wrangling. As a reminder, the recalled group is recalling a previous story from their life and the retold group is trying to retell the same story they gave previously based on the summary that they created after they told their start in the recalled group. We are going to make a new table that combines the recalled story and the retold story so that we can more easily apply the spacy package to it. "
   ]
  },
  {
   "cell_type": "markdown",
   "metadata": {},
   "source": [
    "First, we need to find the unique id's that link the two data sections together"
   ]
  },
  {
   "cell_type": "code",
   "execution_count": null,
   "metadata": {},
   "outputs": [
    {
     "data": {
      "text/plain": [
       "array(['304SM51WA4QG34IRAVFYVE1S8XNSBV', '304SM51WA4QG34IRAVFYVE1SAOBSB3',\n",
       "       '308Q0PEVB9Z8LX0Y7Z7O060F6NK9IJ', ...,\n",
       "       '3ZV9H2YQQET47QVNF7ATAK61QT9W3C', '3ZV9H2YQQET47QVNF7ATAK61TBE3WR',\n",
       "       '3ZY8KE4ISKPJZ21KN8HT1QGYU5NQVO'], dtype=object)"
      ]
     },
     "execution_count": 13,
     "metadata": {},
     "output_type": "execute_result"
    }
   ],
   "source": [
    "#Creating a list that contains the keys to link the Recalled and Retold group\n",
    "idTags = noNaNHippDf['recAgnPairId'].unique()\n",
    "#Need to remove the null tag\n",
    "indexOfNull = 0\n",
    "newIdTags = np.delete(idTags,indexOfNull)\n",
    "newIdTags"
   ]
  },
  {
   "cell_type": "markdown",
   "metadata": {},
   "source": [
    "Now that we have all the unique tags we need to find the recalled data and merge it with the retold data"
   ]
  },
  {
   "cell_type": "code",
   "execution_count": null,
   "metadata": {},
   "outputs": [],
   "source": [
    "listOfLists = []\n",
    "secondKeyStory = []\n",
    "deltaOfTime = []\n",
    "for tagNumber in range(len(newIdTags)):\n",
    "    #Get df of unique tag\n",
    "    tagIds = hippDf[hippDf['recAgnPairId'] == newIdTags[tagNumber]]\n",
    "    #Grab the first one and add it to the list\n",
    "    mainVal = tagIds.iloc[0]\n",
    "    #Take the story of the second\n",
    "    secondStory = tagIds['story'].iloc[1]\n",
    "    #Check that the data works right\n",
    "    timeSinceRe = tagIds['timeSinceEvent'].iloc[1]\n",
    "    \n",
    "    \n",
    "    #Add them to a list to make a DF out of\n",
    "    listOfLists.append(mainVal)\n",
    "    secondKeyStory.append(secondStory)\n",
    "    deltaOfTime.append(timeSinceRe)\n",
    "    \n",
    "    \n",
    "    "
   ]
  },
  {
   "cell_type": "code",
   "execution_count": null,
   "metadata": {},
   "outputs": [
    {
     "data": {
      "text/html": [
       "<div>\n",
       "<style scoped>\n",
       "    .dataframe tbody tr th:only-of-type {\n",
       "        vertical-align: middle;\n",
       "    }\n",
       "\n",
       "    .dataframe tbody tr th {\n",
       "        vertical-align: top;\n",
       "    }\n",
       "\n",
       "    .dataframe thead th {\n",
       "        text-align: right;\n",
       "    }\n",
       "</style>\n",
       "<table border=\"1\" class=\"dataframe\">\n",
       "  <thead>\n",
       "    <tr style=\"text-align: right;\">\n",
       "      <th></th>\n",
       "      <th>AssignmentId</th>\n",
       "      <th>WorkTimeInSeconds</th>\n",
       "      <th>WorkerId</th>\n",
       "      <th>annotatorAge</th>\n",
       "      <th>annotatorGender</th>\n",
       "      <th>annotatorRace</th>\n",
       "      <th>distracted</th>\n",
       "      <th>draining</th>\n",
       "      <th>frequency</th>\n",
       "      <th>importance</th>\n",
       "      <th>...</th>\n",
       "      <th>recAgnPairId</th>\n",
       "      <th>recImgPairId</th>\n",
       "      <th>similarity</th>\n",
       "      <th>similarityReason</th>\n",
       "      <th>story</th>\n",
       "      <th>stressful</th>\n",
       "      <th>summary</th>\n",
       "      <th>timeSinceEvent</th>\n",
       "      <th>retold stories</th>\n",
       "      <th>time since recalled</th>\n",
       "    </tr>\n",
       "  </thead>\n",
       "  <tbody>\n",
       "    <tr>\n",
       "      <th>9</th>\n",
       "      <td>3YGXWBAF713GBO8MYUFB8VR53RKC4M</td>\n",
       "      <td>7228</td>\n",
       "      <td>4MFUAYFX</td>\n",
       "      <td>25.0</td>\n",
       "      <td>man</td>\n",
       "      <td>hisp</td>\n",
       "      <td>1.0</td>\n",
       "      <td>1.0</td>\n",
       "      <td>2.0</td>\n",
       "      <td>2.0</td>\n",
       "      <td>...</td>\n",
       "      <td>304SM51WA4QG34IRAVFYVE1S8XNSBV</td>\n",
       "      <td>NaN</td>\n",
       "      <td>NaN</td>\n",
       "      <td>NaN</td>\n",
       "      <td>Me and my girlfriend had gone to the Los Angel...</td>\n",
       "      <td>1.0</td>\n",
       "      <td>Me and my girlfriend went to the zoo on a hot ...</td>\n",
       "      <td>210.0</td>\n",
       "      <td>About a month ago me and my girlfriend went to...</td>\n",
       "      <td>3.000000e+01</td>\n",
       "    </tr>\n",
       "    <tr>\n",
       "      <th>12</th>\n",
       "      <td>35LDD5557BQEYC9GWBW5I8LCG5AKMA</td>\n",
       "      <td>4925</td>\n",
       "      <td>HE3SATVD</td>\n",
       "      <td>30.0</td>\n",
       "      <td>man</td>\n",
       "      <td>black</td>\n",
       "      <td>3.0</td>\n",
       "      <td>4.0</td>\n",
       "      <td>3.0</td>\n",
       "      <td>3.0</td>\n",
       "      <td>...</td>\n",
       "      <td>304SM51WA4QG34IRAVFYVE1SAOBSB3</td>\n",
       "      <td>NaN</td>\n",
       "      <td>NaN</td>\n",
       "      <td>NaN</td>\n",
       "      <td>My Cousin's WeddingWe went to my cousin’s wedd...</td>\n",
       "      <td>4.0</td>\n",
       "      <td>My life was endangered for doing research on p...</td>\n",
       "      <td>180.0</td>\n",
       "      <td>It happen 2 weeks ago at the library. Stared o...</td>\n",
       "      <td>1.400000e+01</td>\n",
       "    </tr>\n",
       "    <tr>\n",
       "      <th>18</th>\n",
       "      <td>3NAPMVF0ZX10WTY33ZOCZU2SUYL72I</td>\n",
       "      <td>6488</td>\n",
       "      <td>AXJ0SHSA</td>\n",
       "      <td>30.0</td>\n",
       "      <td>man</td>\n",
       "      <td>white</td>\n",
       "      <td>4.0</td>\n",
       "      <td>4.0</td>\n",
       "      <td>4.0</td>\n",
       "      <td>4.0</td>\n",
       "      <td>...</td>\n",
       "      <td>308Q0PEVB9Z8LX0Y7Z7O060F6NK9IJ</td>\n",
       "      <td>NaN</td>\n",
       "      <td>NaN</td>\n",
       "      <td>NaN</td>\n",
       "      <td>I remember the event like it was just yesterda...</td>\n",
       "      <td>3.0</td>\n",
       "      <td>There was an arrest. I bailed out my friend. I...</td>\n",
       "      <td>60.0</td>\n",
       "      <td>About a week ago a received a phone call from ...</td>\n",
       "      <td>7.000000e+00</td>\n",
       "    </tr>\n",
       "    <tr>\n",
       "      <th>21</th>\n",
       "      <td>3C8HJ7UOP8G9N782WCZF5N9PKNHZMN</td>\n",
       "      <td>1405</td>\n",
       "      <td>2WT572QN</td>\n",
       "      <td>30.0</td>\n",
       "      <td>woman</td>\n",
       "      <td>hisp</td>\n",
       "      <td>1.0</td>\n",
       "      <td>1.0</td>\n",
       "      <td>4.0</td>\n",
       "      <td>4.0</td>\n",
       "      <td>...</td>\n",
       "      <td>308Q0PEVB9Z8LX0Y7Z7O060FETEI96</td>\n",
       "      <td>NaN</td>\n",
       "      <td>NaN</td>\n",
       "      <td>NaN</td>\n",
       "      <td>When my now four year old son was born, we wer...</td>\n",
       "      <td>1.0</td>\n",
       "      <td>My four year old son needed foot surgery. My h...</td>\n",
       "      <td>60.0</td>\n",
       "      <td>A memorable event that I have recently had hap...</td>\n",
       "      <td>7.000000e+00</td>\n",
       "    </tr>\n",
       "    <tr>\n",
       "      <th>26</th>\n",
       "      <td>3OJSZ2ATDTISVQHQLIQAX154MTN576</td>\n",
       "      <td>612</td>\n",
       "      <td>3MFQXXSF</td>\n",
       "      <td>30.0</td>\n",
       "      <td>man</td>\n",
       "      <td>white</td>\n",
       "      <td>1.0</td>\n",
       "      <td>1.0</td>\n",
       "      <td>5.0</td>\n",
       "      <td>5.0</td>\n",
       "      <td>...</td>\n",
       "      <td>308XBLVESJQ42PIEV6FT54WWN37BRA</td>\n",
       "      <td>NaN</td>\n",
       "      <td>NaN</td>\n",
       "      <td>NaN</td>\n",
       "      <td>About seven and a half months ago I found out ...</td>\n",
       "      <td>1.0</td>\n",
       "      <td>I found out I am going to be a father.  My wif...</td>\n",
       "      <td>240.0</td>\n",
       "      <td>The biggest thing to happen to me is finding o...</td>\n",
       "      <td>6.666667e+29</td>\n",
       "    </tr>\n",
       "  </tbody>\n",
       "</table>\n",
       "<p>5 rows × 25 columns</p>\n",
       "</div>"
      ],
      "text/plain": [
       "                      AssignmentId  WorkTimeInSeconds  WorkerId  annotatorAge  \\\n",
       "9   3YGXWBAF713GBO8MYUFB8VR53RKC4M               7228  4MFUAYFX          25.0   \n",
       "12  35LDD5557BQEYC9GWBW5I8LCG5AKMA               4925  HE3SATVD          30.0   \n",
       "18  3NAPMVF0ZX10WTY33ZOCZU2SUYL72I               6488  AXJ0SHSA          30.0   \n",
       "21  3C8HJ7UOP8G9N782WCZF5N9PKNHZMN               1405  2WT572QN          30.0   \n",
       "26  3OJSZ2ATDTISVQHQLIQAX154MTN576                612  3MFQXXSF          30.0   \n",
       "\n",
       "   annotatorGender annotatorRace  distracted  draining  frequency  importance  \\\n",
       "9              man          hisp         1.0       1.0        2.0         2.0   \n",
       "12             man         black         3.0       4.0        3.0         3.0   \n",
       "18             man         white         4.0       4.0        4.0         4.0   \n",
       "21           woman          hisp         1.0       1.0        4.0         4.0   \n",
       "26             man         white         1.0       1.0        5.0         5.0   \n",
       "\n",
       "    ...                    recAgnPairId recImgPairId similarity  \\\n",
       "9   ...  304SM51WA4QG34IRAVFYVE1S8XNSBV          NaN        NaN   \n",
       "12  ...  304SM51WA4QG34IRAVFYVE1SAOBSB3          NaN        NaN   \n",
       "18  ...  308Q0PEVB9Z8LX0Y7Z7O060F6NK9IJ          NaN        NaN   \n",
       "21  ...  308Q0PEVB9Z8LX0Y7Z7O060FETEI96          NaN        NaN   \n",
       "26  ...  308XBLVESJQ42PIEV6FT54WWN37BRA          NaN        NaN   \n",
       "\n",
       "   similarityReason                                              story  \\\n",
       "9               NaN  Me and my girlfriend had gone to the Los Angel...   \n",
       "12              NaN  My Cousin's WeddingWe went to my cousin’s wedd...   \n",
       "18              NaN  I remember the event like it was just yesterda...   \n",
       "21              NaN  When my now four year old son was born, we wer...   \n",
       "26              NaN  About seven and a half months ago I found out ...   \n",
       "\n",
       "   stressful                                            summary  \\\n",
       "9        1.0  Me and my girlfriend went to the zoo on a hot ...   \n",
       "12       4.0  My life was endangered for doing research on p...   \n",
       "18       3.0  There was an arrest. I bailed out my friend. I...   \n",
       "21       1.0  My four year old son needed foot surgery. My h...   \n",
       "26       1.0  I found out I am going to be a father.  My wif...   \n",
       "\n",
       "    timeSinceEvent                                     retold stories  \\\n",
       "9            210.0  About a month ago me and my girlfriend went to...   \n",
       "12           180.0  It happen 2 weeks ago at the library. Stared o...   \n",
       "18            60.0  About a week ago a received a phone call from ...   \n",
       "21            60.0  A memorable event that I have recently had hap...   \n",
       "26           240.0  The biggest thing to happen to me is finding o...   \n",
       "\n",
       "   time since recalled  \n",
       "9         3.000000e+01  \n",
       "12        1.400000e+01  \n",
       "18        7.000000e+00  \n",
       "21        7.000000e+00  \n",
       "26        6.666667e+29  \n",
       "\n",
       "[5 rows x 25 columns]"
      ]
     },
     "execution_count": 15,
     "metadata": {},
     "output_type": "execute_result"
    }
   ],
   "source": [
    "recalledAndRetold = pd.DataFrame(listOfLists)\n",
    "recalledAndRetold['retold stories'] = secondKeyStory\n",
    "recalledAndRetold['time since recalled'] = deltaOfTime\n",
    "recalledAndRetold.head()"
   ]
  },
  {
   "cell_type": "markdown",
   "metadata": {},
   "source": [
    "As we can see in row 26 the data in the time since recalled column makes no sense. After doing further investigation this error orginates from how the data was recorded. So to avoid skewed results we are going to remove any result that is above 1111111 days. We chose this point from looking at the data and seeing that it jumps from 780 days to \n",
    "1111111 which is a jump from 2.14 years to 3,044 years."
   ]
  },
  {
   "cell_type": "code",
   "execution_count": null,
   "metadata": {},
   "outputs": [
    {
     "data": {
      "text/html": [
       "<div>\n",
       "<style scoped>\n",
       "    .dataframe tbody tr th:only-of-type {\n",
       "        vertical-align: middle;\n",
       "    }\n",
       "\n",
       "    .dataframe tbody tr th {\n",
       "        vertical-align: top;\n",
       "    }\n",
       "\n",
       "    .dataframe thead th {\n",
       "        text-align: right;\n",
       "    }\n",
       "</style>\n",
       "<table border=\"1\" class=\"dataframe\">\n",
       "  <thead>\n",
       "    <tr style=\"text-align: right;\">\n",
       "      <th></th>\n",
       "      <th>AssignmentId</th>\n",
       "      <th>WorkTimeInSeconds</th>\n",
       "      <th>WorkerId</th>\n",
       "      <th>annotatorAge</th>\n",
       "      <th>annotatorGender</th>\n",
       "      <th>annotatorRace</th>\n",
       "      <th>distracted</th>\n",
       "      <th>draining</th>\n",
       "      <th>frequency</th>\n",
       "      <th>importance</th>\n",
       "      <th>...</th>\n",
       "      <th>recAgnPairId</th>\n",
       "      <th>recImgPairId</th>\n",
       "      <th>similarity</th>\n",
       "      <th>similarityReason</th>\n",
       "      <th>story</th>\n",
       "      <th>stressful</th>\n",
       "      <th>summary</th>\n",
       "      <th>timeSinceEvent</th>\n",
       "      <th>retold stories</th>\n",
       "      <th>time since recalled</th>\n",
       "    </tr>\n",
       "  </thead>\n",
       "  <tbody>\n",
       "    <tr>\n",
       "      <th>9</th>\n",
       "      <td>3YGXWBAF713GBO8MYUFB8VR53RKC4M</td>\n",
       "      <td>7228</td>\n",
       "      <td>4MFUAYFX</td>\n",
       "      <td>25.0</td>\n",
       "      <td>man</td>\n",
       "      <td>hisp</td>\n",
       "      <td>1.0</td>\n",
       "      <td>1.0</td>\n",
       "      <td>2.0</td>\n",
       "      <td>2.0</td>\n",
       "      <td>...</td>\n",
       "      <td>304SM51WA4QG34IRAVFYVE1S8XNSBV</td>\n",
       "      <td>NaN</td>\n",
       "      <td>NaN</td>\n",
       "      <td>NaN</td>\n",
       "      <td>Me and my girlfriend had gone to the Los Angel...</td>\n",
       "      <td>1.0</td>\n",
       "      <td>Me and my girlfriend went to the zoo on a hot ...</td>\n",
       "      <td>210.0</td>\n",
       "      <td>About a month ago me and my girlfriend went to...</td>\n",
       "      <td>30.0</td>\n",
       "    </tr>\n",
       "    <tr>\n",
       "      <th>12</th>\n",
       "      <td>35LDD5557BQEYC9GWBW5I8LCG5AKMA</td>\n",
       "      <td>4925</td>\n",
       "      <td>HE3SATVD</td>\n",
       "      <td>30.0</td>\n",
       "      <td>man</td>\n",
       "      <td>black</td>\n",
       "      <td>3.0</td>\n",
       "      <td>4.0</td>\n",
       "      <td>3.0</td>\n",
       "      <td>3.0</td>\n",
       "      <td>...</td>\n",
       "      <td>304SM51WA4QG34IRAVFYVE1SAOBSB3</td>\n",
       "      <td>NaN</td>\n",
       "      <td>NaN</td>\n",
       "      <td>NaN</td>\n",
       "      <td>My Cousin's WeddingWe went to my cousin’s wedd...</td>\n",
       "      <td>4.0</td>\n",
       "      <td>My life was endangered for doing research on p...</td>\n",
       "      <td>180.0</td>\n",
       "      <td>It happen 2 weeks ago at the library. Stared o...</td>\n",
       "      <td>14.0</td>\n",
       "    </tr>\n",
       "    <tr>\n",
       "      <th>18</th>\n",
       "      <td>3NAPMVF0ZX10WTY33ZOCZU2SUYL72I</td>\n",
       "      <td>6488</td>\n",
       "      <td>AXJ0SHSA</td>\n",
       "      <td>30.0</td>\n",
       "      <td>man</td>\n",
       "      <td>white</td>\n",
       "      <td>4.0</td>\n",
       "      <td>4.0</td>\n",
       "      <td>4.0</td>\n",
       "      <td>4.0</td>\n",
       "      <td>...</td>\n",
       "      <td>308Q0PEVB9Z8LX0Y7Z7O060F6NK9IJ</td>\n",
       "      <td>NaN</td>\n",
       "      <td>NaN</td>\n",
       "      <td>NaN</td>\n",
       "      <td>I remember the event like it was just yesterda...</td>\n",
       "      <td>3.0</td>\n",
       "      <td>There was an arrest. I bailed out my friend. I...</td>\n",
       "      <td>60.0</td>\n",
       "      <td>About a week ago a received a phone call from ...</td>\n",
       "      <td>7.0</td>\n",
       "    </tr>\n",
       "    <tr>\n",
       "      <th>21</th>\n",
       "      <td>3C8HJ7UOP8G9N782WCZF5N9PKNHZMN</td>\n",
       "      <td>1405</td>\n",
       "      <td>2WT572QN</td>\n",
       "      <td>30.0</td>\n",
       "      <td>woman</td>\n",
       "      <td>hisp</td>\n",
       "      <td>1.0</td>\n",
       "      <td>1.0</td>\n",
       "      <td>4.0</td>\n",
       "      <td>4.0</td>\n",
       "      <td>...</td>\n",
       "      <td>308Q0PEVB9Z8LX0Y7Z7O060FETEI96</td>\n",
       "      <td>NaN</td>\n",
       "      <td>NaN</td>\n",
       "      <td>NaN</td>\n",
       "      <td>When my now four year old son was born, we wer...</td>\n",
       "      <td>1.0</td>\n",
       "      <td>My four year old son needed foot surgery. My h...</td>\n",
       "      <td>60.0</td>\n",
       "      <td>A memorable event that I have recently had hap...</td>\n",
       "      <td>7.0</td>\n",
       "    </tr>\n",
       "    <tr>\n",
       "      <th>31</th>\n",
       "      <td>324G5B4FB4UT0JVPOCKYG69D7A807S</td>\n",
       "      <td>1834</td>\n",
       "      <td>AKT7XTAI</td>\n",
       "      <td>45.0</td>\n",
       "      <td>man</td>\n",
       "      <td>black</td>\n",
       "      <td>2.0</td>\n",
       "      <td>2.0</td>\n",
       "      <td>5.0</td>\n",
       "      <td>5.0</td>\n",
       "      <td>...</td>\n",
       "      <td>308XBLVESJQ42PIEV6FT54WWPO4RBV</td>\n",
       "      <td>NaN</td>\n",
       "      <td>NaN</td>\n",
       "      <td>NaN</td>\n",
       "      <td>I fell down a flight of stairs in my home, in ...</td>\n",
       "      <td>2.0</td>\n",
       "      <td>I fell down the stairs in my home and suffered...</td>\n",
       "      <td>240.0</td>\n",
       "      <td>Last May,  I had just come upstairs to get rea...</td>\n",
       "      <td>120.0</td>\n",
       "    </tr>\n",
       "  </tbody>\n",
       "</table>\n",
       "<p>5 rows × 25 columns</p>\n",
       "</div>"
      ],
      "text/plain": [
       "                      AssignmentId  WorkTimeInSeconds  WorkerId  annotatorAge  \\\n",
       "9   3YGXWBAF713GBO8MYUFB8VR53RKC4M               7228  4MFUAYFX          25.0   \n",
       "12  35LDD5557BQEYC9GWBW5I8LCG5AKMA               4925  HE3SATVD          30.0   \n",
       "18  3NAPMVF0ZX10WTY33ZOCZU2SUYL72I               6488  AXJ0SHSA          30.0   \n",
       "21  3C8HJ7UOP8G9N782WCZF5N9PKNHZMN               1405  2WT572QN          30.0   \n",
       "31  324G5B4FB4UT0JVPOCKYG69D7A807S               1834  AKT7XTAI          45.0   \n",
       "\n",
       "   annotatorGender annotatorRace  distracted  draining  frequency  importance  \\\n",
       "9              man          hisp         1.0       1.0        2.0         2.0   \n",
       "12             man         black         3.0       4.0        3.0         3.0   \n",
       "18             man         white         4.0       4.0        4.0         4.0   \n",
       "21           woman          hisp         1.0       1.0        4.0         4.0   \n",
       "31             man         black         2.0       2.0        5.0         5.0   \n",
       "\n",
       "    ...                    recAgnPairId recImgPairId similarity  \\\n",
       "9   ...  304SM51WA4QG34IRAVFYVE1S8XNSBV          NaN        NaN   \n",
       "12  ...  304SM51WA4QG34IRAVFYVE1SAOBSB3          NaN        NaN   \n",
       "18  ...  308Q0PEVB9Z8LX0Y7Z7O060F6NK9IJ          NaN        NaN   \n",
       "21  ...  308Q0PEVB9Z8LX0Y7Z7O060FETEI96          NaN        NaN   \n",
       "31  ...  308XBLVESJQ42PIEV6FT54WWPO4RBV          NaN        NaN   \n",
       "\n",
       "   similarityReason                                              story  \\\n",
       "9               NaN  Me and my girlfriend had gone to the Los Angel...   \n",
       "12              NaN  My Cousin's WeddingWe went to my cousin’s wedd...   \n",
       "18              NaN  I remember the event like it was just yesterda...   \n",
       "21              NaN  When my now four year old son was born, we wer...   \n",
       "31              NaN  I fell down a flight of stairs in my home, in ...   \n",
       "\n",
       "   stressful                                            summary  \\\n",
       "9        1.0  Me and my girlfriend went to the zoo on a hot ...   \n",
       "12       4.0  My life was endangered for doing research on p...   \n",
       "18       3.0  There was an arrest. I bailed out my friend. I...   \n",
       "21       1.0  My four year old son needed foot surgery. My h...   \n",
       "31       2.0  I fell down the stairs in my home and suffered...   \n",
       "\n",
       "    timeSinceEvent                                     retold stories  \\\n",
       "9            210.0  About a month ago me and my girlfriend went to...   \n",
       "12           180.0  It happen 2 weeks ago at the library. Stared o...   \n",
       "18            60.0  About a week ago a received a phone call from ...   \n",
       "21            60.0  A memorable event that I have recently had hap...   \n",
       "31           240.0  Last May,  I had just come upstairs to get rea...   \n",
       "\n",
       "   time since recalled  \n",
       "9                 30.0  \n",
       "12                14.0  \n",
       "18                 7.0  \n",
       "21                 7.0  \n",
       "31               120.0  \n",
       "\n",
       "[5 rows x 25 columns]"
      ]
     },
     "execution_count": 16,
     "metadata": {},
     "output_type": "execute_result"
    }
   ],
   "source": [
    "cleanedRecalledAndRetold = recalledAndRetold[recalledAndRetold['time since recalled'] < 1111111]\n",
    "cleanedRecalledAndRetold.head()"
   ]
  },
  {
   "cell_type": "markdown",
   "metadata": {},
   "source": [
    "\n",
    "Lets check and make sure that there are no more extraneous data points"
   ]
  },
  {
   "cell_type": "code",
   "execution_count": null,
   "metadata": {},
   "outputs": [
    {
     "data": {
      "text/plain": [
       "array([ 30.,  14.,   7., 120.,  60.,  90., 150.,  42.,  56.,  35.,  21.,\n",
       "       360.,  28.,  49., 510., 180., 720., 780., 300., 390., 126., 450.,\n",
       "       240., 420.,  98.,  63.,  70.,  84., 330., 154., 270., 600., 112.,\n",
       "        77., 210., 750.])"
      ]
     },
     "execution_count": 17,
     "metadata": {},
     "output_type": "execute_result"
    }
   ],
   "source": [
    "cleanedRecalledAndRetold['time since recalled'].unique()"
   ]
  },
  {
   "cell_type": "markdown",
   "metadata": {},
   "source": [
    "Now that we no longer have extraneous data points, our data is properly cleaned and wrangled. We are ready to begin our analysis."
   ]
  },
  {
   "cell_type": "markdown",
   "metadata": {},
   "source": [
    "### IIC. Data Analysis and Results\n",
    "- **Sentiment Analysis**\n",
    "- **Spacy Similarity**"
   ]
  },
  {
   "cell_type": "markdown",
   "metadata": {},
   "source": [
    "#### Setiment Analysis\n",
    "Lets run our **Setiment Analysis** first.\n",
    "This is the method that will be used to calculate the sentiment score which will allow us to compare whether the sentiments are positive or negative."
   ]
  },
  {
   "cell_type": "code",
   "execution_count": null,
   "metadata": {},
   "outputs": [],
   "source": [
    "def sentScore(dataFrame):\n",
    "    s_score = []\n",
    "    s_rating = []\n",
    "    sentiment_obj = SentimentIntensityAnalyzer()\n",
    "    for i in range(len(dataFrame)):\n",
    "        s_score.append(sentiment_obj.polarity_scores(dataFrame.iloc[i,1]))\n",
    "        comp_score = s_score[i]['compound']\n",
    "        if comp_score > 0.05:\n",
    "            s_rating.append(\"Positive\")\n",
    "        elif comp_score <= -0.05:\n",
    "            s_rating.append(\"Negative\")\n",
    "        else:\n",
    "            s_rating.append(\"Neutral\")\n",
    "    return [s_score, s_rating]"
   ]
  },
  {
   "cell_type": "markdown",
   "metadata": {},
   "source": [
    "First, we will implement the Sentiment Analysis For Recalled"
   ]
  },
  {
   "cell_type": "code",
   "execution_count": null,
   "metadata": {},
   "outputs": [
    {
     "data": {
      "text/html": [
       "<div>\n",
       "<style scoped>\n",
       "    .dataframe tbody tr th:only-of-type {\n",
       "        vertical-align: middle;\n",
       "    }\n",
       "\n",
       "    .dataframe tbody tr th {\n",
       "        vertical-align: top;\n",
       "    }\n",
       "\n",
       "    .dataframe thead th {\n",
       "        text-align: right;\n",
       "    }\n",
       "</style>\n",
       "<table border=\"1\" class=\"dataframe\">\n",
       "  <thead>\n",
       "    <tr style=\"text-align: right;\">\n",
       "      <th></th>\n",
       "      <th>annotatorAge</th>\n",
       "      <th>story</th>\n",
       "      <th>distracted</th>\n",
       "      <th>draining</th>\n",
       "      <th>frequency</th>\n",
       "      <th>importance</th>\n",
       "      <th>logTimeSinceEvent</th>\n",
       "      <th>mainEvent</th>\n",
       "      <th>similarity</th>\n",
       "      <th>stressful</th>\n",
       "      <th>summary</th>\n",
       "      <th>timeSinceEvent</th>\n",
       "      <th>AgeGroup</th>\n",
       "      <th>recAgnPairId</th>\n",
       "      <th>memType</th>\n",
       "    </tr>\n",
       "  </thead>\n",
       "  <tbody>\n",
       "    <tr>\n",
       "      <th>1</th>\n",
       "      <td>25.0</td>\n",
       "      <td>The day started perfectly, with a great drive ...</td>\n",
       "      <td>1.0</td>\n",
       "      <td>1.0</td>\n",
       "      <td>3.0</td>\n",
       "      <td>4.0</td>\n",
       "      <td>4.499810</td>\n",
       "      <td>a concert.</td>\n",
       "      <td>NaN</td>\n",
       "      <td>1.0</td>\n",
       "      <td>My boyfriend and I went to a concert together ...</td>\n",
       "      <td>90.0</td>\n",
       "      <td>Youth</td>\n",
       "      <td>NaN</td>\n",
       "      <td>recalled</td>\n",
       "    </tr>\n",
       "    <tr>\n",
       "      <th>3</th>\n",
       "      <td>30.0</td>\n",
       "      <td>Five months ago, my niece and nephew were born...</td>\n",
       "      <td>1.0</td>\n",
       "      <td>4.0</td>\n",
       "      <td>3.0</td>\n",
       "      <td>5.0</td>\n",
       "      <td>5.010635</td>\n",
       "      <td>meeting my twin niece and nephew.</td>\n",
       "      <td>NaN</td>\n",
       "      <td>2.0</td>\n",
       "      <td>My sister gave birth to my twin niece and neph...</td>\n",
       "      <td>150.0</td>\n",
       "      <td>Adult</td>\n",
       "      <td>NaN</td>\n",
       "      <td>recalled</td>\n",
       "    </tr>\n",
       "    <tr>\n",
       "      <th>5</th>\n",
       "      <td>35.0</td>\n",
       "      <td>Burning Man metamorphoses was perfect. I am de...</td>\n",
       "      <td>1.0</td>\n",
       "      <td>1.0</td>\n",
       "      <td>5.0</td>\n",
       "      <td>5.0</td>\n",
       "      <td>3.401197</td>\n",
       "      <td>about my journey this year to Burning Man meta...</td>\n",
       "      <td>NaN</td>\n",
       "      <td>1.0</td>\n",
       "      <td>It is always a journey for me to go to burning...</td>\n",
       "      <td>30.0</td>\n",
       "      <td>Adult</td>\n",
       "      <td>NaN</td>\n",
       "      <td>recalled</td>\n",
       "    </tr>\n",
       "    <tr>\n",
       "      <th>7</th>\n",
       "      <td>18.0</td>\n",
       "      <td>Dear Diary,I would say this happened about 3 m...</td>\n",
       "      <td>1.0</td>\n",
       "      <td>4.0</td>\n",
       "      <td>5.0</td>\n",
       "      <td>5.0</td>\n",
       "      <td>4.499810</td>\n",
       "      <td>a bad driving experience on the way to Acadia ...</td>\n",
       "      <td>NaN</td>\n",
       "      <td>1.0</td>\n",
       "      <td>What happened is that I was on a trip with my ...</td>\n",
       "      <td>90.0</td>\n",
       "      <td>Youth</td>\n",
       "      <td>NaN</td>\n",
       "      <td>recalled</td>\n",
       "    </tr>\n",
       "    <tr>\n",
       "      <th>10</th>\n",
       "      <td>25.0</td>\n",
       "      <td>About a month ago me and my girlfriend went to...</td>\n",
       "      <td>1.0</td>\n",
       "      <td>1.0</td>\n",
       "      <td>2.0</td>\n",
       "      <td>3.0</td>\n",
       "      <td>3.401197</td>\n",
       "      <td>a trip to the zoo.</td>\n",
       "      <td>NaN</td>\n",
       "      <td>1.0</td>\n",
       "      <td>Me and my girlfriend went to the zoo on a hot ...</td>\n",
       "      <td>30.0</td>\n",
       "      <td>Youth</td>\n",
       "      <td>304SM51WA4QG34IRAVFYVE1S8XNSBV</td>\n",
       "      <td>recalled</td>\n",
       "    </tr>\n",
       "  </tbody>\n",
       "</table>\n",
       "</div>"
      ],
      "text/plain": [
       "    annotatorAge                                              story  \\\n",
       "1           25.0  The day started perfectly, with a great drive ...   \n",
       "3           30.0  Five months ago, my niece and nephew were born...   \n",
       "5           35.0  Burning Man metamorphoses was perfect. I am de...   \n",
       "7           18.0  Dear Diary,I would say this happened about 3 m...   \n",
       "10          25.0  About a month ago me and my girlfriend went to...   \n",
       "\n",
       "    distracted  draining  frequency  importance  logTimeSinceEvent  \\\n",
       "1          1.0       1.0        3.0         4.0           4.499810   \n",
       "3          1.0       4.0        3.0         5.0           5.010635   \n",
       "5          1.0       1.0        5.0         5.0           3.401197   \n",
       "7          1.0       4.0        5.0         5.0           4.499810   \n",
       "10         1.0       1.0        2.0         3.0           3.401197   \n",
       "\n",
       "                                            mainEvent  similarity  stressful  \\\n",
       "1                                          a concert.         NaN        1.0   \n",
       "3                   meeting my twin niece and nephew.         NaN        2.0   \n",
       "5   about my journey this year to Burning Man meta...         NaN        1.0   \n",
       "7   a bad driving experience on the way to Acadia ...         NaN        1.0   \n",
       "10                                 a trip to the zoo.         NaN        1.0   \n",
       "\n",
       "                                              summary  timeSinceEvent  \\\n",
       "1   My boyfriend and I went to a concert together ...            90.0   \n",
       "3   My sister gave birth to my twin niece and neph...           150.0   \n",
       "5   It is always a journey for me to go to burning...            30.0   \n",
       "7   What happened is that I was on a trip with my ...            90.0   \n",
       "10  Me and my girlfriend went to the zoo on a hot ...            30.0   \n",
       "\n",
       "   AgeGroup                    recAgnPairId   memType  \n",
       "1     Youth                             NaN  recalled  \n",
       "3     Adult                             NaN  recalled  \n",
       "5     Adult                             NaN  recalled  \n",
       "7     Youth                             NaN  recalled  \n",
       "10    Youth  304SM51WA4QG34IRAVFYVE1S8XNSBV  recalled  "
      ]
     },
     "execution_count": 19,
     "metadata": {},
     "output_type": "execute_result"
    }
   ],
   "source": [
    "newRecalled.head()"
   ]
  },
  {
   "cell_type": "code",
   "execution_count": null,
   "metadata": {},
   "outputs": [],
   "source": [
    "#put into function\n",
    "recalledSentValues = sentScore(newRecalled)"
   ]
  },
  {
   "cell_type": "code",
   "execution_count": null,
   "metadata": {},
   "outputs": [
    {
     "name": "stderr",
     "output_type": "stream",
     "text": [
      "/var/folders/wr/0q2rvryx0jn018lpjc485t9m0000gn/T/ipykernel_55980/1003770482.py:2: SettingWithCopyWarning: \n",
      "A value is trying to be set on a copy of a slice from a DataFrame.\n",
      "Try using .loc[row_indexer,col_indexer] = value instead\n",
      "\n",
      "See the caveats in the documentation: https://pandas.pydata.org/pandas-docs/stable/user_guide/indexing.html#returning-a-view-versus-a-copy\n",
      "  newRecalled['sentiment_score'] = recalledSentValues[0]\n",
      "/var/folders/wr/0q2rvryx0jn018lpjc485t9m0000gn/T/ipykernel_55980/1003770482.py:3: SettingWithCopyWarning: \n",
      "A value is trying to be set on a copy of a slice from a DataFrame.\n",
      "Try using .loc[row_indexer,col_indexer] = value instead\n",
      "\n",
      "See the caveats in the documentation: https://pandas.pydata.org/pandas-docs/stable/user_guide/indexing.html#returning-a-view-versus-a-copy\n",
      "  newRecalled['sentiment'] = recalledSentValues[1]\n"
     ]
    }
   ],
   "source": [
    "#assign into new columns\n",
    "newRecalled['sentiment_score'] = recalledSentValues[0]\n",
    "newRecalled['sentiment'] = recalledSentValues[1]\n"
   ]
  },
  {
   "cell_type": "markdown",
   "metadata": {},
   "source": [
    "Here is the new dataframe with the 2 new Sentimental Analysis columns for Recalled."
   ]
  },
  {
   "cell_type": "code",
   "execution_count": null,
   "metadata": {},
   "outputs": [
    {
     "data": {
      "text/html": [
       "<div>\n",
       "<style scoped>\n",
       "    .dataframe tbody tr th:only-of-type {\n",
       "        vertical-align: middle;\n",
       "    }\n",
       "\n",
       "    .dataframe tbody tr th {\n",
       "        vertical-align: top;\n",
       "    }\n",
       "\n",
       "    .dataframe thead th {\n",
       "        text-align: right;\n",
       "    }\n",
       "</style>\n",
       "<table border=\"1\" class=\"dataframe\">\n",
       "  <thead>\n",
       "    <tr style=\"text-align: right;\">\n",
       "      <th></th>\n",
       "      <th>annotatorAge</th>\n",
       "      <th>story</th>\n",
       "      <th>distracted</th>\n",
       "      <th>draining</th>\n",
       "      <th>frequency</th>\n",
       "      <th>importance</th>\n",
       "      <th>logTimeSinceEvent</th>\n",
       "      <th>mainEvent</th>\n",
       "      <th>similarity</th>\n",
       "      <th>stressful</th>\n",
       "      <th>summary</th>\n",
       "      <th>timeSinceEvent</th>\n",
       "      <th>AgeGroup</th>\n",
       "      <th>recAgnPairId</th>\n",
       "      <th>memType</th>\n",
       "      <th>sentiment_score</th>\n",
       "      <th>sentiment</th>\n",
       "    </tr>\n",
       "  </thead>\n",
       "  <tbody>\n",
       "    <tr>\n",
       "      <th>1</th>\n",
       "      <td>25.0</td>\n",
       "      <td>The day started perfectly, with a great drive ...</td>\n",
       "      <td>1.0</td>\n",
       "      <td>1.0</td>\n",
       "      <td>3.0</td>\n",
       "      <td>4.0</td>\n",
       "      <td>4.499810</td>\n",
       "      <td>a concert.</td>\n",
       "      <td>NaN</td>\n",
       "      <td>1.0</td>\n",
       "      <td>My boyfriend and I went to a concert together ...</td>\n",
       "      <td>90.0</td>\n",
       "      <td>Youth</td>\n",
       "      <td>NaN</td>\n",
       "      <td>recalled</td>\n",
       "      <td>{'neg': 0.03, 'neu': 0.704, 'pos': 0.266, 'com...</td>\n",
       "      <td>Positive</td>\n",
       "    </tr>\n",
       "    <tr>\n",
       "      <th>3</th>\n",
       "      <td>30.0</td>\n",
       "      <td>Five months ago, my niece and nephew were born...</td>\n",
       "      <td>1.0</td>\n",
       "      <td>4.0</td>\n",
       "      <td>3.0</td>\n",
       "      <td>5.0</td>\n",
       "      <td>5.010635</td>\n",
       "      <td>meeting my twin niece and nephew.</td>\n",
       "      <td>NaN</td>\n",
       "      <td>2.0</td>\n",
       "      <td>My sister gave birth to my twin niece and neph...</td>\n",
       "      <td>150.0</td>\n",
       "      <td>Adult</td>\n",
       "      <td>NaN</td>\n",
       "      <td>recalled</td>\n",
       "      <td>{'neg': 0.041, 'neu': 0.794, 'pos': 0.165, 'co...</td>\n",
       "      <td>Positive</td>\n",
       "    </tr>\n",
       "    <tr>\n",
       "      <th>5</th>\n",
       "      <td>35.0</td>\n",
       "      <td>Burning Man metamorphoses was perfect. I am de...</td>\n",
       "      <td>1.0</td>\n",
       "      <td>1.0</td>\n",
       "      <td>5.0</td>\n",
       "      <td>5.0</td>\n",
       "      <td>3.401197</td>\n",
       "      <td>about my journey this year to Burning Man meta...</td>\n",
       "      <td>NaN</td>\n",
       "      <td>1.0</td>\n",
       "      <td>It is always a journey for me to go to burning...</td>\n",
       "      <td>30.0</td>\n",
       "      <td>Adult</td>\n",
       "      <td>NaN</td>\n",
       "      <td>recalled</td>\n",
       "      <td>{'neg': 0.053, 'neu': 0.825, 'pos': 0.122, 'co...</td>\n",
       "      <td>Positive</td>\n",
       "    </tr>\n",
       "    <tr>\n",
       "      <th>7</th>\n",
       "      <td>18.0</td>\n",
       "      <td>Dear Diary,I would say this happened about 3 m...</td>\n",
       "      <td>1.0</td>\n",
       "      <td>4.0</td>\n",
       "      <td>5.0</td>\n",
       "      <td>5.0</td>\n",
       "      <td>4.499810</td>\n",
       "      <td>a bad driving experience on the way to Acadia ...</td>\n",
       "      <td>NaN</td>\n",
       "      <td>1.0</td>\n",
       "      <td>What happened is that I was on a trip with my ...</td>\n",
       "      <td>90.0</td>\n",
       "      <td>Youth</td>\n",
       "      <td>NaN</td>\n",
       "      <td>recalled</td>\n",
       "      <td>{'neg': 0.065, 'neu': 0.856, 'pos': 0.079, 'co...</td>\n",
       "      <td>Positive</td>\n",
       "    </tr>\n",
       "    <tr>\n",
       "      <th>10</th>\n",
       "      <td>25.0</td>\n",
       "      <td>About a month ago me and my girlfriend went to...</td>\n",
       "      <td>1.0</td>\n",
       "      <td>1.0</td>\n",
       "      <td>2.0</td>\n",
       "      <td>3.0</td>\n",
       "      <td>3.401197</td>\n",
       "      <td>a trip to the zoo.</td>\n",
       "      <td>NaN</td>\n",
       "      <td>1.0</td>\n",
       "      <td>Me and my girlfriend went to the zoo on a hot ...</td>\n",
       "      <td>30.0</td>\n",
       "      <td>Youth</td>\n",
       "      <td>304SM51WA4QG34IRAVFYVE1S8XNSBV</td>\n",
       "      <td>recalled</td>\n",
       "      <td>{'neg': 0.009, 'neu': 0.883, 'pos': 0.108, 'co...</td>\n",
       "      <td>Positive</td>\n",
       "    </tr>\n",
       "  </tbody>\n",
       "</table>\n",
       "</div>"
      ],
      "text/plain": [
       "    annotatorAge                                              story  \\\n",
       "1           25.0  The day started perfectly, with a great drive ...   \n",
       "3           30.0  Five months ago, my niece and nephew were born...   \n",
       "5           35.0  Burning Man metamorphoses was perfect. I am de...   \n",
       "7           18.0  Dear Diary,I would say this happened about 3 m...   \n",
       "10          25.0  About a month ago me and my girlfriend went to...   \n",
       "\n",
       "    distracted  draining  frequency  importance  logTimeSinceEvent  \\\n",
       "1          1.0       1.0        3.0         4.0           4.499810   \n",
       "3          1.0       4.0        3.0         5.0           5.010635   \n",
       "5          1.0       1.0        5.0         5.0           3.401197   \n",
       "7          1.0       4.0        5.0         5.0           4.499810   \n",
       "10         1.0       1.0        2.0         3.0           3.401197   \n",
       "\n",
       "                                            mainEvent  similarity  stressful  \\\n",
       "1                                          a concert.         NaN        1.0   \n",
       "3                   meeting my twin niece and nephew.         NaN        2.0   \n",
       "5   about my journey this year to Burning Man meta...         NaN        1.0   \n",
       "7   a bad driving experience on the way to Acadia ...         NaN        1.0   \n",
       "10                                 a trip to the zoo.         NaN        1.0   \n",
       "\n",
       "                                              summary  timeSinceEvent  \\\n",
       "1   My boyfriend and I went to a concert together ...            90.0   \n",
       "3   My sister gave birth to my twin niece and neph...           150.0   \n",
       "5   It is always a journey for me to go to burning...            30.0   \n",
       "7   What happened is that I was on a trip with my ...            90.0   \n",
       "10  Me and my girlfriend went to the zoo on a hot ...            30.0   \n",
       "\n",
       "   AgeGroup                    recAgnPairId   memType  \\\n",
       "1     Youth                             NaN  recalled   \n",
       "3     Adult                             NaN  recalled   \n",
       "5     Adult                             NaN  recalled   \n",
       "7     Youth                             NaN  recalled   \n",
       "10    Youth  304SM51WA4QG34IRAVFYVE1S8XNSBV  recalled   \n",
       "\n",
       "                                      sentiment_score sentiment  \n",
       "1   {'neg': 0.03, 'neu': 0.704, 'pos': 0.266, 'com...  Positive  \n",
       "3   {'neg': 0.041, 'neu': 0.794, 'pos': 0.165, 'co...  Positive  \n",
       "5   {'neg': 0.053, 'neu': 0.825, 'pos': 0.122, 'co...  Positive  \n",
       "7   {'neg': 0.065, 'neu': 0.856, 'pos': 0.079, 'co...  Positive  \n",
       "10  {'neg': 0.009, 'neu': 0.883, 'pos': 0.108, 'co...  Positive  "
      ]
     },
     "execution_count": 22,
     "metadata": {},
     "output_type": "execute_result"
    }
   ],
   "source": [
    "newRecalled.head()"
   ]
  },
  {
   "cell_type": "markdown",
   "metadata": {},
   "source": [
    "Next, we will run the Sentiment Analysis For Imagined"
   ]
  },
  {
   "cell_type": "code",
   "execution_count": null,
   "metadata": {},
   "outputs": [
    {
     "data": {
      "text/html": [
       "<div>\n",
       "<style scoped>\n",
       "    .dataframe tbody tr th:only-of-type {\n",
       "        vertical-align: middle;\n",
       "    }\n",
       "\n",
       "    .dataframe tbody tr th {\n",
       "        vertical-align: top;\n",
       "    }\n",
       "\n",
       "    .dataframe thead th {\n",
       "        text-align: right;\n",
       "    }\n",
       "</style>\n",
       "<table border=\"1\" class=\"dataframe\">\n",
       "  <thead>\n",
       "    <tr style=\"text-align: right;\">\n",
       "      <th></th>\n",
       "      <th>annotatorAge</th>\n",
       "      <th>story</th>\n",
       "      <th>distracted</th>\n",
       "      <th>draining</th>\n",
       "      <th>frequency</th>\n",
       "      <th>importance</th>\n",
       "      <th>logTimeSinceEvent</th>\n",
       "      <th>mainEvent</th>\n",
       "      <th>similarity</th>\n",
       "      <th>stressful</th>\n",
       "      <th>summary</th>\n",
       "      <th>timeSinceEvent</th>\n",
       "      <th>AgeGroup</th>\n",
       "      <th>recAgnPairId</th>\n",
       "      <th>memType</th>\n",
       "    </tr>\n",
       "  </thead>\n",
       "  <tbody>\n",
       "    <tr>\n",
       "      <th>0</th>\n",
       "      <td>25.0</td>\n",
       "      <td>Concerts are my most favorite thing, and my bo...</td>\n",
       "      <td>1.0</td>\n",
       "      <td>1.0</td>\n",
       "      <td>NaN</td>\n",
       "      <td>3.0</td>\n",
       "      <td>4.499810</td>\n",
       "      <td>attending a show</td>\n",
       "      <td>3.0</td>\n",
       "      <td>1.0</td>\n",
       "      <td>My boyfriend and I went to a concert together ...</td>\n",
       "      <td>90.0</td>\n",
       "      <td>Youth</td>\n",
       "      <td>NaN</td>\n",
       "      <td>imagined</td>\n",
       "    </tr>\n",
       "    <tr>\n",
       "      <th>2</th>\n",
       "      <td>35.0</td>\n",
       "      <td>It seems just like yesterday but today makes f...</td>\n",
       "      <td>1.0</td>\n",
       "      <td>1.0</td>\n",
       "      <td>NaN</td>\n",
       "      <td>4.0</td>\n",
       "      <td>5.010635</td>\n",
       "      <td>my sister having her twins a little early</td>\n",
       "      <td>3.0</td>\n",
       "      <td>1.0</td>\n",
       "      <td>My sister gave birth to my twin niece and neph...</td>\n",
       "      <td>150.0</td>\n",
       "      <td>Adult</td>\n",
       "      <td>NaN</td>\n",
       "      <td>imagined</td>\n",
       "    </tr>\n",
       "    <tr>\n",
       "      <th>4</th>\n",
       "      <td>25.0</td>\n",
       "      <td>About a month ago I went to burning man. I was...</td>\n",
       "      <td>2.0</td>\n",
       "      <td>2.0</td>\n",
       "      <td>NaN</td>\n",
       "      <td>3.0</td>\n",
       "      <td>3.401197</td>\n",
       "      <td>the consequences of going to burning man</td>\n",
       "      <td>4.0</td>\n",
       "      <td>4.0</td>\n",
       "      <td>It is always a journey for me to go to burning...</td>\n",
       "      <td>30.0</td>\n",
       "      <td>Youth</td>\n",
       "      <td>NaN</td>\n",
       "      <td>imagined</td>\n",
       "    </tr>\n",
       "    <tr>\n",
       "      <th>6</th>\n",
       "      <td>35.0</td>\n",
       "      <td>Play stupid games, win stupid prizes road trip...</td>\n",
       "      <td>3.0</td>\n",
       "      <td>1.0</td>\n",
       "      <td>NaN</td>\n",
       "      <td>4.0</td>\n",
       "      <td>4.499810</td>\n",
       "      <td>a scary car ride where we swerved on our way t...</td>\n",
       "      <td>1.0</td>\n",
       "      <td>2.0</td>\n",
       "      <td>What happened is that I was on a trip with my ...</td>\n",
       "      <td>90.0</td>\n",
       "      <td>Adult</td>\n",
       "      <td>NaN</td>\n",
       "      <td>imagined</td>\n",
       "    </tr>\n",
       "    <tr>\n",
       "      <th>8</th>\n",
       "      <td>25.0</td>\n",
       "      <td>I wanted to write about one of the best days i...</td>\n",
       "      <td>1.0</td>\n",
       "      <td>1.0</td>\n",
       "      <td>NaN</td>\n",
       "      <td>4.0</td>\n",
       "      <td>3.401197</td>\n",
       "      <td>my girlfriend and I going to the zoo.</td>\n",
       "      <td>4.0</td>\n",
       "      <td>1.0</td>\n",
       "      <td>Me and my girlfriend went to the zoo on a hot ...</td>\n",
       "      <td>30.0</td>\n",
       "      <td>Youth</td>\n",
       "      <td>NaN</td>\n",
       "      <td>imagined</td>\n",
       "    </tr>\n",
       "  </tbody>\n",
       "</table>\n",
       "</div>"
      ],
      "text/plain": [
       "   annotatorAge                                              story  \\\n",
       "0          25.0  Concerts are my most favorite thing, and my bo...   \n",
       "2          35.0  It seems just like yesterday but today makes f...   \n",
       "4          25.0  About a month ago I went to burning man. I was...   \n",
       "6          35.0  Play stupid games, win stupid prizes road trip...   \n",
       "8          25.0  I wanted to write about one of the best days i...   \n",
       "\n",
       "   distracted  draining  frequency  importance  logTimeSinceEvent  \\\n",
       "0         1.0       1.0        NaN         3.0           4.499810   \n",
       "2         1.0       1.0        NaN         4.0           5.010635   \n",
       "4         2.0       2.0        NaN         3.0           3.401197   \n",
       "6         3.0       1.0        NaN         4.0           4.499810   \n",
       "8         1.0       1.0        NaN         4.0           3.401197   \n",
       "\n",
       "                                           mainEvent  similarity  stressful  \\\n",
       "0                                   attending a show         3.0        1.0   \n",
       "2          my sister having her twins a little early         3.0        1.0   \n",
       "4           the consequences of going to burning man         4.0        4.0   \n",
       "6  a scary car ride where we swerved on our way t...         1.0        2.0   \n",
       "8              my girlfriend and I going to the zoo.         4.0        1.0   \n",
       "\n",
       "                                             summary  timeSinceEvent AgeGroup  \\\n",
       "0  My boyfriend and I went to a concert together ...            90.0    Youth   \n",
       "2  My sister gave birth to my twin niece and neph...           150.0    Adult   \n",
       "4  It is always a journey for me to go to burning...            30.0    Youth   \n",
       "6  What happened is that I was on a trip with my ...            90.0    Adult   \n",
       "8  Me and my girlfriend went to the zoo on a hot ...            30.0    Youth   \n",
       "\n",
       "  recAgnPairId   memType  \n",
       "0          NaN  imagined  \n",
       "2          NaN  imagined  \n",
       "4          NaN  imagined  \n",
       "6          NaN  imagined  \n",
       "8          NaN  imagined  "
      ]
     },
     "execution_count": 24,
     "metadata": {},
     "output_type": "execute_result"
    }
   ],
   "source": [
    "newImagined.head()"
   ]
  },
  {
   "cell_type": "code",
   "execution_count": null,
   "metadata": {},
   "outputs": [
    {
     "name": "stderr",
     "output_type": "stream",
     "text": [
      "/var/folders/wr/0q2rvryx0jn018lpjc485t9m0000gn/T/ipykernel_55980/3021410166.py:3: SettingWithCopyWarning: \n",
      "A value is trying to be set on a copy of a slice from a DataFrame.\n",
      "Try using .loc[row_indexer,col_indexer] = value instead\n",
      "\n",
      "See the caveats in the documentation: https://pandas.pydata.org/pandas-docs/stable/user_guide/indexing.html#returning-a-view-versus-a-copy\n",
      "  newImagined['sentiment_score'] = imaginedSentValues[0]\n",
      "/var/folders/wr/0q2rvryx0jn018lpjc485t9m0000gn/T/ipykernel_55980/3021410166.py:4: SettingWithCopyWarning: \n",
      "A value is trying to be set on a copy of a slice from a DataFrame.\n",
      "Try using .loc[row_indexer,col_indexer] = value instead\n",
      "\n",
      "See the caveats in the documentation: https://pandas.pydata.org/pandas-docs/stable/user_guide/indexing.html#returning-a-view-versus-a-copy\n",
      "  newImagined['sentiment'] = imaginedSentValues[1]\n"
     ]
    },
    {
     "data": {
      "text/html": [
       "<div>\n",
       "<style scoped>\n",
       "    .dataframe tbody tr th:only-of-type {\n",
       "        vertical-align: middle;\n",
       "    }\n",
       "\n",
       "    .dataframe tbody tr th {\n",
       "        vertical-align: top;\n",
       "    }\n",
       "\n",
       "    .dataframe thead th {\n",
       "        text-align: right;\n",
       "    }\n",
       "</style>\n",
       "<table border=\"1\" class=\"dataframe\">\n",
       "  <thead>\n",
       "    <tr style=\"text-align: right;\">\n",
       "      <th></th>\n",
       "      <th>annotatorAge</th>\n",
       "      <th>story</th>\n",
       "      <th>distracted</th>\n",
       "      <th>draining</th>\n",
       "      <th>frequency</th>\n",
       "      <th>importance</th>\n",
       "      <th>logTimeSinceEvent</th>\n",
       "      <th>mainEvent</th>\n",
       "      <th>similarity</th>\n",
       "      <th>stressful</th>\n",
       "      <th>summary</th>\n",
       "      <th>timeSinceEvent</th>\n",
       "      <th>AgeGroup</th>\n",
       "      <th>recAgnPairId</th>\n",
       "      <th>memType</th>\n",
       "      <th>sentiment_score</th>\n",
       "      <th>sentiment</th>\n",
       "    </tr>\n",
       "  </thead>\n",
       "  <tbody>\n",
       "    <tr>\n",
       "      <th>0</th>\n",
       "      <td>25.0</td>\n",
       "      <td>Concerts are my most favorite thing, and my bo...</td>\n",
       "      <td>1.0</td>\n",
       "      <td>1.0</td>\n",
       "      <td>NaN</td>\n",
       "      <td>3.0</td>\n",
       "      <td>4.499810</td>\n",
       "      <td>attending a show</td>\n",
       "      <td>3.0</td>\n",
       "      <td>1.0</td>\n",
       "      <td>My boyfriend and I went to a concert together ...</td>\n",
       "      <td>90.0</td>\n",
       "      <td>Youth</td>\n",
       "      <td>NaN</td>\n",
       "      <td>imagined</td>\n",
       "      <td>{'neg': 0.011, 'neu': 0.714, 'pos': 0.274, 'co...</td>\n",
       "      <td>Positive</td>\n",
       "    </tr>\n",
       "    <tr>\n",
       "      <th>2</th>\n",
       "      <td>35.0</td>\n",
       "      <td>It seems just like yesterday but today makes f...</td>\n",
       "      <td>1.0</td>\n",
       "      <td>1.0</td>\n",
       "      <td>NaN</td>\n",
       "      <td>4.0</td>\n",
       "      <td>5.010635</td>\n",
       "      <td>my sister having her twins a little early</td>\n",
       "      <td>3.0</td>\n",
       "      <td>1.0</td>\n",
       "      <td>My sister gave birth to my twin niece and neph...</td>\n",
       "      <td>150.0</td>\n",
       "      <td>Adult</td>\n",
       "      <td>NaN</td>\n",
       "      <td>imagined</td>\n",
       "      <td>{'neg': 0.023, 'neu': 0.826, 'pos': 0.151, 'co...</td>\n",
       "      <td>Positive</td>\n",
       "    </tr>\n",
       "    <tr>\n",
       "      <th>4</th>\n",
       "      <td>25.0</td>\n",
       "      <td>About a month ago I went to burning man. I was...</td>\n",
       "      <td>2.0</td>\n",
       "      <td>2.0</td>\n",
       "      <td>NaN</td>\n",
       "      <td>3.0</td>\n",
       "      <td>3.401197</td>\n",
       "      <td>the consequences of going to burning man</td>\n",
       "      <td>4.0</td>\n",
       "      <td>4.0</td>\n",
       "      <td>It is always a journey for me to go to burning...</td>\n",
       "      <td>30.0</td>\n",
       "      <td>Youth</td>\n",
       "      <td>NaN</td>\n",
       "      <td>imagined</td>\n",
       "      <td>{'neg': 0.052, 'neu': 0.872, 'pos': 0.076, 'co...</td>\n",
       "      <td>Positive</td>\n",
       "    </tr>\n",
       "    <tr>\n",
       "      <th>6</th>\n",
       "      <td>35.0</td>\n",
       "      <td>Play stupid games, win stupid prizes road trip...</td>\n",
       "      <td>3.0</td>\n",
       "      <td>1.0</td>\n",
       "      <td>NaN</td>\n",
       "      <td>4.0</td>\n",
       "      <td>4.499810</td>\n",
       "      <td>a scary car ride where we swerved on our way t...</td>\n",
       "      <td>1.0</td>\n",
       "      <td>2.0</td>\n",
       "      <td>What happened is that I was on a trip with my ...</td>\n",
       "      <td>90.0</td>\n",
       "      <td>Adult</td>\n",
       "      <td>NaN</td>\n",
       "      <td>imagined</td>\n",
       "      <td>{'neg': 0.099, 'neu': 0.828, 'pos': 0.073, 'co...</td>\n",
       "      <td>Negative</td>\n",
       "    </tr>\n",
       "    <tr>\n",
       "      <th>8</th>\n",
       "      <td>25.0</td>\n",
       "      <td>I wanted to write about one of the best days i...</td>\n",
       "      <td>1.0</td>\n",
       "      <td>1.0</td>\n",
       "      <td>NaN</td>\n",
       "      <td>4.0</td>\n",
       "      <td>3.401197</td>\n",
       "      <td>my girlfriend and I going to the zoo.</td>\n",
       "      <td>4.0</td>\n",
       "      <td>1.0</td>\n",
       "      <td>Me and my girlfriend went to the zoo on a hot ...</td>\n",
       "      <td>30.0</td>\n",
       "      <td>Youth</td>\n",
       "      <td>NaN</td>\n",
       "      <td>imagined</td>\n",
       "      <td>{'neg': 0.008, 'neu': 0.841, 'pos': 0.151, 'co...</td>\n",
       "      <td>Positive</td>\n",
       "    </tr>\n",
       "  </tbody>\n",
       "</table>\n",
       "</div>"
      ],
      "text/plain": [
       "   annotatorAge                                              story  \\\n",
       "0          25.0  Concerts are my most favorite thing, and my bo...   \n",
       "2          35.0  It seems just like yesterday but today makes f...   \n",
       "4          25.0  About a month ago I went to burning man. I was...   \n",
       "6          35.0  Play stupid games, win stupid prizes road trip...   \n",
       "8          25.0  I wanted to write about one of the best days i...   \n",
       "\n",
       "   distracted  draining  frequency  importance  logTimeSinceEvent  \\\n",
       "0         1.0       1.0        NaN         3.0           4.499810   \n",
       "2         1.0       1.0        NaN         4.0           5.010635   \n",
       "4         2.0       2.0        NaN         3.0           3.401197   \n",
       "6         3.0       1.0        NaN         4.0           4.499810   \n",
       "8         1.0       1.0        NaN         4.0           3.401197   \n",
       "\n",
       "                                           mainEvent  similarity  stressful  \\\n",
       "0                                   attending a show         3.0        1.0   \n",
       "2          my sister having her twins a little early         3.0        1.0   \n",
       "4           the consequences of going to burning man         4.0        4.0   \n",
       "6  a scary car ride where we swerved on our way t...         1.0        2.0   \n",
       "8              my girlfriend and I going to the zoo.         4.0        1.0   \n",
       "\n",
       "                                             summary  timeSinceEvent AgeGroup  \\\n",
       "0  My boyfriend and I went to a concert together ...            90.0    Youth   \n",
       "2  My sister gave birth to my twin niece and neph...           150.0    Adult   \n",
       "4  It is always a journey for me to go to burning...            30.0    Youth   \n",
       "6  What happened is that I was on a trip with my ...            90.0    Adult   \n",
       "8  Me and my girlfriend went to the zoo on a hot ...            30.0    Youth   \n",
       "\n",
       "  recAgnPairId   memType                                    sentiment_score  \\\n",
       "0          NaN  imagined  {'neg': 0.011, 'neu': 0.714, 'pos': 0.274, 'co...   \n",
       "2          NaN  imagined  {'neg': 0.023, 'neu': 0.826, 'pos': 0.151, 'co...   \n",
       "4          NaN  imagined  {'neg': 0.052, 'neu': 0.872, 'pos': 0.076, 'co...   \n",
       "6          NaN  imagined  {'neg': 0.099, 'neu': 0.828, 'pos': 0.073, 'co...   \n",
       "8          NaN  imagined  {'neg': 0.008, 'neu': 0.841, 'pos': 0.151, 'co...   \n",
       "\n",
       "  sentiment  \n",
       "0  Positive  \n",
       "2  Positive  \n",
       "4  Positive  \n",
       "6  Negative  \n",
       "8  Positive  "
      ]
     },
     "execution_count": 25,
     "metadata": {},
     "output_type": "execute_result"
    }
   ],
   "source": [
    "#run function and assign them into dataframe\n",
    "imaginedSentValues = sentScore(newImagined)\n",
    "newImagined['sentiment_score'] = imaginedSentValues[0]\n",
    "newImagined['sentiment'] = imaginedSentValues[1]\n",
    "\n",
    "#here is the 2 new Sentimental Analysis columns for Imagined\n",
    "newImagined.head()"
   ]
  },
  {
   "cell_type": "markdown",
   "metadata": {},
   "source": [
    "Finally, we will run the Sentiment Analysis For Retold"
   ]
  },
  {
   "cell_type": "code",
   "execution_count": null,
   "metadata": {},
   "outputs": [
    {
     "data": {
      "text/html": [
       "<div>\n",
       "<style scoped>\n",
       "    .dataframe tbody tr th:only-of-type {\n",
       "        vertical-align: middle;\n",
       "    }\n",
       "\n",
       "    .dataframe tbody tr th {\n",
       "        vertical-align: top;\n",
       "    }\n",
       "\n",
       "    .dataframe thead th {\n",
       "        text-align: right;\n",
       "    }\n",
       "</style>\n",
       "<table border=\"1\" class=\"dataframe\">\n",
       "  <thead>\n",
       "    <tr style=\"text-align: right;\">\n",
       "      <th></th>\n",
       "      <th>annotatorAge</th>\n",
       "      <th>story</th>\n",
       "      <th>distracted</th>\n",
       "      <th>draining</th>\n",
       "      <th>frequency</th>\n",
       "      <th>importance</th>\n",
       "      <th>logTimeSinceEvent</th>\n",
       "      <th>mainEvent</th>\n",
       "      <th>similarity</th>\n",
       "      <th>stressful</th>\n",
       "      <th>summary</th>\n",
       "      <th>timeSinceEvent</th>\n",
       "      <th>AgeGroup</th>\n",
       "      <th>recAgnPairId</th>\n",
       "      <th>memType</th>\n",
       "    </tr>\n",
       "  </thead>\n",
       "  <tbody>\n",
       "    <tr>\n",
       "      <th>9</th>\n",
       "      <td>25.0</td>\n",
       "      <td>Me and my girlfriend had gone to the Los Angel...</td>\n",
       "      <td>1.0</td>\n",
       "      <td>1.0</td>\n",
       "      <td>2.0</td>\n",
       "      <td>2.0</td>\n",
       "      <td>5.347108</td>\n",
       "      <td>a trip to the Los Angeles zoo with my girlfriend.</td>\n",
       "      <td>NaN</td>\n",
       "      <td>1.0</td>\n",
       "      <td>Me and my girlfriend went to the zoo on a hot ...</td>\n",
       "      <td>210.0</td>\n",
       "      <td>Youth</td>\n",
       "      <td>304SM51WA4QG34IRAVFYVE1S8XNSBV</td>\n",
       "      <td>retold</td>\n",
       "    </tr>\n",
       "    <tr>\n",
       "      <th>12</th>\n",
       "      <td>30.0</td>\n",
       "      <td>My Cousin's WeddingWe went to my cousin’s wedd...</td>\n",
       "      <td>3.0</td>\n",
       "      <td>4.0</td>\n",
       "      <td>3.0</td>\n",
       "      <td>3.0</td>\n",
       "      <td>5.192957</td>\n",
       "      <td>my cousin's wedding</td>\n",
       "      <td>NaN</td>\n",
       "      <td>4.0</td>\n",
       "      <td>My life was endangered for doing research on p...</td>\n",
       "      <td>180.0</td>\n",
       "      <td>Adult</td>\n",
       "      <td>304SM51WA4QG34IRAVFYVE1SAOBSB3</td>\n",
       "      <td>retold</td>\n",
       "    </tr>\n",
       "    <tr>\n",
       "      <th>18</th>\n",
       "      <td>30.0</td>\n",
       "      <td>I remember the event like it was just yesterda...</td>\n",
       "      <td>4.0</td>\n",
       "      <td>4.0</td>\n",
       "      <td>4.0</td>\n",
       "      <td>4.0</td>\n",
       "      <td>4.094345</td>\n",
       "      <td>my friend's  arrest</td>\n",
       "      <td>NaN</td>\n",
       "      <td>3.0</td>\n",
       "      <td>There was an arrest. I bailed out my friend. I...</td>\n",
       "      <td>60.0</td>\n",
       "      <td>Adult</td>\n",
       "      <td>308Q0PEVB9Z8LX0Y7Z7O060F6NK9IJ</td>\n",
       "      <td>retold</td>\n",
       "    </tr>\n",
       "    <tr>\n",
       "      <th>21</th>\n",
       "      <td>30.0</td>\n",
       "      <td>When my now four year old son was born, we wer...</td>\n",
       "      <td>1.0</td>\n",
       "      <td>1.0</td>\n",
       "      <td>4.0</td>\n",
       "      <td>4.0</td>\n",
       "      <td>4.094345</td>\n",
       "      <td>my son's foot surgery</td>\n",
       "      <td>NaN</td>\n",
       "      <td>1.0</td>\n",
       "      <td>My four year old son needed foot surgery. My h...</td>\n",
       "      <td>60.0</td>\n",
       "      <td>Adult</td>\n",
       "      <td>308Q0PEVB9Z8LX0Y7Z7O060FETEI96</td>\n",
       "      <td>retold</td>\n",
       "    </tr>\n",
       "    <tr>\n",
       "      <th>26</th>\n",
       "      <td>30.0</td>\n",
       "      <td>About seven and a half months ago I found out ...</td>\n",
       "      <td>1.0</td>\n",
       "      <td>1.0</td>\n",
       "      <td>5.0</td>\n",
       "      <td>5.0</td>\n",
       "      <td>5.480639</td>\n",
       "      <td>Finding out I am going to be a father.</td>\n",
       "      <td>NaN</td>\n",
       "      <td>1.0</td>\n",
       "      <td>I found out I am going to be a father.  My wif...</td>\n",
       "      <td>240.0</td>\n",
       "      <td>Adult</td>\n",
       "      <td>308XBLVESJQ42PIEV6FT54WWN37BRA</td>\n",
       "      <td>retold</td>\n",
       "    </tr>\n",
       "  </tbody>\n",
       "</table>\n",
       "</div>"
      ],
      "text/plain": [
       "    annotatorAge                                              story  \\\n",
       "9           25.0  Me and my girlfriend had gone to the Los Angel...   \n",
       "12          30.0  My Cousin's WeddingWe went to my cousin’s wedd...   \n",
       "18          30.0  I remember the event like it was just yesterda...   \n",
       "21          30.0  When my now four year old son was born, we wer...   \n",
       "26          30.0  About seven and a half months ago I found out ...   \n",
       "\n",
       "    distracted  draining  frequency  importance  logTimeSinceEvent  \\\n",
       "9          1.0       1.0        2.0         2.0           5.347108   \n",
       "12         3.0       4.0        3.0         3.0           5.192957   \n",
       "18         4.0       4.0        4.0         4.0           4.094345   \n",
       "21         1.0       1.0        4.0         4.0           4.094345   \n",
       "26         1.0       1.0        5.0         5.0           5.480639   \n",
       "\n",
       "                                            mainEvent  similarity  stressful  \\\n",
       "9   a trip to the Los Angeles zoo with my girlfriend.         NaN        1.0   \n",
       "12                                my cousin's wedding         NaN        4.0   \n",
       "18                                my friend's  arrest         NaN        3.0   \n",
       "21                              my son's foot surgery         NaN        1.0   \n",
       "26             Finding out I am going to be a father.         NaN        1.0   \n",
       "\n",
       "                                              summary  timeSinceEvent  \\\n",
       "9   Me and my girlfriend went to the zoo on a hot ...           210.0   \n",
       "12  My life was endangered for doing research on p...           180.0   \n",
       "18  There was an arrest. I bailed out my friend. I...            60.0   \n",
       "21  My four year old son needed foot surgery. My h...            60.0   \n",
       "26  I found out I am going to be a father.  My wif...           240.0   \n",
       "\n",
       "   AgeGroup                    recAgnPairId memType  \n",
       "9     Youth  304SM51WA4QG34IRAVFYVE1S8XNSBV  retold  \n",
       "12    Adult  304SM51WA4QG34IRAVFYVE1SAOBSB3  retold  \n",
       "18    Adult  308Q0PEVB9Z8LX0Y7Z7O060F6NK9IJ  retold  \n",
       "21    Adult  308Q0PEVB9Z8LX0Y7Z7O060FETEI96  retold  \n",
       "26    Adult  308XBLVESJQ42PIEV6FT54WWN37BRA  retold  "
      ]
     },
     "execution_count": 27,
     "metadata": {},
     "output_type": "execute_result"
    }
   ],
   "source": [
    "newRetold.head()"
   ]
  },
  {
   "cell_type": "code",
   "execution_count": null,
   "metadata": {},
   "outputs": [
    {
     "name": "stderr",
     "output_type": "stream",
     "text": [
      "/var/folders/wr/0q2rvryx0jn018lpjc485t9m0000gn/T/ipykernel_55980/2067372744.py:3: SettingWithCopyWarning: \n",
      "A value is trying to be set on a copy of a slice from a DataFrame.\n",
      "Try using .loc[row_indexer,col_indexer] = value instead\n",
      "\n",
      "See the caveats in the documentation: https://pandas.pydata.org/pandas-docs/stable/user_guide/indexing.html#returning-a-view-versus-a-copy\n",
      "  newRetold['sentiment_score'] = retoldSentValues[0]\n",
      "/var/folders/wr/0q2rvryx0jn018lpjc485t9m0000gn/T/ipykernel_55980/2067372744.py:4: SettingWithCopyWarning: \n",
      "A value is trying to be set on a copy of a slice from a DataFrame.\n",
      "Try using .loc[row_indexer,col_indexer] = value instead\n",
      "\n",
      "See the caveats in the documentation: https://pandas.pydata.org/pandas-docs/stable/user_guide/indexing.html#returning-a-view-versus-a-copy\n",
      "  newRetold['sentiment'] = retoldSentValues[1]\n"
     ]
    },
    {
     "data": {
      "text/html": [
       "<div>\n",
       "<style scoped>\n",
       "    .dataframe tbody tr th:only-of-type {\n",
       "        vertical-align: middle;\n",
       "    }\n",
       "\n",
       "    .dataframe tbody tr th {\n",
       "        vertical-align: top;\n",
       "    }\n",
       "\n",
       "    .dataframe thead th {\n",
       "        text-align: right;\n",
       "    }\n",
       "</style>\n",
       "<table border=\"1\" class=\"dataframe\">\n",
       "  <thead>\n",
       "    <tr style=\"text-align: right;\">\n",
       "      <th></th>\n",
       "      <th>annotatorAge</th>\n",
       "      <th>story</th>\n",
       "      <th>distracted</th>\n",
       "      <th>draining</th>\n",
       "      <th>frequency</th>\n",
       "      <th>importance</th>\n",
       "      <th>logTimeSinceEvent</th>\n",
       "      <th>mainEvent</th>\n",
       "      <th>similarity</th>\n",
       "      <th>stressful</th>\n",
       "      <th>summary</th>\n",
       "      <th>timeSinceEvent</th>\n",
       "      <th>AgeGroup</th>\n",
       "      <th>recAgnPairId</th>\n",
       "      <th>memType</th>\n",
       "      <th>sentiment_score</th>\n",
       "      <th>sentiment</th>\n",
       "    </tr>\n",
       "  </thead>\n",
       "  <tbody>\n",
       "    <tr>\n",
       "      <th>9</th>\n",
       "      <td>25.0</td>\n",
       "      <td>Me and my girlfriend had gone to the Los Angel...</td>\n",
       "      <td>1.0</td>\n",
       "      <td>1.0</td>\n",
       "      <td>2.0</td>\n",
       "      <td>2.0</td>\n",
       "      <td>5.347108</td>\n",
       "      <td>a trip to the Los Angeles zoo with my girlfriend.</td>\n",
       "      <td>NaN</td>\n",
       "      <td>1.0</td>\n",
       "      <td>Me and my girlfriend went to the zoo on a hot ...</td>\n",
       "      <td>210.0</td>\n",
       "      <td>Youth</td>\n",
       "      <td>304SM51WA4QG34IRAVFYVE1S8XNSBV</td>\n",
       "      <td>retold</td>\n",
       "      <td>{'neg': 0.033, 'neu': 0.923, 'pos': 0.044, 'co...</td>\n",
       "      <td>Positive</td>\n",
       "    </tr>\n",
       "    <tr>\n",
       "      <th>12</th>\n",
       "      <td>30.0</td>\n",
       "      <td>My Cousin's WeddingWe went to my cousin’s wedd...</td>\n",
       "      <td>3.0</td>\n",
       "      <td>4.0</td>\n",
       "      <td>3.0</td>\n",
       "      <td>3.0</td>\n",
       "      <td>5.192957</td>\n",
       "      <td>my cousin's wedding</td>\n",
       "      <td>NaN</td>\n",
       "      <td>4.0</td>\n",
       "      <td>My life was endangered for doing research on p...</td>\n",
       "      <td>180.0</td>\n",
       "      <td>Adult</td>\n",
       "      <td>304SM51WA4QG34IRAVFYVE1SAOBSB3</td>\n",
       "      <td>retold</td>\n",
       "      <td>{'neg': 0.062, 'neu': 0.853, 'pos': 0.085, 'co...</td>\n",
       "      <td>Positive</td>\n",
       "    </tr>\n",
       "    <tr>\n",
       "      <th>18</th>\n",
       "      <td>30.0</td>\n",
       "      <td>I remember the event like it was just yesterda...</td>\n",
       "      <td>4.0</td>\n",
       "      <td>4.0</td>\n",
       "      <td>4.0</td>\n",
       "      <td>4.0</td>\n",
       "      <td>4.094345</td>\n",
       "      <td>my friend's  arrest</td>\n",
       "      <td>NaN</td>\n",
       "      <td>3.0</td>\n",
       "      <td>There was an arrest. I bailed out my friend. I...</td>\n",
       "      <td>60.0</td>\n",
       "      <td>Adult</td>\n",
       "      <td>308Q0PEVB9Z8LX0Y7Z7O060F6NK9IJ</td>\n",
       "      <td>retold</td>\n",
       "      <td>{'neg': 0.063, 'neu': 0.702, 'pos': 0.234, 'co...</td>\n",
       "      <td>Positive</td>\n",
       "    </tr>\n",
       "    <tr>\n",
       "      <th>21</th>\n",
       "      <td>30.0</td>\n",
       "      <td>When my now four year old son was born, we wer...</td>\n",
       "      <td>1.0</td>\n",
       "      <td>1.0</td>\n",
       "      <td>4.0</td>\n",
       "      <td>4.0</td>\n",
       "      <td>4.094345</td>\n",
       "      <td>my son's foot surgery</td>\n",
       "      <td>NaN</td>\n",
       "      <td>1.0</td>\n",
       "      <td>My four year old son needed foot surgery. My h...</td>\n",
       "      <td>60.0</td>\n",
       "      <td>Adult</td>\n",
       "      <td>308Q0PEVB9Z8LX0Y7Z7O060FETEI96</td>\n",
       "      <td>retold</td>\n",
       "      <td>{'neg': 0.05, 'neu': 0.873, 'pos': 0.077, 'com...</td>\n",
       "      <td>Positive</td>\n",
       "    </tr>\n",
       "    <tr>\n",
       "      <th>26</th>\n",
       "      <td>30.0</td>\n",
       "      <td>About seven and a half months ago I found out ...</td>\n",
       "      <td>1.0</td>\n",
       "      <td>1.0</td>\n",
       "      <td>5.0</td>\n",
       "      <td>5.0</td>\n",
       "      <td>5.480639</td>\n",
       "      <td>Finding out I am going to be a father.</td>\n",
       "      <td>NaN</td>\n",
       "      <td>1.0</td>\n",
       "      <td>I found out I am going to be a father.  My wif...</td>\n",
       "      <td>240.0</td>\n",
       "      <td>Adult</td>\n",
       "      <td>308XBLVESJQ42PIEV6FT54WWN37BRA</td>\n",
       "      <td>retold</td>\n",
       "      <td>{'neg': 0.009, 'neu': 0.88, 'pos': 0.112, 'com...</td>\n",
       "      <td>Positive</td>\n",
       "    </tr>\n",
       "  </tbody>\n",
       "</table>\n",
       "</div>"
      ],
      "text/plain": [
       "    annotatorAge                                              story  \\\n",
       "9           25.0  Me and my girlfriend had gone to the Los Angel...   \n",
       "12          30.0  My Cousin's WeddingWe went to my cousin’s wedd...   \n",
       "18          30.0  I remember the event like it was just yesterda...   \n",
       "21          30.0  When my now four year old son was born, we wer...   \n",
       "26          30.0  About seven and a half months ago I found out ...   \n",
       "\n",
       "    distracted  draining  frequency  importance  logTimeSinceEvent  \\\n",
       "9          1.0       1.0        2.0         2.0           5.347108   \n",
       "12         3.0       4.0        3.0         3.0           5.192957   \n",
       "18         4.0       4.0        4.0         4.0           4.094345   \n",
       "21         1.0       1.0        4.0         4.0           4.094345   \n",
       "26         1.0       1.0        5.0         5.0           5.480639   \n",
       "\n",
       "                                            mainEvent  similarity  stressful  \\\n",
       "9   a trip to the Los Angeles zoo with my girlfriend.         NaN        1.0   \n",
       "12                                my cousin's wedding         NaN        4.0   \n",
       "18                                my friend's  arrest         NaN        3.0   \n",
       "21                              my son's foot surgery         NaN        1.0   \n",
       "26             Finding out I am going to be a father.         NaN        1.0   \n",
       "\n",
       "                                              summary  timeSinceEvent  \\\n",
       "9   Me and my girlfriend went to the zoo on a hot ...           210.0   \n",
       "12  My life was endangered for doing research on p...           180.0   \n",
       "18  There was an arrest. I bailed out my friend. I...            60.0   \n",
       "21  My four year old son needed foot surgery. My h...            60.0   \n",
       "26  I found out I am going to be a father.  My wif...           240.0   \n",
       "\n",
       "   AgeGroup                    recAgnPairId memType  \\\n",
       "9     Youth  304SM51WA4QG34IRAVFYVE1S8XNSBV  retold   \n",
       "12    Adult  304SM51WA4QG34IRAVFYVE1SAOBSB3  retold   \n",
       "18    Adult  308Q0PEVB9Z8LX0Y7Z7O060F6NK9IJ  retold   \n",
       "21    Adult  308Q0PEVB9Z8LX0Y7Z7O060FETEI96  retold   \n",
       "26    Adult  308XBLVESJQ42PIEV6FT54WWN37BRA  retold   \n",
       "\n",
       "                                      sentiment_score sentiment  \n",
       "9   {'neg': 0.033, 'neu': 0.923, 'pos': 0.044, 'co...  Positive  \n",
       "12  {'neg': 0.062, 'neu': 0.853, 'pos': 0.085, 'co...  Positive  \n",
       "18  {'neg': 0.063, 'neu': 0.702, 'pos': 0.234, 'co...  Positive  \n",
       "21  {'neg': 0.05, 'neu': 0.873, 'pos': 0.077, 'com...  Positive  \n",
       "26  {'neg': 0.009, 'neu': 0.88, 'pos': 0.112, 'com...  Positive  "
      ]
     },
     "execution_count": 28,
     "metadata": {},
     "output_type": "execute_result"
    }
   ],
   "source": [
    "#Apply function and assign columns into dataframe\n",
    "retoldSentValues = sentScore(newRetold)\n",
    "newRetold['sentiment_score'] = retoldSentValues[0]\n",
    "newRetold['sentiment'] = retoldSentValues[1]\n",
    "\n",
    "#Here is the 2 new Sentimental Analysis columns for Retold\n",
    "newRetold.head()"
   ]
  },
  {
   "cell_type": "markdown",
   "metadata": {},
   "source": [
    "#### Spacy Similarity\n",
    "Now that we have finished the sentimental analysis, we will run the **Spacy similarity** analysis. We are going to use their english large package for vectorization because all the stories that were told differed drastically. By using the large package we will be able to better vectorize our data with cosin similarity. Additionaly the retold group retells their story that they gave during their time in the recalled group given a summary that they created at the end of their recalled story. So we are going to make a new dataset that only focus on the subjects that were in the **recalled** and **retold** groups. This will allow for us to observe a change, if any, in their story telling over a random time period"
   ]
  },
  {
   "cell_type": "code",
   "execution_count": null,
   "metadata": {},
   "outputs": [],
   "source": [
    "#load spacy's en_core_web_lg\n",
    "nlp = spacy.load('en_core_web_lg')"
   ]
  },
  {
   "cell_type": "code",
   "execution_count": null,
   "metadata": {},
   "outputs": [],
   "source": [
    "#run nlp function from earlier\n",
    "test1 = cleanedRecalledAndRetold['story'].iloc[0]\n",
    "test2 = cleanedRecalledAndRetold['retold stories'].iloc[0]\n",
    "doc1 = nlp(test1)\n",
    "doc2 = nlp(test2)\n"
   ]
  },
  {
   "cell_type": "markdown",
   "metadata": {},
   "source": [
    "By running the nlp function, we can see the similarity between doc1 and doc2"
   ]
  },
  {
   "cell_type": "code",
   "execution_count": null,
   "metadata": {},
   "outputs": [
    {
     "name": "stdout",
     "output_type": "stream",
     "text": [
      "0.9935622763567541\n"
     ]
    }
   ],
   "source": [
    "print(doc1.similarity(doc2))"
   ]
  },
  {
   "cell_type": "markdown",
   "metadata": {},
   "source": [
    "Next, we will create a function that compares the similarity between the recalled story and the retold story called **applyingSpacy**"
   ]
  },
  {
   "cell_type": "code",
   "execution_count": null,
   "metadata": {},
   "outputs": [],
   "source": [
    "def applyingSpacy(df):\n",
    "    sim_score = []\n",
    "    \n",
    "    for i in range(len(df)):\n",
    "        ogStory = df['story'].iloc[i]\n",
    "        newStory = df['retold stories'].iloc[i]\n",
    "        nlpComp1 = nlp(ogStory)\n",
    "        nlpComp2 = nlp(newStory)\n",
    "        sim_score.append(nlpComp1.similarity(nlpComp2))\n",
    "        \n",
    "    return sim_score"
   ]
  },
  {
   "cell_type": "code",
   "execution_count": null,
   "metadata": {},
   "outputs": [],
   "source": [
    "#Apply the function, this will take a minute to run\n",
    "sim_scores = applyingSpacy(cleanedRecalledAndRetold)"
   ]
  },
  {
   "cell_type": "markdown",
   "metadata": {},
   "source": [
    "Lets double check that all the stories were processed"
   ]
  },
  {
   "cell_type": "code",
   "execution_count": null,
   "metadata": {},
   "outputs": [
    {
     "name": "stdout",
     "output_type": "stream",
     "text": [
      "(1095, 25)\n",
      "1095\n"
     ]
    }
   ],
   "source": [
    "print(cleanedRecalledAndRetold.shape)\n",
    "print(len(sim_scores))"
   ]
  },
  {
   "cell_type": "markdown",
   "metadata": {},
   "source": [
    "Since all the stories were processed lets add it back into the dataframe"
   ]
  },
  {
   "cell_type": "code",
   "execution_count": null,
   "metadata": {},
   "outputs": [
    {
     "data": {
      "text/html": [
       "<div>\n",
       "<style scoped>\n",
       "    .dataframe tbody tr th:only-of-type {\n",
       "        vertical-align: middle;\n",
       "    }\n",
       "\n",
       "    .dataframe tbody tr th {\n",
       "        vertical-align: top;\n",
       "    }\n",
       "\n",
       "    .dataframe thead th {\n",
       "        text-align: right;\n",
       "    }\n",
       "</style>\n",
       "<table border=\"1\" class=\"dataframe\">\n",
       "  <thead>\n",
       "    <tr style=\"text-align: right;\">\n",
       "      <th></th>\n",
       "      <th>AssignmentId</th>\n",
       "      <th>WorkTimeInSeconds</th>\n",
       "      <th>WorkerId</th>\n",
       "      <th>annotatorAge</th>\n",
       "      <th>annotatorGender</th>\n",
       "      <th>annotatorRace</th>\n",
       "      <th>distracted</th>\n",
       "      <th>draining</th>\n",
       "      <th>frequency</th>\n",
       "      <th>importance</th>\n",
       "      <th>...</th>\n",
       "      <th>recImgPairId</th>\n",
       "      <th>similarity</th>\n",
       "      <th>similarityReason</th>\n",
       "      <th>story</th>\n",
       "      <th>stressful</th>\n",
       "      <th>summary</th>\n",
       "      <th>timeSinceEvent</th>\n",
       "      <th>retold stories</th>\n",
       "      <th>time since recalled</th>\n",
       "      <th>spacy_sim</th>\n",
       "    </tr>\n",
       "  </thead>\n",
       "  <tbody>\n",
       "    <tr>\n",
       "      <th>9</th>\n",
       "      <td>3YGXWBAF713GBO8MYUFB8VR53RKC4M</td>\n",
       "      <td>7228</td>\n",
       "      <td>4MFUAYFX</td>\n",
       "      <td>25.0</td>\n",
       "      <td>man</td>\n",
       "      <td>hisp</td>\n",
       "      <td>1.0</td>\n",
       "      <td>1.0</td>\n",
       "      <td>2.0</td>\n",
       "      <td>2.0</td>\n",
       "      <td>...</td>\n",
       "      <td>NaN</td>\n",
       "      <td>NaN</td>\n",
       "      <td>NaN</td>\n",
       "      <td>Me and my girlfriend had gone to the Los Angel...</td>\n",
       "      <td>1.0</td>\n",
       "      <td>Me and my girlfriend went to the zoo on a hot ...</td>\n",
       "      <td>210.0</td>\n",
       "      <td>About a month ago me and my girlfriend went to...</td>\n",
       "      <td>30.0</td>\n",
       "      <td>0.993562</td>\n",
       "    </tr>\n",
       "    <tr>\n",
       "      <th>12</th>\n",
       "      <td>35LDD5557BQEYC9GWBW5I8LCG5AKMA</td>\n",
       "      <td>4925</td>\n",
       "      <td>HE3SATVD</td>\n",
       "      <td>30.0</td>\n",
       "      <td>man</td>\n",
       "      <td>black</td>\n",
       "      <td>3.0</td>\n",
       "      <td>4.0</td>\n",
       "      <td>3.0</td>\n",
       "      <td>3.0</td>\n",
       "      <td>...</td>\n",
       "      <td>NaN</td>\n",
       "      <td>NaN</td>\n",
       "      <td>NaN</td>\n",
       "      <td>My Cousin's WeddingWe went to my cousin’s wedd...</td>\n",
       "      <td>4.0</td>\n",
       "      <td>My life was endangered for doing research on p...</td>\n",
       "      <td>180.0</td>\n",
       "      <td>It happen 2 weeks ago at the library. Stared o...</td>\n",
       "      <td>14.0</td>\n",
       "      <td>0.971579</td>\n",
       "    </tr>\n",
       "    <tr>\n",
       "      <th>18</th>\n",
       "      <td>3NAPMVF0ZX10WTY33ZOCZU2SUYL72I</td>\n",
       "      <td>6488</td>\n",
       "      <td>AXJ0SHSA</td>\n",
       "      <td>30.0</td>\n",
       "      <td>man</td>\n",
       "      <td>white</td>\n",
       "      <td>4.0</td>\n",
       "      <td>4.0</td>\n",
       "      <td>4.0</td>\n",
       "      <td>4.0</td>\n",
       "      <td>...</td>\n",
       "      <td>NaN</td>\n",
       "      <td>NaN</td>\n",
       "      <td>NaN</td>\n",
       "      <td>I remember the event like it was just yesterda...</td>\n",
       "      <td>3.0</td>\n",
       "      <td>There was an arrest. I bailed out my friend. I...</td>\n",
       "      <td>60.0</td>\n",
       "      <td>About a week ago a received a phone call from ...</td>\n",
       "      <td>7.0</td>\n",
       "      <td>0.983846</td>\n",
       "    </tr>\n",
       "    <tr>\n",
       "      <th>21</th>\n",
       "      <td>3C8HJ7UOP8G9N782WCZF5N9PKNHZMN</td>\n",
       "      <td>1405</td>\n",
       "      <td>2WT572QN</td>\n",
       "      <td>30.0</td>\n",
       "      <td>woman</td>\n",
       "      <td>hisp</td>\n",
       "      <td>1.0</td>\n",
       "      <td>1.0</td>\n",
       "      <td>4.0</td>\n",
       "      <td>4.0</td>\n",
       "      <td>...</td>\n",
       "      <td>NaN</td>\n",
       "      <td>NaN</td>\n",
       "      <td>NaN</td>\n",
       "      <td>When my now four year old son was born, we wer...</td>\n",
       "      <td>1.0</td>\n",
       "      <td>My four year old son needed foot surgery. My h...</td>\n",
       "      <td>60.0</td>\n",
       "      <td>A memorable event that I have recently had hap...</td>\n",
       "      <td>7.0</td>\n",
       "      <td>0.994450</td>\n",
       "    </tr>\n",
       "    <tr>\n",
       "      <th>31</th>\n",
       "      <td>324G5B4FB4UT0JVPOCKYG69D7A807S</td>\n",
       "      <td>1834</td>\n",
       "      <td>AKT7XTAI</td>\n",
       "      <td>45.0</td>\n",
       "      <td>man</td>\n",
       "      <td>black</td>\n",
       "      <td>2.0</td>\n",
       "      <td>2.0</td>\n",
       "      <td>5.0</td>\n",
       "      <td>5.0</td>\n",
       "      <td>...</td>\n",
       "      <td>NaN</td>\n",
       "      <td>NaN</td>\n",
       "      <td>NaN</td>\n",
       "      <td>I fell down a flight of stairs in my home, in ...</td>\n",
       "      <td>2.0</td>\n",
       "      <td>I fell down the stairs in my home and suffered...</td>\n",
       "      <td>240.0</td>\n",
       "      <td>Last May,  I had just come upstairs to get rea...</td>\n",
       "      <td>120.0</td>\n",
       "      <td>0.993332</td>\n",
       "    </tr>\n",
       "  </tbody>\n",
       "</table>\n",
       "<p>5 rows × 26 columns</p>\n",
       "</div>"
      ],
      "text/plain": [
       "                      AssignmentId  WorkTimeInSeconds  WorkerId  annotatorAge  \\\n",
       "9   3YGXWBAF713GBO8MYUFB8VR53RKC4M               7228  4MFUAYFX          25.0   \n",
       "12  35LDD5557BQEYC9GWBW5I8LCG5AKMA               4925  HE3SATVD          30.0   \n",
       "18  3NAPMVF0ZX10WTY33ZOCZU2SUYL72I               6488  AXJ0SHSA          30.0   \n",
       "21  3C8HJ7UOP8G9N782WCZF5N9PKNHZMN               1405  2WT572QN          30.0   \n",
       "31  324G5B4FB4UT0JVPOCKYG69D7A807S               1834  AKT7XTAI          45.0   \n",
       "\n",
       "   annotatorGender annotatorRace  distracted  draining  frequency  importance  \\\n",
       "9              man          hisp         1.0       1.0        2.0         2.0   \n",
       "12             man         black         3.0       4.0        3.0         3.0   \n",
       "18             man         white         4.0       4.0        4.0         4.0   \n",
       "21           woman          hisp         1.0       1.0        4.0         4.0   \n",
       "31             man         black         2.0       2.0        5.0         5.0   \n",
       "\n",
       "    ...  recImgPairId similarity similarityReason  \\\n",
       "9   ...           NaN        NaN              NaN   \n",
       "12  ...           NaN        NaN              NaN   \n",
       "18  ...           NaN        NaN              NaN   \n",
       "21  ...           NaN        NaN              NaN   \n",
       "31  ...           NaN        NaN              NaN   \n",
       "\n",
       "                                                story  stressful  \\\n",
       "9   Me and my girlfriend had gone to the Los Angel...        1.0   \n",
       "12  My Cousin's WeddingWe went to my cousin’s wedd...        4.0   \n",
       "18  I remember the event like it was just yesterda...        3.0   \n",
       "21  When my now four year old son was born, we wer...        1.0   \n",
       "31  I fell down a flight of stairs in my home, in ...        2.0   \n",
       "\n",
       "                                              summary  timeSinceEvent  \\\n",
       "9   Me and my girlfriend went to the zoo on a hot ...           210.0   \n",
       "12  My life was endangered for doing research on p...           180.0   \n",
       "18  There was an arrest. I bailed out my friend. I...            60.0   \n",
       "21  My four year old son needed foot surgery. My h...            60.0   \n",
       "31  I fell down the stairs in my home and suffered...           240.0   \n",
       "\n",
       "                                       retold stories  time since recalled  \\\n",
       "9   About a month ago me and my girlfriend went to...                 30.0   \n",
       "12  It happen 2 weeks ago at the library. Stared o...                 14.0   \n",
       "18  About a week ago a received a phone call from ...                  7.0   \n",
       "21  A memorable event that I have recently had hap...                  7.0   \n",
       "31  Last May,  I had just come upstairs to get rea...                120.0   \n",
       "\n",
       "   spacy_sim  \n",
       "9   0.993562  \n",
       "12  0.971579  \n",
       "18  0.983846  \n",
       "21  0.994450  \n",
       "31  0.993332  \n",
       "\n",
       "[5 rows x 26 columns]"
      ]
     },
     "execution_count": 37,
     "metadata": {},
     "output_type": "execute_result"
    }
   ],
   "source": [
    "cleanedRecalledAndRetold['spacy_sim'] = sim_scores\n",
    "cleanedRecalledAndRetold.head()"
   ]
  },
  {
   "cell_type": "markdown",
   "metadata": {},
   "source": [
    "Lets read the age group to the dataframe so when we visualize we can see the differences in the age groups"
   ]
  },
  {
   "cell_type": "code",
   "execution_count": null,
   "metadata": {},
   "outputs": [],
   "source": [
    "ageKey = cleanedRecalledAndRetold.apply(lambda row: ageGroup(row),axis=1)\n"
   ]
  },
  {
   "cell_type": "code",
   "execution_count": null,
   "metadata": {},
   "outputs": [],
   "source": [
    "cleanedRecalledAndRetold['AgeGroup'] = ageKey"
   ]
  },
  {
   "cell_type": "markdown",
   "metadata": {},
   "source": [
    "Lets plot our results from Spacy and see what we get\n"
   ]
  },
  {
   "cell_type": "code",
   "execution_count": null,
   "metadata": {},
   "outputs": [
    {
     "data": {
      "text/plain": [
       "<AxesSubplot:xlabel='time since recalled', ylabel='spacy_sim'>"
      ]
     },
     "execution_count": 40,
     "metadata": {},
     "output_type": "execute_result"
    },
    {
     "data": {
      "image/png": "[encoded data removed]",
      "text/plain": [
       "<Figure size 432x288 with 1 Axes>"
      ]
     },
     "metadata": {
      "needs_background": "light"
     },
     "output_type": "display_data"
    }
   ],
   "source": [
    "cleanedRecalledAndRetold.plot.scatter(x='time since recalled', y = 'spacy_sim')"
   ]
  },
  {
   "cell_type": "markdown",
   "metadata": {},
   "source": [
    "These results seem to be fairly high so lets dive deeper in to why that might be\n",
    "- Spacy documentation states that when taking the similarity of a document it defaults to the average of the token vectors. An example they state is, “fast food” is the average of the vectors for “fast” and “food”, which isn’t necessarily representative of the phrase “fast food”\"\n",
    "- Therefore it could be that the words are similar but the idea is not\n"
   ]
  },
  {
   "cell_type": "markdown",
   "metadata": {},
   "source": [
    "### Further Analysis\n",
    "Let's dig a little deeper to try and see why these high overly high scores may be occuring. The first thing that comes to mind is if the stories are different lengths.\n",
    "We will create an example and see what the results are when the sentences are:\n",
    "- completely identical \n",
    "- identical but one has an extra sentence related to the previous \n",
    "- identical but one has an extra sentence not related to the previous \n",
    "- identical but with one having an extra sentence that is told in a different way"
   ]
  },
  {
   "cell_type": "code",
   "execution_count": null,
   "metadata": {},
   "outputs": [
    {
     "name": "stdout",
     "output_type": "stream",
     "text": [
      "I like burgers and dogs. <-> I like burgers and dogs. 1.0\n"
     ]
    }
   ],
   "source": [
    "#Exact same sentences\n",
    "doc1 = nlp(\"I like burgers and dogs.\")\n",
    "doc2 = nlp('I like burgers and dogs.')\n",
    "print(doc1, \"<->\", doc2, doc1.similarity(doc2))"
   ]
  },
  {
   "cell_type": "code",
   "execution_count": null,
   "metadata": {},
   "outputs": [
    {
     "name": "stdout",
     "output_type": "stream",
     "text": [
      "Raw comparison 1.0\n"
     ]
    }
   ],
   "source": [
    "#Compared to raw sentence comparison\n",
    "numberOfSimilarWords = 5\n",
    "totalWords = 5\n",
    "print(\"Raw comparison\", numberOfSimilarWords / totalWords)"
   ]
  },
  {
   "cell_type": "code",
   "execution_count": null,
   "metadata": {},
   "outputs": [
    {
     "name": "stdout",
     "output_type": "stream",
     "text": [
      "I like burgers and dogs. I also like pineapples <-> I like burgers and dogs. 0.9651856966280024\n"
     ]
    }
   ],
   "source": [
    "#Same setences but one has an extra sentence that does relate to the previous\n",
    "doc1 = nlp(\"I like burgers and dogs. I also like pineapples\")\n",
    "doc2 = nlp('I like burgers and dogs.')\n",
    "print(doc1, \"<->\", doc2, doc1.similarity(doc2))"
   ]
  },
  {
   "cell_type": "code",
   "execution_count": null,
   "metadata": {},
   "outputs": [
    {
     "name": "stdout",
     "output_type": "stream",
     "text": [
      "Raw comparison 0.5555555555555556\n"
     ]
    }
   ],
   "source": [
    "#Compared to raw sentence comparison\n",
    "numberOfSimilarWords = 5\n",
    "totalWords = 9\n",
    "print(\"Raw comparison\", numberOfSimilarWords / totalWords)"
   ]
  },
  {
   "cell_type": "code",
   "execution_count": null,
   "metadata": {},
   "outputs": [
    {
     "name": "stdout",
     "output_type": "stream",
     "text": [
      "I like burgers and dogs. Bob flies planes <-> I like burgers and dogs. 0.9264174801721186\n"
     ]
    }
   ],
   "source": [
    "#Same setences but one has an extra sentence that does not relate to the previous\n",
    "doc1 = nlp(\"I like burgers and dogs. Bob flies planes\")\n",
    "doc2 = nlp('I like burgers and dogs.')\n",
    "print(doc1, \"<->\", doc2, doc1.similarity(doc2))"
   ]
  },
  {
   "cell_type": "code",
   "execution_count": null,
   "metadata": {},
   "outputs": [
    {
     "name": "stdout",
     "output_type": "stream",
     "text": [
      "Raw comparison 0.625\n"
     ]
    }
   ],
   "source": [
    "#Compared to raw sentence comparison\n",
    "numberOfSimilarWords = 5\n",
    "totalWords = 8\n",
    "print(\"Raw comparison\", numberOfSimilarWords / totalWords)"
   ]
  },
  {
   "cell_type": "markdown",
   "metadata": {},
   "source": [
    "We can see that sentences that are irrelevant decrease the score, and sentences that are similar decrease the score but not as much as an irrelevant extra sentence.\n",
    "But what about an extra sentence that basically says the same thing as the previous but in a different way?"
   ]
  },
  {
   "cell_type": "code",
   "execution_count": null,
   "metadata": {},
   "outputs": [
    {
     "name": "stdout",
     "output_type": "stream",
     "text": [
      "I like burgers and dogs. Burgers and dogs are what I like <-> I like burgers and dogs. 0.9885780409078742\n"
     ]
    }
   ],
   "source": [
    "#Same setences but one has an extra sentence that repeats what is said but in a different way\n",
    "doc1 = nlp(\"I like burgers and dogs. Burgers and dogs are what I like\")\n",
    "doc2 = nlp('I like burgers and dogs.')\n",
    "print(doc1, \"<->\", doc2, doc1.similarity(doc2))"
   ]
  },
  {
   "cell_type": "markdown",
   "metadata": {},
   "source": [
    "As we can see in the last sentence the similarity is the highest. With these examples we can more reasonably conclude that our results are in fact accurate for what we are trying to do. This is because we want to focus on how much the stories change, not necessarily if the stories are talking about the same thing. Something that could be interesting for the future is to look into how much the length of an overall document can affect these scores. But for the sake of this project we are going to assume that the results are accurate"
   ]
  },
  {
   "cell_type": "markdown",
   "metadata": {},
   "source": [
    "Bringing together the analysis from the Spacy package, let's compare the similarity score to the change in sentiment score. To do this, we are going to take the sentiment score from the recalled group and subtract it from the retold group by individual"
   ]
  },
  {
   "cell_type": "code",
   "execution_count": null,
   "metadata": {},
   "outputs": [],
   "source": [
    "combinedAnalysis = cleanedRecalledAndRetold\n",
    "combinedAnalysis[\"sentChange\"] = np.nan\n",
    "combinedAnalysis = combinedAnalysis.reset_index(drop=True)"
   ]
  },
  {
   "cell_type": "code",
   "execution_count": null,
   "metadata": {},
   "outputs": [],
   "source": [
    "cRRKeys = cleanedRecalledAndRetold.recAgnPairId.unique()\n"
   ]
  },
  {
   "cell_type": "markdown",
   "metadata": {},
   "source": [
    "Removing these keys as the recAgnPairId does not exist in the newRecalled or the newRetold dataframe"
   ]
  },
  {
   "cell_type": "code",
   "execution_count": null,
   "metadata": {},
   "outputs": [],
   "source": [
    "cRRKeys = np.delete(cRRKeys,95)\n",
    "cRRKeys = np.delete(cRRKeys,611)\n",
    "cRRKeys = np.delete(cRRKeys,797)\n",
    "cRRKeys = np.delete(cRRKeys,881)\n",
    "cRRKeys = np.delete(cRRKeys,939)\n",
    "cRRKeys = np.delete(cRRKeys,1032)\n",
    "cRRKeys = np.delete(cRRKeys,1068)"
   ]
  },
  {
   "cell_type": "code",
   "execution_count": null,
   "metadata": {},
   "outputs": [],
   "source": [
    "numberToPullVal = 0\n",
    "i=0\n",
    "#Loop through all the keys\n",
    "for tagNumber in range(len(cRRKeys)):\n",
    "    #print(i)\n",
    "    #i +=1\n",
    "    #Grab the row corresponding to the key\n",
    "    recalledRow = newRecalled[newRecalled['recAgnPairId'] == cRRKeys[tagNumber]]\n",
    "    retoldRow = newRetold[newRetold['recAgnPairId'] == cRRKeys[tagNumber]]\n",
    "\n",
    "    #Pull the neg, neu, and pos from the column. Stored as a series and not a dict\n",
    "    #Putting it into a list then pulling from it\n",
    "    negArrReC = pd.DataFrame(recalledRow['sentiment_score'].tolist())['neg'].tolist()\n",
    "    neuArrReC = pd.DataFrame(recalledRow['sentiment_score'].tolist())['neu'].tolist()\n",
    "    posArrReC = pd.DataFrame(recalledRow['sentiment_score'].tolist())['pos'].tolist()\n",
    "\n",
    "    negArrReT = pd.DataFrame(retoldRow['sentiment_score'].tolist())['neg'].tolist()\n",
    "    neuArrReT = pd.DataFrame(retoldRow['sentiment_score'].tolist())['neu'].tolist()\n",
    "    posArrReT = pd.DataFrame(retoldRow['sentiment_score'].tolist())['pos'].tolist()\n",
    "\n",
    "    #Check the difference between values\n",
    "    newNegVal = negArrReT[numberToPullVal] - negArrReC[numberToPullVal] \n",
    "    newPoVal  = posArrReT[numberToPullVal] - posArrReC[numberToPullVal] \n",
    "\n",
    "    #Create a new column based on the difference\n",
    "    if(newPoVal > newNegVal):\n",
    "        combinedAnalysis.loc[combinedAnalysis.recAgnPairId == cRRKeys[tagNumber], 'sentChange'] = 'Pos'\n",
    "    elif(newPoVal < newNegVal):\n",
    "        combinedAnalysis.loc[combinedAnalysis.recAgnPairId == cRRKeys[tagNumber], 'sentChange'] = 'Neg'\n",
    "    else:\n",
    "        combinedAnalysis.loc[combinedAnalysis.recAgnPairId == cRRKeys[tagNumber], 'sentChange'] = 'Neu'"
   ]
  },
  {
   "cell_type": "code",
   "execution_count": null,
   "metadata": {},
   "outputs": [
    {
     "data": {
      "text/html": [
       "<div>\n",
       "<style scoped>\n",
       "    .dataframe tbody tr th:only-of-type {\n",
       "        vertical-align: middle;\n",
       "    }\n",
       "\n",
       "    .dataframe tbody tr th {\n",
       "        vertical-align: top;\n",
       "    }\n",
       "\n",
       "    .dataframe thead th {\n",
       "        text-align: right;\n",
       "    }\n",
       "</style>\n",
       "<table border=\"1\" class=\"dataframe\">\n",
       "  <thead>\n",
       "    <tr style=\"text-align: right;\">\n",
       "      <th></th>\n",
       "      <th>AssignmentId</th>\n",
       "      <th>WorkTimeInSeconds</th>\n",
       "      <th>WorkerId</th>\n",
       "      <th>annotatorAge</th>\n",
       "      <th>annotatorGender</th>\n",
       "      <th>annotatorRace</th>\n",
       "      <th>distracted</th>\n",
       "      <th>draining</th>\n",
       "      <th>frequency</th>\n",
       "      <th>importance</th>\n",
       "      <th>...</th>\n",
       "      <th>similarityReason</th>\n",
       "      <th>story</th>\n",
       "      <th>stressful</th>\n",
       "      <th>summary</th>\n",
       "      <th>timeSinceEvent</th>\n",
       "      <th>retold stories</th>\n",
       "      <th>time since recalled</th>\n",
       "      <th>spacy_sim</th>\n",
       "      <th>AgeGroup</th>\n",
       "      <th>sentChange</th>\n",
       "    </tr>\n",
       "  </thead>\n",
       "  <tbody>\n",
       "    <tr>\n",
       "      <th>0</th>\n",
       "      <td>3YGXWBAF713GBO8MYUFB8VR53RKC4M</td>\n",
       "      <td>7228</td>\n",
       "      <td>4MFUAYFX</td>\n",
       "      <td>25.0</td>\n",
       "      <td>man</td>\n",
       "      <td>hisp</td>\n",
       "      <td>1.0</td>\n",
       "      <td>1.0</td>\n",
       "      <td>2.0</td>\n",
       "      <td>2.0</td>\n",
       "      <td>...</td>\n",
       "      <td>NaN</td>\n",
       "      <td>Me and my girlfriend had gone to the Los Angel...</td>\n",
       "      <td>1.0</td>\n",
       "      <td>Me and my girlfriend went to the zoo on a hot ...</td>\n",
       "      <td>210.0</td>\n",
       "      <td>About a month ago me and my girlfriend went to...</td>\n",
       "      <td>30.0</td>\n",
       "      <td>0.993562</td>\n",
       "      <td>Youth</td>\n",
       "      <td>Neg</td>\n",
       "    </tr>\n",
       "    <tr>\n",
       "      <th>1</th>\n",
       "      <td>35LDD5557BQEYC9GWBW5I8LCG5AKMA</td>\n",
       "      <td>4925</td>\n",
       "      <td>HE3SATVD</td>\n",
       "      <td>30.0</td>\n",
       "      <td>man</td>\n",
       "      <td>black</td>\n",
       "      <td>3.0</td>\n",
       "      <td>4.0</td>\n",
       "      <td>3.0</td>\n",
       "      <td>3.0</td>\n",
       "      <td>...</td>\n",
       "      <td>NaN</td>\n",
       "      <td>My Cousin's WeddingWe went to my cousin’s wedd...</td>\n",
       "      <td>4.0</td>\n",
       "      <td>My life was endangered for doing research on p...</td>\n",
       "      <td>180.0</td>\n",
       "      <td>It happen 2 weeks ago at the library. Stared o...</td>\n",
       "      <td>14.0</td>\n",
       "      <td>0.971579</td>\n",
       "      <td>Adult</td>\n",
       "      <td>Neg</td>\n",
       "    </tr>\n",
       "    <tr>\n",
       "      <th>2</th>\n",
       "      <td>3NAPMVF0ZX10WTY33ZOCZU2SUYL72I</td>\n",
       "      <td>6488</td>\n",
       "      <td>AXJ0SHSA</td>\n",
       "      <td>30.0</td>\n",
       "      <td>man</td>\n",
       "      <td>white</td>\n",
       "      <td>4.0</td>\n",
       "      <td>4.0</td>\n",
       "      <td>4.0</td>\n",
       "      <td>4.0</td>\n",
       "      <td>...</td>\n",
       "      <td>NaN</td>\n",
       "      <td>I remember the event like it was just yesterda...</td>\n",
       "      <td>3.0</td>\n",
       "      <td>There was an arrest. I bailed out my friend. I...</td>\n",
       "      <td>60.0</td>\n",
       "      <td>About a week ago a received a phone call from ...</td>\n",
       "      <td>7.0</td>\n",
       "      <td>0.983846</td>\n",
       "      <td>Adult</td>\n",
       "      <td>Pos</td>\n",
       "    </tr>\n",
       "    <tr>\n",
       "      <th>3</th>\n",
       "      <td>3C8HJ7UOP8G9N782WCZF5N9PKNHZMN</td>\n",
       "      <td>1405</td>\n",
       "      <td>2WT572QN</td>\n",
       "      <td>30.0</td>\n",
       "      <td>woman</td>\n",
       "      <td>hisp</td>\n",
       "      <td>1.0</td>\n",
       "      <td>1.0</td>\n",
       "      <td>4.0</td>\n",
       "      <td>4.0</td>\n",
       "      <td>...</td>\n",
       "      <td>NaN</td>\n",
       "      <td>When my now four year old son was born, we wer...</td>\n",
       "      <td>1.0</td>\n",
       "      <td>My four year old son needed foot surgery. My h...</td>\n",
       "      <td>60.0</td>\n",
       "      <td>A memorable event that I have recently had hap...</td>\n",
       "      <td>7.0</td>\n",
       "      <td>0.994450</td>\n",
       "      <td>Adult</td>\n",
       "      <td>Neg</td>\n",
       "    </tr>\n",
       "    <tr>\n",
       "      <th>4</th>\n",
       "      <td>324G5B4FB4UT0JVPOCKYG69D7A807S</td>\n",
       "      <td>1834</td>\n",
       "      <td>AKT7XTAI</td>\n",
       "      <td>45.0</td>\n",
       "      <td>man</td>\n",
       "      <td>black</td>\n",
       "      <td>2.0</td>\n",
       "      <td>2.0</td>\n",
       "      <td>5.0</td>\n",
       "      <td>5.0</td>\n",
       "      <td>...</td>\n",
       "      <td>NaN</td>\n",
       "      <td>I fell down a flight of stairs in my home, in ...</td>\n",
       "      <td>2.0</td>\n",
       "      <td>I fell down the stairs in my home and suffered...</td>\n",
       "      <td>240.0</td>\n",
       "      <td>Last May,  I had just come upstairs to get rea...</td>\n",
       "      <td>120.0</td>\n",
       "      <td>0.993332</td>\n",
       "      <td>Senior</td>\n",
       "      <td>Pos</td>\n",
       "    </tr>\n",
       "  </tbody>\n",
       "</table>\n",
       "<p>5 rows × 28 columns</p>\n",
       "</div>"
      ],
      "text/plain": [
       "                     AssignmentId  WorkTimeInSeconds  WorkerId  annotatorAge  \\\n",
       "0  3YGXWBAF713GBO8MYUFB8VR53RKC4M               7228  4MFUAYFX          25.0   \n",
       "1  35LDD5557BQEYC9GWBW5I8LCG5AKMA               4925  HE3SATVD          30.0   \n",
       "2  3NAPMVF0ZX10WTY33ZOCZU2SUYL72I               6488  AXJ0SHSA          30.0   \n",
       "3  3C8HJ7UOP8G9N782WCZF5N9PKNHZMN               1405  2WT572QN          30.0   \n",
       "4  324G5B4FB4UT0JVPOCKYG69D7A807S               1834  AKT7XTAI          45.0   \n",
       "\n",
       "  annotatorGender annotatorRace  distracted  draining  frequency  importance  \\\n",
       "0             man          hisp         1.0       1.0        2.0         2.0   \n",
       "1             man         black         3.0       4.0        3.0         3.0   \n",
       "2             man         white         4.0       4.0        4.0         4.0   \n",
       "3           woman          hisp         1.0       1.0        4.0         4.0   \n",
       "4             man         black         2.0       2.0        5.0         5.0   \n",
       "\n",
       "   ...  similarityReason                                              story  \\\n",
       "0  ...               NaN  Me and my girlfriend had gone to the Los Angel...   \n",
       "1  ...               NaN  My Cousin's WeddingWe went to my cousin’s wedd...   \n",
       "2  ...               NaN  I remember the event like it was just yesterda...   \n",
       "3  ...               NaN  When my now four year old son was born, we wer...   \n",
       "4  ...               NaN  I fell down a flight of stairs in my home, in ...   \n",
       "\n",
       "  stressful                                            summary  \\\n",
       "0       1.0  Me and my girlfriend went to the zoo on a hot ...   \n",
       "1       4.0  My life was endangered for doing research on p...   \n",
       "2       3.0  There was an arrest. I bailed out my friend. I...   \n",
       "3       1.0  My four year old son needed foot surgery. My h...   \n",
       "4       2.0  I fell down the stairs in my home and suffered...   \n",
       "\n",
       "   timeSinceEvent                                     retold stories  \\\n",
       "0           210.0  About a month ago me and my girlfriend went to...   \n",
       "1           180.0  It happen 2 weeks ago at the library. Stared o...   \n",
       "2            60.0  About a week ago a received a phone call from ...   \n",
       "3            60.0  A memorable event that I have recently had hap...   \n",
       "4           240.0  Last May,  I had just come upstairs to get rea...   \n",
       "\n",
       "   time since recalled  spacy_sim  AgeGroup sentChange  \n",
       "0                 30.0   0.993562     Youth        Neg  \n",
       "1                 14.0   0.971579     Adult        Neg  \n",
       "2                  7.0   0.983846     Adult        Pos  \n",
       "3                  7.0   0.994450     Adult        Neg  \n",
       "4                120.0   0.993332    Senior        Pos  \n",
       "\n",
       "[5 rows x 28 columns]"
      ]
     },
     "execution_count": 53,
     "metadata": {},
     "output_type": "execute_result"
    }
   ],
   "source": [
    "combinedAnalysis.head()"
   ]
  },
  {
   "cell_type": "code",
   "execution_count": null,
   "metadata": {},
   "outputs": [
    {
     "data": {
      "text/plain": [
       "Index(['AssignmentId', 'WorkTimeInSeconds', 'WorkerId', 'annotatorAge',\n",
       "       'annotatorGender', 'annotatorRace', 'distracted', 'draining',\n",
       "       'frequency', 'importance', 'logTimeSinceEvent', 'mainEvent', 'memType',\n",
       "       'mostSurprising', 'openness', 'recAgnPairId', 'recImgPairId',\n",
       "       'similarity', 'similarityReason', 'story', 'stressful', 'summary',\n",
       "       'timeSinceEvent', 'retold stories', 'time since recalled', 'spacy_sim',\n",
       "       'AgeGroup', 'sentChange'],\n",
       "      dtype='object')"
      ]
     },
     "execution_count": 54,
     "metadata": {},
     "output_type": "execute_result"
    }
   ],
   "source": [
    "combinedAnalysis.columns"
   ]
  },
  {
   "cell_type": "code",
   "execution_count": null,
   "metadata": {},
   "outputs": [],
   "source": [
    "#split the combined analysis dataset into youth, adult, and seniors only\n",
    "youthOnly = combinedAnalysis[combinedAnalysis['AgeGroup'] == 'Youth']\n",
    "adultOnly = combinedAnalysis[combinedAnalysis['AgeGroup'] == 'Adult']\n",
    "seniorOnly = combinedAnalysis[combinedAnalysis['AgeGroup'] == 'Senior']\n"
   ]
  },
  {
   "cell_type": "markdown",
   "metadata": {},
   "source": [
    "### IID. Data Visualizations for Sentimental Analysis"
   ]
  },
  {
   "cell_type": "markdown",
   "metadata": {},
   "source": [
    "Next, we will look at visualizations for Recalled, Imagined and Retold by Sentiment and Age. In this section, we want to visualize the sentiment of each age group for Recalled, Imagined and Retold. The x-axis is the age while the y-axis is the percentage in their respective sentiment. Below each Bar Graph are the stats displaying each Age Group along with their exact percentage of positive and negative sentiment."
   ]
  },
  {
   "cell_type": "code",
   "execution_count": 4,
   "metadata": {},
   "outputs": [
    {
     "ename": "NameError",
     "evalue": "name 'newRecalled' is not defined",
     "output_type": "error",
     "traceback": [
      "\u001b[1;31m---------------------------------------------------------------------------\u001b[0m",
      "\u001b[1;31mNameError\u001b[0m                                 Traceback (most recent call last)",
      "\u001b[1;32m~\\AppData\\Local\\Temp/ipykernel_10044/2543324043.py\u001b[0m in \u001b[0;36m<module>\u001b[1;34m\u001b[0m\n\u001b[0;32m      2\u001b[0m \u001b[1;33m\u001b[0m\u001b[0m\n\u001b[0;32m      3\u001b[0m \u001b[1;31m# Create x-axis based on unique age values in the Data\u001b[0m\u001b[1;33m\u001b[0m\u001b[1;33m\u001b[0m\u001b[0m\n\u001b[1;32m----> 4\u001b[1;33m \u001b[0mX\u001b[0m \u001b[1;33m=\u001b[0m \u001b[0mnewRecalled\u001b[0m\u001b[1;33m[\u001b[0m\u001b[1;34m'annotatorAge'\u001b[0m\u001b[1;33m]\u001b[0m\u001b[1;33m.\u001b[0m\u001b[0munique\u001b[0m\u001b[1;33m(\u001b[0m\u001b[1;33m)\u001b[0m\u001b[1;33m\u001b[0m\u001b[1;33m\u001b[0m\u001b[0m\n\u001b[0m\u001b[0;32m      5\u001b[0m \u001b[0mX\u001b[0m\u001b[1;33m.\u001b[0m\u001b[0msort\u001b[0m\u001b[1;33m(\u001b[0m\u001b[1;33m)\u001b[0m\u001b[1;33m\u001b[0m\u001b[1;33m\u001b[0m\u001b[0m\n\u001b[0;32m      6\u001b[0m \u001b[0mx_axis\u001b[0m \u001b[1;33m=\u001b[0m \u001b[0mnp\u001b[0m\u001b[1;33m.\u001b[0m\u001b[0marange\u001b[0m\u001b[1;33m(\u001b[0m\u001b[0mlen\u001b[0m\u001b[1;33m(\u001b[0m\u001b[0mnewRecalled\u001b[0m\u001b[1;33m[\u001b[0m\u001b[1;34m'annotatorAge'\u001b[0m\u001b[1;33m]\u001b[0m\u001b[1;33m.\u001b[0m\u001b[0munique\u001b[0m\u001b[1;33m(\u001b[0m\u001b[1;33m)\u001b[0m\u001b[1;33m)\u001b[0m\u001b[1;33m)\u001b[0m\u001b[1;33m\u001b[0m\u001b[1;33m\u001b[0m\u001b[0m\n",
      "\u001b[1;31mNameError\u001b[0m: name 'newRecalled' is not defined"
     ]
    }
   ],
   "source": [
    "#Recalled Visualization\n",
    "\n",
    "# Create x-axis based on unique age values in the Data\n",
    "X = newRecalled['annotatorAge'].unique()\n",
    "X.sort()\n",
    "x_axis = np.arange(len(newRecalled['annotatorAge'].unique()))\n",
    "\n",
    "\n",
    "# Calculate Positive Amount and Percentages\n",
    "positive = []\n",
    "positive_total = 0\n",
    "for x in X:\n",
    "    value = len(newRecalled[(newRecalled['annotatorAge'] == x) & (newRecalled['sentiment'] == 'Positive')])\n",
    "    positive.append(value)\n",
    "    positive_total+=value\n",
    "\n",
    "positive_percentage = []\n",
    "for x in positive:\n",
    "    positive_percentage.append((x/positive_total) * 100)\n",
    "\n",
    "\n",
    "# Calculate Negative Amount and Percentages\n",
    "negative = []\n",
    "negative_total = 0\n",
    "for x in X:\n",
    "    value = len(newRecalled[(newRecalled['annotatorAge'] == x) & (newRecalled['sentiment'] == 'Negative')])\n",
    "    negative.append(value)\n",
    "    negative_total+=value\n",
    "\n",
    "negative_percentage = []\n",
    "for x in negative:\n",
    "    negative_percentage.append((x/negative_total) * 100)\n",
    "\n",
    "plt.xticks(x_axis, X)\n",
    "plt.bar(x_axis + 0.2 ,positive_percentage,0.4,label='Positive')\n",
    "plt.bar(x_axis - 0.2 ,negative_percentage,0.4,label='Negative')\n",
    "plt.ylabel('Percentage of Sentiment')\n",
    "plt.xlabel('Age')\n",
    "plt.title('Recalled Sentiment')\n",
    "plt.legend()\n",
    "plt.show()\n",
    "\n",
    "positive_stats = {}\n",
    "negative_stats = {}\n",
    "index = 0\n",
    "for val in X:\n",
    "    positive_stats[val] = positive_percentage[index]\n",
    "    negative_stats[val] = negative_percentage[index]\n",
    "    index+=1\n",
    "print('---------- Positive Stats ----------')\n",
    "for i in positive_stats:\n",
    "    print(\"Age: {}\".format(i) + \" Percentage: {}\".format(positive_stats[i]))\n",
    "\n",
    "print('---------- Negative Stats ----------')\n",
    "for i in negative_stats:\n",
    "    print(\"Age: {}\".format(i) + \" Percentage: {}\".format(negative_stats[i]))\n",
    "\n",
    "#Imagined Visualization\n",
    "\n",
    "\n",
    "# Create x-axis based on unique age values in the Data\n",
    "X = newImagined['annotatorAge'].unique()\n",
    "X.sort()\n",
    "x_axis = np.arange(len(newImagined['annotatorAge'].unique()))\n",
    "\n",
    "\n",
    "# Calculate Positive Amount and Percentages\n",
    "positive = []\n",
    "positive_total = 0\n",
    "for x in X:\n",
    "    value = len(newImagined[(newImagined['annotatorAge'] == x) & (newImagined['sentiment'] == 'Positive')])\n",
    "    positive.append(value)\n",
    "    positive_total+=value\n",
    "\n",
    "positive_percentage = []\n",
    "for x in positive:\n",
    "    positive_percentage.append((x/positive_total) * 100)\n",
    "\n",
    "\n",
    "# Calculate Negative Amount and Percentages\n",
    "negative = []\n",
    "negative_total = 0\n",
    "for x in X:\n",
    "    value = len(newImagined[(newImagined['annotatorAge'] == x) & (newImagined['sentiment'] == 'Negative')])\n",
    "    negative.append(value)\n",
    "    negative_total+=value\n",
    "\n",
    "negative_percentage = []\n",
    "for x in negative:\n",
    "    negative_percentage.append((x/negative_total) * 100)\n",
    "\n",
    "plt.xticks(x_axis, X)\n",
    "plt.bar(x_axis + 0.2 ,positive_percentage,0.4,label='Positive')\n",
    "plt.bar(x_axis - 0.2 ,negative_percentage,0.4,label='Negative')\n",
    "plt.ylabel('Percentage of Sentiment')\n",
    "plt.xlabel('Age')\n",
    "plt.title('Imagined Sentiment')\n",
    "plt.legend()\n",
    "plt.show()\n",
    "\n",
    "positive_stats = {}\n",
    "negative_stats = {}\n",
    "index = 0\n",
    "for val in X:\n",
    "    positive_stats[val] = positive_percentage[index]\n",
    "    negative_stats[val] = negative_percentage[index]\n",
    "    index+=1\n",
    "print('---------- Positive Stats ----------')\n",
    "for i in positive_stats:\n",
    "    print(\"Age: {}\".format(i) + \" Percentage: {}\".format(positive_stats[i]))\n",
    "\n",
    "print('---------- Negative Stats ----------')\n",
    "for i in negative_stats:\n",
    "    print(\"Age: {}\".format(i) + \" Percentage: {}\".format(negative_stats[i]))\n",
    "\n",
    "#Retold Visualization   \n",
    "\n",
    "\n",
    "# Create x-axis based on unique age values in the Data\n",
    "X = newRetold['annotatorAge'].unique()\n",
    "X.sort()\n",
    "x_axis = np.arange(len(newRetold['annotatorAge'].unique()))\n",
    "\n",
    "\n",
    "# Calculate Positive Amount and Percentages\n",
    "positive = []\n",
    "positive_total = 0\n",
    "for x in X:\n",
    "    value = len(newRetold[(newRetold['annotatorAge'] == x) & (newRetold['sentiment'] == 'Positive')])\n",
    "    positive.append(value)\n",
    "    positive_total+=value\n",
    "\n",
    "positive_percentage = []\n",
    "for x in positive:\n",
    "    positive_percentage.append((x/positive_total) * 100)\n",
    "\n",
    "\n",
    "# Calculate Negative Amount and Percentages\n",
    "negative = []\n",
    "negative_total = 0\n",
    "for x in X:\n",
    "    value = len(newRetold[(newRetold['annotatorAge'] == x) & (newRetold['sentiment'] == 'Negative')])\n",
    "    negative.append(value)\n",
    "    negative_total+=value\n",
    "\n",
    "negative_percentage = []\n",
    "for x in negative:\n",
    "    negative_percentage.append((x/negative_total) * 100)\n",
    "\n",
    "plt.xticks(x_axis, X)\n",
    "plt.bar(x_axis + 0.2 ,positive_percentage,0.4,label='Positive')\n",
    "plt.bar(x_axis - 0.2 ,negative_percentage,0.4,label='Negative')\n",
    "plt.ylabel('Percentage of Sentiment')\n",
    "plt.xlabel('Age')\n",
    "plt.title('Retold Sentiment')\n",
    "plt.legend()\n",
    "plt.show()\n",
    "\n",
    "positive_stats = {}\n",
    "negative_stats = {}\n",
    "index = 0\n",
    "for val in X:\n",
    "    positive_stats[val] = positive_percentage[index]\n",
    "    negative_stats[val] = negative_percentage[index]\n",
    "    index+=1\n",
    "print('---------- Positive Stats ----------')\n",
    "for i in positive_stats:\n",
    "    print(\"Age: {}\".format(i) + \" Percentage: {}\".format(positive_stats[i]))\n",
    "\n",
    "print('---------- Negative Stats ----------')\n",
    "for i in negative_stats:\n",
    "    print(\"Age: {}\".format(i) + \" Percentage: {}\".format(negative_stats[i]))"
   ]
  },
  {
   "cell_type": "markdown",
   "metadata": {},
   "source": [
    "The previous graph showed us the relationships between Positve and Negative Sentiments by **Age**. We can see that the results between Sentiments by Age are pretty spread out and that there is no clear relationship between the 3 graphs. Though, if we look at each graph individually, we can see some trends throughout the different years. For example, for Recalled, there is a period of increased positivity between the ages 25 to 35. We can also see that for the Recalled and Retold graphs, between the ages of 45-55, there is mostly a negative sentiment within the groups. "
   ]
  },
  {
   "cell_type": "code",
   "execution_count": null,
   "metadata": {},
   "outputs": [
    {
     "ename": "ValueError",
     "evalue": "`stat` must be one of ['count', 'density', 'probability', 'frequency'], but percent was passed.`",
     "output_type": "error",
     "traceback": [
      "\u001b[0;31m---------------------------------------------------------------------------\u001b[0m",
      "\u001b[0;31mValueError\u001b[0m                                Traceback (most recent call last)",
      "Input \u001b[0;32mIn [57]\u001b[0m, in \u001b[0;36m<module>\u001b[0;34m\u001b[0m\n\u001b[1;32m      3\u001b[0m fig\u001b[38;5;241m.\u001b[39mtight_layout(h_pad \u001b[38;5;241m=\u001b[39m \u001b[38;5;241m4.0\u001b[39m)\n\u001b[1;32m      5\u001b[0m \u001b[38;5;66;03m#Recalled Visualization\u001b[39;00m\n\u001b[0;32m----> 6\u001b[0m graph_2 \u001b[38;5;241m=\u001b[39m \u001b[43msns\u001b[49m\u001b[38;5;241;43m.\u001b[39;49m\u001b[43mhistplot\u001b[49m\u001b[43m(\u001b[49m\u001b[43mdata\u001b[49m\u001b[43m \u001b[49m\u001b[38;5;241;43m=\u001b[39;49m\u001b[43m \u001b[49m\u001b[43mnewRecalled\u001b[49m\u001b[43m,\u001b[49m\u001b[43m \u001b[49m\u001b[43mx\u001b[49m\u001b[38;5;241;43m=\u001b[39;49m\u001b[38;5;124;43m\"\u001b[39;49m\u001b[38;5;124;43mAgeGroup\u001b[39;49m\u001b[38;5;124;43m\"\u001b[39;49m\u001b[43m,\u001b[49m\u001b[43m \u001b[49m\u001b[43mhue\u001b[49m\u001b[43m \u001b[49m\u001b[38;5;241;43m=\u001b[39;49m\u001b[43m \u001b[49m\u001b[38;5;124;43m'\u001b[39;49m\u001b[38;5;124;43msentiment\u001b[39;49m\u001b[38;5;124;43m'\u001b[39;49m\u001b[43m,\u001b[49m\u001b[43m \u001b[49m\u001b[43mhue_order\u001b[49m\u001b[43m \u001b[49m\u001b[38;5;241;43m=\u001b[39;49m\u001b[43m \u001b[49m\u001b[43m[\u001b[49m\u001b[38;5;124;43m'\u001b[39;49m\u001b[38;5;124;43mPositive\u001b[39;49m\u001b[38;5;124;43m'\u001b[39;49m\u001b[43m,\u001b[49m\u001b[38;5;124;43m'\u001b[39;49m\u001b[38;5;124;43mNegative\u001b[39;49m\u001b[38;5;124;43m'\u001b[39;49m\u001b[43m]\u001b[49m\u001b[43m,\u001b[49m\u001b[43mmultiple\u001b[49m\u001b[38;5;241;43m=\u001b[39;49m\u001b[38;5;124;43m'\u001b[39;49m\u001b[38;5;124;43mdodge\u001b[39;49m\u001b[38;5;124;43m'\u001b[39;49m\u001b[43m,\u001b[49m\u001b[43m \u001b[49m\u001b[43mstat\u001b[49m\u001b[43m \u001b[49m\u001b[38;5;241;43m=\u001b[39;49m\u001b[43m \u001b[49m\u001b[38;5;124;43m'\u001b[39;49m\u001b[38;5;124;43mpercent\u001b[39;49m\u001b[38;5;124;43m'\u001b[39;49m\u001b[43m,\u001b[49m\u001b[43mcommon_norm\u001b[49m\u001b[38;5;241;43m=\u001b[39;49m\u001b[38;5;28;43;01mFalse\u001b[39;49;00m\u001b[43m,\u001b[49m\u001b[43max\u001b[49m\u001b[38;5;241;43m=\u001b[39;49m\u001b[43maxes\u001b[49m\u001b[43m[\u001b[49m\u001b[38;5;241;43m0\u001b[39;49m\u001b[43m]\u001b[49m\u001b[43m)\u001b[49m\n\u001b[1;32m      7\u001b[0m \u001b[38;5;28;01mfor\u001b[39;00m container \u001b[38;5;129;01min\u001b[39;00m graph_2\u001b[38;5;241m.\u001b[39mcontainers:\n\u001b[1;32m      8\u001b[0m     graph_2\u001b[38;5;241m.\u001b[39mbar_label(container)\n",
      "File \u001b[0;32m~/anaconda3/lib/python3.8/site-packages/seaborn/distributions.py:1422\u001b[0m, in \u001b[0;36mhistplot\u001b[0;34m(data, x, y, hue, weights, stat, bins, binwidth, binrange, discrete, cumulative, common_bins, common_norm, multiple, element, fill, shrink, kde, kde_kws, line_kws, thresh, pthresh, pmax, cbar, cbar_ax, cbar_kws, palette, hue_order, hue_norm, color, log_scale, legend, ax, **kwargs)\u001b[0m\n\u001b[1;32m   1411\u001b[0m estimate_kws \u001b[38;5;241m=\u001b[39m \u001b[38;5;28mdict\u001b[39m(\n\u001b[1;32m   1412\u001b[0m     stat\u001b[38;5;241m=\u001b[39mstat,\n\u001b[1;32m   1413\u001b[0m     bins\u001b[38;5;241m=\u001b[39mbins,\n\u001b[0;32m   (...)\u001b[0m\n\u001b[1;32m   1417\u001b[0m     cumulative\u001b[38;5;241m=\u001b[39mcumulative,\n\u001b[1;32m   1418\u001b[0m )\n\u001b[1;32m   1420\u001b[0m \u001b[38;5;28;01mif\u001b[39;00m p\u001b[38;5;241m.\u001b[39munivariate:\n\u001b[0;32m-> 1422\u001b[0m     \u001b[43mp\u001b[49m\u001b[38;5;241;43m.\u001b[39;49m\u001b[43mplot_univariate_histogram\u001b[49m\u001b[43m(\u001b[49m\n\u001b[1;32m   1423\u001b[0m \u001b[43m        \u001b[49m\u001b[43mmultiple\u001b[49m\u001b[38;5;241;43m=\u001b[39;49m\u001b[43mmultiple\u001b[49m\u001b[43m,\u001b[49m\n\u001b[1;32m   1424\u001b[0m \u001b[43m        \u001b[49m\u001b[43melement\u001b[49m\u001b[38;5;241;43m=\u001b[39;49m\u001b[43melement\u001b[49m\u001b[43m,\u001b[49m\n\u001b[1;32m   1425\u001b[0m \u001b[43m        \u001b[49m\u001b[43mfill\u001b[49m\u001b[38;5;241;43m=\u001b[39;49m\u001b[43mfill\u001b[49m\u001b[43m,\u001b[49m\n\u001b[1;32m   1426\u001b[0m \u001b[43m        \u001b[49m\u001b[43mshrink\u001b[49m\u001b[38;5;241;43m=\u001b[39;49m\u001b[43mshrink\u001b[49m\u001b[43m,\u001b[49m\n\u001b[1;32m   1427\u001b[0m \u001b[43m        \u001b[49m\u001b[43mcommon_norm\u001b[49m\u001b[38;5;241;43m=\u001b[39;49m\u001b[43mcommon_norm\u001b[49m\u001b[43m,\u001b[49m\n\u001b[1;32m   1428\u001b[0m \u001b[43m        \u001b[49m\u001b[43mcommon_bins\u001b[49m\u001b[38;5;241;43m=\u001b[39;49m\u001b[43mcommon_bins\u001b[49m\u001b[43m,\u001b[49m\n\u001b[1;32m   1429\u001b[0m \u001b[43m        \u001b[49m\u001b[43mkde\u001b[49m\u001b[38;5;241;43m=\u001b[39;49m\u001b[43mkde\u001b[49m\u001b[43m,\u001b[49m\n\u001b[1;32m   1430\u001b[0m \u001b[43m        \u001b[49m\u001b[43mkde_kws\u001b[49m\u001b[38;5;241;43m=\u001b[39;49m\u001b[43mkde_kws\u001b[49m\u001b[43m,\u001b[49m\n\u001b[1;32m   1431\u001b[0m \u001b[43m        \u001b[49m\u001b[43mcolor\u001b[49m\u001b[38;5;241;43m=\u001b[39;49m\u001b[43mcolor\u001b[49m\u001b[43m,\u001b[49m\n\u001b[1;32m   1432\u001b[0m \u001b[43m        \u001b[49m\u001b[43mlegend\u001b[49m\u001b[38;5;241;43m=\u001b[39;49m\u001b[43mlegend\u001b[49m\u001b[43m,\u001b[49m\n\u001b[1;32m   1433\u001b[0m \u001b[43m        \u001b[49m\u001b[43mestimate_kws\u001b[49m\u001b[38;5;241;43m=\u001b[39;49m\u001b[43mestimate_kws\u001b[49m\u001b[43m,\u001b[49m\n\u001b[1;32m   1434\u001b[0m \u001b[43m        \u001b[49m\u001b[43mline_kws\u001b[49m\u001b[38;5;241;43m=\u001b[39;49m\u001b[43mline_kws\u001b[49m\u001b[43m,\u001b[49m\n\u001b[1;32m   1435\u001b[0m \u001b[43m        \u001b[49m\u001b[38;5;241;43m*\u001b[39;49m\u001b[38;5;241;43m*\u001b[39;49m\u001b[43mkwargs\u001b[49m\u001b[43m,\u001b[49m\n\u001b[1;32m   1436\u001b[0m \u001b[43m    \u001b[49m\u001b[43m)\u001b[49m\n\u001b[1;32m   1438\u001b[0m \u001b[38;5;28;01melse\u001b[39;00m:\n\u001b[1;32m   1440\u001b[0m     p\u001b[38;5;241m.\u001b[39mplot_bivariate_histogram(\n\u001b[1;32m   1441\u001b[0m         common_bins\u001b[38;5;241m=\u001b[39mcommon_bins,\n\u001b[1;32m   1442\u001b[0m         common_norm\u001b[38;5;241m=\u001b[39mcommon_norm,\n\u001b[0;32m   (...)\u001b[0m\n\u001b[1;32m   1452\u001b[0m         \u001b[38;5;241m*\u001b[39m\u001b[38;5;241m*\u001b[39mkwargs,\n\u001b[1;32m   1453\u001b[0m     )\n",
      "File \u001b[0;32m~/anaconda3/lib/python3.8/site-packages/seaborn/distributions.py:382\u001b[0m, in \u001b[0;36m_DistributionPlotter.plot_univariate_histogram\u001b[0;34m(self, multiple, element, fill, common_norm, common_bins, shrink, kde, kde_kws, color, legend, line_kws, estimate_kws, **plot_kws)\u001b[0m\n\u001b[1;32m    379\u001b[0m     common_norm \u001b[38;5;241m=\u001b[39m \u001b[38;5;28;01mFalse\u001b[39;00m\n\u001b[1;32m    381\u001b[0m \u001b[38;5;66;03m# Now initialize the Histogram estimator\u001b[39;00m\n\u001b[0;32m--> 382\u001b[0m estimator \u001b[38;5;241m=\u001b[39m \u001b[43mHistogram\u001b[49m\u001b[43m(\u001b[49m\u001b[38;5;241;43m*\u001b[39;49m\u001b[38;5;241;43m*\u001b[39;49m\u001b[43mestimate_kws\u001b[49m\u001b[43m)\u001b[49m\n\u001b[1;32m    383\u001b[0m histograms \u001b[38;5;241m=\u001b[39m {}\n\u001b[1;32m    385\u001b[0m \u001b[38;5;66;03m# Do pre-compute housekeeping related to multiple groups\u001b[39;00m\n\u001b[1;32m    386\u001b[0m \u001b[38;5;66;03m# TODO best way to account for facet/semantic?\u001b[39;00m\n",
      "File \u001b[0;32m~/anaconda3/lib/python3.8/site-packages/seaborn/_statistics.py:232\u001b[0m, in \u001b[0;36mHistogram.__init__\u001b[0;34m(self, stat, bins, binwidth, binrange, discrete, cumulative)\u001b[0m\n\u001b[1;32m    194\u001b[0m \u001b[38;5;28;01mdef\u001b[39;00m \u001b[38;5;21m__init__\u001b[39m(\n\u001b[1;32m    195\u001b[0m     \u001b[38;5;28mself\u001b[39m,\n\u001b[1;32m    196\u001b[0m     stat\u001b[38;5;241m=\u001b[39m\u001b[38;5;124m\"\u001b[39m\u001b[38;5;124mcount\u001b[39m\u001b[38;5;124m\"\u001b[39m,\n\u001b[0;32m   (...)\u001b[0m\n\u001b[1;32m    201\u001b[0m     cumulative\u001b[38;5;241m=\u001b[39m\u001b[38;5;28;01mFalse\u001b[39;00m,\n\u001b[1;32m    202\u001b[0m ):\n\u001b[1;32m    203\u001b[0m     \u001b[38;5;124;03m\"\"\"Initialize the estimator with its parameters.\u001b[39;00m\n\u001b[1;32m    204\u001b[0m \n\u001b[1;32m    205\u001b[0m \u001b[38;5;124;03m    Parameters\u001b[39;00m\n\u001b[0;32m   (...)\u001b[0m\n\u001b[1;32m    230\u001b[0m \n\u001b[1;32m    231\u001b[0m \u001b[38;5;124;03m    \"\"\"\u001b[39;00m\n\u001b[0;32m--> 232\u001b[0m     \u001b[43m_check_argument\u001b[49m\u001b[43m(\u001b[49m\u001b[38;5;124;43m\"\u001b[39;49m\u001b[38;5;124;43mstat\u001b[39;49m\u001b[38;5;124;43m\"\u001b[39;49m\u001b[43m,\u001b[49m\u001b[43m \u001b[49m\u001b[43m[\u001b[49m\u001b[38;5;124;43m\"\u001b[39;49m\u001b[38;5;124;43mcount\u001b[39;49m\u001b[38;5;124;43m\"\u001b[39;49m\u001b[43m,\u001b[49m\u001b[43m \u001b[49m\u001b[38;5;124;43m\"\u001b[39;49m\u001b[38;5;124;43mdensity\u001b[39;49m\u001b[38;5;124;43m\"\u001b[39;49m\u001b[43m,\u001b[49m\u001b[43m \u001b[49m\u001b[38;5;124;43m\"\u001b[39;49m\u001b[38;5;124;43mprobability\u001b[39;49m\u001b[38;5;124;43m\"\u001b[39;49m\u001b[43m,\u001b[49m\u001b[43m \u001b[49m\u001b[38;5;124;43m\"\u001b[39;49m\u001b[38;5;124;43mfrequency\u001b[39;49m\u001b[38;5;124;43m\"\u001b[39;49m\u001b[43m]\u001b[49m\u001b[43m,\u001b[49m\u001b[43m \u001b[49m\u001b[43mstat\u001b[49m\u001b[43m)\u001b[49m\n\u001b[1;32m    234\u001b[0m     \u001b[38;5;28mself\u001b[39m\u001b[38;5;241m.\u001b[39mstat \u001b[38;5;241m=\u001b[39m stat\n\u001b[1;32m    235\u001b[0m     \u001b[38;5;28mself\u001b[39m\u001b[38;5;241m.\u001b[39mbins \u001b[38;5;241m=\u001b[39m bins\n",
      "File \u001b[0;32m~/anaconda3/lib/python3.8/site-packages/seaborn/utils.py:674\u001b[0m, in \u001b[0;36m_check_argument\u001b[0;34m(param, options, value)\u001b[0m\n\u001b[1;32m    672\u001b[0m \u001b[38;5;124;03m\"\"\"Raise if value for param is not in options.\"\"\"\u001b[39;00m\n\u001b[1;32m    673\u001b[0m \u001b[38;5;28;01mif\u001b[39;00m value \u001b[38;5;129;01mnot\u001b[39;00m \u001b[38;5;129;01min\u001b[39;00m options:\n\u001b[0;32m--> 674\u001b[0m     \u001b[38;5;28;01mraise\u001b[39;00m \u001b[38;5;167;01mValueError\u001b[39;00m(\n\u001b[1;32m    675\u001b[0m         \u001b[38;5;124mf\u001b[39m\u001b[38;5;124m\"\u001b[39m\u001b[38;5;124m`\u001b[39m\u001b[38;5;132;01m{\u001b[39;00mparam\u001b[38;5;132;01m}\u001b[39;00m\u001b[38;5;124m` must be one of \u001b[39m\u001b[38;5;132;01m{\u001b[39;00moptions\u001b[38;5;132;01m}\u001b[39;00m\u001b[38;5;124m, but \u001b[39m\u001b[38;5;132;01m{\u001b[39;00mvalue\u001b[38;5;132;01m}\u001b[39;00m\u001b[38;5;124m was passed.`\u001b[39m\u001b[38;5;124m\"\u001b[39m\n\u001b[1;32m    676\u001b[0m     )\n",
      "\u001b[0;31mValueError\u001b[0m: `stat` must be one of ['count', 'density', 'probability', 'frequency'], but percent was passed.`"
     ]
    },
    {
     "data": {
      "image/png": "[encoded data removed]",
      "text/plain": [
       "<Figure size 720x1080 with 3 Axes>"
      ]
     },
     "metadata": {
      "needs_background": "light"
     },
     "output_type": "display_data"
    }
   ],
   "source": [
    "#Plot settings\n",
    "fig, axes = plt.subplots(3, 1,figsize=(10,15))\n",
    "fig.tight_layout(h_pad = 4.0)\n",
    "\n",
    "#Recalled Visualization\n",
    "graph_2 = sns.histplot(data = newRecalled, x=\"AgeGroup\", hue = 'sentiment', hue_order = ['Positive','Negative'],multiple='dodge', stat = 'percent',common_norm=False,ax=axes[0])\n",
    "for container in graph_2.containers:\n",
    "    graph_2.bar_label(container)\n",
    "\n",
    "graph_2.set(xlabel = 'Age Group')\n",
    "axes[0].set_title('Recalled Sentiment', fontsize=20)\n",
    "\n",
    "#Imagined Visualization\n",
    "graph_2 = sns.histplot(data = newImagined, x=\"AgeGroup\", hue = 'sentiment', hue_order = ['Positive','Negative'],multiple='dodge', stat = 'percent',common_norm=False,ax=axes[1])\n",
    "for container in graph_2.containers:\n",
    "    graph_2.bar_label(container)\n",
    "\n",
    "graph_2.set(xlabel = 'Age Group')\n",
    "axes[1].set_title('Imagined Sentiment', fontsize=20)\n",
    "\n",
    "#Retold Visualization\n",
    "graph_2 = sns.histplot(data = newRetold, x=\"AgeGroup\", hue = 'sentiment', hue_order = ['Positive','Negative'],multiple='dodge', stat = 'percent',common_norm=False,ax=axes[2])\n",
    "for container in graph_2.containers:\n",
    "    graph_2.bar_label(container)\n",
    "\n",
    "graph_2.set(xlabel = 'Age Group')\n",
    "axes[2].set_title('Retold Sentiment', fontsize=20)"
   ]
  },
  {
   "cell_type": "markdown",
   "metadata": {},
   "source": [
    "Comparing these graphs, the strongest relationship that stood out is how the Adult AgeGroup column seems to have a more Positive Sentiment than Negative relationship in all 3 Retold, Recalled, and Imagined Sentiments. Maybe this has something to do with the adult stage in life where people tend to be happier? Next, let's visualize the Sentimental Analysis between Retold vs. Recalled Stories"
   ]
  },
  {
   "cell_type": "markdown",
   "metadata": {},
   "source": [
    "Next, let's visualize the Sentimental Analysis between **Retold vs. Recalled Stories**"
   ]
  },
  {
   "cell_type": "code",
   "execution_count": null,
   "metadata": {},
   "outputs": [
    {
     "ename": "AttributeError",
     "evalue": "'BarContainer' object has no attribute 'datavalues'",
     "output_type": "error",
     "traceback": [
      "\u001b[0;31m---------------------------------------------------------------------------\u001b[0m",
      "\u001b[0;31mAttributeError\u001b[0m                            Traceback (most recent call last)",
      "Input \u001b[0;32mIn [58]\u001b[0m, in \u001b[0;36m<module>\u001b[0;34m\u001b[0m\n\u001b[1;32m     12\u001b[0m plt\u001b[38;5;241m.\u001b[39mgca()\u001b[38;5;241m.\u001b[39myaxis\u001b[38;5;241m.\u001b[39mset_major_formatter(PercentFormatter(\u001b[38;5;241m1\u001b[39m))\n\u001b[1;32m     13\u001b[0m \u001b[38;5;28;01mfor\u001b[39;00m container \u001b[38;5;129;01min\u001b[39;00m ax\u001b[38;5;241m.\u001b[39mcontainers:\n\u001b[0;32m---> 14\u001b[0m     labels \u001b[38;5;241m=\u001b[39m [\u001b[38;5;124mf\u001b[39m\u001b[38;5;124m'\u001b[39m\u001b[38;5;132;01m{\u001b[39;00mx\u001b[38;5;132;01m:\u001b[39;00m\u001b[38;5;124m.1%\u001b[39m\u001b[38;5;132;01m}\u001b[39;00m\u001b[38;5;124m'\u001b[39m \u001b[38;5;28;01mfor\u001b[39;00m x \u001b[38;5;129;01min\u001b[39;00m \u001b[43mcontainer\u001b[49m\u001b[38;5;241;43m.\u001b[39;49m\u001b[43mdatavalues\u001b[49m]\n\u001b[1;32m     15\u001b[0m     ax\u001b[38;5;241m.\u001b[39mbar_label(container, labels\u001b[38;5;241m=\u001b[39mlabels)\n\u001b[1;32m     16\u001b[0m plt\u001b[38;5;241m.\u001b[39mshow()\n",
      "\u001b[0;31mAttributeError\u001b[0m: 'BarContainer' object has no attribute 'datavalues'"
     ]
    },
    {
     "data": {
      "image/png": "[encoded data removed]",
      "text/plain": [
       "<Figure size 720x360 with 1 Axes>"
      ]
     },
     "metadata": {
      "needs_background": "light"
     },
     "output_type": "display_data"
    }
   ],
   "source": [
    "#select positive and negative sentiments (remove neutral sentiment)\n",
    "posnegRetold = newRetold[(newRetold['sentiment'] == 'Positive') | (newRetold['sentiment'] == 'Negative')]\n",
    "posnegRecalled = newRecalled[(newRecalled['sentiment'] == 'Positive') | (newRecalled['sentiment'] == 'Negative')]\n",
    "\n",
    "#plot parameters\n",
    "x = posnegRetold['sentiment']\n",
    "y = posnegRecalled['sentiment']\n",
    "fig, ax = plt.subplots(figsize=(10,5))\n",
    "values, bins, patches = plt.hist([x, y], bins=np.arange(3)-0.5, label=['Retold Stories', 'Recalled Stories'],density=True)\n",
    " \n",
    "plt.legend(loc='upper right')\n",
    "plt.gca().yaxis.set_major_formatter(PercentFormatter(1))\n",
    "for container in ax.containers:\n",
    "    labels = [f'{x:.1%}' for x in container.datavalues]\n",
    "    ax.bar_label(container, labels=labels)\n",
    "plt.show()"
   ]
  },
  {
   "cell_type": "markdown",
   "metadata": {},
   "source": [
    "From this graph, we can see that when comparing Positive and Negative sentiments between Retold and Recalled stories, there are more Positive Retold stories than Recalled stories. Also, there are more Negative stories in Recalled than Retold."
   ]
  },
  {
   "cell_type": "markdown",
   "metadata": {},
   "source": [
    "Finally, for consistency, we will add the plots that we've seen and analyzed from the Spacy Similarity analysis."
   ]
  },
  {
   "cell_type": "code",
   "execution_count": null,
   "metadata": {},
   "outputs": [
    {
     "data": {
      "text/plain": [
       "<AxesSubplot:xlabel='time since recalled', ylabel='spacy_sim'>"
      ]
     },
     "execution_count": 59,
     "metadata": {},
     "output_type": "execute_result"
    },
    {
     "data": {
      "image/png": "[encoded data removed]",
      "text/plain": [
       "<Figure size 432x288 with 1 Axes>"
      ]
     },
     "metadata": {
      "needs_background": "light"
     },
     "output_type": "display_data"
    }
   ],
   "source": [
    "cleanedRecalledAndRetold.plot.scatter(x='time since recalled', y = 'spacy_sim')"
   ]
  },
  {
   "cell_type": "markdown",
   "metadata": {},
   "source": [
    "As we can see from the scatter plot, most of the particpants had higher similarity scores with a couple outliers. Additionally we can see that the time since recall does not have as much of an effect as initially anticpated.\n",
    "\n",
    "Let's shrink our data point range a little bit and see if it shows us anything else."
   ]
  },
  {
   "cell_type": "code",
   "execution_count": null,
   "metadata": {},
   "outputs": [
    {
     "data": {
      "text/plain": [
       "<AxesSubplot:xlabel='time since recalled', ylabel='spacy_sim'>"
      ]
     },
     "execution_count": 60,
     "metadata": {},
     "output_type": "execute_result"
    },
    {
     "data": {
      "image/png": "[encoded data removed]",
      "text/plain": [
       "<Figure size 432x288 with 1 Axes>"
      ]
     },
     "metadata": {
      "needs_background": "light"
     },
     "output_type": "display_data"
    }
   ],
   "source": [
    "test = cleanedRecalledAndRetold[cleanedRecalledAndRetold['time since recalled'] < 250]\n",
    "test.plot.scatter(x='time since recalled', y = 'spacy_sim')"
   ]
  },
  {
   "cell_type": "markdown",
   "metadata": {},
   "source": [
    "There isn't a lot to see from this plot other then stories appear to generally have set interval days in which participants were asked to retell their previous story.\n",
    "\n",
    "Let's see if we can find any interesting groupings based on age group."
   ]
  },
  {
   "cell_type": "code",
   "execution_count": null,
   "metadata": {},
   "outputs": [
    {
     "data": {
      "image/png": "[encoded data removed]",
      "text/plain": [
       "<Figure size 647.35x360 with 1 Axes>"
      ]
     },
     "metadata": {
      "needs_background": "light"
     },
     "output_type": "display_data"
    }
   ],
   "source": [
    "_ages = ['Youth','Adult','Senior']\n",
    "sns.relplot(data=combinedAnalysis, x='time since recalled', y='spacy_sim', hue='AgeGroup', hue_order=_ages, aspect=1.61)\n",
    "plt.show()"
   ]
  },
  {
   "cell_type": "markdown",
   "metadata": {},
   "source": [
    "It appears that the Youth group were not asked to retell anything past 510 days and Adult and Senior groups had the longest time since they had recalled the event. "
   ]
  },
  {
   "cell_type": "markdown",
   "metadata": {},
   "source": [
    "# III. Conclusion and Discussion"
   ]
  },
  {
   "cell_type": "markdown",
   "metadata": {},
   "source": [
    "As stated above we want to see how emotion affects memory so let's look into the results we got. First lets see if the emotion of our age group has increased or decreased over time."
   ]
  },
  {
   "cell_type": "code",
   "execution_count": null,
   "metadata": {},
   "outputs": [
    {
     "data": {
      "text/plain": [
       "<AxesSubplot:xlabel='AgeGroup', ylabel='count'>"
      ]
     },
     "execution_count": 63,
     "metadata": {},
     "output_type": "execute_result"
    },
    {
     "data": {
      "image/png": "[encoded data removed]",
      "text/plain": [
       "<Figure size 432x288 with 1 Axes>"
      ]
     },
     "metadata": {
      "needs_background": "light"
     },
     "output_type": "display_data"
    }
   ],
   "source": [
    "sns.countplot(x='AgeGroup',hue='sentChange',data=combinedAnalysis)"
   ]
  },
  {
   "cell_type": "markdown",
   "metadata": {},
   "source": [
    "As we can see, the emotion change was actually more positive over time in the Adult and Senior age group. As for the youth group the negative and positive emotion is about the same.\n",
    "\n",
    "Let's take a look at the spacy distribution classified by age group"
   ]
  },
  {
   "cell_type": "code",
   "execution_count": null,
   "metadata": {},
   "outputs": [
    {
     "data": {
      "text/plain": [
       "<seaborn.axisgrid.FacetGrid at 0x7fadd8175d60>"
      ]
     },
     "execution_count": 64,
     "metadata": {},
     "output_type": "execute_result"
    },
    {
     "data": {
      "image/png": "[encoded data removed]",
      "text/plain": [
       "<Figure size 360x360 with 1 Axes>"
      ]
     },
     "metadata": {
      "needs_background": "light"
     },
     "output_type": "display_data"
    },
    {
     "data": {
      "image/png": "[encoded data removed]",
      "text/plain": [
       "<Figure size 360x360 with 1 Axes>"
      ]
     },
     "metadata": {
      "needs_background": "light"
     },
     "output_type": "display_data"
    },
    {
     "data": {
      "image/png": "[encoded data removed]",
      "text/plain": [
       "<Figure size 360x360 with 1 Axes>"
      ]
     },
     "metadata": {
      "needs_background": "light"
     },
     "output_type": "display_data"
    }
   ],
   "source": [
    "youth = sns.displot(youthOnly, x='spacy_sim',bins=15)\n",
    "youth.set(title='Youth Spacy Distribution')\n",
    "adult = sns.displot(adultOnly, x='spacy_sim',bins=15,color='orange')\n",
    "adult.set(title='Adult Spacy Distribution')\n",
    "senior = sns.displot(seniorOnly, x='spacy_sim',bins=15)\n",
    "senior.set(title='Senior Spacy Distribution')"
   ]
  },
  {
   "cell_type": "markdown",
   "metadata": {},
   "source": [
    "Next, looking at the distributions, the Adult distribution appears to show the overall best retelling of the previous story, then the Youth distribution, and finally the Senior distribution. This shows us that even if there is better emotion, it does not necessarily lead to better memory. If emotion were to help memory we would see the Senior distribution being the best followed by Adult and then finally Youth.\n",
    "\n",
    "Let's look at the emotion variables that might be driving this increase. We decided that the variables that speak the most about emotion are:\n",
    "- Draining which describes how emotionally drained the individual was when telling the story\n",
    "- Importance which describes how driven the individual was when telling the story\n",
    "- Stressful which describes how stressed the individual was when telling the story"
   ]
  },
  {
   "cell_type": "code",
   "execution_count": null,
   "metadata": {},
   "outputs": [
    {
     "data": {
      "text/html": [
       "<div>\n",
       "<style scoped>\n",
       "    .dataframe tbody tr th:only-of-type {\n",
       "        vertical-align: middle;\n",
       "    }\n",
       "\n",
       "    .dataframe tbody tr th {\n",
       "        vertical-align: top;\n",
       "    }\n",
       "\n",
       "    .dataframe thead th {\n",
       "        text-align: right;\n",
       "    }\n",
       "</style>\n",
       "<table border=\"1\" class=\"dataframe\">\n",
       "  <thead>\n",
       "    <tr style=\"text-align: right;\">\n",
       "      <th></th>\n",
       "      <th>draining</th>\n",
       "      <th>importance</th>\n",
       "      <th>stressful</th>\n",
       "    </tr>\n",
       "    <tr>\n",
       "      <th>AgeGroup</th>\n",
       "      <th></th>\n",
       "      <th></th>\n",
       "      <th></th>\n",
       "    </tr>\n",
       "  </thead>\n",
       "  <tbody>\n",
       "    <tr>\n",
       "      <th>Adult</th>\n",
       "      <td>2.337594</td>\n",
       "      <td>4.480451</td>\n",
       "      <td>2.339850</td>\n",
       "    </tr>\n",
       "    <tr>\n",
       "      <th>Senior</th>\n",
       "      <td>2.506897</td>\n",
       "      <td>4.653448</td>\n",
       "      <td>2.475862</td>\n",
       "    </tr>\n",
       "    <tr>\n",
       "      <th>Youth</th>\n",
       "      <td>2.303488</td>\n",
       "      <td>4.472093</td>\n",
       "      <td>2.293023</td>\n",
       "    </tr>\n",
       "  </tbody>\n",
       "</table>\n",
       "</div>"
      ],
      "text/plain": [
       "          draining  importance  stressful\n",
       "AgeGroup                                 \n",
       "Adult     2.337594    4.480451   2.339850\n",
       "Senior    2.506897    4.653448   2.475862\n",
       "Youth     2.303488    4.472093   2.293023"
      ]
     },
     "execution_count": 65,
     "metadata": {},
     "output_type": "execute_result"
    }
   ],
   "source": [
    "newRecalled.groupby('AgeGroup').mean().drop(columns=['annotatorAge','frequency','logTimeSinceEvent',\n",
    "                                                   'similarity','timeSinceEvent','distracted'])"
   ]
  },
  {
   "cell_type": "code",
   "execution_count": null,
   "metadata": {},
   "outputs": [
    {
     "data": {
      "text/html": [
       "<div>\n",
       "<style scoped>\n",
       "    .dataframe tbody tr th:only-of-type {\n",
       "        vertical-align: middle;\n",
       "    }\n",
       "\n",
       "    .dataframe tbody tr th {\n",
       "        vertical-align: top;\n",
       "    }\n",
       "\n",
       "    .dataframe thead th {\n",
       "        text-align: right;\n",
       "    }\n",
       "</style>\n",
       "<table border=\"1\" class=\"dataframe\">\n",
       "  <thead>\n",
       "    <tr style=\"text-align: right;\">\n",
       "      <th></th>\n",
       "      <th>draining</th>\n",
       "      <th>importance</th>\n",
       "      <th>stressful</th>\n",
       "    </tr>\n",
       "    <tr>\n",
       "      <th>AgeGroup</th>\n",
       "      <th></th>\n",
       "      <th></th>\n",
       "      <th></th>\n",
       "    </tr>\n",
       "  </thead>\n",
       "  <tbody>\n",
       "    <tr>\n",
       "      <th>Adult</th>\n",
       "      <td>2.126739</td>\n",
       "      <td>4.268934</td>\n",
       "      <td>2.128284</td>\n",
       "    </tr>\n",
       "    <tr>\n",
       "      <th>Senior</th>\n",
       "      <td>2.285294</td>\n",
       "      <td>4.491176</td>\n",
       "      <td>2.200000</td>\n",
       "    </tr>\n",
       "    <tr>\n",
       "      <th>Youth</th>\n",
       "      <td>1.975460</td>\n",
       "      <td>4.168712</td>\n",
       "      <td>2.015337</td>\n",
       "    </tr>\n",
       "  </tbody>\n",
       "</table>\n",
       "</div>"
      ],
      "text/plain": [
       "          draining  importance  stressful\n",
       "AgeGroup                                 \n",
       "Adult     2.126739    4.268934   2.128284\n",
       "Senior    2.285294    4.491176   2.200000\n",
       "Youth     1.975460    4.168712   2.015337"
      ]
     },
     "execution_count": 66,
     "metadata": {},
     "output_type": "execute_result"
    }
   ],
   "source": [
    "newRetold.groupby('AgeGroup').mean().drop(columns=['annotatorAge','frequency','logTimeSinceEvent',\n",
    "                                                   'similarity','timeSinceEvent','distracted'])"
   ]
  },
  {
   "cell_type": "markdown",
   "metadata": {},
   "source": [
    "These three emotional variables are done on a Likert scale meaning 5 being the most stress, 3 being a neutral amount of stress and 1 being no stress at all. Between the two plots, we can see that individuals on average were less emotionally drained during the retelling of the story as opposed to recalling it. The average importance level was higher for each age group during the recalling of the story versus the retelling of the story where they were lower. Finally, the stress decreased for each age group when they were retelling the story as opposed to recalling it. \n",
    "\n",
    "\n",
    "We can also look at violin plots to help us better see the distribution of the emotions by age group"
   ]
  },
  {
   "cell_type": "code",
   "execution_count": null,
   "metadata": {},
   "outputs": [
    {
     "data": {
      "text/plain": [
       "[Text(0.5, 1.0, 'Recalled Stress Distribution')]"
      ]
     },
     "execution_count": 67,
     "metadata": {},
     "output_type": "execute_result"
    },
    {
     "data": {
      "image/png": "[encoded data removed]",
      "text/plain": [
       "<Figure size 432x288 with 1 Axes>"
      ]
     },
     "metadata": {
      "needs_background": "light"
     },
     "output_type": "display_data"
    }
   ],
   "source": [
    "stressRec = sns.violinplot(x='AgeGroup',data=newRecalled,\n",
    "            y='stressful')\n",
    "stressRec.set(title='Recalled Stress Distribution')"
   ]
  },
  {
   "cell_type": "code",
   "execution_count": null,
   "metadata": {
    "scrolled": true
   },
   "outputs": [
    {
     "data": {
      "text/plain": [
       "[Text(0.5, 1.0, 'Retold Stress Distribution')]"
      ]
     },
     "execution_count": 68,
     "metadata": {},
     "output_type": "execute_result"
    },
    {
     "data": {
      "image/png": "[encoded data removed]",
      "text/plain": [
       "<Figure size 432x288 with 1 Axes>"
      ]
     },
     "metadata": {
      "needs_background": "light"
     },
     "output_type": "display_data"
    }
   ],
   "source": [
    "stressRet = sns.violinplot(x='AgeGroup',data=newRetold,\n",
    "            y='stressful')\n",
    "stressRet.set(title='Retold Stress Distribution')"
   ]
  },
  {
   "cell_type": "markdown",
   "metadata": {},
   "source": [
    "We can see that the stress distribution thinned out at 6 and increase from 2 - 3 across all three groups meaning that all groups felt less stressed when retelling their story"
   ]
  },
  {
   "cell_type": "code",
   "execution_count": null,
   "metadata": {},
   "outputs": [
    {
     "data": {
      "text/plain": [
       "[Text(0.5, 1.0, 'Recalled Importance Distribution')]"
      ]
     },
     "execution_count": 71,
     "metadata": {},
     "output_type": "execute_result"
    },
    {
     "data": {
      "image/png": "[encoded data removed]",
      "text/plain": [
       "<Figure size 432x288 with 1 Axes>"
      ]
     },
     "metadata": {
      "needs_background": "light"
     },
     "output_type": "display_data"
    }
   ],
   "source": [
    "importanceRec = sns.violinplot(x='AgeGroup',data=newRecalled,\n",
    "            y='importance')\n",
    "importanceRec.set(title='Recalled Importance Distribution')"
   ]
  },
  {
   "cell_type": "code",
   "execution_count": null,
   "metadata": {},
   "outputs": [
    {
     "data": {
      "text/plain": [
       "[Text(0.5, 1.0, 'Retold Importance Distribution')]"
      ]
     },
     "execution_count": 72,
     "metadata": {},
     "output_type": "execute_result"
    },
    {
     "data": {
      "image/png": "[encoded data removed]",
      "text/plain": [
       "<Figure size 432x288 with 1 Axes>"
      ]
     },
     "metadata": {
      "needs_background": "light"
     },
     "output_type": "display_data"
    }
   ],
   "source": [
    "importanceRet = sns.violinplot(x='AgeGroup',data=newRetold,\n",
    "            y='importance')\n",
    "importanceRet.set(title='Retold Importance Distribution')"
   ]
  },
  {
   "cell_type": "markdown",
   "metadata": {},
   "source": [
    "We can see the importance distribution filled in the thinner spots and grew more from 4 to 2 meaning the story became less important to them."
   ]
  },
  {
   "cell_type": "code",
   "execution_count": null,
   "metadata": {},
   "outputs": [
    {
     "data": {
      "text/plain": [
       "[Text(0.5, 1.0, 'Recalled Draining Distribution')]"
      ]
     },
     "execution_count": 73,
     "metadata": {},
     "output_type": "execute_result"
    },
    {
     "data": {
      "image/png": "[encoded data removed]",
      "text/plain": [
       "<Figure size 432x288 with 1 Axes>"
      ]
     },
     "metadata": {
      "needs_background": "light"
     },
     "output_type": "display_data"
    }
   ],
   "source": [
    "drainingRec = sns.violinplot(x='AgeGroup',data=newRecalled,\n",
    "            y='draining')\n",
    "drainingRec.set(title='Recalled Draining Distribution')"
   ]
  },
  {
   "cell_type": "code",
   "execution_count": null,
   "metadata": {},
   "outputs": [
    {
     "data": {
      "text/plain": [
       "[Text(0.5, 1.0, 'Retold Draining Distribution')]"
      ]
     },
     "execution_count": 74,
     "metadata": {},
     "output_type": "execute_result"
    },
    {
     "data": {
      "image/png": "[encoded data removed]",
      "text/plain": [
       "<Figure size 432x288 with 1 Axes>"
      ]
     },
     "metadata": {
      "needs_background": "light"
     },
     "output_type": "display_data"
    }
   ],
   "source": [
    "drainingRet = sns.violinplot(x='AgeGroup',data=newRetold,\n",
    "            y='draining')\n",
    "drainingRet.set(title='Retold Draining Distribution')"
   ]
  },
  {
   "cell_type": "markdown",
   "metadata": {},
   "source": [
    "We can see that draining followed a similar pattern as stressed did, again showing that all three groups felt less draining during the retelling of their story"
   ]
  },
  {
   "cell_type": "markdown",
   "metadata": {},
   "source": [
    "### Overall\n",
    "We are unable to conclusively say that emotion drives better memory from this dataset and the data points that we used. This does not mean that emotion for certain does not drive memory for a variety of reasons. The first is, emotion is something subjective so how one person feels does not always line up with how someone else might feel. Additionally, there are a lot more emotions that weren't recorded that could be affecting individuals during their recalling that might have not been there during their retelling. Moreover, our hypothesis was tested on one dataset using two different packages. There are a variety of other approaches that could be done with different packages as well as different datasets. One thing that our dataset did challenge was a general idea that 0- 30 year-olds are generally more positive, individuals in their 30 - 50s are more negative, and individuals 50+ are more positive. Our dataset showed that based on their initial emotions Seniors became more positive, then Adults, and then finally Youth being at a net-zero.\n",
    "\n",
    "Something that our group discussed but did not have enough time to do was an unsupervised machine learning approach. More specifically a k-means clustering. Ideally, if we had more time we could have clustered the stories individually and measured the differences between the centroids of the two different stories. However, this would take a lot of work as we would need to come up with our own vectorization, test it, and then implement a k-means clustering algorithm and test that as well. \n",
    "\n",
    " Also, we did not look into the imagined group for our project as we felt that retelling an imagined story is not as impactful as retelling a story that actually happened. We also thought that telling an imaged story would skew the emotional variables as they would tend to be happy and less stressed. This is because humans generally dream about happier things opposed to negative things. With all that being said, this was just our assumption and the data in this dataset could prove to show us otherwise.\n",
    "\n",
    "Other experiments that would be interesting would be tracking the positivity and negativity of an individual over a long period of time. In other words, tracking a user who has been on Twitter for 20+ years and scrapping every tweet they made. From there see if the user becomes more negative or positive over time. Something else that would be interesting to do at UCSD would be to observe student CAPEs responses over time and especially look at the response pre, during, and post COVID. This approach would be a little more difficult to do as we believe that there would be a sense of depression because of an online-only environment. This would mean we would have to take into account positive, negative, and depressed responses. Again, emotion is very subject such as what is depressed and what is negative. Nonetheless, it could provide results that the school could use to help aid students before they get to those points by using variables that allow them to predict which students need help before it is too late."
   ]
  }
 ],
 "metadata": {
  "interpreter": {
   "hash": "aee8b7b246df8f9039afb4144a1f6fd8d2ca17a180786b69acc140d282b71a49"
  },
  "kernelspec": {
   "display_name": "Python 3 (ipykernel)",
   "language": "python",
   "name": "python3"
  },
  "language_info": {
   "codemirror_mode": {
    "name": "ipython",
    "version": 3
   },
   "file_extension": ".py",
   "mimetype": "text/x-python",
   "name": "python",
   "nbconvert_exporter": "python",
   "pygments_lexer": "ipython3",
   "version": "3.9.7"
  }
 },
 "nbformat": 4,
 "nbformat_minor": 4
}
