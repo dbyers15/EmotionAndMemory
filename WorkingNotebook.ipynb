{
 "cells": [
  {
   "cell_type": "code",
   "execution_count": 181,
   "metadata": {},
   "outputs": [],
   "source": [
    "#pip install vaderSentiment"
   ]
  },
  {
   "cell_type": "markdown",
   "metadata": {},
   "source": [
    "# PROJECT NAME"
   ]
  },
  {
   "cell_type": "markdown",
   "metadata": {},
   "source": [
    "### PROJECT MEMBERS"
   ]
  },
  {
   "cell_type": "code",
   "execution_count": 182,
   "metadata": {},
   "outputs": [],
   "source": [
    "#Research Question and Background\n",
    "#Hypothesis"
   ]
  },
  {
   "cell_type": "markdown",
   "metadata": {},
   "source": [
    "# Overall question\n",
    "- Does emotion(postive/negative) influence reaction time\n",
    "    - fear\n",
    "- Does isolation affect emotion\n",
    "- Emotion and memory\n",
    "    - Happy, sad, fear, sentimental, bored, depression\n",
    "    - Does music help\n",
    "    - Does being happy/sad/mad help\n",
    "    - Enviornment \n",
    "        - Loction of learning, learning at school Environment help retain knowledge \n",
    "            -Does the emotion in that environment affect it\n",
    "        - How well can people adapt to forced learning measures\n",
    "        - \n",
    "     - Does body posture affect memory\n",
    "     - Do drugs imporve memory\n",
    "         - Does time of consumtion matter\n",
    "     - \n",
    "             \n",
    "    \n",
    "- Emotion and music"
   ]
  },
  {
   "cell_type": "markdown",
   "metadata": {},
   "source": [
    "# Emotions that we want to look at:\n",
    "- FEAR\n",
    "- ANGER\n",
    "- SADNESS\n",
    "- SENTIMENTAL\n",
    "\n",
    "# Regions in the brain we want to look at:\n",
    "- Amygdala\n",
    "- Temporal lobe\n",
    "- Prefrontal Cortex\n",
    "- Hippocampus\n"
   ]
  },
  {
   "cell_type": "markdown",
   "metadata": {},
   "source": [
    "# I. Set Up"
   ]
  },
  {
   "cell_type": "code",
   "execution_count": 183,
   "metadata": {
    "scrolled": true
   },
   "outputs": [],
   "source": [
    "from lisc import Counts\n",
    "from lisc.utils.db import SCDB\n",
    "from lisc.plts.counts import *\n",
    "import pandas as pd\n",
    "from vaderSentiment.vaderSentiment import SentimentIntensityAnalyzer\n",
    "import numpy as np\n",
    "import matplotlib.pyplot as plt\n",
    "import seaborn as sns\n",
    "\n",
    "#Data Import\n",
    "hippDf = pd.read_csv('hippoCorpusV2.csv')\n",
    "islandersDf = pd.read_csv('Islander_data.csv')"
   ]
  },
  {
   "cell_type": "markdown",
   "metadata": {},
   "source": [
    "### 1a. Text Mining"
   ]
  },
  {
   "cell_type": "code",
   "execution_count": 184,
   "metadata": {},
   "outputs": [
    {
     "name": "stdout",
     "output_type": "stream",
     "text": [
      "Running counts for:  \"fear\"\n",
      "Running counts for:  \"anger\"\n",
      "Running counts for:  \"sadness\"\n",
      "Running counts for:  \"sentimental\"\n",
      "The number of documents found for each search term is:\n",
      "  '\"fear\"'          -   76067\n",
      "  '\"anger\"'         -   16773\n",
      "  '\"sadness\"'       -    6468\n",
      "  '\"sentimental\"'   -     236\n"
     ]
    }
   ],
   "source": [
    "#First term list we are searching for\n",
    "terms_a = [['\"fear\"'], ['\"anger\"'], ['\"sadness\"'], ['\"sentimental\"']]\n",
    "\n",
    "# Initialize counts object and use the add_terms method to add terms that we want to search\n",
    "counts = Counts()\n",
    "counts.add_terms(terms_a)\n",
    "\n",
    "# Collect data using the run_collection method\n",
    "counts.run_collection(verbose=True, db='pubmed', field='tiab')\n",
    "\n",
    "# Check how many articles were found for each search term\n",
    "counts.check_counts()"
   ]
  },
  {
   "cell_type": "code",
   "execution_count": 185,
   "metadata": {},
   "outputs": [
    {
     "data": {
      "text/plain": [
       "array([[   0, 2976, 1956,   11],\n",
       "       [2976,    0, 2420,    4],\n",
       "       [1956, 2420,    0,    2],\n",
       "       [  11,    4,    2,    0]])"
      ]
     },
     "execution_count": 185,
     "metadata": {},
     "output_type": "execute_result"
    }
   ],
   "source": [
    "counts.counts"
   ]
  },
  {
   "cell_type": "code",
   "execution_count": 186,
   "metadata": {},
   "outputs": [
    {
     "name": "stdout",
     "output_type": "stream",
     "text": [
      "Running counts for:  \"amygdala\"\n",
      "Running counts for:  \"temporal lobe\"\n",
      "Running counts for:  \"prefrontal cortex\"\n",
      "Running counts for:  \"hippocampus\"\n",
      "The number of documents found for each search term is:\n",
      "  '\"amygdala\"'            -    38280\n",
      "  '\"temporal lobe\"'       -    34556\n",
      "  '\"prefrontal cortex\"'   -    52548\n",
      "  '\"hippocampus\"'         -   119619\n"
     ]
    }
   ],
   "source": [
    "#Second term list we are searching for\n",
    "terms_b = [['\"amygdala\"'], ['\"temporal lobe\"'], ['\"prefrontal cortex\"'], ['\"hippocampus\"']]\n",
    "\n",
    "# Initialize counts object and use the add_terms method to add terms that we want to search\n",
    "counts2 = Counts()\n",
    "counts2.add_terms(terms_b)\n",
    "\n",
    "# Collect data using the run_collection method\n",
    "counts2.run_collection(verbose=True, db='pubmed', field='tiab')\n",
    "\n",
    "# Check how many articles were found for each search term\n",
    "counts2.check_counts()"
   ]
  },
  {
   "cell_type": "code",
   "execution_count": 187,
   "metadata": {},
   "outputs": [
    {
     "data": {
      "text/plain": [
       "array([[    0,  2287,  6600, 11843],\n",
       "       [ 2287,     0,  1659,  6509],\n",
       "       [ 6600,  1659,     0,  8860],\n",
       "       [11843,  6509,  8860,     0]])"
      ]
     },
     "execution_count": 187,
     "metadata": {},
     "output_type": "execute_result"
    }
   ],
   "source": [
    "counts2.counts"
   ]
  },
  {
   "cell_type": "code",
   "execution_count": 188,
   "metadata": {},
   "outputs": [
    {
     "name": "stdout",
     "output_type": "stream",
     "text": [
      "Running counts for:  \"amygdala\"\n",
      "Running counts for:  \"hippocampus\"\n",
      "Running counts for:  \"fear\"\n",
      "Running counts for:  \"anger\"\n",
      "The number of documents found for each search term is:\n",
      "  '\"amygdala\"'      -    38280\n",
      "  '\"hippocampus\"'   -   119619\n",
      "  '\"fear\"'          -    76067\n",
      "  '\"anger\"'         -    16773\n"
     ]
    }
   ],
   "source": [
    "#Third term list we are searching for\n",
    "terms_c = [['\"amygdala\"'], ['\"hippocampus\"'],['\"fear\"'], ['\"anger\"']]\n",
    "\n",
    "# Initialize counts object and use the add_terms method to add terms that we want to search\n",
    "counts3 = Counts()\n",
    "counts3.add_terms(terms_c)\n",
    "\n",
    "# Collect data using the run_collection method\n",
    "counts3.run_collection(verbose=True, db='pubmed', field='tiab')\n",
    "\n",
    "# Check how many articles were found for each search term\n",
    "counts3.check_counts()"
   ]
  },
  {
   "cell_type": "code",
   "execution_count": 189,
   "metadata": {},
   "outputs": [
    {
     "name": "stdout",
     "output_type": "stream",
     "text": [
      "Running counts for:  \"amygdala\"\n",
      "Running counts for:  \"prefrontal cortex\"\n",
      "Running counts for:  \"fear\"\n",
      "Running counts for:  \"attention\"\n",
      "The number of documents found for each search term is:\n",
      "  '\"amygdala\"'            -    38280\n",
      "  '\"prefrontal cortex\"'   -    52548\n",
      "  '\"fear\"'                -    76067\n",
      "  '\"attention\"'           -   478979\n"
     ]
    }
   ],
   "source": [
    "#Fourth term list we are searching for\n",
    "terms_d = [['\"amygdala\"'], ['\"prefrontal cortex\"'],['\"fear\"'], ['\"attention\"']]\n",
    "\n",
    "# Initialize counts object and use the add_terms method to add terms that we want to search\n",
    "counts4 = Counts()\n",
    "counts4.add_terms(terms_d)\n",
    "\n",
    "# Collect data using the run_collection method\n",
    "counts4.run_collection(verbose=True, db='pubmed', field='tiab')\n",
    "\n",
    "# Check how many articles were found for each search term\n",
    "counts4.check_counts()"
   ]
  },
  {
   "cell_type": "code",
   "execution_count": 190,
   "metadata": {},
   "outputs": [
    {
     "data": {
      "text/plain": [
       "array([[   0, 6600, 5171, 1680],\n",
       "       [6600,    0, 2100, 5085],\n",
       "       [5171, 2100,    0, 3863],\n",
       "       [1680, 5085, 3863,    0]])"
      ]
     },
     "execution_count": 190,
     "metadata": {},
     "output_type": "execute_result"
    }
   ],
   "source": [
    "counts4.counts"
   ]
  },
  {
   "cell_type": "markdown",
   "metadata": {},
   "source": [
    "# II. Data Cleaning"
   ]
  },
  {
   "cell_type": "markdown",
   "metadata": {},
   "source": [
    "\n",
    "Going to focus on these columns and check for null values:\n",
    "- annotatorAge: Lower limit of the age bucket of the worker.\n",
    "  Buckets are: 18-24, 25-29, 30-34, 35-39, 40-44, 45-49, 50-54,55+\n",
    "  \n",
    "- story: Story about the imagined or recalled event (15-25     sentences)\n",
    "- distracted: How distracted were you while writing your story? (5-point Likert)\n",
    "\n",
    "- draining: How taxing/draining was writing for you emotionally? (5-point Likert)\n",
    "\n",
    "- frequency: How often do you think about or talk about this event? (5-point Likert)\n",
    "\n",
    "- importance: How impactful, important, or personal is this story/event to you? (5-point Likert)\n",
    "\n",
    "- logTimeSinceEvent: Log of time (days) since the recalled event happened\n",
    "\n",
    "- mainEvent: Short phrase describing the main event described\n",
    "\n",
    "- similarity: How similar to your life does this event/story feel to you? (5-point Likert)\n",
    "\n",
    "- stressful: How stressful was this writing task? (5-point Likert)\n",
    "\n",
    "- summary: Summary of the events in the story (1-3 sentences)\n",
    "\n",
    "- timeSinceEvent: Time (number of days) since the recalled event happened"
   ]
  },
  {
   "cell_type": "code",
   "execution_count": 191,
   "metadata": {},
   "outputs": [
    {
     "name": "stdout",
     "output_type": "stream",
     "text": [
      "AnnotatorAge null values ...  True\n",
      "Story null values ...         False\n",
      "Distracted null values ...    False\n",
      "Draining null values ...      False\n",
      "Frequency null values ...     True\n",
      "Importance null values ...    True\n",
      "LTSinceEvent null values ...  False\n",
      "Similarity null values ...    True\n",
      "Stressful null values ...     False\n",
      "TimeSinceEvent null values .. False\n"
     ]
    }
   ],
   "source": [
    "#Check for null values, if null value found returns True\n",
    "print('AnnotatorAge null values ... ',hippDf['annotatorAge'].isnull().values.any())\n",
    "print('Story null values ...        ',hippDf['story'].isnull().values.any())\n",
    "print('Distracted null values ...   ', hippDf['distracted'].isnull().values.any())\n",
    "print('Draining null values ...     ', hippDf['draining'].isnull().values.any())\n",
    "print('Frequency null values ...    ', hippDf['frequency'].isnull().values.any())\n",
    "print('Importance null values ...   ', hippDf['importance'].isnull().values.any())\n",
    "print('LTSinceEvent null values ... ', hippDf['logTimeSinceEvent'].isnull().values.any())\n",
    "print('Similarity null values ...   ', hippDf['similarity'].isnull().values.any())\n",
    "print('Stressful null values ...    ', hippDf['stressful'].isnull().values.any())\n",
    "print('TimeSinceEvent null values ..', hippDf['timeSinceEvent'].isnull().values.any())\n"
   ]
  },
  {
   "cell_type": "markdown",
   "metadata": {},
   "source": [
    "As we can see there are some null values so lets remove all those rows that contain a null value in these columns. However ordinal valued columns are the ones we need to insure have no NaN values. So we will remove rows that contain NaN values from the AnnotatorAge column. Later on we will look into the NaN values for frequency and importance as these varry based on their groups"
   ]
  },
  {
   "cell_type": "code",
   "execution_count": 192,
   "metadata": {},
   "outputs": [],
   "source": [
    "noNaNHippDf = hippDf.dropna(subset=['annotatorAge'])\n"
   ]
  },
  {
   "cell_type": "code",
   "execution_count": 193,
   "metadata": {},
   "outputs": [
    {
     "data": {
      "text/plain": [
       "array([25., 35., 30., 18., 50., 40., 45., 55.])"
      ]
     },
     "execution_count": 193,
     "metadata": {},
     "output_type": "execute_result"
    }
   ],
   "source": [
    "noNaNHippDf['annotatorAge'].unique()"
   ]
  },
  {
   "cell_type": "markdown",
   "metadata": {},
   "source": [
    "\n",
    "From this, we can see that there are 8 unique age variables. For this project, we will classify the age bucket 18 and 25 as 'Youth', 30,35,40 as 'Adults', and 45,50,55 as 'Seniors' into a new column called \"AgeGroup\""
   ]
  },
  {
   "cell_type": "code",
   "execution_count": 194,
   "metadata": {},
   "outputs": [],
   "source": [
    "#Categorizes annotatorAge into different age groups\n",
    "def ageGroup(row):\n",
    "    if row['annotatorAge'] == 18 or row['annotatorAge'] == 25:\n",
    "        return 'Youth'\n",
    "    elif row['annotatorAge'] == 30 or row['annotatorAge'] == 35 or row['annotatorAge'] == 40:\n",
    "        return 'Adult'\n",
    "    elif row['annotatorAge'] == 45 or row['annotatorAge'] == 50 or row['annotatorAge'] == 55:\n",
    "        return 'Senior'\n",
    "    else:\n",
    "        return None"
   ]
  },
  {
   "cell_type": "code",
   "execution_count": 195,
   "metadata": {},
   "outputs": [
    {
     "data": {
      "text/plain": [
       "0        Youth\n",
       "1        Youth\n",
       "2        Adult\n",
       "3        Adult\n",
       "4        Youth\n",
       "         ...  \n",
       "6849     Adult\n",
       "6850     Youth\n",
       "6851     Adult\n",
       "6852     Adult\n",
       "6853    Senior\n",
       "Length: 6831, dtype: object"
      ]
     },
     "execution_count": 195,
     "metadata": {},
     "output_type": "execute_result"
    }
   ],
   "source": [
    "ageKey = noNaNHippDf.apply(lambda row: ageGroup(row),axis=1)\n",
    "ageKey"
   ]
  },
  {
   "cell_type": "code",
   "execution_count": 196,
   "metadata": {},
   "outputs": [
    {
     "name": "stderr",
     "output_type": "stream",
     "text": [
      "C:\\Users\\kstev\\AppData\\Local\\Temp\\ipykernel_29908\\2312913534.py:1: SettingWithCopyWarning: \n",
      "A value is trying to be set on a copy of a slice from a DataFrame.\n",
      "Try using .loc[row_indexer,col_indexer] = value instead\n",
      "\n",
      "See the caveats in the documentation: https://pandas.pydata.org/pandas-docs/stable/user_guide/indexing.html#returning-a-view-versus-a-copy\n",
      "  noNaNHippDf['AgeGroup'] = ageKey\n"
     ]
    }
   ],
   "source": [
    "noNaNHippDf['AgeGroup'] = ageKey\n"
   ]
  },
  {
   "cell_type": "code",
   "execution_count": 197,
   "metadata": {},
   "outputs": [
    {
     "data": {
      "text/plain": [
       "array(['Youth', 'Adult', 'Senior'], dtype=object)"
      ]
     },
     "execution_count": 197,
     "metadata": {},
     "output_type": "execute_result"
    }
   ],
   "source": [
    "noNaNHippDf['AgeGroup'].unique()"
   ]
  },
  {
   "cell_type": "code",
   "execution_count": 198,
   "metadata": {},
   "outputs": [],
   "source": [
    "recalled_df = noNaNHippDf[noNaNHippDf['memType']==\"recalled\"]\n",
    "imagined_df = noNaNHippDf[noNaNHippDf['memType']==\"imagined\"]\n",
    "retold_df = noNaNHippDf[noNaNHippDf['memType']==\"retold\"]\n"
   ]
  },
  {
   "cell_type": "markdown",
   "metadata": {},
   "source": [
    "Going to focus on these columns:\n",
    "- annotatorAge: Lower limit of the age bucket of the worker.\n",
    "  Buckets are: 18-24, 25-29, 30-34, 35-39, 40-44, 45-49, 50-54,55+\n",
    "  \n",
    "- story: Story about the imagined or recalled event (15-25     sentences)\n",
    "- distracted: How distracted were you while writing your story? (5-point Likert)\n",
    "\n",
    "- draining: How taxing/draining was writing for you emotionally? (5-point Likert)\n",
    "\n",
    "- frequency: How often do you think about or talk about this event? (5-point Likert)\n",
    "\n",
    "- importance: How impactful, important, or personal is this story/event to you? (5-point Likert)\n",
    "\n",
    "- logTimeSinceEvent: Log of time (days) since the recalled event happened\n",
    "\n",
    "- mainEvent: Short phrase describing the main event described\n",
    "\n",
    "- similarity: How similar to your life does this event/story feel to you? (5-point Likert)\n",
    "\n",
    "- stressful: How stressful was this writing task? (5-point Likert)\n",
    "\n",
    "- summary: Summary of the events in the story (1-3 sentences)\n",
    "\n",
    "- timeSinceEvent: Time (number of days) since the recalled event happened\n",
    "\n"
   ]
  },
  {
   "cell_type": "markdown",
   "metadata": {},
   "source": [
    "## Splitting data by group\n",
    "Splitting the data with the memType column with \"recalled\",\"imagined\", and \"retold\""
   ]
  },
  {
   "cell_type": "code",
   "execution_count": 199,
   "metadata": {},
   "outputs": [],
   "source": [
    "newRecalled = recalled_df[['annotatorAge','story','distracted','draining','frequency',\n",
    "                                         'importance','logTimeSinceEvent','mainEvent','similarity',\n",
    "                                         'stressful','summary','timeSinceEvent','AgeGroup']]\n",
    "newImagined = imagined_df[['annotatorAge','story','distracted','draining','frequency',\n",
    "                                         'importance','logTimeSinceEvent','mainEvent','similarity',\n",
    "                                         'stressful','summary','timeSinceEvent','AgeGroup']]\n",
    "newRetold = retold_df[['annotatorAge','story','distracted','draining','frequency',\n",
    "                                         'importance','logTimeSinceEvent','mainEvent','similarity',\n",
    "                                         'stressful','summary','timeSinceEvent','AgeGroup']]"
   ]
  },
  {
   "cell_type": "markdown",
   "metadata": {},
   "source": [
    "From this, we can see that there are 8 unique age variables. For this project, we will classify the ages 0-18 as 'Youth', 19-49 as 'Adults', and 50+ as 'Seniors' into a new column called \"AgeGroup\""
   ]
  },
  {
   "cell_type": "markdown",
   "metadata": {},
   "source": [
    "Dropped all null values in case it could affect our analysis"
   ]
  },
  {
   "cell_type": "markdown",
   "metadata": {},
   "source": [
    "# III. Exploratory Data Analysis"
   ]
  },
  {
   "cell_type": "markdown",
   "metadata": {},
   "source": [
    "### IIIa. Sentiment Analysis For Recalled"
   ]
  },
  {
   "cell_type": "code",
   "execution_count": 200,
   "metadata": {},
   "outputs": [
    {
     "data": {
      "text/html": [
       "<div>\n",
       "<style scoped>\n",
       "    .dataframe tbody tr th:only-of-type {\n",
       "        vertical-align: middle;\n",
       "    }\n",
       "\n",
       "    .dataframe tbody tr th {\n",
       "        vertical-align: top;\n",
       "    }\n",
       "\n",
       "    .dataframe thead th {\n",
       "        text-align: right;\n",
       "    }\n",
       "</style>\n",
       "<table border=\"1\" class=\"dataframe\">\n",
       "  <thead>\n",
       "    <tr style=\"text-align: right;\">\n",
       "      <th></th>\n",
       "      <th>annotatorAge</th>\n",
       "      <th>story</th>\n",
       "      <th>distracted</th>\n",
       "      <th>draining</th>\n",
       "      <th>frequency</th>\n",
       "      <th>importance</th>\n",
       "      <th>logTimeSinceEvent</th>\n",
       "      <th>mainEvent</th>\n",
       "      <th>similarity</th>\n",
       "      <th>stressful</th>\n",
       "      <th>summary</th>\n",
       "      <th>timeSinceEvent</th>\n",
       "      <th>AgeGroup</th>\n",
       "    </tr>\n",
       "  </thead>\n",
       "  <tbody>\n",
       "    <tr>\n",
       "      <th>1</th>\n",
       "      <td>25.0</td>\n",
       "      <td>The day started perfectly, with a great drive ...</td>\n",
       "      <td>1.0</td>\n",
       "      <td>1.0</td>\n",
       "      <td>3.0</td>\n",
       "      <td>4.0</td>\n",
       "      <td>4.499810</td>\n",
       "      <td>a concert.</td>\n",
       "      <td>NaN</td>\n",
       "      <td>1.0</td>\n",
       "      <td>My boyfriend and I went to a concert together ...</td>\n",
       "      <td>90.0</td>\n",
       "      <td>Youth</td>\n",
       "    </tr>\n",
       "    <tr>\n",
       "      <th>3</th>\n",
       "      <td>30.0</td>\n",
       "      <td>Five months ago, my niece and nephew were born...</td>\n",
       "      <td>1.0</td>\n",
       "      <td>4.0</td>\n",
       "      <td>3.0</td>\n",
       "      <td>5.0</td>\n",
       "      <td>5.010635</td>\n",
       "      <td>meeting my twin niece and nephew.</td>\n",
       "      <td>NaN</td>\n",
       "      <td>2.0</td>\n",
       "      <td>My sister gave birth to my twin niece and neph...</td>\n",
       "      <td>150.0</td>\n",
       "      <td>Adult</td>\n",
       "    </tr>\n",
       "    <tr>\n",
       "      <th>5</th>\n",
       "      <td>35.0</td>\n",
       "      <td>Burning Man metamorphoses was perfect. I am de...</td>\n",
       "      <td>1.0</td>\n",
       "      <td>1.0</td>\n",
       "      <td>5.0</td>\n",
       "      <td>5.0</td>\n",
       "      <td>3.401197</td>\n",
       "      <td>about my journey this year to Burning Man meta...</td>\n",
       "      <td>NaN</td>\n",
       "      <td>1.0</td>\n",
       "      <td>It is always a journey for me to go to burning...</td>\n",
       "      <td>30.0</td>\n",
       "      <td>Adult</td>\n",
       "    </tr>\n",
       "    <tr>\n",
       "      <th>7</th>\n",
       "      <td>18.0</td>\n",
       "      <td>Dear Diary,I would say this happened about 3 m...</td>\n",
       "      <td>1.0</td>\n",
       "      <td>4.0</td>\n",
       "      <td>5.0</td>\n",
       "      <td>5.0</td>\n",
       "      <td>4.499810</td>\n",
       "      <td>a bad driving experience on the way to Acadia ...</td>\n",
       "      <td>NaN</td>\n",
       "      <td>1.0</td>\n",
       "      <td>What happened is that I was on a trip with my ...</td>\n",
       "      <td>90.0</td>\n",
       "      <td>Youth</td>\n",
       "    </tr>\n",
       "    <tr>\n",
       "      <th>10</th>\n",
       "      <td>25.0</td>\n",
       "      <td>About a month ago me and my girlfriend went to...</td>\n",
       "      <td>1.0</td>\n",
       "      <td>1.0</td>\n",
       "      <td>2.0</td>\n",
       "      <td>3.0</td>\n",
       "      <td>3.401197</td>\n",
       "      <td>a trip to the zoo.</td>\n",
       "      <td>NaN</td>\n",
       "      <td>1.0</td>\n",
       "      <td>Me and my girlfriend went to the zoo on a hot ...</td>\n",
       "      <td>30.0</td>\n",
       "      <td>Youth</td>\n",
       "    </tr>\n",
       "    <tr>\n",
       "      <th>...</th>\n",
       "      <td>...</td>\n",
       "      <td>...</td>\n",
       "      <td>...</td>\n",
       "      <td>...</td>\n",
       "      <td>...</td>\n",
       "      <td>...</td>\n",
       "      <td>...</td>\n",
       "      <td>...</td>\n",
       "      <td>...</td>\n",
       "      <td>...</td>\n",
       "      <td>...</td>\n",
       "      <td>...</td>\n",
       "      <td>...</td>\n",
       "    </tr>\n",
       "    <tr>\n",
       "      <th>6849</th>\n",
       "      <td>30.0</td>\n",
       "      <td>My dog was diagnosed with lymphoma a year ago ...</td>\n",
       "      <td>3.0</td>\n",
       "      <td>5.0</td>\n",
       "      <td>3.0</td>\n",
       "      <td>5.0</td>\n",
       "      <td>5.010635</td>\n",
       "      <td>losing and finding a pet.</td>\n",
       "      <td>NaN</td>\n",
       "      <td>5.0</td>\n",
       "      <td>My dog, who had lymphoma, was suffering so I h...</td>\n",
       "      <td>150.0</td>\n",
       "      <td>Adult</td>\n",
       "    </tr>\n",
       "    <tr>\n",
       "      <th>6850</th>\n",
       "      <td>18.0</td>\n",
       "      <td>Over my vacation from my job, I went to Casper...</td>\n",
       "      <td>4.0</td>\n",
       "      <td>2.0</td>\n",
       "      <td>4.0</td>\n",
       "      <td>2.0</td>\n",
       "      <td>6.345636</td>\n",
       "      <td>about a vacation event worked on</td>\n",
       "      <td>NaN</td>\n",
       "      <td>5.0</td>\n",
       "      <td>On vacation, a side job was taken to plan an e...</td>\n",
       "      <td>570.0</td>\n",
       "      <td>Youth</td>\n",
       "    </tr>\n",
       "    <tr>\n",
       "      <th>6851</th>\n",
       "      <td>35.0</td>\n",
       "      <td>This event was a birthday party for my nephew....</td>\n",
       "      <td>1.0</td>\n",
       "      <td>2.0</td>\n",
       "      <td>2.0</td>\n",
       "      <td>4.0</td>\n",
       "      <td>3.044522</td>\n",
       "      <td>my nephew's birthday party</td>\n",
       "      <td>NaN</td>\n",
       "      <td>2.0</td>\n",
       "      <td>This was a birthday party for my nephew that h...</td>\n",
       "      <td>21.0</td>\n",
       "      <td>Adult</td>\n",
       "    </tr>\n",
       "    <tr>\n",
       "      <th>6852</th>\n",
       "      <td>30.0</td>\n",
       "      <td>This event occurred about two weeks ago. I was...</td>\n",
       "      <td>1.0</td>\n",
       "      <td>1.0</td>\n",
       "      <td>3.0</td>\n",
       "      <td>3.0</td>\n",
       "      <td>2.639057</td>\n",
       "      <td>my cousin's birthday</td>\n",
       "      <td>NaN</td>\n",
       "      <td>2.0</td>\n",
       "      <td>It was my little cousin's birthday and went to...</td>\n",
       "      <td>14.0</td>\n",
       "      <td>Adult</td>\n",
       "    </tr>\n",
       "    <tr>\n",
       "      <th>6853</th>\n",
       "      <td>45.0</td>\n",
       "      <td>Over the past year I have been involved with a...</td>\n",
       "      <td>1.0</td>\n",
       "      <td>5.0</td>\n",
       "      <td>4.0</td>\n",
       "      <td>5.0</td>\n",
       "      <td>3.891820</td>\n",
       "      <td>building trust in the best interest of a child.</td>\n",
       "      <td>NaN</td>\n",
       "      <td>4.0</td>\n",
       "      <td>My daughter had my granddaughter removed from ...</td>\n",
       "      <td>49.0</td>\n",
       "      <td>Senior</td>\n",
       "    </tr>\n",
       "  </tbody>\n",
       "</table>\n",
       "<p>2770 rows × 13 columns</p>\n",
       "</div>"
      ],
      "text/plain": [
       "      annotatorAge                                              story  \\\n",
       "1             25.0  The day started perfectly, with a great drive ...   \n",
       "3             30.0  Five months ago, my niece and nephew were born...   \n",
       "5             35.0  Burning Man metamorphoses was perfect. I am de...   \n",
       "7             18.0  Dear Diary,I would say this happened about 3 m...   \n",
       "10            25.0  About a month ago me and my girlfriend went to...   \n",
       "...            ...                                                ...   \n",
       "6849          30.0  My dog was diagnosed with lymphoma a year ago ...   \n",
       "6850          18.0  Over my vacation from my job, I went to Casper...   \n",
       "6851          35.0  This event was a birthday party for my nephew....   \n",
       "6852          30.0  This event occurred about two weeks ago. I was...   \n",
       "6853          45.0  Over the past year I have been involved with a...   \n",
       "\n",
       "      distracted  draining  frequency  importance  logTimeSinceEvent  \\\n",
       "1            1.0       1.0        3.0         4.0           4.499810   \n",
       "3            1.0       4.0        3.0         5.0           5.010635   \n",
       "5            1.0       1.0        5.0         5.0           3.401197   \n",
       "7            1.0       4.0        5.0         5.0           4.499810   \n",
       "10           1.0       1.0        2.0         3.0           3.401197   \n",
       "...          ...       ...        ...         ...                ...   \n",
       "6849         3.0       5.0        3.0         5.0           5.010635   \n",
       "6850         4.0       2.0        4.0         2.0           6.345636   \n",
       "6851         1.0       2.0        2.0         4.0           3.044522   \n",
       "6852         1.0       1.0        3.0         3.0           2.639057   \n",
       "6853         1.0       5.0        4.0         5.0           3.891820   \n",
       "\n",
       "                                              mainEvent  similarity  \\\n",
       "1                                            a concert.         NaN   \n",
       "3                     meeting my twin niece and nephew.         NaN   \n",
       "5     about my journey this year to Burning Man meta...         NaN   \n",
       "7     a bad driving experience on the way to Acadia ...         NaN   \n",
       "10                                   a trip to the zoo.         NaN   \n",
       "...                                                 ...         ...   \n",
       "6849                          losing and finding a pet.         NaN   \n",
       "6850                   about a vacation event worked on         NaN   \n",
       "6851                         my nephew's birthday party         NaN   \n",
       "6852                               my cousin's birthday         NaN   \n",
       "6853    building trust in the best interest of a child.         NaN   \n",
       "\n",
       "      stressful                                            summary  \\\n",
       "1           1.0  My boyfriend and I went to a concert together ...   \n",
       "3           2.0  My sister gave birth to my twin niece and neph...   \n",
       "5           1.0  It is always a journey for me to go to burning...   \n",
       "7           1.0  What happened is that I was on a trip with my ...   \n",
       "10          1.0  Me and my girlfriend went to the zoo on a hot ...   \n",
       "...         ...                                                ...   \n",
       "6849        5.0  My dog, who had lymphoma, was suffering so I h...   \n",
       "6850        5.0  On vacation, a side job was taken to plan an e...   \n",
       "6851        2.0  This was a birthday party for my nephew that h...   \n",
       "6852        2.0  It was my little cousin's birthday and went to...   \n",
       "6853        4.0  My daughter had my granddaughter removed from ...   \n",
       "\n",
       "      timeSinceEvent AgeGroup  \n",
       "1               90.0    Youth  \n",
       "3              150.0    Adult  \n",
       "5               30.0    Adult  \n",
       "7               90.0    Youth  \n",
       "10              30.0    Youth  \n",
       "...              ...      ...  \n",
       "6849           150.0    Adult  \n",
       "6850           570.0    Youth  \n",
       "6851            21.0    Adult  \n",
       "6852            14.0    Adult  \n",
       "6853            49.0   Senior  \n",
       "\n",
       "[2770 rows x 13 columns]"
      ]
     },
     "execution_count": 200,
     "metadata": {},
     "output_type": "execute_result"
    }
   ],
   "source": [
    "newRecalled"
   ]
  },
  {
   "cell_type": "code",
   "execution_count": 201,
   "metadata": {},
   "outputs": [],
   "source": [
    "def sentScore(dataFrame):\n",
    "    s_score = []\n",
    "    s_rating = []\n",
    "    sentiment_obj = SentimentIntensityAnalyzer()\n",
    "    for i in range(len(dataFrame)):\n",
    "        s_score.append(sentiment_obj.polarity_scores(dataFrame.iloc[i,1]))\n",
    "        comp_score = s_score[i]['compound']\n",
    "        if comp_score > 0.05:\n",
    "            s_rating.append(\"Positive\")\n",
    "        elif comp_score <= -0.05:\n",
    "            s_rating.append(\"Negative\")\n",
    "        else:\n",
    "            s_rating.append(\"Neutral\")\n",
    "    return [s_score, s_rating]"
   ]
  },
  {
   "cell_type": "code",
   "execution_count": 202,
   "metadata": {},
   "outputs": [],
   "source": [
    "recalledSentValues = sentScore(newRecalled)"
   ]
  },
  {
   "cell_type": "code",
   "execution_count": 203,
   "metadata": {},
   "outputs": [
    {
     "name": "stderr",
     "output_type": "stream",
     "text": [
      "C:\\Users\\kstev\\AppData\\Local\\Temp\\ipykernel_29908\\1647381943.py:1: SettingWithCopyWarning: \n",
      "A value is trying to be set on a copy of a slice from a DataFrame.\n",
      "Try using .loc[row_indexer,col_indexer] = value instead\n",
      "\n",
      "See the caveats in the documentation: https://pandas.pydata.org/pandas-docs/stable/user_guide/indexing.html#returning-a-view-versus-a-copy\n",
      "  newRecalled['sentiment_score'] = recalledSentValues[0]\n",
      "C:\\Users\\kstev\\AppData\\Local\\Temp\\ipykernel_29908\\1647381943.py:2: SettingWithCopyWarning: \n",
      "A value is trying to be set on a copy of a slice from a DataFrame.\n",
      "Try using .loc[row_indexer,col_indexer] = value instead\n",
      "\n",
      "See the caveats in the documentation: https://pandas.pydata.org/pandas-docs/stable/user_guide/indexing.html#returning-a-view-versus-a-copy\n",
      "  newRecalled['sentiment'] = recalledSentValues[1]\n"
     ]
    }
   ],
   "source": [
    "newRecalled['sentiment_score'] = recalledSentValues[0]\n",
    "newRecalled['sentiment'] = recalledSentValues[1]\n"
   ]
  },
  {
   "cell_type": "code",
   "execution_count": 204,
   "metadata": {},
   "outputs": [
    {
     "data": {
      "text/html": [
       "<div>\n",
       "<style scoped>\n",
       "    .dataframe tbody tr th:only-of-type {\n",
       "        vertical-align: middle;\n",
       "    }\n",
       "\n",
       "    .dataframe tbody tr th {\n",
       "        vertical-align: top;\n",
       "    }\n",
       "\n",
       "    .dataframe thead th {\n",
       "        text-align: right;\n",
       "    }\n",
       "</style>\n",
       "<table border=\"1\" class=\"dataframe\">\n",
       "  <thead>\n",
       "    <tr style=\"text-align: right;\">\n",
       "      <th></th>\n",
       "      <th>annotatorAge</th>\n",
       "      <th>story</th>\n",
       "      <th>distracted</th>\n",
       "      <th>draining</th>\n",
       "      <th>frequency</th>\n",
       "      <th>importance</th>\n",
       "      <th>logTimeSinceEvent</th>\n",
       "      <th>mainEvent</th>\n",
       "      <th>similarity</th>\n",
       "      <th>stressful</th>\n",
       "      <th>summary</th>\n",
       "      <th>timeSinceEvent</th>\n",
       "      <th>AgeGroup</th>\n",
       "      <th>sentiment_score</th>\n",
       "      <th>sentiment</th>\n",
       "    </tr>\n",
       "  </thead>\n",
       "  <tbody>\n",
       "    <tr>\n",
       "      <th>1</th>\n",
       "      <td>25.0</td>\n",
       "      <td>The day started perfectly, with a great drive ...</td>\n",
       "      <td>1.0</td>\n",
       "      <td>1.0</td>\n",
       "      <td>3.0</td>\n",
       "      <td>4.0</td>\n",
       "      <td>4.499810</td>\n",
       "      <td>a concert.</td>\n",
       "      <td>NaN</td>\n",
       "      <td>1.0</td>\n",
       "      <td>My boyfriend and I went to a concert together ...</td>\n",
       "      <td>90.0</td>\n",
       "      <td>Youth</td>\n",
       "      <td>{'neg': 0.03, 'neu': 0.704, 'pos': 0.266, 'com...</td>\n",
       "      <td>Positive</td>\n",
       "    </tr>\n",
       "    <tr>\n",
       "      <th>3</th>\n",
       "      <td>30.0</td>\n",
       "      <td>Five months ago, my niece and nephew were born...</td>\n",
       "      <td>1.0</td>\n",
       "      <td>4.0</td>\n",
       "      <td>3.0</td>\n",
       "      <td>5.0</td>\n",
       "      <td>5.010635</td>\n",
       "      <td>meeting my twin niece and nephew.</td>\n",
       "      <td>NaN</td>\n",
       "      <td>2.0</td>\n",
       "      <td>My sister gave birth to my twin niece and neph...</td>\n",
       "      <td>150.0</td>\n",
       "      <td>Adult</td>\n",
       "      <td>{'neg': 0.041, 'neu': 0.794, 'pos': 0.165, 'co...</td>\n",
       "      <td>Positive</td>\n",
       "    </tr>\n",
       "    <tr>\n",
       "      <th>5</th>\n",
       "      <td>35.0</td>\n",
       "      <td>Burning Man metamorphoses was perfect. I am de...</td>\n",
       "      <td>1.0</td>\n",
       "      <td>1.0</td>\n",
       "      <td>5.0</td>\n",
       "      <td>5.0</td>\n",
       "      <td>3.401197</td>\n",
       "      <td>about my journey this year to Burning Man meta...</td>\n",
       "      <td>NaN</td>\n",
       "      <td>1.0</td>\n",
       "      <td>It is always a journey for me to go to burning...</td>\n",
       "      <td>30.0</td>\n",
       "      <td>Adult</td>\n",
       "      <td>{'neg': 0.053, 'neu': 0.825, 'pos': 0.122, 'co...</td>\n",
       "      <td>Positive</td>\n",
       "    </tr>\n",
       "    <tr>\n",
       "      <th>7</th>\n",
       "      <td>18.0</td>\n",
       "      <td>Dear Diary,I would say this happened about 3 m...</td>\n",
       "      <td>1.0</td>\n",
       "      <td>4.0</td>\n",
       "      <td>5.0</td>\n",
       "      <td>5.0</td>\n",
       "      <td>4.499810</td>\n",
       "      <td>a bad driving experience on the way to Acadia ...</td>\n",
       "      <td>NaN</td>\n",
       "      <td>1.0</td>\n",
       "      <td>What happened is that I was on a trip with my ...</td>\n",
       "      <td>90.0</td>\n",
       "      <td>Youth</td>\n",
       "      <td>{'neg': 0.065, 'neu': 0.856, 'pos': 0.079, 'co...</td>\n",
       "      <td>Positive</td>\n",
       "    </tr>\n",
       "    <tr>\n",
       "      <th>10</th>\n",
       "      <td>25.0</td>\n",
       "      <td>About a month ago me and my girlfriend went to...</td>\n",
       "      <td>1.0</td>\n",
       "      <td>1.0</td>\n",
       "      <td>2.0</td>\n",
       "      <td>3.0</td>\n",
       "      <td>3.401197</td>\n",
       "      <td>a trip to the zoo.</td>\n",
       "      <td>NaN</td>\n",
       "      <td>1.0</td>\n",
       "      <td>Me and my girlfriend went to the zoo on a hot ...</td>\n",
       "      <td>30.0</td>\n",
       "      <td>Youth</td>\n",
       "      <td>{'neg': 0.009, 'neu': 0.883, 'pos': 0.108, 'co...</td>\n",
       "      <td>Positive</td>\n",
       "    </tr>\n",
       "  </tbody>\n",
       "</table>\n",
       "</div>"
      ],
      "text/plain": [
       "    annotatorAge                                              story  \\\n",
       "1           25.0  The day started perfectly, with a great drive ...   \n",
       "3           30.0  Five months ago, my niece and nephew were born...   \n",
       "5           35.0  Burning Man metamorphoses was perfect. I am de...   \n",
       "7           18.0  Dear Diary,I would say this happened about 3 m...   \n",
       "10          25.0  About a month ago me and my girlfriend went to...   \n",
       "\n",
       "    distracted  draining  frequency  importance  logTimeSinceEvent  \\\n",
       "1          1.0       1.0        3.0         4.0           4.499810   \n",
       "3          1.0       4.0        3.0         5.0           5.010635   \n",
       "5          1.0       1.0        5.0         5.0           3.401197   \n",
       "7          1.0       4.0        5.0         5.0           4.499810   \n",
       "10         1.0       1.0        2.0         3.0           3.401197   \n",
       "\n",
       "                                            mainEvent  similarity  stressful  \\\n",
       "1                                          a concert.         NaN        1.0   \n",
       "3                   meeting my twin niece and nephew.         NaN        2.0   \n",
       "5   about my journey this year to Burning Man meta...         NaN        1.0   \n",
       "7   a bad driving experience on the way to Acadia ...         NaN        1.0   \n",
       "10                                 a trip to the zoo.         NaN        1.0   \n",
       "\n",
       "                                              summary  timeSinceEvent  \\\n",
       "1   My boyfriend and I went to a concert together ...            90.0   \n",
       "3   My sister gave birth to my twin niece and neph...           150.0   \n",
       "5   It is always a journey for me to go to burning...            30.0   \n",
       "7   What happened is that I was on a trip with my ...            90.0   \n",
       "10  Me and my girlfriend went to the zoo on a hot ...            30.0   \n",
       "\n",
       "   AgeGroup                                    sentiment_score sentiment  \n",
       "1     Youth  {'neg': 0.03, 'neu': 0.704, 'pos': 0.266, 'com...  Positive  \n",
       "3     Adult  {'neg': 0.041, 'neu': 0.794, 'pos': 0.165, 'co...  Positive  \n",
       "5     Adult  {'neg': 0.053, 'neu': 0.825, 'pos': 0.122, 'co...  Positive  \n",
       "7     Youth  {'neg': 0.065, 'neu': 0.856, 'pos': 0.079, 'co...  Positive  \n",
       "10    Youth  {'neg': 0.009, 'neu': 0.883, 'pos': 0.108, 'co...  Positive  "
      ]
     },
     "execution_count": 204,
     "metadata": {},
     "output_type": "execute_result"
    }
   ],
   "source": [
    "newRecalled.head()"
   ]
  },
  {
   "cell_type": "markdown",
   "metadata": {},
   "source": [
    "### IIIb. Visualizations"
   ]
  },
  {
   "cell_type": "code",
   "execution_count": 205,
   "metadata": {},
   "outputs": [
    {
     "data": {
      "image/png": "[encoded data removed]",
      "text/plain": [
       "<Figure size 432x288 with 1 Axes>"
      ]
     },
     "metadata": {
      "needs_background": "light"
     },
     "output_type": "display_data"
    },
    {
     "name": "stdout",
     "output_type": "stream",
     "text": [
      "---------- Positive Stats ----------\n",
      "Age: 18.0 Percentage: 9.019426456984274\n",
      "Age: 25.0 Percentage: 22.849213691026826\n",
      "Age: 30.0 Percentage: 23.496762257169287\n",
      "Age: 35.0 Percentage: 16.23496762257169\n",
      "Age: 40.0 Percentage: 8.741905642923218\n",
      "Age: 45.0 Percentage: 7.030527289546716\n",
      "Age: 50.0 Percentage: 4.4865864939870495\n",
      "Age: 55.0 Percentage: 8.140610545790935\n",
      "---------- Negative Stats ----------\n",
      "Age: 18.0 Percentage: 10.084033613445378\n",
      "Age: 25.0 Percentage: 18.319327731092436\n",
      "Age: 30.0 Percentage: 22.18487394957983\n",
      "Age: 35.0 Percentage: 15.294117647058824\n",
      "Age: 40.0 Percentage: 9.07563025210084\n",
      "Age: 45.0 Percentage: 9.57983193277311\n",
      "Age: 50.0 Percentage: 6.050420168067227\n",
      "Age: 55.0 Percentage: 9.411764705882353\n"
     ]
    }
   ],
   "source": [
    "X = newRecalled['annotatorAge'].unique()\n",
    "X.sort()\n",
    "x_axis = np.arange(len(newRecalled['annotatorAge'].unique()))\n",
    "\n",
    "\n",
    "# Calculate Positive Amount and Percentages\n",
    "positive = []\n",
    "positive_total = 0\n",
    "for x in X:\n",
    "    value = len(newRecalled[(newRecalled['annotatorAge'] == x) & (newRecalled['sentiment'] == 'Positive')])\n",
    "    positive.append(value)\n",
    "    positive_total+=value\n",
    "\n",
    "positive_percentage = []\n",
    "for x in positive:\n",
    "    positive_percentage.append((x/positive_total) * 100)\n",
    "\n",
    "\n",
    "# Calculate Negative Amount and Percentages\n",
    "negative = []\n",
    "negative_total = 0\n",
    "for x in X:\n",
    "    value = len(newRecalled[(newRecalled['annotatorAge'] == x) & (newRecalled['sentiment'] == 'Negative')])\n",
    "    negative.append(value)\n",
    "    negative_total+=value\n",
    "\n",
    "negative_percentage = []\n",
    "for x in negative:\n",
    "    negative_percentage.append((x/negative_total) * 100)\n",
    "\n",
    "plt.xticks(x_axis, X)\n",
    "plt.bar(x_axis + 0.2 ,positive_percentage,0.4,label='Positive')\n",
    "plt.bar(x_axis - 0.2 ,negative_percentage,0.4,label='Negative')\n",
    "plt.ylabel('Percentage of Sentiment')\n",
    "plt.xlabel('Age')\n",
    "plt.title('Recalled Sentiment')\n",
    "plt.legend()\n",
    "plt.show()\n",
    "\n",
    "positive_stats = {}\n",
    "negative_stats = {}\n",
    "index = 0\n",
    "for val in X:\n",
    "    positive_stats[val] = positive_percentage[index]\n",
    "    negative_stats[val] = negative_percentage[index]\n",
    "    index+=1\n",
    "print('---------- Positive Stats ----------')\n",
    "for i in positive_stats:\n",
    "    print(\"Age: {}\".format(i) + \" Percentage: {}\".format(positive_stats[i]))\n",
    "\n",
    "print('---------- Negative Stats ----------')\n",
    "for i in negative_stats:\n",
    "    print(\"Age: {}\".format(i) + \" Percentage: {}\".format(negative_stats[i]))"
   ]
  },
  {
   "cell_type": "markdown",
   "metadata": {},
   "source": [
    "From this graph we can see that..."
   ]
  },
  {
   "cell_type": "code",
   "execution_count": 206,
   "metadata": {},
   "outputs": [
    {
     "name": "stderr",
     "output_type": "stream",
     "text": [
      "C:\\Users\\kstev\\AppData\\Local\\Temp\\ipykernel_29908\\2686234886.py:11: SettingWithCopyWarning: \n",
      "A value is trying to be set on a copy of a slice from a DataFrame.\n",
      "Try using .loc[row_indexer,col_indexer] = value instead\n",
      "\n",
      "See the caveats in the documentation: https://pandas.pydata.org/pandas-docs/stable/user_guide/indexing.html#returning-a-view-versus-a-copy\n",
      "  pos_newRecalled['AgeGroup'] = pd.Categorical(pos_newRecalled['AgeGroup'], ['Youth','Adult','Senior'])\n",
      "C:\\Users\\kstev\\AppData\\Local\\Temp\\ipykernel_29908\\2686234886.py:20: SettingWithCopyWarning: \n",
      "A value is trying to be set on a copy of a slice from a DataFrame.\n",
      "Try using .loc[row_indexer,col_indexer] = value instead\n",
      "\n",
      "See the caveats in the documentation: https://pandas.pydata.org/pandas-docs/stable/user_guide/indexing.html#returning-a-view-versus-a-copy\n",
      "  neg_newRecalled['AgeGroup'] = pd.Categorical(neg_newRecalled['AgeGroup'], ['Youth','Adult','Senior'])\n"
     ]
    },
    {
     "data": {
      "text/plain": [
       "Text(0.5, 1.0, 'Negative Sentiment Observations by Age Group')"
      ]
     },
     "execution_count": 206,
     "metadata": {},
     "output_type": "execute_result"
    },
    {
     "data": {
      "text/plain": [
       "<Figure size 7200x720 with 0 Axes>"
      ]
     },
     "metadata": {},
     "output_type": "display_data"
    },
    {
     "data": {
      "image/png": "[encoded data removed]",
      "text/plain": [
       "<Figure size 720x360 with 2 Axes>"
      ]
     },
     "metadata": {
      "needs_background": "light"
     },
     "output_type": "display_data"
    }
   ],
   "source": [
    "#separate data into positive and negative sentiments\n",
    "pos_newRecalled = newRecalled.loc[newRecalled['sentiment'] == \"Positive\"]\n",
    "neg_newRecalled = newRecalled.loc[newRecalled['sentiment'] == \"Negative\"]\n",
    "\n",
    "#set figure and size\n",
    "plt.figure(figsize=(100,10))\n",
    "fig, axes = plt.subplots(1, 2,figsize=(10,5))\n",
    "fig.tight_layout(w_pad = 10.0)\n",
    "\n",
    "#Positive sentiment graph by age group\n",
    "pos_newRecalled['AgeGroup'] = pd.Categorical(pos_newRecalled['AgeGroup'], ['Youth','Adult','Senior'])\n",
    "pos_graph_2 = sns.histplot(data = pos_newRecalled, x=\"AgeGroup\",hue = \"sentiment\", stat = 'probability', common_norm = 'false', ax=axes[0])\n",
    "for container in pos_graph_2.containers:\n",
    "    pos_graph_2.bar_label(container)\n",
    "\n",
    "pos_graph_2.set(xlabel = 'Age Group')\n",
    "axes[0].set_title(\"Postive Sentiment Observations by Age Group\", fontsize=12)\n",
    "\n",
    "#Negative sentiment graph by age group\n",
    "neg_newRecalled['AgeGroup'] = pd.Categorical(neg_newRecalled['AgeGroup'], ['Youth','Adult','Senior'])\n",
    "neg_graph_2 = sns.histplot(data = neg_newRecalled, x=\"AgeGroup\", hue = \"sentiment\", stat = 'probability', common_norm = 'false', ax=axes[1])\n",
    "for container in neg_graph_2.containers:\n",
    "    neg_graph_2.bar_label(container)\n",
    "\n",
    "neg_graph_2.set(xlabel = 'Age Group')\n",
    "axes[1].set_title(\"Negative Sentiment Observations by Age Group\")"
   ]
  },
  {
   "cell_type": "markdown",
   "metadata": {},
   "source": [
    "Next, we will look at the number of positive, negative, and neutral sentiments between different age groups. We can see that both positive and negative sentiments follow the same trend: Adults with the most observations, followed by Senior, and finally Youth. "
   ]
  },
  {
   "cell_type": "markdown",
   "metadata": {},
   "source": [
    "# IV. Conclusion and Discussion"
   ]
  },
  {
   "cell_type": "code",
   "execution_count": 207,
   "metadata": {},
   "outputs": [],
   "source": [
    "#Conclusion"
   ]
  }
 ],
 "metadata": {
  "interpreter": {
   "hash": "aee8b7b246df8f9039afb4144a1f6fd8d2ca17a180786b69acc140d282b71a49"
  },
  "kernelspec": {
   "display_name": "Python 3 (ipykernel)",
   "language": "python",
   "name": "python3"
  },
  "language_info": {
   "codemirror_mode": {
    "name": "ipython",
    "version": 3
   },
   "file_extension": ".py",
   "mimetype": "text/x-python",
   "name": "python",
   "nbconvert_exporter": "python",
   "pygments_lexer": "ipython3",
   "version": "3.8.5"
  }
 },
 "nbformat": 4,
 "nbformat_minor": 4
}
