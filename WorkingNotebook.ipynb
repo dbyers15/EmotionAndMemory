{
 "cells": [
  {
   "cell_type": "markdown",
   "metadata": {},
   "source": [
    "# Emotion and Memory\n",
    "### Matthew Chong A16156411\n",
    "### Daneil Byers A15396367\n",
    "### Steve Kuk A15521681\n",
    "### Robert Aispuro"
   ]
  },
  {
   "cell_type": "markdown",
   "metadata": {},
   "source": [
    "# I. Introduction and Background"
   ]
  },
  {
   "cell_type": "markdown",
   "metadata": {},
   "source": [
    "### IA. Overview"
   ]
  },
  {
   "cell_type": "markdown",
   "metadata": {},
   "source": [
    "For our project, we wanted to analyze data on individuals ability to comprehend and recall information and see if their ability to execute these task are influenced by positive/negative sentiment. We decided to split the data between age groups and divided them into 3 buckets: 18-25, 30-40, 45-55 as well as splitting the data between 3 columns: recalled, imagined and retold.  We focused on specific columns of information from the dataset  such as age, draining, distracted similarity, etc, that can potentially influence one’s ability to comprehend and recall information.  We took an approach using these variables to simultaneously analyze memory recollection as well as sentiment for individuals."
   ]
  },
  {
   "cell_type": "markdown",
   "metadata": {},
   "source": [
    "### IB. Research Question"
   ]
  },
  {
   "cell_type": "markdown",
   "metadata": {},
   "source": [
    " Does Positive and Negative emotion influence memory(or academic performance) when isolated regardless of environment and regardless of gender?\n",
    "\n"
   ]
  },
  {
   "cell_type": "markdown",
   "metadata": {},
   "source": [
    "### IC. Background & Prior Work"
   ]
  },
  {
   "cell_type": "markdown",
   "metadata": {},
   "source": [
    "Over the past years, student's academic performance have been largly influenced by the pandemic where in-person classes transitioned into online classes. This sudden change either hada positive or negative academic impact, depending on the prefered learning method on the individual. In the research article, \"Integrating students' Perspective about Online Learning: A hierarchy of factors\" by Montgomery Van Wart, they found that the most critical factor of online classes is the \"loss of phsyical interaction\". The loss of physical interaction inturns demands higher level of interactivity and instructional sophistication. Furthermore, how students personally feel about the sudden shift in learning may have an influence in their ability to comprehend and recall information delivered through their computers. The research article, \"Impact of online classes on the satisfaction and performance of students during the pandemic period of COVID-19\" by Ram Gopal, looks at this factor. The study evaluated student's thoughts about how they personally felt about online learning. The found that \"overall students agreed that online teaching was valuable for them\". From this article, it seems that students are satisfied with online learning. Building off of this , in the article, \"The Influence of Virtual Learning Environments in Students' performance\" by Paul Alves, they found that the more access a student has to VLE (Virtual Learning Environments), leads to an increase of the number of units they register, an increase in the number of units they pass, and a decrease in the \"percentage of students who failed all course units\". Thus, not only are students satisfied with online learning, they are also overall better performing in term s of academics. From these articles, we have a general idea that student's emotions (positive or negative) does in fact play a role in their academic performance.  Traditionally, a students learning and education has always been delivered in person. Now, students are abruptly forced to adapt to a new learning environment where their education is being delivered through a monitor screen.\n",
    "\n",
    "\n",
    "From our own group's experience we have noticed that it has gotten increasingly difficult to direct our attention and retain knowledge given in class. As a result of this we are motivated in finding the factors that influence attention. We want to uncover if positive,negative or neutral emotions contributes to one's ability to focus, retain meory and perform cognitive tasks. More in-depth, we are interested in measuring the difference of cognitive performance when one's emotion is changed, as knowing the optimal methods to obtain and retain information is univerally crucial for all students to know. As a result we believe that it is crucial to find the most productive way to retain academic knowledge so that we can better assist fellow students during these unusual times.\n",
    "- https://educationaltechnologyjournal.springeropen.com/articles/10.1186/s41239-020-00229-8\n",
    "- https://link.springer.com/article/10.1007/s10639-021-10523-1\n",
    "- https://www.semanticscholar.org/paper/The-Influence-of-Virtual-Learning-Environments-in-Alves-Miranda/a7c7ba6194633bd68a300522089c795fb4c83a79"
   ]
  },
  {
   "cell_type": "markdown",
   "metadata": {},
   "source": [
    "### ID. Hypothesis"
   ]
  },
  {
   "cell_type": "markdown",
   "metadata": {},
   "source": [
    "If an individual is infected with positive emotion then their ability comprehend and recall information is enhanced. Likewise, if an individual is infected with negative emotions then their ability to comprehend information is imperiled. Positive emotion is supplemental to learning and memory recollection because we believe postiive sentiment influences motivation as well as focus which are two essential factors in memory. Negative emotion is detrimental to learning and memory recollection because haveing a negative mindset in the context of a learning environment restricts one's ability to reacall and comprehend new information."
   ]
  },
  {
   "cell_type": "markdown",
   "metadata": {},
   "source": [
    "# II. Data Analysis"
   ]
  },
  {
   "cell_type": "markdown",
   "metadata": {},
   "source": [
    "### IIA. Set Up"
   ]
  },
  {
   "cell_type": "markdown",
   "metadata": {},
   "source": [
    "First, we need to import all the packages and data we need"
   ]
  },
  {
   "cell_type": "code",
   "execution_count": 1,
   "metadata": {},
   "outputs": [],
   "source": [
    "#Installations required\n",
    "\n",
    "#python -m spacy download en_core_web_lg\n",
    "#pip install spacy\n",
    "#pip install vaderSentiment"
   ]
  },
  {
   "cell_type": "code",
   "execution_count": 2,
   "metadata": {
    "scrolled": true
   },
   "outputs": [],
   "source": [
    "#Import packages\n",
    "from lisc import Counts\n",
    "from lisc.utils.db import SCDB\n",
    "from lisc.plts.counts import *\n",
    "import pandas as pd\n",
    "from vaderSentiment.vaderSentiment import SentimentIntensityAnalyzer\n",
    "import numpy as np\n",
    "import matplotlib.pyplot as plt\n",
    "import seaborn as sns\n",
    "from matplotlib.ticker import PercentFormatter\n",
    "import spacy\n",
    "\n",
    "#Data Import\n",
    "hippDf = pd.read_csv('hippoCorpusV2.csv')"
   ]
  },
  {
   "cell_type": "markdown",
   "metadata": {},
   "source": [
    "### IIB. Data Wrangling"
   ]
  },
  {
   "cell_type": "markdown",
   "metadata": {},
   "source": [
    "\n",
    "Next, we will do some data wrangling. We are going to focus on these columns and check for null values:\n",
    "- annotatorAge: Lower limit of the age bucket of the worker.\n",
    "  Buckets are: 18-24, 25-29, 30-34, 35-39, 40-44, 45-49, 50-54,55+\n",
    "  \n",
    "- story: Story about the imagined or recalled event (15-25     sentences)\n",
    "- distracted: How distracted were you while writing your story? (5-point Likert)\n",
    "\n",
    "- draining: How taxing/draining was writing for you emotionally? (5-point Likert)\n",
    "\n",
    "- frequency: How often do you think about or talk about this event? (5-point Likert)\n",
    "\n",
    "- importance: How impactful, important, or personal is this story/event to you? (5-point Likert)\n",
    "\n",
    "- logTimeSinceEvent: Log of time (days) since the recalled event happened\n",
    "\n",
    "- mainEvent: Short phrase describing the main event described\n",
    "\n",
    "- similarity: How similar to your life does this event/story feel to you? (5-point Likert)\n",
    "\n",
    "- stressful: How stressful was this writing task? (5-point Likert)\n",
    "\n",
    "- summary: Summary of the events in the story (1-3 sentences)\n",
    "\n",
    "- timeSinceEvent: Time (number of days) since the recalled event happened"
   ]
  },
  {
   "cell_type": "code",
   "execution_count": 3,
   "metadata": {},
   "outputs": [
    {
     "name": "stdout",
     "output_type": "stream",
     "text": [
      "AnnotatorAge null values ...  True\n",
      "Story null values ...         False\n",
      "Distracted null values ...    False\n",
      "Draining null values ...      False\n",
      "Frequency null values ...     True\n",
      "Importance null values ...    True\n",
      "LTSinceEvent null values ...  False\n",
      "Similarity null values ...    True\n",
      "Stressful null values ...     False\n",
      "TimeSinceEvent null values .. False\n"
     ]
    }
   ],
   "source": [
    "#Check for null values, if null value found returns True\n",
    "print('AnnotatorAge null values ... ',hippDf['annotatorAge'].isnull().values.any())\n",
    "print('Story null values ...        ',hippDf['story'].isnull().values.any())\n",
    "print('Distracted null values ...   ', hippDf['distracted'].isnull().values.any())\n",
    "print('Draining null values ...     ', hippDf['draining'].isnull().values.any())\n",
    "print('Frequency null values ...    ', hippDf['frequency'].isnull().values.any())\n",
    "print('Importance null values ...   ', hippDf['importance'].isnull().values.any())\n",
    "print('LTSinceEvent null values ... ', hippDf['logTimeSinceEvent'].isnull().values.any())\n",
    "print('Similarity null values ...   ', hippDf['similarity'].isnull().values.any())\n",
    "print('Stressful null values ...    ', hippDf['stressful'].isnull().values.any())\n",
    "print('TimeSinceEvent null values ..', hippDf['timeSinceEvent'].isnull().values.any())\n"
   ]
  },
  {
   "cell_type": "markdown",
   "metadata": {},
   "source": [
    "As we can see there are some null values which is expected based on the dataset the was provided. Since we are interested in the age of the indivduals and their emotion we are going to drop any row with a NaN value in the AnnotatorAge column and importance column"
   ]
  },
  {
   "cell_type": "code",
   "execution_count": 4,
   "metadata": {},
   "outputs": [],
   "source": [
    "noNaNHippDf = hippDf.dropna(subset=['annotatorAge','importance',])"
   ]
  },
  {
   "cell_type": "code",
   "execution_count": 5,
   "metadata": {},
   "outputs": [
    {
     "data": {
      "text/plain": [
       "(6687, 23)"
      ]
     },
     "execution_count": 5,
     "metadata": {},
     "output_type": "execute_result"
    }
   ],
   "source": [
    "noNaNHippDf.shape"
   ]
  },
  {
   "cell_type": "markdown",
   "metadata": {},
   "source": [
    "We want to make sure that there are no more NaN values. Next, let's take a look at the annotatorAge column"
   ]
  },
  {
   "cell_type": "code",
   "execution_count": 6,
   "metadata": {},
   "outputs": [
    {
     "data": {
      "text/plain": [
       "array([25., 35., 30., 18., 50., 40., 45., 55.])"
      ]
     },
     "execution_count": 6,
     "metadata": {},
     "output_type": "execute_result"
    }
   ],
   "source": [
    "noNaNHippDf['annotatorAge'].unique()"
   ]
  },
  {
   "cell_type": "markdown",
   "metadata": {},
   "source": [
    "\n",
    "From this, we can see that there are 8 unique age variables. For this project, we will classify the age bucket 18 and 25 as **'Youth'**, 30,35,40 as **'Adults'**, and 45,50,55 as **'Seniors'** into a new column called **\"AgeGroup\"**"
   ]
  },
  {
   "cell_type": "code",
   "execution_count": 7,
   "metadata": {},
   "outputs": [],
   "source": [
    "#Categorizes annotatorAge into different age groups\n",
    "def ageGroup(row):\n",
    "    if row['annotatorAge'] == 18 or row['annotatorAge'] == 25:\n",
    "        return 'Youth'\n",
    "    elif row['annotatorAge'] == 30 or row['annotatorAge'] == 35 or row['annotatorAge'] == 40:\n",
    "        return 'Adult'\n",
    "    elif row['annotatorAge'] == 45 or row['annotatorAge'] == 50 or row['annotatorAge'] == 55:\n",
    "        return 'Senior'\n",
    "    else:\n",
    "        return None"
   ]
  },
  {
   "cell_type": "code",
   "execution_count": 8,
   "metadata": {},
   "outputs": [
    {
     "data": {
      "text/plain": [
       "0        Youth\n",
       "1        Youth\n",
       "2        Adult\n",
       "3        Adult\n",
       "4        Youth\n",
       "         ...  \n",
       "6849     Adult\n",
       "6850     Youth\n",
       "6851     Adult\n",
       "6852     Adult\n",
       "6853    Senior\n",
       "Length: 6687, dtype: object"
      ]
     },
     "execution_count": 8,
     "metadata": {},
     "output_type": "execute_result"
    }
   ],
   "source": [
    "#apply new column\n",
    "ageKey = noNaNHippDf.apply(lambda row: ageGroup(row),axis=1)\n",
    "ageKey"
   ]
  },
  {
   "cell_type": "code",
   "execution_count": 9,
   "metadata": {},
   "outputs": [
    {
     "name": "stderr",
     "output_type": "stream",
     "text": [
      "C:\\Users\\kstev\\AppData\\Local\\Temp\\ipykernel_8608\\2312913534.py:1: SettingWithCopyWarning: \n",
      "A value is trying to be set on a copy of a slice from a DataFrame.\n",
      "Try using .loc[row_indexer,col_indexer] = value instead\n",
      "\n",
      "See the caveats in the documentation: https://pandas.pydata.org/pandas-docs/stable/user_guide/indexing.html#returning-a-view-versus-a-copy\n",
      "  noNaNHippDf['AgeGroup'] = ageKey\n"
     ]
    }
   ],
   "source": [
    "noNaNHippDf['AgeGroup'] = ageKey\n"
   ]
  },
  {
   "cell_type": "code",
   "execution_count": 10,
   "metadata": {},
   "outputs": [
    {
     "data": {
      "text/plain": [
       "array(['Youth', 'Adult', 'Senior'], dtype=object)"
      ]
     },
     "execution_count": 10,
     "metadata": {},
     "output_type": "execute_result"
    }
   ],
   "source": [
    "noNaNHippDf['AgeGroup'].unique()"
   ]
  },
  {
   "cell_type": "markdown",
   "metadata": {},
   "source": [
    "#### Splitting data by group\n",
    "Next, we will split the data into 3 groups with the memType column with **\"recalled\"**,**\"imagined\"**, and **\"retold\"** so we can analyze them separately later"
   ]
  },
  {
   "cell_type": "code",
   "execution_count": 11,
   "metadata": {},
   "outputs": [],
   "source": [
    "recalled_df = noNaNHippDf[noNaNHippDf['memType']==\"recalled\"]\n",
    "imagined_df = noNaNHippDf[noNaNHippDf['memType']==\"imagined\"]\n",
    "retold_df = noNaNHippDf[noNaNHippDf['memType']==\"retold\"]\n"
   ]
  },
  {
   "cell_type": "markdown",
   "metadata": {},
   "source": [
    "We are going to focus on these columns:\n",
    "- annotatorAge: Lower limit of the age bucket of the worker.\n",
    "  Buckets are: 18-24, 25-29, 30-34, 35-39, 40-44, 45-49, 50-54,55+\n",
    "  \n",
    "- story: Story about the imagined or recalled event (15-25     sentences)\n",
    "- distracted: How distracted were you while writing your story? (5-point Likert)\n",
    "\n",
    "- draining: How taxing/draining was writing for you emotionally? (5-point Likert)\n",
    "\n",
    "- frequency: How often do you think about or talk about this event? (5-point Likert)\n",
    "\n",
    "- importance: How impactful, important, or personal is this story/event to you? (5-point Likert)\n",
    "\n",
    "- logTimeSinceEvent: Log of time (days) since the recalled event happened\n",
    "\n",
    "- mainEvent: Short phrase describing the main event described\n",
    "\n",
    "- similarity: How similar to your life does this event/story feel to you? (5-point Likert)\n",
    "\n",
    "- stressful: How stressful was this writing task? (5-point Likert)\n",
    "\n",
    "- summary: Summary of the events in the story (1-3 sentences)\n",
    "\n",
    "- timeSinceEvent: Time (number of days) since the recalled event happened\n",
    "\n",
    "- recAgnPairId: ID of the recalled story that corresponds to this retold story (null for imagined stories). Group on   this variable to get the recalled-retold pairs.\n"
   ]
  },
  {
   "cell_type": "code",
   "execution_count": 12,
   "metadata": {},
   "outputs": [],
   "source": [
    "newRecalled = recalled_df[['annotatorAge','story','distracted','draining','frequency',\n",
    "                                         'importance','logTimeSinceEvent','mainEvent','similarity',\n",
    "                                         'stressful','summary','timeSinceEvent','AgeGroup','recAgnPairId','memType']]\n",
    "newImagined = imagined_df[['annotatorAge','story','distracted','draining','frequency',\n",
    "                                         'importance','logTimeSinceEvent','mainEvent','similarity',\n",
    "                                         'stressful','summary','timeSinceEvent','AgeGroup','recAgnPairId','memType']]\n",
    "newRetold = retold_df[['annotatorAge','story','distracted','draining','frequency',\n",
    "                                         'importance','logTimeSinceEvent','mainEvent','similarity',\n",
    "                                         'stressful','summary','timeSinceEvent','AgeGroup','recAgnPairId','memType']]"
   ]
  },
  {
   "cell_type": "markdown",
   "metadata": {},
   "source": [
    "### Performing text comparison\n",
    "We are going to look at how similar the stories are between recalled and retold using the spacy package for analysis later. Though, we need to prepare the data through wrangling. As a reminder the recalled group is recalling a previous story from their life and the retold group is trying to retell the same story they gave previously based on the summary that they created after they told their start in the recalled group. We are going to make a new table that combines the recalled story and the retold story so that we can more easily apply the spacy package to it. First, we need to find the unique id's that link the two data sections together\n"
   ]
  },
  {
   "cell_type": "code",
   "execution_count": 13,
   "metadata": {},
   "outputs": [
    {
     "data": {
      "text/plain": [
       "array(['304SM51WA4QG34IRAVFYVE1S8XNSBV', '304SM51WA4QG34IRAVFYVE1SAOBSB3',\n",
       "       '308Q0PEVB9Z8LX0Y7Z7O060F6NK9IJ', ...,\n",
       "       '3ZV9H2YQQET47QVNF7ATAK61QT9W3C', '3ZV9H2YQQET47QVNF7ATAK61TBE3WR',\n",
       "       '3ZY8KE4ISKPJZ21KN8HT1QGYU5NQVO'], dtype=object)"
      ]
     },
     "execution_count": 13,
     "metadata": {},
     "output_type": "execute_result"
    }
   ],
   "source": [
    "idTags = noNaNHippDf['recAgnPairId'].unique()\n",
    "#Need to remove the null tag\n",
    "indexOfNull = 0\n",
    "newIdTags = np.delete(idTags,indexOfNull)\n",
    "newIdTags"
   ]
  },
  {
   "cell_type": "markdown",
   "metadata": {},
   "source": [
    "Now that we have all the unique tags we need to find the recalled data and merge it with the retold data"
   ]
  },
  {
   "cell_type": "code",
   "execution_count": 14,
   "metadata": {},
   "outputs": [],
   "source": [
    "listOfLists = []\n",
    "secondKeyStory = []\n",
    "deltaOfTime = []\n",
    "for tagNumber in range(len(newIdTags)):\n",
    "    #Get df of unique tag\n",
    "    tagIds = hippDf[hippDf['recAgnPairId'] == newIdTags[tagNumber]]\n",
    "    #Grab the first one and add it to the list\n",
    "    mainVal = tagIds.iloc[0]\n",
    "    #Take the story of the second\n",
    "    secondStory = tagIds['story'].iloc[1]\n",
    "    #Check that the data works right\n",
    "    timeSinceRe = tagIds['timeSinceEvent'].iloc[1]\n",
    "    \n",
    "    \n",
    "    #Add them to a list to make a DF out of\n",
    "    listOfLists.append(mainVal)\n",
    "    secondKeyStory.append(secondStory)\n",
    "    deltaOfTime.append(timeSinceRe)\n",
    "    \n",
    "    \n",
    "    "
   ]
  },
  {
   "cell_type": "code",
   "execution_count": 15,
   "metadata": {},
   "outputs": [
    {
     "data": {
      "text/html": [
       "<div>\n",
       "<style scoped>\n",
       "    .dataframe tbody tr th:only-of-type {\n",
       "        vertical-align: middle;\n",
       "    }\n",
       "\n",
       "    .dataframe tbody tr th {\n",
       "        vertical-align: top;\n",
       "    }\n",
       "\n",
       "    .dataframe thead th {\n",
       "        text-align: right;\n",
       "    }\n",
       "</style>\n",
       "<table border=\"1\" class=\"dataframe\">\n",
       "  <thead>\n",
       "    <tr style=\"text-align: right;\">\n",
       "      <th></th>\n",
       "      <th>AssignmentId</th>\n",
       "      <th>WorkTimeInSeconds</th>\n",
       "      <th>WorkerId</th>\n",
       "      <th>annotatorAge</th>\n",
       "      <th>annotatorGender</th>\n",
       "      <th>annotatorRace</th>\n",
       "      <th>distracted</th>\n",
       "      <th>draining</th>\n",
       "      <th>frequency</th>\n",
       "      <th>importance</th>\n",
       "      <th>...</th>\n",
       "      <th>recAgnPairId</th>\n",
       "      <th>recImgPairId</th>\n",
       "      <th>similarity</th>\n",
       "      <th>similarityReason</th>\n",
       "      <th>story</th>\n",
       "      <th>stressful</th>\n",
       "      <th>summary</th>\n",
       "      <th>timeSinceEvent</th>\n",
       "      <th>retold stories</th>\n",
       "      <th>time since recalled</th>\n",
       "    </tr>\n",
       "  </thead>\n",
       "  <tbody>\n",
       "    <tr>\n",
       "      <th>9</th>\n",
       "      <td>3YGXWBAF713GBO8MYUFB8VR53RKC4M</td>\n",
       "      <td>7228</td>\n",
       "      <td>4MFUAYFX</td>\n",
       "      <td>25.0</td>\n",
       "      <td>man</td>\n",
       "      <td>hisp</td>\n",
       "      <td>1.0</td>\n",
       "      <td>1.0</td>\n",
       "      <td>2.0</td>\n",
       "      <td>2.0</td>\n",
       "      <td>...</td>\n",
       "      <td>304SM51WA4QG34IRAVFYVE1S8XNSBV</td>\n",
       "      <td>NaN</td>\n",
       "      <td>NaN</td>\n",
       "      <td>NaN</td>\n",
       "      <td>Me and my girlfriend had gone to the Los Angel...</td>\n",
       "      <td>1.0</td>\n",
       "      <td>Me and my girlfriend went to the zoo on a hot ...</td>\n",
       "      <td>210.0</td>\n",
       "      <td>About a month ago me and my girlfriend went to...</td>\n",
       "      <td>3.000000e+01</td>\n",
       "    </tr>\n",
       "    <tr>\n",
       "      <th>12</th>\n",
       "      <td>35LDD5557BQEYC9GWBW5I8LCG5AKMA</td>\n",
       "      <td>4925</td>\n",
       "      <td>HE3SATVD</td>\n",
       "      <td>30.0</td>\n",
       "      <td>man</td>\n",
       "      <td>black</td>\n",
       "      <td>3.0</td>\n",
       "      <td>4.0</td>\n",
       "      <td>3.0</td>\n",
       "      <td>3.0</td>\n",
       "      <td>...</td>\n",
       "      <td>304SM51WA4QG34IRAVFYVE1SAOBSB3</td>\n",
       "      <td>NaN</td>\n",
       "      <td>NaN</td>\n",
       "      <td>NaN</td>\n",
       "      <td>My Cousin's WeddingWe went to my cousin’s wedd...</td>\n",
       "      <td>4.0</td>\n",
       "      <td>My life was endangered for doing research on p...</td>\n",
       "      <td>180.0</td>\n",
       "      <td>It happen 2 weeks ago at the library. Stared o...</td>\n",
       "      <td>1.400000e+01</td>\n",
       "    </tr>\n",
       "    <tr>\n",
       "      <th>18</th>\n",
       "      <td>3NAPMVF0ZX10WTY33ZOCZU2SUYL72I</td>\n",
       "      <td>6488</td>\n",
       "      <td>AXJ0SHSA</td>\n",
       "      <td>30.0</td>\n",
       "      <td>man</td>\n",
       "      <td>white</td>\n",
       "      <td>4.0</td>\n",
       "      <td>4.0</td>\n",
       "      <td>4.0</td>\n",
       "      <td>4.0</td>\n",
       "      <td>...</td>\n",
       "      <td>308Q0PEVB9Z8LX0Y7Z7O060F6NK9IJ</td>\n",
       "      <td>NaN</td>\n",
       "      <td>NaN</td>\n",
       "      <td>NaN</td>\n",
       "      <td>I remember the event like it was just yesterda...</td>\n",
       "      <td>3.0</td>\n",
       "      <td>There was an arrest. I bailed out my friend. I...</td>\n",
       "      <td>60.0</td>\n",
       "      <td>About a week ago a received a phone call from ...</td>\n",
       "      <td>7.000000e+00</td>\n",
       "    </tr>\n",
       "    <tr>\n",
       "      <th>21</th>\n",
       "      <td>3C8HJ7UOP8G9N782WCZF5N9PKNHZMN</td>\n",
       "      <td>1405</td>\n",
       "      <td>2WT572QN</td>\n",
       "      <td>30.0</td>\n",
       "      <td>woman</td>\n",
       "      <td>hisp</td>\n",
       "      <td>1.0</td>\n",
       "      <td>1.0</td>\n",
       "      <td>4.0</td>\n",
       "      <td>4.0</td>\n",
       "      <td>...</td>\n",
       "      <td>308Q0PEVB9Z8LX0Y7Z7O060FETEI96</td>\n",
       "      <td>NaN</td>\n",
       "      <td>NaN</td>\n",
       "      <td>NaN</td>\n",
       "      <td>When my now four year old son was born, we wer...</td>\n",
       "      <td>1.0</td>\n",
       "      <td>My four year old son needed foot surgery. My h...</td>\n",
       "      <td>60.0</td>\n",
       "      <td>A memorable event that I have recently had hap...</td>\n",
       "      <td>7.000000e+00</td>\n",
       "    </tr>\n",
       "    <tr>\n",
       "      <th>26</th>\n",
       "      <td>3OJSZ2ATDTISVQHQLIQAX154MTN576</td>\n",
       "      <td>612</td>\n",
       "      <td>3MFQXXSF</td>\n",
       "      <td>30.0</td>\n",
       "      <td>man</td>\n",
       "      <td>white</td>\n",
       "      <td>1.0</td>\n",
       "      <td>1.0</td>\n",
       "      <td>5.0</td>\n",
       "      <td>5.0</td>\n",
       "      <td>...</td>\n",
       "      <td>308XBLVESJQ42PIEV6FT54WWN37BRA</td>\n",
       "      <td>NaN</td>\n",
       "      <td>NaN</td>\n",
       "      <td>NaN</td>\n",
       "      <td>About seven and a half months ago I found out ...</td>\n",
       "      <td>1.0</td>\n",
       "      <td>I found out I am going to be a father.  My wif...</td>\n",
       "      <td>240.0</td>\n",
       "      <td>The biggest thing to happen to me is finding o...</td>\n",
       "      <td>6.666667e+29</td>\n",
       "    </tr>\n",
       "  </tbody>\n",
       "</table>\n",
       "<p>5 rows × 25 columns</p>\n",
       "</div>"
      ],
      "text/plain": [
       "                      AssignmentId  WorkTimeInSeconds  WorkerId  annotatorAge  \\\n",
       "9   3YGXWBAF713GBO8MYUFB8VR53RKC4M               7228  4MFUAYFX          25.0   \n",
       "12  35LDD5557BQEYC9GWBW5I8LCG5AKMA               4925  HE3SATVD          30.0   \n",
       "18  3NAPMVF0ZX10WTY33ZOCZU2SUYL72I               6488  AXJ0SHSA          30.0   \n",
       "21  3C8HJ7UOP8G9N782WCZF5N9PKNHZMN               1405  2WT572QN          30.0   \n",
       "26  3OJSZ2ATDTISVQHQLIQAX154MTN576                612  3MFQXXSF          30.0   \n",
       "\n",
       "   annotatorGender annotatorRace  distracted  draining  frequency  importance  \\\n",
       "9              man          hisp         1.0       1.0        2.0         2.0   \n",
       "12             man         black         3.0       4.0        3.0         3.0   \n",
       "18             man         white         4.0       4.0        4.0         4.0   \n",
       "21           woman          hisp         1.0       1.0        4.0         4.0   \n",
       "26             man         white         1.0       1.0        5.0         5.0   \n",
       "\n",
       "    ...                    recAgnPairId recImgPairId similarity  \\\n",
       "9   ...  304SM51WA4QG34IRAVFYVE1S8XNSBV          NaN        NaN   \n",
       "12  ...  304SM51WA4QG34IRAVFYVE1SAOBSB3          NaN        NaN   \n",
       "18  ...  308Q0PEVB9Z8LX0Y7Z7O060F6NK9IJ          NaN        NaN   \n",
       "21  ...  308Q0PEVB9Z8LX0Y7Z7O060FETEI96          NaN        NaN   \n",
       "26  ...  308XBLVESJQ42PIEV6FT54WWN37BRA          NaN        NaN   \n",
       "\n",
       "   similarityReason                                              story  \\\n",
       "9               NaN  Me and my girlfriend had gone to the Los Angel...   \n",
       "12              NaN  My Cousin's WeddingWe went to my cousin’s wedd...   \n",
       "18              NaN  I remember the event like it was just yesterda...   \n",
       "21              NaN  When my now four year old son was born, we wer...   \n",
       "26              NaN  About seven and a half months ago I found out ...   \n",
       "\n",
       "   stressful                                            summary  \\\n",
       "9        1.0  Me and my girlfriend went to the zoo on a hot ...   \n",
       "12       4.0  My life was endangered for doing research on p...   \n",
       "18       3.0  There was an arrest. I bailed out my friend. I...   \n",
       "21       1.0  My four year old son needed foot surgery. My h...   \n",
       "26       1.0  I found out I am going to be a father.  My wif...   \n",
       "\n",
       "    timeSinceEvent                                     retold stories  \\\n",
       "9            210.0  About a month ago me and my girlfriend went to...   \n",
       "12           180.0  It happen 2 weeks ago at the library. Stared o...   \n",
       "18            60.0  About a week ago a received a phone call from ...   \n",
       "21            60.0  A memorable event that I have recently had hap...   \n",
       "26           240.0  The biggest thing to happen to me is finding o...   \n",
       "\n",
       "   time since recalled  \n",
       "9         3.000000e+01  \n",
       "12        1.400000e+01  \n",
       "18        7.000000e+00  \n",
       "21        7.000000e+00  \n",
       "26        6.666667e+29  \n",
       "\n",
       "[5 rows x 25 columns]"
      ]
     },
     "execution_count": 15,
     "metadata": {},
     "output_type": "execute_result"
    }
   ],
   "source": [
    "recalledAndRetold = pd.DataFrame(listOfLists)\n",
    "recalledAndRetold['retold stories'] = secondKeyStory\n",
    "recalledAndRetold['time since recalled'] = deltaOfTime\n",
    "recalledAndRetold.head()"
   ]
  },
  {
   "cell_type": "markdown",
   "metadata": {},
   "source": [
    "As we can see in row 26 the data in the time since recalled column makes no sense. After doing further investigation this error orginates from how the data was recorded. So to avoid skewed results we are going to remove any result that is above 1111111 days. We chose this point from looking at the data and seeing that it jumps from 780 days to \n",
    "1111111 which is a jump from 2.14 years to 3,044 years."
   ]
  },
  {
   "cell_type": "code",
   "execution_count": 16,
   "metadata": {},
   "outputs": [
    {
     "data": {
      "text/html": [
       "<div>\n",
       "<style scoped>\n",
       "    .dataframe tbody tr th:only-of-type {\n",
       "        vertical-align: middle;\n",
       "    }\n",
       "\n",
       "    .dataframe tbody tr th {\n",
       "        vertical-align: top;\n",
       "    }\n",
       "\n",
       "    .dataframe thead th {\n",
       "        text-align: right;\n",
       "    }\n",
       "</style>\n",
       "<table border=\"1\" class=\"dataframe\">\n",
       "  <thead>\n",
       "    <tr style=\"text-align: right;\">\n",
       "      <th></th>\n",
       "      <th>AssignmentId</th>\n",
       "      <th>WorkTimeInSeconds</th>\n",
       "      <th>WorkerId</th>\n",
       "      <th>annotatorAge</th>\n",
       "      <th>annotatorGender</th>\n",
       "      <th>annotatorRace</th>\n",
       "      <th>distracted</th>\n",
       "      <th>draining</th>\n",
       "      <th>frequency</th>\n",
       "      <th>importance</th>\n",
       "      <th>...</th>\n",
       "      <th>recAgnPairId</th>\n",
       "      <th>recImgPairId</th>\n",
       "      <th>similarity</th>\n",
       "      <th>similarityReason</th>\n",
       "      <th>story</th>\n",
       "      <th>stressful</th>\n",
       "      <th>summary</th>\n",
       "      <th>timeSinceEvent</th>\n",
       "      <th>retold stories</th>\n",
       "      <th>time since recalled</th>\n",
       "    </tr>\n",
       "  </thead>\n",
       "  <tbody>\n",
       "    <tr>\n",
       "      <th>9</th>\n",
       "      <td>3YGXWBAF713GBO8MYUFB8VR53RKC4M</td>\n",
       "      <td>7228</td>\n",
       "      <td>4MFUAYFX</td>\n",
       "      <td>25.0</td>\n",
       "      <td>man</td>\n",
       "      <td>hisp</td>\n",
       "      <td>1.0</td>\n",
       "      <td>1.0</td>\n",
       "      <td>2.0</td>\n",
       "      <td>2.0</td>\n",
       "      <td>...</td>\n",
       "      <td>304SM51WA4QG34IRAVFYVE1S8XNSBV</td>\n",
       "      <td>NaN</td>\n",
       "      <td>NaN</td>\n",
       "      <td>NaN</td>\n",
       "      <td>Me and my girlfriend had gone to the Los Angel...</td>\n",
       "      <td>1.0</td>\n",
       "      <td>Me and my girlfriend went to the zoo on a hot ...</td>\n",
       "      <td>210.0</td>\n",
       "      <td>About a month ago me and my girlfriend went to...</td>\n",
       "      <td>30.0</td>\n",
       "    </tr>\n",
       "    <tr>\n",
       "      <th>12</th>\n",
       "      <td>35LDD5557BQEYC9GWBW5I8LCG5AKMA</td>\n",
       "      <td>4925</td>\n",
       "      <td>HE3SATVD</td>\n",
       "      <td>30.0</td>\n",
       "      <td>man</td>\n",
       "      <td>black</td>\n",
       "      <td>3.0</td>\n",
       "      <td>4.0</td>\n",
       "      <td>3.0</td>\n",
       "      <td>3.0</td>\n",
       "      <td>...</td>\n",
       "      <td>304SM51WA4QG34IRAVFYVE1SAOBSB3</td>\n",
       "      <td>NaN</td>\n",
       "      <td>NaN</td>\n",
       "      <td>NaN</td>\n",
       "      <td>My Cousin's WeddingWe went to my cousin’s wedd...</td>\n",
       "      <td>4.0</td>\n",
       "      <td>My life was endangered for doing research on p...</td>\n",
       "      <td>180.0</td>\n",
       "      <td>It happen 2 weeks ago at the library. Stared o...</td>\n",
       "      <td>14.0</td>\n",
       "    </tr>\n",
       "    <tr>\n",
       "      <th>18</th>\n",
       "      <td>3NAPMVF0ZX10WTY33ZOCZU2SUYL72I</td>\n",
       "      <td>6488</td>\n",
       "      <td>AXJ0SHSA</td>\n",
       "      <td>30.0</td>\n",
       "      <td>man</td>\n",
       "      <td>white</td>\n",
       "      <td>4.0</td>\n",
       "      <td>4.0</td>\n",
       "      <td>4.0</td>\n",
       "      <td>4.0</td>\n",
       "      <td>...</td>\n",
       "      <td>308Q0PEVB9Z8LX0Y7Z7O060F6NK9IJ</td>\n",
       "      <td>NaN</td>\n",
       "      <td>NaN</td>\n",
       "      <td>NaN</td>\n",
       "      <td>I remember the event like it was just yesterda...</td>\n",
       "      <td>3.0</td>\n",
       "      <td>There was an arrest. I bailed out my friend. I...</td>\n",
       "      <td>60.0</td>\n",
       "      <td>About a week ago a received a phone call from ...</td>\n",
       "      <td>7.0</td>\n",
       "    </tr>\n",
       "    <tr>\n",
       "      <th>21</th>\n",
       "      <td>3C8HJ7UOP8G9N782WCZF5N9PKNHZMN</td>\n",
       "      <td>1405</td>\n",
       "      <td>2WT572QN</td>\n",
       "      <td>30.0</td>\n",
       "      <td>woman</td>\n",
       "      <td>hisp</td>\n",
       "      <td>1.0</td>\n",
       "      <td>1.0</td>\n",
       "      <td>4.0</td>\n",
       "      <td>4.0</td>\n",
       "      <td>...</td>\n",
       "      <td>308Q0PEVB9Z8LX0Y7Z7O060FETEI96</td>\n",
       "      <td>NaN</td>\n",
       "      <td>NaN</td>\n",
       "      <td>NaN</td>\n",
       "      <td>When my now four year old son was born, we wer...</td>\n",
       "      <td>1.0</td>\n",
       "      <td>My four year old son needed foot surgery. My h...</td>\n",
       "      <td>60.0</td>\n",
       "      <td>A memorable event that I have recently had hap...</td>\n",
       "      <td>7.0</td>\n",
       "    </tr>\n",
       "    <tr>\n",
       "      <th>31</th>\n",
       "      <td>324G5B4FB4UT0JVPOCKYG69D7A807S</td>\n",
       "      <td>1834</td>\n",
       "      <td>AKT7XTAI</td>\n",
       "      <td>45.0</td>\n",
       "      <td>man</td>\n",
       "      <td>black</td>\n",
       "      <td>2.0</td>\n",
       "      <td>2.0</td>\n",
       "      <td>5.0</td>\n",
       "      <td>5.0</td>\n",
       "      <td>...</td>\n",
       "      <td>308XBLVESJQ42PIEV6FT54WWPO4RBV</td>\n",
       "      <td>NaN</td>\n",
       "      <td>NaN</td>\n",
       "      <td>NaN</td>\n",
       "      <td>I fell down a flight of stairs in my home, in ...</td>\n",
       "      <td>2.0</td>\n",
       "      <td>I fell down the stairs in my home and suffered...</td>\n",
       "      <td>240.0</td>\n",
       "      <td>Last May,  I had just come upstairs to get rea...</td>\n",
       "      <td>120.0</td>\n",
       "    </tr>\n",
       "  </tbody>\n",
       "</table>\n",
       "<p>5 rows × 25 columns</p>\n",
       "</div>"
      ],
      "text/plain": [
       "                      AssignmentId  WorkTimeInSeconds  WorkerId  annotatorAge  \\\n",
       "9   3YGXWBAF713GBO8MYUFB8VR53RKC4M               7228  4MFUAYFX          25.0   \n",
       "12  35LDD5557BQEYC9GWBW5I8LCG5AKMA               4925  HE3SATVD          30.0   \n",
       "18  3NAPMVF0ZX10WTY33ZOCZU2SUYL72I               6488  AXJ0SHSA          30.0   \n",
       "21  3C8HJ7UOP8G9N782WCZF5N9PKNHZMN               1405  2WT572QN          30.0   \n",
       "31  324G5B4FB4UT0JVPOCKYG69D7A807S               1834  AKT7XTAI          45.0   \n",
       "\n",
       "   annotatorGender annotatorRace  distracted  draining  frequency  importance  \\\n",
       "9              man          hisp         1.0       1.0        2.0         2.0   \n",
       "12             man         black         3.0       4.0        3.0         3.0   \n",
       "18             man         white         4.0       4.0        4.0         4.0   \n",
       "21           woman          hisp         1.0       1.0        4.0         4.0   \n",
       "31             man         black         2.0       2.0        5.0         5.0   \n",
       "\n",
       "    ...                    recAgnPairId recImgPairId similarity  \\\n",
       "9   ...  304SM51WA4QG34IRAVFYVE1S8XNSBV          NaN        NaN   \n",
       "12  ...  304SM51WA4QG34IRAVFYVE1SAOBSB3          NaN        NaN   \n",
       "18  ...  308Q0PEVB9Z8LX0Y7Z7O060F6NK9IJ          NaN        NaN   \n",
       "21  ...  308Q0PEVB9Z8LX0Y7Z7O060FETEI96          NaN        NaN   \n",
       "31  ...  308XBLVESJQ42PIEV6FT54WWPO4RBV          NaN        NaN   \n",
       "\n",
       "   similarityReason                                              story  \\\n",
       "9               NaN  Me and my girlfriend had gone to the Los Angel...   \n",
       "12              NaN  My Cousin's WeddingWe went to my cousin’s wedd...   \n",
       "18              NaN  I remember the event like it was just yesterda...   \n",
       "21              NaN  When my now four year old son was born, we wer...   \n",
       "31              NaN  I fell down a flight of stairs in my home, in ...   \n",
       "\n",
       "   stressful                                            summary  \\\n",
       "9        1.0  Me and my girlfriend went to the zoo on a hot ...   \n",
       "12       4.0  My life was endangered for doing research on p...   \n",
       "18       3.0  There was an arrest. I bailed out my friend. I...   \n",
       "21       1.0  My four year old son needed foot surgery. My h...   \n",
       "31       2.0  I fell down the stairs in my home and suffered...   \n",
       "\n",
       "    timeSinceEvent                                     retold stories  \\\n",
       "9            210.0  About a month ago me and my girlfriend went to...   \n",
       "12           180.0  It happen 2 weeks ago at the library. Stared o...   \n",
       "18            60.0  About a week ago a received a phone call from ...   \n",
       "21            60.0  A memorable event that I have recently had hap...   \n",
       "31           240.0  Last May,  I had just come upstairs to get rea...   \n",
       "\n",
       "   time since recalled  \n",
       "9                 30.0  \n",
       "12                14.0  \n",
       "18                 7.0  \n",
       "21                 7.0  \n",
       "31               120.0  \n",
       "\n",
       "[5 rows x 25 columns]"
      ]
     },
     "execution_count": 16,
     "metadata": {},
     "output_type": "execute_result"
    }
   ],
   "source": [
    "cleanedRecalledAndRetold = recalledAndRetold[recalledAndRetold['time since recalled'] < 1111111]\n",
    "cleanedRecalledAndRetold.head()"
   ]
  },
  {
   "cell_type": "markdown",
   "metadata": {},
   "source": [
    "Lets check and make sure that there are no more extraneous data points"
   ]
  },
  {
   "cell_type": "code",
   "execution_count": 17,
   "metadata": {},
   "outputs": [
    {
     "data": {
      "text/plain": [
       "array([ 30.,  14.,   7., 120.,  60.,  90., 150.,  42.,  56.,  35.,  21.,\n",
       "       360.,  28.,  49., 510., 180., 720., 780., 300., 390., 126., 450.,\n",
       "       240., 420.,  98.,  63.,  70.,  84., 330., 154., 270., 600., 112.,\n",
       "        77., 210., 750.])"
      ]
     },
     "execution_count": 17,
     "metadata": {},
     "output_type": "execute_result"
    }
   ],
   "source": [
    "cleanedRecalledAndRetold['time since recalled'].unique()"
   ]
  },
  {
   "cell_type": "markdown",
   "metadata": {},
   "source": [
    "### IIC. Data Analysis and Results\n",
    "- **Sentiment Analysis**\n",
    "- **Spacy similarity**"
   ]
  },
  {
   "cell_type": "markdown",
   "metadata": {},
   "source": [
    "Lets run our **setiment analysis** first.\n",
    "This is the method that will be used to calculate the sentiment score which will allow us to compare whether the sentiments are positive or negative."
   ]
  },
  {
   "cell_type": "code",
   "execution_count": 18,
   "metadata": {},
   "outputs": [],
   "source": [
    "def sentScore(dataFrame):\n",
    "    s_score = []\n",
    "    s_rating = []\n",
    "    sentiment_obj = SentimentIntensityAnalyzer()\n",
    "    for i in range(len(dataFrame)):\n",
    "        s_score.append(sentiment_obj.polarity_scores(dataFrame.iloc[i,1]))\n",
    "        comp_score = s_score[i]['compound']\n",
    "        if comp_score > 0.05:\n",
    "            s_rating.append(\"Positive\")\n",
    "        elif comp_score <= -0.05:\n",
    "            s_rating.append(\"Negative\")\n",
    "        else:\n",
    "            s_rating.append(\"Neutral\")\n",
    "    return [s_score, s_rating]"
   ]
  },
  {
   "cell_type": "markdown",
   "metadata": {},
   "source": [
    "First, we will implement the Sentiment Analysis For Recalled"
   ]
  },
  {
   "cell_type": "code",
   "execution_count": 19,
   "metadata": {},
   "outputs": [
    {
     "data": {
      "text/html": [
       "<div>\n",
       "<style scoped>\n",
       "    .dataframe tbody tr th:only-of-type {\n",
       "        vertical-align: middle;\n",
       "    }\n",
       "\n",
       "    .dataframe tbody tr th {\n",
       "        vertical-align: top;\n",
       "    }\n",
       "\n",
       "    .dataframe thead th {\n",
       "        text-align: right;\n",
       "    }\n",
       "</style>\n",
       "<table border=\"1\" class=\"dataframe\">\n",
       "  <thead>\n",
       "    <tr style=\"text-align: right;\">\n",
       "      <th></th>\n",
       "      <th>annotatorAge</th>\n",
       "      <th>story</th>\n",
       "      <th>distracted</th>\n",
       "      <th>draining</th>\n",
       "      <th>frequency</th>\n",
       "      <th>importance</th>\n",
       "      <th>logTimeSinceEvent</th>\n",
       "      <th>mainEvent</th>\n",
       "      <th>similarity</th>\n",
       "      <th>stressful</th>\n",
       "      <th>summary</th>\n",
       "      <th>timeSinceEvent</th>\n",
       "      <th>AgeGroup</th>\n",
       "      <th>recAgnPairId</th>\n",
       "      <th>memType</th>\n",
       "    </tr>\n",
       "  </thead>\n",
       "  <tbody>\n",
       "    <tr>\n",
       "      <th>1</th>\n",
       "      <td>25.0</td>\n",
       "      <td>The day started perfectly, with a great drive ...</td>\n",
       "      <td>1.0</td>\n",
       "      <td>1.0</td>\n",
       "      <td>3.0</td>\n",
       "      <td>4.0</td>\n",
       "      <td>4.499810</td>\n",
       "      <td>a concert.</td>\n",
       "      <td>NaN</td>\n",
       "      <td>1.0</td>\n",
       "      <td>My boyfriend and I went to a concert together ...</td>\n",
       "      <td>90.0</td>\n",
       "      <td>Youth</td>\n",
       "      <td>NaN</td>\n",
       "      <td>recalled</td>\n",
       "    </tr>\n",
       "    <tr>\n",
       "      <th>3</th>\n",
       "      <td>30.0</td>\n",
       "      <td>Five months ago, my niece and nephew were born...</td>\n",
       "      <td>1.0</td>\n",
       "      <td>4.0</td>\n",
       "      <td>3.0</td>\n",
       "      <td>5.0</td>\n",
       "      <td>5.010635</td>\n",
       "      <td>meeting my twin niece and nephew.</td>\n",
       "      <td>NaN</td>\n",
       "      <td>2.0</td>\n",
       "      <td>My sister gave birth to my twin niece and neph...</td>\n",
       "      <td>150.0</td>\n",
       "      <td>Adult</td>\n",
       "      <td>NaN</td>\n",
       "      <td>recalled</td>\n",
       "    </tr>\n",
       "    <tr>\n",
       "      <th>5</th>\n",
       "      <td>35.0</td>\n",
       "      <td>Burning Man metamorphoses was perfect. I am de...</td>\n",
       "      <td>1.0</td>\n",
       "      <td>1.0</td>\n",
       "      <td>5.0</td>\n",
       "      <td>5.0</td>\n",
       "      <td>3.401197</td>\n",
       "      <td>about my journey this year to Burning Man meta...</td>\n",
       "      <td>NaN</td>\n",
       "      <td>1.0</td>\n",
       "      <td>It is always a journey for me to go to burning...</td>\n",
       "      <td>30.0</td>\n",
       "      <td>Adult</td>\n",
       "      <td>NaN</td>\n",
       "      <td>recalled</td>\n",
       "    </tr>\n",
       "    <tr>\n",
       "      <th>7</th>\n",
       "      <td>18.0</td>\n",
       "      <td>Dear Diary,I would say this happened about 3 m...</td>\n",
       "      <td>1.0</td>\n",
       "      <td>4.0</td>\n",
       "      <td>5.0</td>\n",
       "      <td>5.0</td>\n",
       "      <td>4.499810</td>\n",
       "      <td>a bad driving experience on the way to Acadia ...</td>\n",
       "      <td>NaN</td>\n",
       "      <td>1.0</td>\n",
       "      <td>What happened is that I was on a trip with my ...</td>\n",
       "      <td>90.0</td>\n",
       "      <td>Youth</td>\n",
       "      <td>NaN</td>\n",
       "      <td>recalled</td>\n",
       "    </tr>\n",
       "    <tr>\n",
       "      <th>10</th>\n",
       "      <td>25.0</td>\n",
       "      <td>About a month ago me and my girlfriend went to...</td>\n",
       "      <td>1.0</td>\n",
       "      <td>1.0</td>\n",
       "      <td>2.0</td>\n",
       "      <td>3.0</td>\n",
       "      <td>3.401197</td>\n",
       "      <td>a trip to the zoo.</td>\n",
       "      <td>NaN</td>\n",
       "      <td>1.0</td>\n",
       "      <td>Me and my girlfriend went to the zoo on a hot ...</td>\n",
       "      <td>30.0</td>\n",
       "      <td>Youth</td>\n",
       "      <td>304SM51WA4QG34IRAVFYVE1S8XNSBV</td>\n",
       "      <td>recalled</td>\n",
       "    </tr>\n",
       "  </tbody>\n",
       "</table>\n",
       "</div>"
      ],
      "text/plain": [
       "    annotatorAge                                              story  \\\n",
       "1           25.0  The day started perfectly, with a great drive ...   \n",
       "3           30.0  Five months ago, my niece and nephew were born...   \n",
       "5           35.0  Burning Man metamorphoses was perfect. I am de...   \n",
       "7           18.0  Dear Diary,I would say this happened about 3 m...   \n",
       "10          25.0  About a month ago me and my girlfriend went to...   \n",
       "\n",
       "    distracted  draining  frequency  importance  logTimeSinceEvent  \\\n",
       "1          1.0       1.0        3.0         4.0           4.499810   \n",
       "3          1.0       4.0        3.0         5.0           5.010635   \n",
       "5          1.0       1.0        5.0         5.0           3.401197   \n",
       "7          1.0       4.0        5.0         5.0           4.499810   \n",
       "10         1.0       1.0        2.0         3.0           3.401197   \n",
       "\n",
       "                                            mainEvent  similarity  stressful  \\\n",
       "1                                          a concert.         NaN        1.0   \n",
       "3                   meeting my twin niece and nephew.         NaN        2.0   \n",
       "5   about my journey this year to Burning Man meta...         NaN        1.0   \n",
       "7   a bad driving experience on the way to Acadia ...         NaN        1.0   \n",
       "10                                 a trip to the zoo.         NaN        1.0   \n",
       "\n",
       "                                              summary  timeSinceEvent  \\\n",
       "1   My boyfriend and I went to a concert together ...            90.0   \n",
       "3   My sister gave birth to my twin niece and neph...           150.0   \n",
       "5   It is always a journey for me to go to burning...            30.0   \n",
       "7   What happened is that I was on a trip with my ...            90.0   \n",
       "10  Me and my girlfriend went to the zoo on a hot ...            30.0   \n",
       "\n",
       "   AgeGroup                    recAgnPairId   memType  \n",
       "1     Youth                             NaN  recalled  \n",
       "3     Adult                             NaN  recalled  \n",
       "5     Adult                             NaN  recalled  \n",
       "7     Youth                             NaN  recalled  \n",
       "10    Youth  304SM51WA4QG34IRAVFYVE1S8XNSBV  recalled  "
      ]
     },
     "execution_count": 19,
     "metadata": {},
     "output_type": "execute_result"
    }
   ],
   "source": [
    "newRecalled.head()"
   ]
  },
  {
   "cell_type": "code",
   "execution_count": 20,
   "metadata": {},
   "outputs": [],
   "source": [
    "#put into function\n",
    "recalledSentValues = sentScore(newRecalled)"
   ]
  },
  {
   "cell_type": "code",
   "execution_count": 21,
   "metadata": {},
   "outputs": [
    {
     "name": "stderr",
     "output_type": "stream",
     "text": [
      "C:\\Users\\kstev\\AppData\\Local\\Temp\\ipykernel_8608\\1003770482.py:2: SettingWithCopyWarning: \n",
      "A value is trying to be set on a copy of a slice from a DataFrame.\n",
      "Try using .loc[row_indexer,col_indexer] = value instead\n",
      "\n",
      "See the caveats in the documentation: https://pandas.pydata.org/pandas-docs/stable/user_guide/indexing.html#returning-a-view-versus-a-copy\n",
      "  newRecalled['sentiment_score'] = recalledSentValues[0]\n",
      "C:\\Users\\kstev\\AppData\\Local\\Temp\\ipykernel_8608\\1003770482.py:3: SettingWithCopyWarning: \n",
      "A value is trying to be set on a copy of a slice from a DataFrame.\n",
      "Try using .loc[row_indexer,col_indexer] = value instead\n",
      "\n",
      "See the caveats in the documentation: https://pandas.pydata.org/pandas-docs/stable/user_guide/indexing.html#returning-a-view-versus-a-copy\n",
      "  newRecalled['sentiment'] = recalledSentValues[1]\n"
     ]
    }
   ],
   "source": [
    "#assign into new columns\n",
    "newRecalled['sentiment_score'] = recalledSentValues[0]\n",
    "newRecalled['sentiment'] = recalledSentValues[1]\n"
   ]
  },
  {
   "cell_type": "markdown",
   "metadata": {},
   "source": [
    "Here is the new dataframe with the 2 new Sentimental Analysis columns for Recalled."
   ]
  },
  {
   "cell_type": "code",
   "execution_count": 22,
   "metadata": {},
   "outputs": [
    {
     "data": {
      "text/html": [
       "<div>\n",
       "<style scoped>\n",
       "    .dataframe tbody tr th:only-of-type {\n",
       "        vertical-align: middle;\n",
       "    }\n",
       "\n",
       "    .dataframe tbody tr th {\n",
       "        vertical-align: top;\n",
       "    }\n",
       "\n",
       "    .dataframe thead th {\n",
       "        text-align: right;\n",
       "    }\n",
       "</style>\n",
       "<table border=\"1\" class=\"dataframe\">\n",
       "  <thead>\n",
       "    <tr style=\"text-align: right;\">\n",
       "      <th></th>\n",
       "      <th>annotatorAge</th>\n",
       "      <th>story</th>\n",
       "      <th>distracted</th>\n",
       "      <th>draining</th>\n",
       "      <th>frequency</th>\n",
       "      <th>importance</th>\n",
       "      <th>logTimeSinceEvent</th>\n",
       "      <th>mainEvent</th>\n",
       "      <th>similarity</th>\n",
       "      <th>stressful</th>\n",
       "      <th>summary</th>\n",
       "      <th>timeSinceEvent</th>\n",
       "      <th>AgeGroup</th>\n",
       "      <th>recAgnPairId</th>\n",
       "      <th>memType</th>\n",
       "      <th>sentiment_score</th>\n",
       "      <th>sentiment</th>\n",
       "    </tr>\n",
       "  </thead>\n",
       "  <tbody>\n",
       "    <tr>\n",
       "      <th>1</th>\n",
       "      <td>25.0</td>\n",
       "      <td>The day started perfectly, with a great drive ...</td>\n",
       "      <td>1.0</td>\n",
       "      <td>1.0</td>\n",
       "      <td>3.0</td>\n",
       "      <td>4.0</td>\n",
       "      <td>4.499810</td>\n",
       "      <td>a concert.</td>\n",
       "      <td>NaN</td>\n",
       "      <td>1.0</td>\n",
       "      <td>My boyfriend and I went to a concert together ...</td>\n",
       "      <td>90.0</td>\n",
       "      <td>Youth</td>\n",
       "      <td>NaN</td>\n",
       "      <td>recalled</td>\n",
       "      <td>{'neg': 0.03, 'neu': 0.704, 'pos': 0.266, 'com...</td>\n",
       "      <td>Positive</td>\n",
       "    </tr>\n",
       "    <tr>\n",
       "      <th>3</th>\n",
       "      <td>30.0</td>\n",
       "      <td>Five months ago, my niece and nephew were born...</td>\n",
       "      <td>1.0</td>\n",
       "      <td>4.0</td>\n",
       "      <td>3.0</td>\n",
       "      <td>5.0</td>\n",
       "      <td>5.010635</td>\n",
       "      <td>meeting my twin niece and nephew.</td>\n",
       "      <td>NaN</td>\n",
       "      <td>2.0</td>\n",
       "      <td>My sister gave birth to my twin niece and neph...</td>\n",
       "      <td>150.0</td>\n",
       "      <td>Adult</td>\n",
       "      <td>NaN</td>\n",
       "      <td>recalled</td>\n",
       "      <td>{'neg': 0.041, 'neu': 0.794, 'pos': 0.165, 'co...</td>\n",
       "      <td>Positive</td>\n",
       "    </tr>\n",
       "    <tr>\n",
       "      <th>5</th>\n",
       "      <td>35.0</td>\n",
       "      <td>Burning Man metamorphoses was perfect. I am de...</td>\n",
       "      <td>1.0</td>\n",
       "      <td>1.0</td>\n",
       "      <td>5.0</td>\n",
       "      <td>5.0</td>\n",
       "      <td>3.401197</td>\n",
       "      <td>about my journey this year to Burning Man meta...</td>\n",
       "      <td>NaN</td>\n",
       "      <td>1.0</td>\n",
       "      <td>It is always a journey for me to go to burning...</td>\n",
       "      <td>30.0</td>\n",
       "      <td>Adult</td>\n",
       "      <td>NaN</td>\n",
       "      <td>recalled</td>\n",
       "      <td>{'neg': 0.053, 'neu': 0.825, 'pos': 0.122, 'co...</td>\n",
       "      <td>Positive</td>\n",
       "    </tr>\n",
       "    <tr>\n",
       "      <th>7</th>\n",
       "      <td>18.0</td>\n",
       "      <td>Dear Diary,I would say this happened about 3 m...</td>\n",
       "      <td>1.0</td>\n",
       "      <td>4.0</td>\n",
       "      <td>5.0</td>\n",
       "      <td>5.0</td>\n",
       "      <td>4.499810</td>\n",
       "      <td>a bad driving experience on the way to Acadia ...</td>\n",
       "      <td>NaN</td>\n",
       "      <td>1.0</td>\n",
       "      <td>What happened is that I was on a trip with my ...</td>\n",
       "      <td>90.0</td>\n",
       "      <td>Youth</td>\n",
       "      <td>NaN</td>\n",
       "      <td>recalled</td>\n",
       "      <td>{'neg': 0.065, 'neu': 0.856, 'pos': 0.079, 'co...</td>\n",
       "      <td>Positive</td>\n",
       "    </tr>\n",
       "    <tr>\n",
       "      <th>10</th>\n",
       "      <td>25.0</td>\n",
       "      <td>About a month ago me and my girlfriend went to...</td>\n",
       "      <td>1.0</td>\n",
       "      <td>1.0</td>\n",
       "      <td>2.0</td>\n",
       "      <td>3.0</td>\n",
       "      <td>3.401197</td>\n",
       "      <td>a trip to the zoo.</td>\n",
       "      <td>NaN</td>\n",
       "      <td>1.0</td>\n",
       "      <td>Me and my girlfriend went to the zoo on a hot ...</td>\n",
       "      <td>30.0</td>\n",
       "      <td>Youth</td>\n",
       "      <td>304SM51WA4QG34IRAVFYVE1S8XNSBV</td>\n",
       "      <td>recalled</td>\n",
       "      <td>{'neg': 0.009, 'neu': 0.883, 'pos': 0.108, 'co...</td>\n",
       "      <td>Positive</td>\n",
       "    </tr>\n",
       "  </tbody>\n",
       "</table>\n",
       "</div>"
      ],
      "text/plain": [
       "    annotatorAge                                              story  \\\n",
       "1           25.0  The day started perfectly, with a great drive ...   \n",
       "3           30.0  Five months ago, my niece and nephew were born...   \n",
       "5           35.0  Burning Man metamorphoses was perfect. I am de...   \n",
       "7           18.0  Dear Diary,I would say this happened about 3 m...   \n",
       "10          25.0  About a month ago me and my girlfriend went to...   \n",
       "\n",
       "    distracted  draining  frequency  importance  logTimeSinceEvent  \\\n",
       "1          1.0       1.0        3.0         4.0           4.499810   \n",
       "3          1.0       4.0        3.0         5.0           5.010635   \n",
       "5          1.0       1.0        5.0         5.0           3.401197   \n",
       "7          1.0       4.0        5.0         5.0           4.499810   \n",
       "10         1.0       1.0        2.0         3.0           3.401197   \n",
       "\n",
       "                                            mainEvent  similarity  stressful  \\\n",
       "1                                          a concert.         NaN        1.0   \n",
       "3                   meeting my twin niece and nephew.         NaN        2.0   \n",
       "5   about my journey this year to Burning Man meta...         NaN        1.0   \n",
       "7   a bad driving experience on the way to Acadia ...         NaN        1.0   \n",
       "10                                 a trip to the zoo.         NaN        1.0   \n",
       "\n",
       "                                              summary  timeSinceEvent  \\\n",
       "1   My boyfriend and I went to a concert together ...            90.0   \n",
       "3   My sister gave birth to my twin niece and neph...           150.0   \n",
       "5   It is always a journey for me to go to burning...            30.0   \n",
       "7   What happened is that I was on a trip with my ...            90.0   \n",
       "10  Me and my girlfriend went to the zoo on a hot ...            30.0   \n",
       "\n",
       "   AgeGroup                    recAgnPairId   memType  \\\n",
       "1     Youth                             NaN  recalled   \n",
       "3     Adult                             NaN  recalled   \n",
       "5     Adult                             NaN  recalled   \n",
       "7     Youth                             NaN  recalled   \n",
       "10    Youth  304SM51WA4QG34IRAVFYVE1S8XNSBV  recalled   \n",
       "\n",
       "                                      sentiment_score sentiment  \n",
       "1   {'neg': 0.03, 'neu': 0.704, 'pos': 0.266, 'com...  Positive  \n",
       "3   {'neg': 0.041, 'neu': 0.794, 'pos': 0.165, 'co...  Positive  \n",
       "5   {'neg': 0.053, 'neu': 0.825, 'pos': 0.122, 'co...  Positive  \n",
       "7   {'neg': 0.065, 'neu': 0.856, 'pos': 0.079, 'co...  Positive  \n",
       "10  {'neg': 0.009, 'neu': 0.883, 'pos': 0.108, 'co...  Positive  "
      ]
     },
     "execution_count": 22,
     "metadata": {},
     "output_type": "execute_result"
    }
   ],
   "source": [
    "newRecalled.head()"
   ]
  },
  {
   "cell_type": "code",
   "execution_count": 23,
   "metadata": {},
   "outputs": [
    {
     "data": {
      "text/plain": [
       "1304"
      ]
     },
     "execution_count": 23,
     "metadata": {},
     "output_type": "execute_result"
    }
   ],
   "source": [
    "newRecalled.recAgnPairId.notnull().sum()"
   ]
  },
  {
   "cell_type": "markdown",
   "metadata": {},
   "source": [
    "Next, we will run the Sentiment Analysis For Imagined"
   ]
  },
  {
   "cell_type": "code",
   "execution_count": 24,
   "metadata": {},
   "outputs": [
    {
     "data": {
      "text/html": [
       "<div>\n",
       "<style scoped>\n",
       "    .dataframe tbody tr th:only-of-type {\n",
       "        vertical-align: middle;\n",
       "    }\n",
       "\n",
       "    .dataframe tbody tr th {\n",
       "        vertical-align: top;\n",
       "    }\n",
       "\n",
       "    .dataframe thead th {\n",
       "        text-align: right;\n",
       "    }\n",
       "</style>\n",
       "<table border=\"1\" class=\"dataframe\">\n",
       "  <thead>\n",
       "    <tr style=\"text-align: right;\">\n",
       "      <th></th>\n",
       "      <th>annotatorAge</th>\n",
       "      <th>story</th>\n",
       "      <th>distracted</th>\n",
       "      <th>draining</th>\n",
       "      <th>frequency</th>\n",
       "      <th>importance</th>\n",
       "      <th>logTimeSinceEvent</th>\n",
       "      <th>mainEvent</th>\n",
       "      <th>similarity</th>\n",
       "      <th>stressful</th>\n",
       "      <th>summary</th>\n",
       "      <th>timeSinceEvent</th>\n",
       "      <th>AgeGroup</th>\n",
       "      <th>recAgnPairId</th>\n",
       "      <th>memType</th>\n",
       "    </tr>\n",
       "  </thead>\n",
       "  <tbody>\n",
       "    <tr>\n",
       "      <th>0</th>\n",
       "      <td>25.0</td>\n",
       "      <td>Concerts are my most favorite thing, and my bo...</td>\n",
       "      <td>1.0</td>\n",
       "      <td>1.0</td>\n",
       "      <td>NaN</td>\n",
       "      <td>3.0</td>\n",
       "      <td>4.499810</td>\n",
       "      <td>attending a show</td>\n",
       "      <td>3.0</td>\n",
       "      <td>1.0</td>\n",
       "      <td>My boyfriend and I went to a concert together ...</td>\n",
       "      <td>90.0</td>\n",
       "      <td>Youth</td>\n",
       "      <td>NaN</td>\n",
       "      <td>imagined</td>\n",
       "    </tr>\n",
       "    <tr>\n",
       "      <th>2</th>\n",
       "      <td>35.0</td>\n",
       "      <td>It seems just like yesterday but today makes f...</td>\n",
       "      <td>1.0</td>\n",
       "      <td>1.0</td>\n",
       "      <td>NaN</td>\n",
       "      <td>4.0</td>\n",
       "      <td>5.010635</td>\n",
       "      <td>my sister having her twins a little early</td>\n",
       "      <td>3.0</td>\n",
       "      <td>1.0</td>\n",
       "      <td>My sister gave birth to my twin niece and neph...</td>\n",
       "      <td>150.0</td>\n",
       "      <td>Adult</td>\n",
       "      <td>NaN</td>\n",
       "      <td>imagined</td>\n",
       "    </tr>\n",
       "    <tr>\n",
       "      <th>4</th>\n",
       "      <td>25.0</td>\n",
       "      <td>About a month ago I went to burning man. I was...</td>\n",
       "      <td>2.0</td>\n",
       "      <td>2.0</td>\n",
       "      <td>NaN</td>\n",
       "      <td>3.0</td>\n",
       "      <td>3.401197</td>\n",
       "      <td>the consequences of going to burning man</td>\n",
       "      <td>4.0</td>\n",
       "      <td>4.0</td>\n",
       "      <td>It is always a journey for me to go to burning...</td>\n",
       "      <td>30.0</td>\n",
       "      <td>Youth</td>\n",
       "      <td>NaN</td>\n",
       "      <td>imagined</td>\n",
       "    </tr>\n",
       "    <tr>\n",
       "      <th>6</th>\n",
       "      <td>35.0</td>\n",
       "      <td>Play stupid games, win stupid prizes road trip...</td>\n",
       "      <td>3.0</td>\n",
       "      <td>1.0</td>\n",
       "      <td>NaN</td>\n",
       "      <td>4.0</td>\n",
       "      <td>4.499810</td>\n",
       "      <td>a scary car ride where we swerved on our way t...</td>\n",
       "      <td>1.0</td>\n",
       "      <td>2.0</td>\n",
       "      <td>What happened is that I was on a trip with my ...</td>\n",
       "      <td>90.0</td>\n",
       "      <td>Adult</td>\n",
       "      <td>NaN</td>\n",
       "      <td>imagined</td>\n",
       "    </tr>\n",
       "    <tr>\n",
       "      <th>8</th>\n",
       "      <td>25.0</td>\n",
       "      <td>I wanted to write about one of the best days i...</td>\n",
       "      <td>1.0</td>\n",
       "      <td>1.0</td>\n",
       "      <td>NaN</td>\n",
       "      <td>4.0</td>\n",
       "      <td>3.401197</td>\n",
       "      <td>my girlfriend and I going to the zoo.</td>\n",
       "      <td>4.0</td>\n",
       "      <td>1.0</td>\n",
       "      <td>Me and my girlfriend went to the zoo on a hot ...</td>\n",
       "      <td>30.0</td>\n",
       "      <td>Youth</td>\n",
       "      <td>NaN</td>\n",
       "      <td>imagined</td>\n",
       "    </tr>\n",
       "  </tbody>\n",
       "</table>\n",
       "</div>"
      ],
      "text/plain": [
       "   annotatorAge                                              story  \\\n",
       "0          25.0  Concerts are my most favorite thing, and my bo...   \n",
       "2          35.0  It seems just like yesterday but today makes f...   \n",
       "4          25.0  About a month ago I went to burning man. I was...   \n",
       "6          35.0  Play stupid games, win stupid prizes road trip...   \n",
       "8          25.0  I wanted to write about one of the best days i...   \n",
       "\n",
       "   distracted  draining  frequency  importance  logTimeSinceEvent  \\\n",
       "0         1.0       1.0        NaN         3.0           4.499810   \n",
       "2         1.0       1.0        NaN         4.0           5.010635   \n",
       "4         2.0       2.0        NaN         3.0           3.401197   \n",
       "6         3.0       1.0        NaN         4.0           4.499810   \n",
       "8         1.0       1.0        NaN         4.0           3.401197   \n",
       "\n",
       "                                           mainEvent  similarity  stressful  \\\n",
       "0                                   attending a show         3.0        1.0   \n",
       "2          my sister having her twins a little early         3.0        1.0   \n",
       "4           the consequences of going to burning man         4.0        4.0   \n",
       "6  a scary car ride where we swerved on our way t...         1.0        2.0   \n",
       "8              my girlfriend and I going to the zoo.         4.0        1.0   \n",
       "\n",
       "                                             summary  timeSinceEvent AgeGroup  \\\n",
       "0  My boyfriend and I went to a concert together ...            90.0    Youth   \n",
       "2  My sister gave birth to my twin niece and neph...           150.0    Adult   \n",
       "4  It is always a journey for me to go to burning...            30.0    Youth   \n",
       "6  What happened is that I was on a trip with my ...            90.0    Adult   \n",
       "8  Me and my girlfriend went to the zoo on a hot ...            30.0    Youth   \n",
       "\n",
       "  recAgnPairId   memType  \n",
       "0          NaN  imagined  \n",
       "2          NaN  imagined  \n",
       "4          NaN  imagined  \n",
       "6          NaN  imagined  \n",
       "8          NaN  imagined  "
      ]
     },
     "execution_count": 24,
     "metadata": {},
     "output_type": "execute_result"
    }
   ],
   "source": [
    "newImagined.head()"
   ]
  },
  {
   "cell_type": "code",
   "execution_count": 25,
   "metadata": {},
   "outputs": [
    {
     "name": "stderr",
     "output_type": "stream",
     "text": [
      "C:\\Users\\kstev\\AppData\\Local\\Temp\\ipykernel_8608\\3021410166.py:3: SettingWithCopyWarning: \n",
      "A value is trying to be set on a copy of a slice from a DataFrame.\n",
      "Try using .loc[row_indexer,col_indexer] = value instead\n",
      "\n",
      "See the caveats in the documentation: https://pandas.pydata.org/pandas-docs/stable/user_guide/indexing.html#returning-a-view-versus-a-copy\n",
      "  newImagined['sentiment_score'] = imaginedSentValues[0]\n",
      "C:\\Users\\kstev\\AppData\\Local\\Temp\\ipykernel_8608\\3021410166.py:4: SettingWithCopyWarning: \n",
      "A value is trying to be set on a copy of a slice from a DataFrame.\n",
      "Try using .loc[row_indexer,col_indexer] = value instead\n",
      "\n",
      "See the caveats in the documentation: https://pandas.pydata.org/pandas-docs/stable/user_guide/indexing.html#returning-a-view-versus-a-copy\n",
      "  newImagined['sentiment'] = imaginedSentValues[1]\n"
     ]
    },
    {
     "data": {
      "text/html": [
       "<div>\n",
       "<style scoped>\n",
       "    .dataframe tbody tr th:only-of-type {\n",
       "        vertical-align: middle;\n",
       "    }\n",
       "\n",
       "    .dataframe tbody tr th {\n",
       "        vertical-align: top;\n",
       "    }\n",
       "\n",
       "    .dataframe thead th {\n",
       "        text-align: right;\n",
       "    }\n",
       "</style>\n",
       "<table border=\"1\" class=\"dataframe\">\n",
       "  <thead>\n",
       "    <tr style=\"text-align: right;\">\n",
       "      <th></th>\n",
       "      <th>annotatorAge</th>\n",
       "      <th>story</th>\n",
       "      <th>distracted</th>\n",
       "      <th>draining</th>\n",
       "      <th>frequency</th>\n",
       "      <th>importance</th>\n",
       "      <th>logTimeSinceEvent</th>\n",
       "      <th>mainEvent</th>\n",
       "      <th>similarity</th>\n",
       "      <th>stressful</th>\n",
       "      <th>summary</th>\n",
       "      <th>timeSinceEvent</th>\n",
       "      <th>AgeGroup</th>\n",
       "      <th>recAgnPairId</th>\n",
       "      <th>memType</th>\n",
       "      <th>sentiment_score</th>\n",
       "      <th>sentiment</th>\n",
       "    </tr>\n",
       "  </thead>\n",
       "  <tbody>\n",
       "    <tr>\n",
       "      <th>0</th>\n",
       "      <td>25.0</td>\n",
       "      <td>Concerts are my most favorite thing, and my bo...</td>\n",
       "      <td>1.0</td>\n",
       "      <td>1.0</td>\n",
       "      <td>NaN</td>\n",
       "      <td>3.0</td>\n",
       "      <td>4.499810</td>\n",
       "      <td>attending a show</td>\n",
       "      <td>3.0</td>\n",
       "      <td>1.0</td>\n",
       "      <td>My boyfriend and I went to a concert together ...</td>\n",
       "      <td>90.0</td>\n",
       "      <td>Youth</td>\n",
       "      <td>NaN</td>\n",
       "      <td>imagined</td>\n",
       "      <td>{'neg': 0.011, 'neu': 0.714, 'pos': 0.274, 'co...</td>\n",
       "      <td>Positive</td>\n",
       "    </tr>\n",
       "    <tr>\n",
       "      <th>2</th>\n",
       "      <td>35.0</td>\n",
       "      <td>It seems just like yesterday but today makes f...</td>\n",
       "      <td>1.0</td>\n",
       "      <td>1.0</td>\n",
       "      <td>NaN</td>\n",
       "      <td>4.0</td>\n",
       "      <td>5.010635</td>\n",
       "      <td>my sister having her twins a little early</td>\n",
       "      <td>3.0</td>\n",
       "      <td>1.0</td>\n",
       "      <td>My sister gave birth to my twin niece and neph...</td>\n",
       "      <td>150.0</td>\n",
       "      <td>Adult</td>\n",
       "      <td>NaN</td>\n",
       "      <td>imagined</td>\n",
       "      <td>{'neg': 0.023, 'neu': 0.826, 'pos': 0.151, 'co...</td>\n",
       "      <td>Positive</td>\n",
       "    </tr>\n",
       "    <tr>\n",
       "      <th>4</th>\n",
       "      <td>25.0</td>\n",
       "      <td>About a month ago I went to burning man. I was...</td>\n",
       "      <td>2.0</td>\n",
       "      <td>2.0</td>\n",
       "      <td>NaN</td>\n",
       "      <td>3.0</td>\n",
       "      <td>3.401197</td>\n",
       "      <td>the consequences of going to burning man</td>\n",
       "      <td>4.0</td>\n",
       "      <td>4.0</td>\n",
       "      <td>It is always a journey for me to go to burning...</td>\n",
       "      <td>30.0</td>\n",
       "      <td>Youth</td>\n",
       "      <td>NaN</td>\n",
       "      <td>imagined</td>\n",
       "      <td>{'neg': 0.052, 'neu': 0.872, 'pos': 0.076, 'co...</td>\n",
       "      <td>Positive</td>\n",
       "    </tr>\n",
       "    <tr>\n",
       "      <th>6</th>\n",
       "      <td>35.0</td>\n",
       "      <td>Play stupid games, win stupid prizes road trip...</td>\n",
       "      <td>3.0</td>\n",
       "      <td>1.0</td>\n",
       "      <td>NaN</td>\n",
       "      <td>4.0</td>\n",
       "      <td>4.499810</td>\n",
       "      <td>a scary car ride where we swerved on our way t...</td>\n",
       "      <td>1.0</td>\n",
       "      <td>2.0</td>\n",
       "      <td>What happened is that I was on a trip with my ...</td>\n",
       "      <td>90.0</td>\n",
       "      <td>Adult</td>\n",
       "      <td>NaN</td>\n",
       "      <td>imagined</td>\n",
       "      <td>{'neg': 0.099, 'neu': 0.828, 'pos': 0.073, 'co...</td>\n",
       "      <td>Negative</td>\n",
       "    </tr>\n",
       "    <tr>\n",
       "      <th>8</th>\n",
       "      <td>25.0</td>\n",
       "      <td>I wanted to write about one of the best days i...</td>\n",
       "      <td>1.0</td>\n",
       "      <td>1.0</td>\n",
       "      <td>NaN</td>\n",
       "      <td>4.0</td>\n",
       "      <td>3.401197</td>\n",
       "      <td>my girlfriend and I going to the zoo.</td>\n",
       "      <td>4.0</td>\n",
       "      <td>1.0</td>\n",
       "      <td>Me and my girlfriend went to the zoo on a hot ...</td>\n",
       "      <td>30.0</td>\n",
       "      <td>Youth</td>\n",
       "      <td>NaN</td>\n",
       "      <td>imagined</td>\n",
       "      <td>{'neg': 0.008, 'neu': 0.841, 'pos': 0.151, 'co...</td>\n",
       "      <td>Positive</td>\n",
       "    </tr>\n",
       "  </tbody>\n",
       "</table>\n",
       "</div>"
      ],
      "text/plain": [
       "   annotatorAge                                              story  \\\n",
       "0          25.0  Concerts are my most favorite thing, and my bo...   \n",
       "2          35.0  It seems just like yesterday but today makes f...   \n",
       "4          25.0  About a month ago I went to burning man. I was...   \n",
       "6          35.0  Play stupid games, win stupid prizes road trip...   \n",
       "8          25.0  I wanted to write about one of the best days i...   \n",
       "\n",
       "   distracted  draining  frequency  importance  logTimeSinceEvent  \\\n",
       "0         1.0       1.0        NaN         3.0           4.499810   \n",
       "2         1.0       1.0        NaN         4.0           5.010635   \n",
       "4         2.0       2.0        NaN         3.0           3.401197   \n",
       "6         3.0       1.0        NaN         4.0           4.499810   \n",
       "8         1.0       1.0        NaN         4.0           3.401197   \n",
       "\n",
       "                                           mainEvent  similarity  stressful  \\\n",
       "0                                   attending a show         3.0        1.0   \n",
       "2          my sister having her twins a little early         3.0        1.0   \n",
       "4           the consequences of going to burning man         4.0        4.0   \n",
       "6  a scary car ride where we swerved on our way t...         1.0        2.0   \n",
       "8              my girlfriend and I going to the zoo.         4.0        1.0   \n",
       "\n",
       "                                             summary  timeSinceEvent AgeGroup  \\\n",
       "0  My boyfriend and I went to a concert together ...            90.0    Youth   \n",
       "2  My sister gave birth to my twin niece and neph...           150.0    Adult   \n",
       "4  It is always a journey for me to go to burning...            30.0    Youth   \n",
       "6  What happened is that I was on a trip with my ...            90.0    Adult   \n",
       "8  Me and my girlfriend went to the zoo on a hot ...            30.0    Youth   \n",
       "\n",
       "  recAgnPairId   memType                                    sentiment_score  \\\n",
       "0          NaN  imagined  {'neg': 0.011, 'neu': 0.714, 'pos': 0.274, 'co...   \n",
       "2          NaN  imagined  {'neg': 0.023, 'neu': 0.826, 'pos': 0.151, 'co...   \n",
       "4          NaN  imagined  {'neg': 0.052, 'neu': 0.872, 'pos': 0.076, 'co...   \n",
       "6          NaN  imagined  {'neg': 0.099, 'neu': 0.828, 'pos': 0.073, 'co...   \n",
       "8          NaN  imagined  {'neg': 0.008, 'neu': 0.841, 'pos': 0.151, 'co...   \n",
       "\n",
       "  sentiment  \n",
       "0  Positive  \n",
       "2  Positive  \n",
       "4  Positive  \n",
       "6  Negative  \n",
       "8  Positive  "
      ]
     },
     "execution_count": 25,
     "metadata": {},
     "output_type": "execute_result"
    }
   ],
   "source": [
    "#run function and assign them into dataframe\n",
    "imaginedSentValues = sentScore(newImagined)\n",
    "newImagined['sentiment_score'] = imaginedSentValues[0]\n",
    "newImagined['sentiment'] = imaginedSentValues[1]\n",
    "\n",
    "#here is the 2 new Sentimental Analysis columns for Imagined\n",
    "newImagined.head()"
   ]
  },
  {
   "cell_type": "markdown",
   "metadata": {},
   "source": [
    "Finally, we will run the Sentiment Analysis For Retold"
   ]
  },
  {
   "cell_type": "code",
   "execution_count": 26,
   "metadata": {},
   "outputs": [
    {
     "data": {
      "text/html": [
       "<div>\n",
       "<style scoped>\n",
       "    .dataframe tbody tr th:only-of-type {\n",
       "        vertical-align: middle;\n",
       "    }\n",
       "\n",
       "    .dataframe tbody tr th {\n",
       "        vertical-align: top;\n",
       "    }\n",
       "\n",
       "    .dataframe thead th {\n",
       "        text-align: right;\n",
       "    }\n",
       "</style>\n",
       "<table border=\"1\" class=\"dataframe\">\n",
       "  <thead>\n",
       "    <tr style=\"text-align: right;\">\n",
       "      <th></th>\n",
       "      <th>annotatorAge</th>\n",
       "      <th>story</th>\n",
       "      <th>distracted</th>\n",
       "      <th>draining</th>\n",
       "      <th>frequency</th>\n",
       "      <th>importance</th>\n",
       "      <th>logTimeSinceEvent</th>\n",
       "      <th>mainEvent</th>\n",
       "      <th>similarity</th>\n",
       "      <th>stressful</th>\n",
       "      <th>summary</th>\n",
       "      <th>timeSinceEvent</th>\n",
       "      <th>AgeGroup</th>\n",
       "      <th>recAgnPairId</th>\n",
       "      <th>memType</th>\n",
       "    </tr>\n",
       "  </thead>\n",
       "  <tbody>\n",
       "    <tr>\n",
       "      <th>9</th>\n",
       "      <td>25.0</td>\n",
       "      <td>Me and my girlfriend had gone to the Los Angel...</td>\n",
       "      <td>1.0</td>\n",
       "      <td>1.0</td>\n",
       "      <td>2.0</td>\n",
       "      <td>2.0</td>\n",
       "      <td>5.347108</td>\n",
       "      <td>a trip to the Los Angeles zoo with my girlfriend.</td>\n",
       "      <td>NaN</td>\n",
       "      <td>1.0</td>\n",
       "      <td>Me and my girlfriend went to the zoo on a hot ...</td>\n",
       "      <td>210.0</td>\n",
       "      <td>Youth</td>\n",
       "      <td>304SM51WA4QG34IRAVFYVE1S8XNSBV</td>\n",
       "      <td>retold</td>\n",
       "    </tr>\n",
       "    <tr>\n",
       "      <th>12</th>\n",
       "      <td>30.0</td>\n",
       "      <td>My Cousin's WeddingWe went to my cousin’s wedd...</td>\n",
       "      <td>3.0</td>\n",
       "      <td>4.0</td>\n",
       "      <td>3.0</td>\n",
       "      <td>3.0</td>\n",
       "      <td>5.192957</td>\n",
       "      <td>my cousin's wedding</td>\n",
       "      <td>NaN</td>\n",
       "      <td>4.0</td>\n",
       "      <td>My life was endangered for doing research on p...</td>\n",
       "      <td>180.0</td>\n",
       "      <td>Adult</td>\n",
       "      <td>304SM51WA4QG34IRAVFYVE1SAOBSB3</td>\n",
       "      <td>retold</td>\n",
       "    </tr>\n",
       "    <tr>\n",
       "      <th>18</th>\n",
       "      <td>30.0</td>\n",
       "      <td>I remember the event like it was just yesterda...</td>\n",
       "      <td>4.0</td>\n",
       "      <td>4.0</td>\n",
       "      <td>4.0</td>\n",
       "      <td>4.0</td>\n",
       "      <td>4.094345</td>\n",
       "      <td>my friend's  arrest</td>\n",
       "      <td>NaN</td>\n",
       "      <td>3.0</td>\n",
       "      <td>There was an arrest. I bailed out my friend. I...</td>\n",
       "      <td>60.0</td>\n",
       "      <td>Adult</td>\n",
       "      <td>308Q0PEVB9Z8LX0Y7Z7O060F6NK9IJ</td>\n",
       "      <td>retold</td>\n",
       "    </tr>\n",
       "    <tr>\n",
       "      <th>21</th>\n",
       "      <td>30.0</td>\n",
       "      <td>When my now four year old son was born, we wer...</td>\n",
       "      <td>1.0</td>\n",
       "      <td>1.0</td>\n",
       "      <td>4.0</td>\n",
       "      <td>4.0</td>\n",
       "      <td>4.094345</td>\n",
       "      <td>my son's foot surgery</td>\n",
       "      <td>NaN</td>\n",
       "      <td>1.0</td>\n",
       "      <td>My four year old son needed foot surgery. My h...</td>\n",
       "      <td>60.0</td>\n",
       "      <td>Adult</td>\n",
       "      <td>308Q0PEVB9Z8LX0Y7Z7O060FETEI96</td>\n",
       "      <td>retold</td>\n",
       "    </tr>\n",
       "    <tr>\n",
       "      <th>26</th>\n",
       "      <td>30.0</td>\n",
       "      <td>About seven and a half months ago I found out ...</td>\n",
       "      <td>1.0</td>\n",
       "      <td>1.0</td>\n",
       "      <td>5.0</td>\n",
       "      <td>5.0</td>\n",
       "      <td>5.480639</td>\n",
       "      <td>Finding out I am going to be a father.</td>\n",
       "      <td>NaN</td>\n",
       "      <td>1.0</td>\n",
       "      <td>I found out I am going to be a father.  My wif...</td>\n",
       "      <td>240.0</td>\n",
       "      <td>Adult</td>\n",
       "      <td>308XBLVESJQ42PIEV6FT54WWN37BRA</td>\n",
       "      <td>retold</td>\n",
       "    </tr>\n",
       "    <tr>\n",
       "      <th>...</th>\n",
       "      <td>...</td>\n",
       "      <td>...</td>\n",
       "      <td>...</td>\n",
       "      <td>...</td>\n",
       "      <td>...</td>\n",
       "      <td>...</td>\n",
       "      <td>...</td>\n",
       "      <td>...</td>\n",
       "      <td>...</td>\n",
       "      <td>...</td>\n",
       "      <td>...</td>\n",
       "      <td>...</td>\n",
       "      <td>...</td>\n",
       "      <td>...</td>\n",
       "      <td>...</td>\n",
       "    </tr>\n",
       "    <tr>\n",
       "      <th>6725</th>\n",
       "      <td>55.0</td>\n",
       "      <td>Another of my little birds have left the nest....</td>\n",
       "      <td>1.0</td>\n",
       "      <td>2.0</td>\n",
       "      <td>4.0</td>\n",
       "      <td>4.0</td>\n",
       "      <td>4.094345</td>\n",
       "      <td>training my coworker to her new store manager ...</td>\n",
       "      <td>NaN</td>\n",
       "      <td>1.0</td>\n",
       "      <td>My trainee was finally promoted to manager aft...</td>\n",
       "      <td>60.0</td>\n",
       "      <td>Senior</td>\n",
       "      <td>NaN</td>\n",
       "      <td>retold</td>\n",
       "    </tr>\n",
       "    <tr>\n",
       "      <th>6726</th>\n",
       "      <td>25.0</td>\n",
       "      <td>Earlier this year there was a domestic violenc...</td>\n",
       "      <td>1.0</td>\n",
       "      <td>5.0</td>\n",
       "      <td>5.0</td>\n",
       "      <td>5.0</td>\n",
       "      <td>5.598422</td>\n",
       "      <td>me being involved in a domestic violence incident</td>\n",
       "      <td>NaN</td>\n",
       "      <td>4.0</td>\n",
       "      <td>Got in a verbal argument with wife, which led ...</td>\n",
       "      <td>270.0</td>\n",
       "      <td>Youth</td>\n",
       "      <td>NaN</td>\n",
       "      <td>retold</td>\n",
       "    </tr>\n",
       "    <tr>\n",
       "      <th>6727</th>\n",
       "      <td>25.0</td>\n",
       "      <td>I remember a time when i was going to my mothe...</td>\n",
       "      <td>3.0</td>\n",
       "      <td>4.0</td>\n",
       "      <td>4.0</td>\n",
       "      <td>3.0</td>\n",
       "      <td>2.639057</td>\n",
       "      <td>brother getting engaged</td>\n",
       "      <td>NaN</td>\n",
       "      <td>4.0</td>\n",
       "      <td>{}</td>\n",
       "      <td>14.0</td>\n",
       "      <td>Youth</td>\n",
       "      <td>NaN</td>\n",
       "      <td>retold</td>\n",
       "    </tr>\n",
       "    <tr>\n",
       "      <th>6728</th>\n",
       "      <td>18.0</td>\n",
       "      <td>When I graduated high I was initially very hap...</td>\n",
       "      <td>4.0</td>\n",
       "      <td>3.0</td>\n",
       "      <td>4.0</td>\n",
       "      <td>4.0</td>\n",
       "      <td>5.010635</td>\n",
       "      <td>about graduating high shcool</td>\n",
       "      <td>NaN</td>\n",
       "      <td>2.0</td>\n",
       "      <td>I graduated high school. After that I realized...</td>\n",
       "      <td>150.0</td>\n",
       "      <td>Youth</td>\n",
       "      <td>NaN</td>\n",
       "      <td>retold</td>\n",
       "    </tr>\n",
       "    <tr>\n",
       "      <th>6729</th>\n",
       "      <td>50.0</td>\n",
       "      <td>My sister and I sat down with my mom to talk a...</td>\n",
       "      <td>1.0</td>\n",
       "      <td>1.0</td>\n",
       "      <td>2.0</td>\n",
       "      <td>5.0</td>\n",
       "      <td>1.945910</td>\n",
       "      <td>family history sharing with my mother.</td>\n",
       "      <td>NaN</td>\n",
       "      <td>1.0</td>\n",
       "      <td>Mother relates how she was terrified of the KK...</td>\n",
       "      <td>7.0</td>\n",
       "      <td>Senior</td>\n",
       "      <td>NaN</td>\n",
       "      <td>retold</td>\n",
       "    </tr>\n",
       "  </tbody>\n",
       "</table>\n",
       "<p>1313 rows × 15 columns</p>\n",
       "</div>"
      ],
      "text/plain": [
       "      annotatorAge                                              story  \\\n",
       "9             25.0  Me and my girlfriend had gone to the Los Angel...   \n",
       "12            30.0  My Cousin's WeddingWe went to my cousin’s wedd...   \n",
       "18            30.0  I remember the event like it was just yesterda...   \n",
       "21            30.0  When my now four year old son was born, we wer...   \n",
       "26            30.0  About seven and a half months ago I found out ...   \n",
       "...            ...                                                ...   \n",
       "6725          55.0  Another of my little birds have left the nest....   \n",
       "6726          25.0  Earlier this year there was a domestic violenc...   \n",
       "6727          25.0  I remember a time when i was going to my mothe...   \n",
       "6728          18.0  When I graduated high I was initially very hap...   \n",
       "6729          50.0  My sister and I sat down with my mom to talk a...   \n",
       "\n",
       "      distracted  draining  frequency  importance  logTimeSinceEvent  \\\n",
       "9            1.0       1.0        2.0         2.0           5.347108   \n",
       "12           3.0       4.0        3.0         3.0           5.192957   \n",
       "18           4.0       4.0        4.0         4.0           4.094345   \n",
       "21           1.0       1.0        4.0         4.0           4.094345   \n",
       "26           1.0       1.0        5.0         5.0           5.480639   \n",
       "...          ...       ...        ...         ...                ...   \n",
       "6725         1.0       2.0        4.0         4.0           4.094345   \n",
       "6726         1.0       5.0        5.0         5.0           5.598422   \n",
       "6727         3.0       4.0        4.0         3.0           2.639057   \n",
       "6728         4.0       3.0        4.0         4.0           5.010635   \n",
       "6729         1.0       1.0        2.0         5.0           1.945910   \n",
       "\n",
       "                                              mainEvent  similarity  \\\n",
       "9     a trip to the Los Angeles zoo with my girlfriend.         NaN   \n",
       "12                                  my cousin's wedding         NaN   \n",
       "18                                  my friend's  arrest         NaN   \n",
       "21                                my son's foot surgery         NaN   \n",
       "26               Finding out I am going to be a father.         NaN   \n",
       "...                                                 ...         ...   \n",
       "6725  training my coworker to her new store manager ...         NaN   \n",
       "6726  me being involved in a domestic violence incident         NaN   \n",
       "6727                            brother getting engaged         NaN   \n",
       "6728                       about graduating high shcool         NaN   \n",
       "6729             family history sharing with my mother.         NaN   \n",
       "\n",
       "      stressful                                            summary  \\\n",
       "9           1.0  Me and my girlfriend went to the zoo on a hot ...   \n",
       "12          4.0  My life was endangered for doing research on p...   \n",
       "18          3.0  There was an arrest. I bailed out my friend. I...   \n",
       "21          1.0  My four year old son needed foot surgery. My h...   \n",
       "26          1.0  I found out I am going to be a father.  My wif...   \n",
       "...         ...                                                ...   \n",
       "6725        1.0  My trainee was finally promoted to manager aft...   \n",
       "6726        4.0  Got in a verbal argument with wife, which led ...   \n",
       "6727        4.0                                                 {}   \n",
       "6728        2.0  I graduated high school. After that I realized...   \n",
       "6729        1.0  Mother relates how she was terrified of the KK...   \n",
       "\n",
       "      timeSinceEvent AgeGroup                    recAgnPairId memType  \n",
       "9              210.0    Youth  304SM51WA4QG34IRAVFYVE1S8XNSBV  retold  \n",
       "12             180.0    Adult  304SM51WA4QG34IRAVFYVE1SAOBSB3  retold  \n",
       "18              60.0    Adult  308Q0PEVB9Z8LX0Y7Z7O060F6NK9IJ  retold  \n",
       "21              60.0    Adult  308Q0PEVB9Z8LX0Y7Z7O060FETEI96  retold  \n",
       "26             240.0    Adult  308XBLVESJQ42PIEV6FT54WWN37BRA  retold  \n",
       "...              ...      ...                             ...     ...  \n",
       "6725            60.0   Senior                             NaN  retold  \n",
       "6726           270.0    Youth                             NaN  retold  \n",
       "6727            14.0    Youth                             NaN  retold  \n",
       "6728           150.0    Youth                             NaN  retold  \n",
       "6729             7.0   Senior                             NaN  retold  \n",
       "\n",
       "[1313 rows x 15 columns]"
      ]
     },
     "execution_count": 26,
     "metadata": {},
     "output_type": "execute_result"
    }
   ],
   "source": [
    "newRetold"
   ]
  },
  {
   "cell_type": "code",
   "execution_count": 27,
   "metadata": {},
   "outputs": [
    {
     "name": "stderr",
     "output_type": "stream",
     "text": [
      "C:\\Users\\kstev\\AppData\\Local\\Temp\\ipykernel_8608\\2067372744.py:3: SettingWithCopyWarning: \n",
      "A value is trying to be set on a copy of a slice from a DataFrame.\n",
      "Try using .loc[row_indexer,col_indexer] = value instead\n",
      "\n",
      "See the caveats in the documentation: https://pandas.pydata.org/pandas-docs/stable/user_guide/indexing.html#returning-a-view-versus-a-copy\n",
      "  newRetold['sentiment_score'] = retoldSentValues[0]\n",
      "C:\\Users\\kstev\\AppData\\Local\\Temp\\ipykernel_8608\\2067372744.py:4: SettingWithCopyWarning: \n",
      "A value is trying to be set on a copy of a slice from a DataFrame.\n",
      "Try using .loc[row_indexer,col_indexer] = value instead\n",
      "\n",
      "See the caveats in the documentation: https://pandas.pydata.org/pandas-docs/stable/user_guide/indexing.html#returning-a-view-versus-a-copy\n",
      "  newRetold['sentiment'] = retoldSentValues[1]\n"
     ]
    },
    {
     "data": {
      "text/html": [
       "<div>\n",
       "<style scoped>\n",
       "    .dataframe tbody tr th:only-of-type {\n",
       "        vertical-align: middle;\n",
       "    }\n",
       "\n",
       "    .dataframe tbody tr th {\n",
       "        vertical-align: top;\n",
       "    }\n",
       "\n",
       "    .dataframe thead th {\n",
       "        text-align: right;\n",
       "    }\n",
       "</style>\n",
       "<table border=\"1\" class=\"dataframe\">\n",
       "  <thead>\n",
       "    <tr style=\"text-align: right;\">\n",
       "      <th></th>\n",
       "      <th>annotatorAge</th>\n",
       "      <th>story</th>\n",
       "      <th>distracted</th>\n",
       "      <th>draining</th>\n",
       "      <th>frequency</th>\n",
       "      <th>importance</th>\n",
       "      <th>logTimeSinceEvent</th>\n",
       "      <th>mainEvent</th>\n",
       "      <th>similarity</th>\n",
       "      <th>stressful</th>\n",
       "      <th>summary</th>\n",
       "      <th>timeSinceEvent</th>\n",
       "      <th>AgeGroup</th>\n",
       "      <th>recAgnPairId</th>\n",
       "      <th>memType</th>\n",
       "      <th>sentiment_score</th>\n",
       "      <th>sentiment</th>\n",
       "    </tr>\n",
       "  </thead>\n",
       "  <tbody>\n",
       "    <tr>\n",
       "      <th>9</th>\n",
       "      <td>25.0</td>\n",
       "      <td>Me and my girlfriend had gone to the Los Angel...</td>\n",
       "      <td>1.0</td>\n",
       "      <td>1.0</td>\n",
       "      <td>2.0</td>\n",
       "      <td>2.0</td>\n",
       "      <td>5.347108</td>\n",
       "      <td>a trip to the Los Angeles zoo with my girlfriend.</td>\n",
       "      <td>NaN</td>\n",
       "      <td>1.0</td>\n",
       "      <td>Me and my girlfriend went to the zoo on a hot ...</td>\n",
       "      <td>210.0</td>\n",
       "      <td>Youth</td>\n",
       "      <td>304SM51WA4QG34IRAVFYVE1S8XNSBV</td>\n",
       "      <td>retold</td>\n",
       "      <td>{'neg': 0.033, 'neu': 0.923, 'pos': 0.044, 'co...</td>\n",
       "      <td>Positive</td>\n",
       "    </tr>\n",
       "    <tr>\n",
       "      <th>12</th>\n",
       "      <td>30.0</td>\n",
       "      <td>My Cousin's WeddingWe went to my cousin’s wedd...</td>\n",
       "      <td>3.0</td>\n",
       "      <td>4.0</td>\n",
       "      <td>3.0</td>\n",
       "      <td>3.0</td>\n",
       "      <td>5.192957</td>\n",
       "      <td>my cousin's wedding</td>\n",
       "      <td>NaN</td>\n",
       "      <td>4.0</td>\n",
       "      <td>My life was endangered for doing research on p...</td>\n",
       "      <td>180.0</td>\n",
       "      <td>Adult</td>\n",
       "      <td>304SM51WA4QG34IRAVFYVE1SAOBSB3</td>\n",
       "      <td>retold</td>\n",
       "      <td>{'neg': 0.062, 'neu': 0.853, 'pos': 0.085, 'co...</td>\n",
       "      <td>Positive</td>\n",
       "    </tr>\n",
       "    <tr>\n",
       "      <th>18</th>\n",
       "      <td>30.0</td>\n",
       "      <td>I remember the event like it was just yesterda...</td>\n",
       "      <td>4.0</td>\n",
       "      <td>4.0</td>\n",
       "      <td>4.0</td>\n",
       "      <td>4.0</td>\n",
       "      <td>4.094345</td>\n",
       "      <td>my friend's  arrest</td>\n",
       "      <td>NaN</td>\n",
       "      <td>3.0</td>\n",
       "      <td>There was an arrest. I bailed out my friend. I...</td>\n",
       "      <td>60.0</td>\n",
       "      <td>Adult</td>\n",
       "      <td>308Q0PEVB9Z8LX0Y7Z7O060F6NK9IJ</td>\n",
       "      <td>retold</td>\n",
       "      <td>{'neg': 0.063, 'neu': 0.702, 'pos': 0.234, 'co...</td>\n",
       "      <td>Positive</td>\n",
       "    </tr>\n",
       "    <tr>\n",
       "      <th>21</th>\n",
       "      <td>30.0</td>\n",
       "      <td>When my now four year old son was born, we wer...</td>\n",
       "      <td>1.0</td>\n",
       "      <td>1.0</td>\n",
       "      <td>4.0</td>\n",
       "      <td>4.0</td>\n",
       "      <td>4.094345</td>\n",
       "      <td>my son's foot surgery</td>\n",
       "      <td>NaN</td>\n",
       "      <td>1.0</td>\n",
       "      <td>My four year old son needed foot surgery. My h...</td>\n",
       "      <td>60.0</td>\n",
       "      <td>Adult</td>\n",
       "      <td>308Q0PEVB9Z8LX0Y7Z7O060FETEI96</td>\n",
       "      <td>retold</td>\n",
       "      <td>{'neg': 0.05, 'neu': 0.873, 'pos': 0.077, 'com...</td>\n",
       "      <td>Positive</td>\n",
       "    </tr>\n",
       "    <tr>\n",
       "      <th>26</th>\n",
       "      <td>30.0</td>\n",
       "      <td>About seven and a half months ago I found out ...</td>\n",
       "      <td>1.0</td>\n",
       "      <td>1.0</td>\n",
       "      <td>5.0</td>\n",
       "      <td>5.0</td>\n",
       "      <td>5.480639</td>\n",
       "      <td>Finding out I am going to be a father.</td>\n",
       "      <td>NaN</td>\n",
       "      <td>1.0</td>\n",
       "      <td>I found out I am going to be a father.  My wif...</td>\n",
       "      <td>240.0</td>\n",
       "      <td>Adult</td>\n",
       "      <td>308XBLVESJQ42PIEV6FT54WWN37BRA</td>\n",
       "      <td>retold</td>\n",
       "      <td>{'neg': 0.009, 'neu': 0.88, 'pos': 0.112, 'com...</td>\n",
       "      <td>Positive</td>\n",
       "    </tr>\n",
       "  </tbody>\n",
       "</table>\n",
       "</div>"
      ],
      "text/plain": [
       "    annotatorAge                                              story  \\\n",
       "9           25.0  Me and my girlfriend had gone to the Los Angel...   \n",
       "12          30.0  My Cousin's WeddingWe went to my cousin’s wedd...   \n",
       "18          30.0  I remember the event like it was just yesterda...   \n",
       "21          30.0  When my now four year old son was born, we wer...   \n",
       "26          30.0  About seven and a half months ago I found out ...   \n",
       "\n",
       "    distracted  draining  frequency  importance  logTimeSinceEvent  \\\n",
       "9          1.0       1.0        2.0         2.0           5.347108   \n",
       "12         3.0       4.0        3.0         3.0           5.192957   \n",
       "18         4.0       4.0        4.0         4.0           4.094345   \n",
       "21         1.0       1.0        4.0         4.0           4.094345   \n",
       "26         1.0       1.0        5.0         5.0           5.480639   \n",
       "\n",
       "                                            mainEvent  similarity  stressful  \\\n",
       "9   a trip to the Los Angeles zoo with my girlfriend.         NaN        1.0   \n",
       "12                                my cousin's wedding         NaN        4.0   \n",
       "18                                my friend's  arrest         NaN        3.0   \n",
       "21                              my son's foot surgery         NaN        1.0   \n",
       "26             Finding out I am going to be a father.         NaN        1.0   \n",
       "\n",
       "                                              summary  timeSinceEvent  \\\n",
       "9   Me and my girlfriend went to the zoo on a hot ...           210.0   \n",
       "12  My life was endangered for doing research on p...           180.0   \n",
       "18  There was an arrest. I bailed out my friend. I...            60.0   \n",
       "21  My four year old son needed foot surgery. My h...            60.0   \n",
       "26  I found out I am going to be a father.  My wif...           240.0   \n",
       "\n",
       "   AgeGroup                    recAgnPairId memType  \\\n",
       "9     Youth  304SM51WA4QG34IRAVFYVE1S8XNSBV  retold   \n",
       "12    Adult  304SM51WA4QG34IRAVFYVE1SAOBSB3  retold   \n",
       "18    Adult  308Q0PEVB9Z8LX0Y7Z7O060F6NK9IJ  retold   \n",
       "21    Adult  308Q0PEVB9Z8LX0Y7Z7O060FETEI96  retold   \n",
       "26    Adult  308XBLVESJQ42PIEV6FT54WWN37BRA  retold   \n",
       "\n",
       "                                      sentiment_score sentiment  \n",
       "9   {'neg': 0.033, 'neu': 0.923, 'pos': 0.044, 'co...  Positive  \n",
       "12  {'neg': 0.062, 'neu': 0.853, 'pos': 0.085, 'co...  Positive  \n",
       "18  {'neg': 0.063, 'neu': 0.702, 'pos': 0.234, 'co...  Positive  \n",
       "21  {'neg': 0.05, 'neu': 0.873, 'pos': 0.077, 'com...  Positive  \n",
       "26  {'neg': 0.009, 'neu': 0.88, 'pos': 0.112, 'com...  Positive  "
      ]
     },
     "execution_count": 27,
     "metadata": {},
     "output_type": "execute_result"
    }
   ],
   "source": [
    "#Apply function and assign columns into dataframe\n",
    "retoldSentValues = sentScore(newRetold)\n",
    "newRetold['sentiment_score'] = retoldSentValues[0]\n",
    "newRetold['sentiment'] = retoldSentValues[1]\n",
    "\n",
    "#Here is the 2 new Sentimental Analysis columns for Retold\n",
    "newRetold.head()"
   ]
  },
  {
   "cell_type": "code",
   "execution_count": 28,
   "metadata": {},
   "outputs": [
    {
     "data": {
      "text/plain": [
       "1304"
      ]
     },
     "execution_count": 28,
     "metadata": {},
     "output_type": "execute_result"
    }
   ],
   "source": [
    "newRetold.recAgnPairId.notnull().sum()"
   ]
  },
  {
   "cell_type": "markdown",
   "metadata": {},
   "source": [
    "Now that we have finished the sentimental analysis, we will run the **Spacy similarity** analysis. We are going to use their english large package for vectorization because all the stories that were told range drastically. By using the large package we will be able to better vectorize our data with cosin similarity. Additionaly the retold group retells their story that they gave during their time in the recalled group given a summary that they created at the end of their recalled observation. So we are going to make a new dataset that only focus on the subjects that were in the **recalled** and **retold** groups. This will allow for us to observe a change, if any, in their story telling over a random time period"
   ]
  },
  {
   "cell_type": "code",
   "execution_count": 29,
   "metadata": {},
   "outputs": [
    {
     "data": {
      "text/plain": [
       "1095"
      ]
     },
     "execution_count": 29,
     "metadata": {},
     "output_type": "execute_result"
    }
   ],
   "source": [
    "cleanedRecalledAndRetold.recAgnPairId.notnull().sum()"
   ]
  },
  {
   "cell_type": "code",
   "execution_count": 30,
   "metadata": {},
   "outputs": [],
   "source": [
    "#load spacy's en_core_web_lg\n",
    "nlp = spacy.load('en_core_web_lg')"
   ]
  },
  {
   "cell_type": "code",
   "execution_count": 31,
   "metadata": {},
   "outputs": [],
   "source": [
    "#run nlp function from earlier\n",
    "test1 = cleanedRecalledAndRetold['story'].iloc[0]\n",
    "test2 = cleanedRecalledAndRetold['retold stories'].iloc[0]\n",
    "doc1 = nlp(test1)\n",
    "doc2 = nlp(test2)\n"
   ]
  },
  {
   "cell_type": "markdown",
   "metadata": {},
   "source": [
    "Here, we can see the similarity between doc1 and doc2"
   ]
  },
  {
   "cell_type": "code",
   "execution_count": 32,
   "metadata": {},
   "outputs": [
    {
     "name": "stdout",
     "output_type": "stream",
     "text": [
      "0.9935621914876923\n"
     ]
    }
   ],
   "source": [
    "print(doc1.similarity(doc2))"
   ]
  },
  {
   "cell_type": "markdown",
   "metadata": {},
   "source": [
    "Next, we will create a function that compares the similarity between the recalled story and the retold story"
   ]
  },
  {
   "cell_type": "code",
   "execution_count": 33,
   "metadata": {},
   "outputs": [],
   "source": [
    "def applyingSpacy(df):\n",
    "    sim_score = []\n",
    "    \n",
    "    for i in range(len(df)):\n",
    "        ogStory = df['story'].iloc[i]\n",
    "        newStory = df['retold stories'].iloc[i]\n",
    "        nlpComp1 = nlp(ogStory)\n",
    "        nlpComp2 = nlp(newStory)\n",
    "        sim_score.append(nlpComp1.similarity(nlpComp2))\n",
    "        \n",
    "    return sim_score"
   ]
  },
  {
   "cell_type": "code",
   "execution_count": 67,
   "metadata": {},
   "outputs": [],
   "source": [
    "#Apply the function, this will take a minute to run\n",
    "sim_scores = applyingSpacy(cleanedRecalledAndRetold)"
   ]
  },
  {
   "cell_type": "markdown",
   "metadata": {},
   "source": [
    "Lets double check that all the stories were processed"
   ]
  },
  {
   "cell_type": "code",
   "execution_count": 35,
   "metadata": {},
   "outputs": [
    {
     "name": "stdout",
     "output_type": "stream",
     "text": [
      "(1095, 25)\n",
      "1095\n"
     ]
    }
   ],
   "source": [
    "print(cleanedRecalledAndRetold.shape)\n",
    "print(len(sim_scores))"
   ]
  },
  {
   "cell_type": "markdown",
   "metadata": {},
   "source": [
    "Since all the stories were processed lets add it back into the dataframe"
   ]
  },
  {
   "cell_type": "code",
   "execution_count": 36,
   "metadata": {},
   "outputs": [
    {
     "name": "stderr",
     "output_type": "stream",
     "text": [
      "C:\\Users\\kstev\\AppData\\Local\\Temp\\ipykernel_8608\\1405917381.py:1: SettingWithCopyWarning: \n",
      "A value is trying to be set on a copy of a slice from a DataFrame.\n",
      "Try using .loc[row_indexer,col_indexer] = value instead\n",
      "\n",
      "See the caveats in the documentation: https://pandas.pydata.org/pandas-docs/stable/user_guide/indexing.html#returning-a-view-versus-a-copy\n",
      "  cleanedRecalledAndRetold['spacy_sim'] = sim_scores\n"
     ]
    },
    {
     "data": {
      "text/html": [
       "<div>\n",
       "<style scoped>\n",
       "    .dataframe tbody tr th:only-of-type {\n",
       "        vertical-align: middle;\n",
       "    }\n",
       "\n",
       "    .dataframe tbody tr th {\n",
       "        vertical-align: top;\n",
       "    }\n",
       "\n",
       "    .dataframe thead th {\n",
       "        text-align: right;\n",
       "    }\n",
       "</style>\n",
       "<table border=\"1\" class=\"dataframe\">\n",
       "  <thead>\n",
       "    <tr style=\"text-align: right;\">\n",
       "      <th></th>\n",
       "      <th>AssignmentId</th>\n",
       "      <th>WorkTimeInSeconds</th>\n",
       "      <th>WorkerId</th>\n",
       "      <th>annotatorAge</th>\n",
       "      <th>annotatorGender</th>\n",
       "      <th>annotatorRace</th>\n",
       "      <th>distracted</th>\n",
       "      <th>draining</th>\n",
       "      <th>frequency</th>\n",
       "      <th>importance</th>\n",
       "      <th>...</th>\n",
       "      <th>recImgPairId</th>\n",
       "      <th>similarity</th>\n",
       "      <th>similarityReason</th>\n",
       "      <th>story</th>\n",
       "      <th>stressful</th>\n",
       "      <th>summary</th>\n",
       "      <th>timeSinceEvent</th>\n",
       "      <th>retold stories</th>\n",
       "      <th>time since recalled</th>\n",
       "      <th>spacy_sim</th>\n",
       "    </tr>\n",
       "  </thead>\n",
       "  <tbody>\n",
       "    <tr>\n",
       "      <th>9</th>\n",
       "      <td>3YGXWBAF713GBO8MYUFB8VR53RKC4M</td>\n",
       "      <td>7228</td>\n",
       "      <td>4MFUAYFX</td>\n",
       "      <td>25.0</td>\n",
       "      <td>man</td>\n",
       "      <td>hisp</td>\n",
       "      <td>1.0</td>\n",
       "      <td>1.0</td>\n",
       "      <td>2.0</td>\n",
       "      <td>2.0</td>\n",
       "      <td>...</td>\n",
       "      <td>NaN</td>\n",
       "      <td>NaN</td>\n",
       "      <td>NaN</td>\n",
       "      <td>Me and my girlfriend had gone to the Los Angel...</td>\n",
       "      <td>1.0</td>\n",
       "      <td>Me and my girlfriend went to the zoo on a hot ...</td>\n",
       "      <td>210.0</td>\n",
       "      <td>About a month ago me and my girlfriend went to...</td>\n",
       "      <td>30.0</td>\n",
       "      <td>0.993562</td>\n",
       "    </tr>\n",
       "    <tr>\n",
       "      <th>12</th>\n",
       "      <td>35LDD5557BQEYC9GWBW5I8LCG5AKMA</td>\n",
       "      <td>4925</td>\n",
       "      <td>HE3SATVD</td>\n",
       "      <td>30.0</td>\n",
       "      <td>man</td>\n",
       "      <td>black</td>\n",
       "      <td>3.0</td>\n",
       "      <td>4.0</td>\n",
       "      <td>3.0</td>\n",
       "      <td>3.0</td>\n",
       "      <td>...</td>\n",
       "      <td>NaN</td>\n",
       "      <td>NaN</td>\n",
       "      <td>NaN</td>\n",
       "      <td>My Cousin's WeddingWe went to my cousin’s wedd...</td>\n",
       "      <td>4.0</td>\n",
       "      <td>My life was endangered for doing research on p...</td>\n",
       "      <td>180.0</td>\n",
       "      <td>It happen 2 weeks ago at the library. Stared o...</td>\n",
       "      <td>14.0</td>\n",
       "      <td>0.971579</td>\n",
       "    </tr>\n",
       "    <tr>\n",
       "      <th>18</th>\n",
       "      <td>3NAPMVF0ZX10WTY33ZOCZU2SUYL72I</td>\n",
       "      <td>6488</td>\n",
       "      <td>AXJ0SHSA</td>\n",
       "      <td>30.0</td>\n",
       "      <td>man</td>\n",
       "      <td>white</td>\n",
       "      <td>4.0</td>\n",
       "      <td>4.0</td>\n",
       "      <td>4.0</td>\n",
       "      <td>4.0</td>\n",
       "      <td>...</td>\n",
       "      <td>NaN</td>\n",
       "      <td>NaN</td>\n",
       "      <td>NaN</td>\n",
       "      <td>I remember the event like it was just yesterda...</td>\n",
       "      <td>3.0</td>\n",
       "      <td>There was an arrest. I bailed out my friend. I...</td>\n",
       "      <td>60.0</td>\n",
       "      <td>About a week ago a received a phone call from ...</td>\n",
       "      <td>7.0</td>\n",
       "      <td>0.983846</td>\n",
       "    </tr>\n",
       "    <tr>\n",
       "      <th>21</th>\n",
       "      <td>3C8HJ7UOP8G9N782WCZF5N9PKNHZMN</td>\n",
       "      <td>1405</td>\n",
       "      <td>2WT572QN</td>\n",
       "      <td>30.0</td>\n",
       "      <td>woman</td>\n",
       "      <td>hisp</td>\n",
       "      <td>1.0</td>\n",
       "      <td>1.0</td>\n",
       "      <td>4.0</td>\n",
       "      <td>4.0</td>\n",
       "      <td>...</td>\n",
       "      <td>NaN</td>\n",
       "      <td>NaN</td>\n",
       "      <td>NaN</td>\n",
       "      <td>When my now four year old son was born, we wer...</td>\n",
       "      <td>1.0</td>\n",
       "      <td>My four year old son needed foot surgery. My h...</td>\n",
       "      <td>60.0</td>\n",
       "      <td>A memorable event that I have recently had hap...</td>\n",
       "      <td>7.0</td>\n",
       "      <td>0.994450</td>\n",
       "    </tr>\n",
       "    <tr>\n",
       "      <th>31</th>\n",
       "      <td>324G5B4FB4UT0JVPOCKYG69D7A807S</td>\n",
       "      <td>1834</td>\n",
       "      <td>AKT7XTAI</td>\n",
       "      <td>45.0</td>\n",
       "      <td>man</td>\n",
       "      <td>black</td>\n",
       "      <td>2.0</td>\n",
       "      <td>2.0</td>\n",
       "      <td>5.0</td>\n",
       "      <td>5.0</td>\n",
       "      <td>...</td>\n",
       "      <td>NaN</td>\n",
       "      <td>NaN</td>\n",
       "      <td>NaN</td>\n",
       "      <td>I fell down a flight of stairs in my home, in ...</td>\n",
       "      <td>2.0</td>\n",
       "      <td>I fell down the stairs in my home and suffered...</td>\n",
       "      <td>240.0</td>\n",
       "      <td>Last May,  I had just come upstairs to get rea...</td>\n",
       "      <td>120.0</td>\n",
       "      <td>0.993332</td>\n",
       "    </tr>\n",
       "  </tbody>\n",
       "</table>\n",
       "<p>5 rows × 26 columns</p>\n",
       "</div>"
      ],
      "text/plain": [
       "                      AssignmentId  WorkTimeInSeconds  WorkerId  annotatorAge  \\\n",
       "9   3YGXWBAF713GBO8MYUFB8VR53RKC4M               7228  4MFUAYFX          25.0   \n",
       "12  35LDD5557BQEYC9GWBW5I8LCG5AKMA               4925  HE3SATVD          30.0   \n",
       "18  3NAPMVF0ZX10WTY33ZOCZU2SUYL72I               6488  AXJ0SHSA          30.0   \n",
       "21  3C8HJ7UOP8G9N782WCZF5N9PKNHZMN               1405  2WT572QN          30.0   \n",
       "31  324G5B4FB4UT0JVPOCKYG69D7A807S               1834  AKT7XTAI          45.0   \n",
       "\n",
       "   annotatorGender annotatorRace  distracted  draining  frequency  importance  \\\n",
       "9              man          hisp         1.0       1.0        2.0         2.0   \n",
       "12             man         black         3.0       4.0        3.0         3.0   \n",
       "18             man         white         4.0       4.0        4.0         4.0   \n",
       "21           woman          hisp         1.0       1.0        4.0         4.0   \n",
       "31             man         black         2.0       2.0        5.0         5.0   \n",
       "\n",
       "    ...  recImgPairId similarity similarityReason  \\\n",
       "9   ...           NaN        NaN              NaN   \n",
       "12  ...           NaN        NaN              NaN   \n",
       "18  ...           NaN        NaN              NaN   \n",
       "21  ...           NaN        NaN              NaN   \n",
       "31  ...           NaN        NaN              NaN   \n",
       "\n",
       "                                                story  stressful  \\\n",
       "9   Me and my girlfriend had gone to the Los Angel...        1.0   \n",
       "12  My Cousin's WeddingWe went to my cousin’s wedd...        4.0   \n",
       "18  I remember the event like it was just yesterda...        3.0   \n",
       "21  When my now four year old son was born, we wer...        1.0   \n",
       "31  I fell down a flight of stairs in my home, in ...        2.0   \n",
       "\n",
       "                                              summary  timeSinceEvent  \\\n",
       "9   Me and my girlfriend went to the zoo on a hot ...           210.0   \n",
       "12  My life was endangered for doing research on p...           180.0   \n",
       "18  There was an arrest. I bailed out my friend. I...            60.0   \n",
       "21  My four year old son needed foot surgery. My h...            60.0   \n",
       "31  I fell down the stairs in my home and suffered...           240.0   \n",
       "\n",
       "                                       retold stories  time since recalled  \\\n",
       "9   About a month ago me and my girlfriend went to...                 30.0   \n",
       "12  It happen 2 weeks ago at the library. Stared o...                 14.0   \n",
       "18  About a week ago a received a phone call from ...                  7.0   \n",
       "21  A memorable event that I have recently had hap...                  7.0   \n",
       "31  Last May,  I had just come upstairs to get rea...                120.0   \n",
       "\n",
       "   spacy_sim  \n",
       "9   0.993562  \n",
       "12  0.971579  \n",
       "18  0.983846  \n",
       "21  0.994450  \n",
       "31  0.993332  \n",
       "\n",
       "[5 rows x 26 columns]"
      ]
     },
     "execution_count": 36,
     "metadata": {},
     "output_type": "execute_result"
    }
   ],
   "source": [
    "cleanedRecalledAndRetold['spacy_sim'] = sim_scores\n",
    "cleanedRecalledAndRetold.head()"
   ]
  },
  {
   "cell_type": "markdown",
   "metadata": {},
   "source": [
    "Lets readd the age group to the dataframe so when we visualize we can see the differences in the age groups"
   ]
  },
  {
   "cell_type": "code",
   "execution_count": 37,
   "metadata": {},
   "outputs": [],
   "source": [
    "ageKey = cleanedRecalledAndRetold.apply(lambda row: ageGroup(row),axis=1)\n"
   ]
  },
  {
   "cell_type": "code",
   "execution_count": 38,
   "metadata": {},
   "outputs": [
    {
     "name": "stderr",
     "output_type": "stream",
     "text": [
      "C:\\Users\\kstev\\AppData\\Local\\Temp\\ipykernel_8608\\3990097904.py:1: SettingWithCopyWarning: \n",
      "A value is trying to be set on a copy of a slice from a DataFrame.\n",
      "Try using .loc[row_indexer,col_indexer] = value instead\n",
      "\n",
      "See the caveats in the documentation: https://pandas.pydata.org/pandas-docs/stable/user_guide/indexing.html#returning-a-view-versus-a-copy\n",
      "  cleanedRecalledAndRetold['AgeGroup'] = ageKey\n"
     ]
    }
   ],
   "source": [
    "cleanedRecalledAndRetold['AgeGroup'] = ageKey"
   ]
  },
  {
   "cell_type": "markdown",
   "metadata": {},
   "source": [
    "Lets plot our results from Spacy and see what we get\n"
   ]
  },
  {
   "cell_type": "code",
   "execution_count": 39,
   "metadata": {},
   "outputs": [
    {
     "data": {
      "text/plain": [
       "<AxesSubplot:xlabel='time since recalled', ylabel='spacy_sim'>"
      ]
     },
     "execution_count": 39,
     "metadata": {},
     "output_type": "execute_result"
    },
    {
     "data": {
      "image/png": "[encoded data removed]",
      "text/plain": [
       "<Figure size 432x288 with 1 Axes>"
      ]
     },
     "metadata": {
      "needs_background": "light"
     },
     "output_type": "display_data"
    }
   ],
   "source": [
    "cleanedRecalledAndRetold.plot.scatter(x='time since recalled', y = 'spacy_sim')"
   ]
  },
  {
   "cell_type": "markdown",
   "metadata": {},
   "source": [
    "These results seem to be fairly high so lets dive deeper in to why that might be\n",
    "- Spacy documentation states that when taking the similarity of a document it defaults to the average of the token vectors. An example they state is, \"“fast food” is the average of the vectors for “fast” and “food”, which isn’t necessarily representative of the phrase “fast food”\"\n",
    "- Therefore it could be the words are similar but the idea is not\n"
   ]
  },
  {
   "cell_type": "markdown",
   "metadata": {},
   "source": [
    "Lets dig a little deeper to try and see why these high overally high scores may be occuring. The first thing that comes to mind is if the storys are different lengths. We will create an example and see what the results are when the sentences are the same and the same length, the same but one has an extra sentence related to the previous, the same sentences but one has an extra sentence not related to the previousand the same idea with one having an extra sentence"
   ]
  },
  {
   "cell_type": "code",
   "execution_count": 40,
   "metadata": {},
   "outputs": [
    {
     "name": "stdout",
     "output_type": "stream",
     "text": [
      "I like burgers and dogs. <-> I like burgers and dogs. 1.0\n"
     ]
    }
   ],
   "source": [
    "#Exact same sentences\n",
    "doc1 = nlp(\"I like burgers and dogs.\")\n",
    "doc2 = nlp('I like burgers and dogs.')\n",
    "print(doc1, \"<->\", doc2, doc1.similarity(doc2))"
   ]
  },
  {
   "cell_type": "code",
   "execution_count": 41,
   "metadata": {},
   "outputs": [
    {
     "name": "stdout",
     "output_type": "stream",
     "text": [
      "Raw comparison 1.0\n"
     ]
    }
   ],
   "source": [
    "#Compared to raw sentence comparison\n",
    "numberOfSimilarWords = 5\n",
    "totalWords = 5\n",
    "print(\"Raw comparison\", numberOfSimilarWords / totalWords)"
   ]
  },
  {
   "cell_type": "code",
   "execution_count": 42,
   "metadata": {},
   "outputs": [
    {
     "name": "stdout",
     "output_type": "stream",
     "text": [
      "I like burgers and dogs. I also like pineapples <-> I like burgers and dogs. 0.9651856966280024\n"
     ]
    }
   ],
   "source": [
    "#Same setences but one has an extra sentence that does relate to the previous\n",
    "doc1 = nlp(\"I like burgers and dogs. I also like pineapples\")\n",
    "doc2 = nlp('I like burgers and dogs.')\n",
    "print(doc1, \"<->\", doc2, doc1.similarity(doc2))"
   ]
  },
  {
   "cell_type": "code",
   "execution_count": 43,
   "metadata": {},
   "outputs": [
    {
     "name": "stdout",
     "output_type": "stream",
     "text": [
      "Raw comparison 0.5555555555555556\n"
     ]
    }
   ],
   "source": [
    "#Compared to raw sentence comparison\n",
    "numberOfSimilarWords = 5\n",
    "totalWords = 9\n",
    "print(\"Raw comparison\", numberOfSimilarWords / totalWords)"
   ]
  },
  {
   "cell_type": "code",
   "execution_count": 44,
   "metadata": {},
   "outputs": [
    {
     "name": "stdout",
     "output_type": "stream",
     "text": [
      "I like burgers and dogs. Bob flies planes <-> I like burgers and dogs. 0.9264174801721186\n"
     ]
    }
   ],
   "source": [
    "#Same setences but one has an extra sentence that does not relate to the previous\n",
    "doc1 = nlp(\"I like burgers and dogs. Bob flies planes\")\n",
    "doc2 = nlp('I like burgers and dogs.')\n",
    "print(doc1, \"<->\", doc2, doc1.similarity(doc2))"
   ]
  },
  {
   "cell_type": "markdown",
   "metadata": {},
   "source": [
    "We can see that sentences that are irrelevant decrease the score, and sentences that are the similar decrease the score but not as much as an irrelevant extra sentence.\n",
    "But what about an extra sentence that basically says the same thing as the previous but in a different way?"
   ]
  },
  {
   "cell_type": "code",
   "execution_count": 45,
   "metadata": {},
   "outputs": [
    {
     "name": "stdout",
     "output_type": "stream",
     "text": [
      "I like burgers and dogs. Burgers and dogs are what I like <-> I like burgers and dogs. 0.9885781045722685\n"
     ]
    }
   ],
   "source": [
    "#Same setences but one has an extra sentence that repeats what is said but in a different way\n",
    "doc1 = nlp(\"I like burgers and dogs. Burgers and dogs are what I like\")\n",
    "doc2 = nlp('I like burgers and dogs.')\n",
    "print(doc1, \"<->\", doc2, doc1.similarity(doc2))"
   ]
  },
  {
   "cell_type": "markdown",
   "metadata": {},
   "source": [
    "As we can see in the last sentence the similarity is the highest. With these examples we can more reasonably conclude that our results are in fact accurate for what we are trying to do. This is because we want to focus on how much the stories change not necessarily if the stories are talking about the same thing. Something that could be interesting for the future is to look into how much the length of an overall document can affect these scores. But for the sake of this project we are going to assume that the results are accurate"
   ]
  },
  {
   "cell_type": "markdown",
   "metadata": {},
   "source": [
    "Bringing together the analysis from the Spacy package, lets compare the similarity score to the change in sentitment score. To do this, we are going to take the sentiment score from the recalled group and subtract it from the retold group by individual"
   ]
  },
  {
   "cell_type": "code",
   "execution_count": 46,
   "metadata": {},
   "outputs": [
    {
     "name": "stderr",
     "output_type": "stream",
     "text": [
      "C:\\Users\\kstev\\AppData\\Local\\Temp\\ipykernel_8608\\2155567863.py:2: SettingWithCopyWarning: \n",
      "A value is trying to be set on a copy of a slice from a DataFrame.\n",
      "Try using .loc[row_indexer,col_indexer] = value instead\n",
      "\n",
      "See the caveats in the documentation: https://pandas.pydata.org/pandas-docs/stable/user_guide/indexing.html#returning-a-view-versus-a-copy\n",
      "  combinedAnalysis[\"sentChange\"] = np.nan\n"
     ]
    }
   ],
   "source": [
    "combinedAnalysis = cleanedRecalledAndRetold\n",
    "combinedAnalysis[\"sentChange\"] = np.nan\n",
    "combinedAnalysis = combinedAnalysis.reset_index(drop=True)"
   ]
  },
  {
   "cell_type": "code",
   "execution_count": 47,
   "metadata": {},
   "outputs": [],
   "source": [
    "cRRKeys = cleanedRecalledAndRetold.recAgnPairId.unique()\n"
   ]
  },
  {
   "cell_type": "markdown",
   "metadata": {},
   "source": [
    "Removing these keys as the recAgnPairId does not exist in the newRecalled or the newRetold dataframe"
   ]
  },
  {
   "cell_type": "code",
   "execution_count": 48,
   "metadata": {},
   "outputs": [],
   "source": [
    "cRRKeys = np.delete(cRRKeys,95)\n",
    "cRRKeys = np.delete(cRRKeys,611)\n",
    "cRRKeys = np.delete(cRRKeys,797)\n",
    "cRRKeys = np.delete(cRRKeys,881)\n",
    "cRRKeys = np.delete(cRRKeys,939)\n",
    "cRRKeys = np.delete(cRRKeys,1032)\n",
    "cRRKeys = np.delete(cRRKeys,1068)"
   ]
  },
  {
   "cell_type": "code",
   "execution_count": 49,
   "metadata": {},
   "outputs": [],
   "source": [
    "numberToPullVal = 0\n",
    "i=0\n",
    "for tagNumber in range(len(cRRKeys)):\n",
    "    #print(i)\n",
    "    #i +=1\n",
    "    recalledRow = newRecalled[newRecalled['recAgnPairId'] == cRRKeys[tagNumber]]\n",
    "    retoldRow = newRetold[newRetold['recAgnPairId'] == cRRKeys[tagNumber]]\n",
    "\n",
    "    #Pull the neg, neu, and pos from the column. Stored as a series and not a dict\n",
    "    #Putting it into a list then pulling from it\n",
    "    negArrReC = pd.DataFrame(recalledRow['sentiment_score'].tolist())['neg'].tolist()\n",
    "    neuArrReC = pd.DataFrame(recalledRow['sentiment_score'].tolist())['neu'].tolist()\n",
    "    posArrReC = pd.DataFrame(recalledRow['sentiment_score'].tolist())['pos'].tolist()\n",
    "\n",
    "    negArrReT = pd.DataFrame(retoldRow['sentiment_score'].tolist())['neg'].tolist()\n",
    "    neuArrReT = pd.DataFrame(retoldRow['sentiment_score'].tolist())['neu'].tolist()\n",
    "    posArrReT = pd.DataFrame(retoldRow['sentiment_score'].tolist())['pos'].tolist()\n",
    "\n",
    "    #Check the difference between values\n",
    "    newNegVal = negArrReT[numberToPullVal] - negArrReC[numberToPullVal] \n",
    "    newPoVal  = posArrReT[numberToPullVal] - posArrReC[numberToPullVal] \n",
    "\n",
    "    if(newPoVal > newNegVal):\n",
    "        combinedAnalysis.loc[combinedAnalysis.recAgnPairId == cRRKeys[tagNumber], 'sentChange'] = 'Pos'\n",
    "    elif(newPoVal < newNegVal):\n",
    "        combinedAnalysis.loc[combinedAnalysis.recAgnPairId == cRRKeys[tagNumber], 'sentChange'] = 'Neg'\n",
    "    else:\n",
    "        combinedAnalysis.loc[combinedAnalysis.recAgnPairId == cRRKeys[tagNumber], 'sentChange'] = 'Neu'"
   ]
  },
  {
   "cell_type": "code",
   "execution_count": 50,
   "metadata": {},
   "outputs": [
    {
     "data": {
      "text/html": [
       "<div>\n",
       "<style scoped>\n",
       "    .dataframe tbody tr th:only-of-type {\n",
       "        vertical-align: middle;\n",
       "    }\n",
       "\n",
       "    .dataframe tbody tr th {\n",
       "        vertical-align: top;\n",
       "    }\n",
       "\n",
       "    .dataframe thead th {\n",
       "        text-align: right;\n",
       "    }\n",
       "</style>\n",
       "<table border=\"1\" class=\"dataframe\">\n",
       "  <thead>\n",
       "    <tr style=\"text-align: right;\">\n",
       "      <th></th>\n",
       "      <th>AssignmentId</th>\n",
       "      <th>WorkTimeInSeconds</th>\n",
       "      <th>WorkerId</th>\n",
       "      <th>annotatorAge</th>\n",
       "      <th>annotatorGender</th>\n",
       "      <th>annotatorRace</th>\n",
       "      <th>distracted</th>\n",
       "      <th>draining</th>\n",
       "      <th>frequency</th>\n",
       "      <th>importance</th>\n",
       "      <th>...</th>\n",
       "      <th>similarityReason</th>\n",
       "      <th>story</th>\n",
       "      <th>stressful</th>\n",
       "      <th>summary</th>\n",
       "      <th>timeSinceEvent</th>\n",
       "      <th>retold stories</th>\n",
       "      <th>time since recalled</th>\n",
       "      <th>spacy_sim</th>\n",
       "      <th>AgeGroup</th>\n",
       "      <th>sentChange</th>\n",
       "    </tr>\n",
       "  </thead>\n",
       "  <tbody>\n",
       "    <tr>\n",
       "      <th>0</th>\n",
       "      <td>3YGXWBAF713GBO8MYUFB8VR53RKC4M</td>\n",
       "      <td>7228</td>\n",
       "      <td>4MFUAYFX</td>\n",
       "      <td>25.0</td>\n",
       "      <td>man</td>\n",
       "      <td>hisp</td>\n",
       "      <td>1.0</td>\n",
       "      <td>1.0</td>\n",
       "      <td>2.0</td>\n",
       "      <td>2.0</td>\n",
       "      <td>...</td>\n",
       "      <td>NaN</td>\n",
       "      <td>Me and my girlfriend had gone to the Los Angel...</td>\n",
       "      <td>1.0</td>\n",
       "      <td>Me and my girlfriend went to the zoo on a hot ...</td>\n",
       "      <td>210.0</td>\n",
       "      <td>About a month ago me and my girlfriend went to...</td>\n",
       "      <td>30.0</td>\n",
       "      <td>0.993562</td>\n",
       "      <td>Youth</td>\n",
       "      <td>Neg</td>\n",
       "    </tr>\n",
       "    <tr>\n",
       "      <th>1</th>\n",
       "      <td>35LDD5557BQEYC9GWBW5I8LCG5AKMA</td>\n",
       "      <td>4925</td>\n",
       "      <td>HE3SATVD</td>\n",
       "      <td>30.0</td>\n",
       "      <td>man</td>\n",
       "      <td>black</td>\n",
       "      <td>3.0</td>\n",
       "      <td>4.0</td>\n",
       "      <td>3.0</td>\n",
       "      <td>3.0</td>\n",
       "      <td>...</td>\n",
       "      <td>NaN</td>\n",
       "      <td>My Cousin's WeddingWe went to my cousin’s wedd...</td>\n",
       "      <td>4.0</td>\n",
       "      <td>My life was endangered for doing research on p...</td>\n",
       "      <td>180.0</td>\n",
       "      <td>It happen 2 weeks ago at the library. Stared o...</td>\n",
       "      <td>14.0</td>\n",
       "      <td>0.971579</td>\n",
       "      <td>Adult</td>\n",
       "      <td>Neg</td>\n",
       "    </tr>\n",
       "    <tr>\n",
       "      <th>2</th>\n",
       "      <td>3NAPMVF0ZX10WTY33ZOCZU2SUYL72I</td>\n",
       "      <td>6488</td>\n",
       "      <td>AXJ0SHSA</td>\n",
       "      <td>30.0</td>\n",
       "      <td>man</td>\n",
       "      <td>white</td>\n",
       "      <td>4.0</td>\n",
       "      <td>4.0</td>\n",
       "      <td>4.0</td>\n",
       "      <td>4.0</td>\n",
       "      <td>...</td>\n",
       "      <td>NaN</td>\n",
       "      <td>I remember the event like it was just yesterda...</td>\n",
       "      <td>3.0</td>\n",
       "      <td>There was an arrest. I bailed out my friend. I...</td>\n",
       "      <td>60.0</td>\n",
       "      <td>About a week ago a received a phone call from ...</td>\n",
       "      <td>7.0</td>\n",
       "      <td>0.983846</td>\n",
       "      <td>Adult</td>\n",
       "      <td>Pos</td>\n",
       "    </tr>\n",
       "    <tr>\n",
       "      <th>3</th>\n",
       "      <td>3C8HJ7UOP8G9N782WCZF5N9PKNHZMN</td>\n",
       "      <td>1405</td>\n",
       "      <td>2WT572QN</td>\n",
       "      <td>30.0</td>\n",
       "      <td>woman</td>\n",
       "      <td>hisp</td>\n",
       "      <td>1.0</td>\n",
       "      <td>1.0</td>\n",
       "      <td>4.0</td>\n",
       "      <td>4.0</td>\n",
       "      <td>...</td>\n",
       "      <td>NaN</td>\n",
       "      <td>When my now four year old son was born, we wer...</td>\n",
       "      <td>1.0</td>\n",
       "      <td>My four year old son needed foot surgery. My h...</td>\n",
       "      <td>60.0</td>\n",
       "      <td>A memorable event that I have recently had hap...</td>\n",
       "      <td>7.0</td>\n",
       "      <td>0.994450</td>\n",
       "      <td>Adult</td>\n",
       "      <td>Neg</td>\n",
       "    </tr>\n",
       "    <tr>\n",
       "      <th>4</th>\n",
       "      <td>324G5B4FB4UT0JVPOCKYG69D7A807S</td>\n",
       "      <td>1834</td>\n",
       "      <td>AKT7XTAI</td>\n",
       "      <td>45.0</td>\n",
       "      <td>man</td>\n",
       "      <td>black</td>\n",
       "      <td>2.0</td>\n",
       "      <td>2.0</td>\n",
       "      <td>5.0</td>\n",
       "      <td>5.0</td>\n",
       "      <td>...</td>\n",
       "      <td>NaN</td>\n",
       "      <td>I fell down a flight of stairs in my home, in ...</td>\n",
       "      <td>2.0</td>\n",
       "      <td>I fell down the stairs in my home and suffered...</td>\n",
       "      <td>240.0</td>\n",
       "      <td>Last May,  I had just come upstairs to get rea...</td>\n",
       "      <td>120.0</td>\n",
       "      <td>0.993332</td>\n",
       "      <td>Senior</td>\n",
       "      <td>Pos</td>\n",
       "    </tr>\n",
       "  </tbody>\n",
       "</table>\n",
       "<p>5 rows × 28 columns</p>\n",
       "</div>"
      ],
      "text/plain": [
       "                     AssignmentId  WorkTimeInSeconds  WorkerId  annotatorAge  \\\n",
       "0  3YGXWBAF713GBO8MYUFB8VR53RKC4M               7228  4MFUAYFX          25.0   \n",
       "1  35LDD5557BQEYC9GWBW5I8LCG5AKMA               4925  HE3SATVD          30.0   \n",
       "2  3NAPMVF0ZX10WTY33ZOCZU2SUYL72I               6488  AXJ0SHSA          30.0   \n",
       "3  3C8HJ7UOP8G9N782WCZF5N9PKNHZMN               1405  2WT572QN          30.0   \n",
       "4  324G5B4FB4UT0JVPOCKYG69D7A807S               1834  AKT7XTAI          45.0   \n",
       "\n",
       "  annotatorGender annotatorRace  distracted  draining  frequency  importance  \\\n",
       "0             man          hisp         1.0       1.0        2.0         2.0   \n",
       "1             man         black         3.0       4.0        3.0         3.0   \n",
       "2             man         white         4.0       4.0        4.0         4.0   \n",
       "3           woman          hisp         1.0       1.0        4.0         4.0   \n",
       "4             man         black         2.0       2.0        5.0         5.0   \n",
       "\n",
       "   ...  similarityReason                                              story  \\\n",
       "0  ...               NaN  Me and my girlfriend had gone to the Los Angel...   \n",
       "1  ...               NaN  My Cousin's WeddingWe went to my cousin’s wedd...   \n",
       "2  ...               NaN  I remember the event like it was just yesterda...   \n",
       "3  ...               NaN  When my now four year old son was born, we wer...   \n",
       "4  ...               NaN  I fell down a flight of stairs in my home, in ...   \n",
       "\n",
       "  stressful                                            summary  \\\n",
       "0       1.0  Me and my girlfriend went to the zoo on a hot ...   \n",
       "1       4.0  My life was endangered for doing research on p...   \n",
       "2       3.0  There was an arrest. I bailed out my friend. I...   \n",
       "3       1.0  My four year old son needed foot surgery. My h...   \n",
       "4       2.0  I fell down the stairs in my home and suffered...   \n",
       "\n",
       "   timeSinceEvent                                     retold stories  \\\n",
       "0           210.0  About a month ago me and my girlfriend went to...   \n",
       "1           180.0  It happen 2 weeks ago at the library. Stared o...   \n",
       "2            60.0  About a week ago a received a phone call from ...   \n",
       "3            60.0  A memorable event that I have recently had hap...   \n",
       "4           240.0  Last May,  I had just come upstairs to get rea...   \n",
       "\n",
       "   time since recalled  spacy_sim  AgeGroup sentChange  \n",
       "0                 30.0   0.993562     Youth        Neg  \n",
       "1                 14.0   0.971579     Adult        Neg  \n",
       "2                  7.0   0.983846     Adult        Pos  \n",
       "3                  7.0   0.994450     Adult        Neg  \n",
       "4                120.0   0.993332    Senior        Pos  \n",
       "\n",
       "[5 rows x 28 columns]"
      ]
     },
     "execution_count": 50,
     "metadata": {},
     "output_type": "execute_result"
    }
   ],
   "source": [
    "combinedAnalysis.head()"
   ]
  },
  {
   "cell_type": "code",
   "execution_count": 51,
   "metadata": {},
   "outputs": [
    {
     "data": {
      "text/plain": [
       "Index(['AssignmentId', 'WorkTimeInSeconds', 'WorkerId', 'annotatorAge',\n",
       "       'annotatorGender', 'annotatorRace', 'distracted', 'draining',\n",
       "       'frequency', 'importance', 'logTimeSinceEvent', 'mainEvent', 'memType',\n",
       "       'mostSurprising', 'openness', 'recAgnPairId', 'recImgPairId',\n",
       "       'similarity', 'similarityReason', 'story', 'stressful', 'summary',\n",
       "       'timeSinceEvent', 'retold stories', 'time since recalled', 'spacy_sim',\n",
       "       'AgeGroup', 'sentChange'],\n",
       "      dtype='object')"
      ]
     },
     "execution_count": 51,
     "metadata": {},
     "output_type": "execute_result"
    }
   ],
   "source": [
    "combinedAnalysis.columns"
   ]
  },
  {
   "cell_type": "markdown",
   "metadata": {},
   "source": [
    "Next, let's look at the relationships between the columns AgeGroup vs Draining, AgeGroup vs Stressful, and AgeGroup vs Importance with the Retold and Recalled datasets. We will discuss these plots later in our conclusion"
   ]
  },
  {
   "cell_type": "code",
   "execution_count": 52,
   "metadata": {},
   "outputs": [
    {
     "data": {
      "text/plain": [
       "<AxesSubplot:xlabel='AgeGroup', ylabel='stressful'>"
      ]
     },
     "execution_count": 52,
     "metadata": {},
     "output_type": "execute_result"
    },
    {
     "data": {
      "image/png": "[encoded data removed]",
      "text/plain": [
       "<Figure size 432x288 with 1 Axes>"
      ]
     },
     "metadata": {
      "needs_background": "light"
     },
     "output_type": "display_data"
    }
   ],
   "source": [
    "#Retold Agegroup vs stressful\n",
    "sns.violinplot(x='AgeGroup',data=newRetold,\n",
    "            y='stressful')"
   ]
  },
  {
   "cell_type": "code",
   "execution_count": 54,
   "metadata": {},
   "outputs": [
    {
     "data": {
      "text/plain": [
       "<AxesSubplot:xlabel='AgeGroup', ylabel='draining'>"
      ]
     },
     "execution_count": 54,
     "metadata": {},
     "output_type": "execute_result"
    },
    {
     "data": {
      "image/png": "[encoded data removed]",
      "text/plain": [
       "<Figure size 432x288 with 1 Axes>"
      ]
     },
     "metadata": {
      "needs_background": "light"
     },
     "output_type": "display_data"
    }
   ],
   "source": [
    "#Retold Agegroup vs draining\n",
    "sns.violinplot(x='AgeGroup',data=newRetold,\n",
    "            y='draining')"
   ]
  },
  {
   "cell_type": "code",
   "execution_count": 56,
   "metadata": {},
   "outputs": [
    {
     "data": {
      "text/plain": [
       "<AxesSubplot:xlabel='AgeGroup', ylabel='importance'>"
      ]
     },
     "execution_count": 56,
     "metadata": {},
     "output_type": "execute_result"
    },
    {
     "data": {
      "image/png": "[encoded data removed]",
      "text/plain": [
       "<Figure size 432x288 with 1 Axes>"
      ]
     },
     "metadata": {
      "needs_background": "light"
     },
     "output_type": "display_data"
    }
   ],
   "source": [
    "#Retold Agegroup vs importance\n",
    "sns.violinplot(x='AgeGroup',data=newRetold,\n",
    "            y='importance')"
   ]
  },
  {
   "cell_type": "code",
   "execution_count": 68,
   "metadata": {},
   "outputs": [
    {
     "data": {
      "text/plain": [
       "<AxesSubplot:xlabel='AgeGroup', ylabel='stressful'>"
      ]
     },
     "execution_count": 68,
     "metadata": {},
     "output_type": "execute_result"
    },
    {
     "data": {
      "image/png": "[encoded data removed]",
      "text/plain": [
       "<Figure size 432x288 with 1 Axes>"
      ]
     },
     "metadata": {
      "needs_background": "light"
     },
     "output_type": "display_data"
    }
   ],
   "source": [
    "#Recalled Agegroup vs stressful\n",
    "sns.violinplot(x='AgeGroup',data=newRecalled,\n",
    "            y='stressful')"
   ]
  },
  {
   "cell_type": "code",
   "execution_count": 53,
   "metadata": {},
   "outputs": [
    {
     "data": {
      "text/plain": [
       "<AxesSubplot:xlabel='AgeGroup', ylabel='draining'>"
      ]
     },
     "execution_count": 53,
     "metadata": {},
     "output_type": "execute_result"
    },
    {
     "data": {
      "image/png": "[encoded data removed]",
      "text/plain": [
       "<Figure size 432x288 with 1 Axes>"
      ]
     },
     "metadata": {
      "needs_background": "light"
     },
     "output_type": "display_data"
    }
   ],
   "source": [
    "#Recalled Agegroup vs draining\n",
    "sns.violinplot(x='AgeGroup',data=newRecalled,\n",
    "            y='draining')"
   ]
  },
  {
   "cell_type": "code",
   "execution_count": 55,
   "metadata": {},
   "outputs": [
    {
     "data": {
      "text/plain": [
       "<AxesSubplot:xlabel='AgeGroup', ylabel='importance'>"
      ]
     },
     "execution_count": 55,
     "metadata": {},
     "output_type": "execute_result"
    },
    {
     "data": {
      "image/png": "[encoded data removed]",
      "text/plain": [
       "<Figure size 432x288 with 1 Axes>"
      ]
     },
     "metadata": {
      "needs_background": "light"
     },
     "output_type": "display_data"
    }
   ],
   "source": [
    "#Recalled Agegroup vs importance\n",
    "sns.violinplot(x='AgeGroup',data=newRecalled,\n",
    "            y='importance')"
   ]
  },
  {
   "cell_type": "code",
   "execution_count": 69,
   "metadata": {},
   "outputs": [
    {
     "data": {
      "text/plain": [
       "0       retold\n",
       "1       retold\n",
       "2       retold\n",
       "3       retold\n",
       "4       retold\n",
       "         ...  \n",
       "1090    retold\n",
       "1091    retold\n",
       "1092    retold\n",
       "1093    retold\n",
       "1094    retold\n",
       "Name: memType, Length: 1095, dtype: object"
      ]
     },
     "execution_count": 69,
     "metadata": {},
     "output_type": "execute_result"
    }
   ],
   "source": [
    "#check dataframe's memType column\n",
    "combinedAnalysis['memType']"
   ]
  },
  {
   "cell_type": "code",
   "execution_count": 58,
   "metadata": {},
   "outputs": [],
   "source": [
    "#split the combined analysis dataset into youth, adult, and seniors only\n",
    "youthOnly = combinedAnalysis[combinedAnalysis['AgeGroup'] == 'Youth']\n",
    "adultOnly = combinedAnalysis[combinedAnalysis['AgeGroup'] == 'Adult']\n",
    "seniorOnly = combinedAnalysis[combinedAnalysis['AgeGroup'] == 'Senior']\n"
   ]
  },
  {
   "cell_type": "markdown",
   "metadata": {},
   "source": [
    "### IID. Data Visualizations for Sentimental Analysis"
   ]
  },
  {
   "cell_type": "markdown",
   "metadata": {},
   "source": [
    "Next, we will look at visualizations for Recalled, Imagined and Retold by Sentiment and Age. In this seciton, we want to visualize the sentiment of each age group for Recalled, Imagined and Retold. The x-axis is the age while the y-axis is the percentage in their respective sentiment. Below each Bar Graph is the stats displaying each Age Group along with her exact percentage or positive and negative sentiment."
   ]
  },
  {
   "cell_type": "code",
   "execution_count": 70,
   "metadata": {},
   "outputs": [
    {
     "data": {
      "image/png": "[encoded data removed]",
      "text/plain": [
       "<Figure size 432x288 with 1 Axes>"
      ]
     },
     "metadata": {
      "needs_background": "light"
     },
     "output_type": "display_data"
    },
    {
     "name": "stdout",
     "output_type": "stream",
     "text": [
      "---------- Positive Stats ----------\n",
      "Age: 18.0 Percentage: 9.019426456984274\n",
      "Age: 25.0 Percentage: 22.849213691026826\n",
      "Age: 30.0 Percentage: 23.496762257169287\n",
      "Age: 35.0 Percentage: 16.23496762257169\n",
      "Age: 40.0 Percentage: 8.741905642923218\n",
      "Age: 45.0 Percentage: 7.030527289546716\n",
      "Age: 50.0 Percentage: 4.4865864939870495\n",
      "Age: 55.0 Percentage: 8.140610545790935\n",
      "---------- Negative Stats ----------\n",
      "Age: 18.0 Percentage: 10.084033613445378\n",
      "Age: 25.0 Percentage: 18.319327731092436\n",
      "Age: 30.0 Percentage: 22.18487394957983\n",
      "Age: 35.0 Percentage: 15.294117647058824\n",
      "Age: 40.0 Percentage: 9.07563025210084\n",
      "Age: 45.0 Percentage: 9.57983193277311\n",
      "Age: 50.0 Percentage: 6.050420168067227\n",
      "Age: 55.0 Percentage: 9.411764705882353\n"
     ]
    },
    {
     "data": {
      "image/png": "[encoded data removed]",
      "text/plain": [
       "<Figure size 432x288 with 1 Axes>"
      ]
     },
     "metadata": {
      "needs_background": "light"
     },
     "output_type": "display_data"
    },
    {
     "name": "stdout",
     "output_type": "stream",
     "text": [
      "---------- Positive Stats ----------\n",
      "Age: 18.0 Percentage: 8.32934418382001\n",
      "Age: 25.0 Percentage: 25.94542843465773\n",
      "Age: 30.0 Percentage: 23.12111057922451\n",
      "Age: 35.0 Percentage: 18.81282910483485\n",
      "Age: 40.0 Percentage: 7.850646242221158\n",
      "Age: 45.0 Percentage: 5.026328386787937\n",
      "Age: 50.0 Percentage: 4.547630445189086\n",
      "Age: 55.0 Percentage: 6.366682623264721\n",
      "---------- Negative Stats ----------\n",
      "Age: 18.0 Percentage: 10.039370078740157\n",
      "Age: 25.0 Percentage: 27.755905511811026\n",
      "Age: 30.0 Percentage: 20.275590551181104\n",
      "Age: 35.0 Percentage: 20.275590551181104\n",
      "Age: 40.0 Percentage: 7.283464566929133\n",
      "Age: 45.0 Percentage: 6.102362204724409\n",
      "Age: 50.0 Percentage: 3.937007874015748\n",
      "Age: 55.0 Percentage: 4.330708661417323\n"
     ]
    },
    {
     "data": {
      "image/png": "[encoded data removed]",
      "text/plain": [
       "<Figure size 432x288 with 1 Axes>"
      ]
     },
     "metadata": {
      "needs_background": "light"
     },
     "output_type": "display_data"
    },
    {
     "name": "stdout",
     "output_type": "stream",
     "text": [
      "---------- Positive Stats ----------\n",
      "Age: 18.0 Percentage: 6.999041227229147\n",
      "Age: 25.0 Percentage: 17.929050814956852\n",
      "Age: 30.0 Percentage: 24.161073825503358\n",
      "Age: 35.0 Percentage: 16.39501438159156\n",
      "Age: 40.0 Percentage: 10.738255033557047\n",
      "Age: 45.0 Percentage: 8.820709491850431\n",
      "Age: 50.0 Percentage: 5.273250239693192\n",
      "Age: 55.0 Percentage: 9.683604985618409\n",
      "---------- Negative Stats ----------\n",
      "Age: 18.0 Percentage: 6.4638783269961975\n",
      "Age: 25.0 Percentage: 18.250950570342205\n",
      "Age: 30.0 Percentage: 17.110266159695815\n",
      "Age: 35.0 Percentage: 13.688212927756654\n",
      "Age: 40.0 Percentage: 10.646387832699618\n",
      "Age: 45.0 Percentage: 11.406844106463879\n",
      "Age: 50.0 Percentage: 10.26615969581749\n",
      "Age: 55.0 Percentage: 12.167300380228136\n"
     ]
    }
   ],
   "source": [
    "#Recalled Visualization\n",
    "\n",
    "# Create x-axis based on unique age values in the Data\n",
    "X = newRecalled['annotatorAge'].unique()\n",
    "X.sort()\n",
    "x_axis = np.arange(len(newRecalled['annotatorAge'].unique()))\n",
    "\n",
    "\n",
    "# Calculate Positive Amount and Percentages\n",
    "positive = []\n",
    "positive_total = 0\n",
    "for x in X:\n",
    "    value = len(newRecalled[(newRecalled['annotatorAge'] == x) & (newRecalled['sentiment'] == 'Positive')])\n",
    "    positive.append(value)\n",
    "    positive_total+=value\n",
    "\n",
    "positive_percentage = []\n",
    "for x in positive:\n",
    "    positive_percentage.append((x/positive_total) * 100)\n",
    "\n",
    "\n",
    "# Calculate Negative Amount and Percentages\n",
    "negative = []\n",
    "negative_total = 0\n",
    "for x in X:\n",
    "    value = len(newRecalled[(newRecalled['annotatorAge'] == x) & (newRecalled['sentiment'] == 'Negative')])\n",
    "    negative.append(value)\n",
    "    negative_total+=value\n",
    "\n",
    "negative_percentage = []\n",
    "for x in negative:\n",
    "    negative_percentage.append((x/negative_total) * 100)\n",
    "\n",
    "plt.xticks(x_axis, X)\n",
    "plt.bar(x_axis + 0.2 ,positive_percentage,0.4,label='Positive')\n",
    "plt.bar(x_axis - 0.2 ,negative_percentage,0.4,label='Negative')\n",
    "plt.ylabel('Percentage of Sentiment')\n",
    "plt.xlabel('Age')\n",
    "plt.title('Recalled Sentiment')\n",
    "plt.legend()\n",
    "plt.show()\n",
    "\n",
    "positive_stats = {}\n",
    "negative_stats = {}\n",
    "index = 0\n",
    "for val in X:\n",
    "    positive_stats[val] = positive_percentage[index]\n",
    "    negative_stats[val] = negative_percentage[index]\n",
    "    index+=1\n",
    "print('---------- Positive Stats ----------')\n",
    "for i in positive_stats:\n",
    "    print(\"Age: {}\".format(i) + \" Percentage: {}\".format(positive_stats[i]))\n",
    "\n",
    "print('---------- Negative Stats ----------')\n",
    "for i in negative_stats:\n",
    "    print(\"Age: {}\".format(i) + \" Percentage: {}\".format(negative_stats[i]))\n",
    "\n",
    "#Imagined Visualization\n",
    "\n",
    "\n",
    "# Create x-axis based on unique age values in the Data\n",
    "X = newImagined['annotatorAge'].unique()\n",
    "X.sort()\n",
    "x_axis = np.arange(len(newImagined['annotatorAge'].unique()))\n",
    "\n",
    "\n",
    "# Calculate Positive Amount and Percentages\n",
    "positive = []\n",
    "positive_total = 0\n",
    "for x in X:\n",
    "    value = len(newImagined[(newImagined['annotatorAge'] == x) & (newImagined['sentiment'] == 'Positive')])\n",
    "    positive.append(value)\n",
    "    positive_total+=value\n",
    "\n",
    "positive_percentage = []\n",
    "for x in positive:\n",
    "    positive_percentage.append((x/positive_total) * 100)\n",
    "\n",
    "\n",
    "# Calculate Negative Amount and Percentages\n",
    "negative = []\n",
    "negative_total = 0\n",
    "for x in X:\n",
    "    value = len(newImagined[(newImagined['annotatorAge'] == x) & (newImagined['sentiment'] == 'Negative')])\n",
    "    negative.append(value)\n",
    "    negative_total+=value\n",
    "\n",
    "negative_percentage = []\n",
    "for x in negative:\n",
    "    negative_percentage.append((x/negative_total) * 100)\n",
    "\n",
    "plt.xticks(x_axis, X)\n",
    "plt.bar(x_axis + 0.2 ,positive_percentage,0.4,label='Positive')\n",
    "plt.bar(x_axis - 0.2 ,negative_percentage,0.4,label='Negative')\n",
    "plt.ylabel('Percentage of Sentiment')\n",
    "plt.xlabel('Age')\n",
    "plt.title('Imagined Sentiment')\n",
    "plt.legend()\n",
    "plt.show()\n",
    "\n",
    "positive_stats = {}\n",
    "negative_stats = {}\n",
    "index = 0\n",
    "for val in X:\n",
    "    positive_stats[val] = positive_percentage[index]\n",
    "    negative_stats[val] = negative_percentage[index]\n",
    "    index+=1\n",
    "print('---------- Positive Stats ----------')\n",
    "for i in positive_stats:\n",
    "    print(\"Age: {}\".format(i) + \" Percentage: {}\".format(positive_stats[i]))\n",
    "\n",
    "print('---------- Negative Stats ----------')\n",
    "for i in negative_stats:\n",
    "    print(\"Age: {}\".format(i) + \" Percentage: {}\".format(negative_stats[i]))\n",
    "\n",
    "#Retold Visualization   \n",
    "\n",
    "\n",
    "# Create x-axis based on unique age values in the Data\n",
    "X = newRetold['annotatorAge'].unique()\n",
    "X.sort()\n",
    "x_axis = np.arange(len(newRetold['annotatorAge'].unique()))\n",
    "\n",
    "\n",
    "# Calculate Positive Amount and Percentages\n",
    "positive = []\n",
    "positive_total = 0\n",
    "for x in X:\n",
    "    value = len(newRetold[(newRetold['annotatorAge'] == x) & (newRetold['sentiment'] == 'Positive')])\n",
    "    positive.append(value)\n",
    "    positive_total+=value\n",
    "\n",
    "positive_percentage = []\n",
    "for x in positive:\n",
    "    positive_percentage.append((x/positive_total) * 100)\n",
    "\n",
    "\n",
    "# Calculate Negative Amount and Percentages\n",
    "negative = []\n",
    "negative_total = 0\n",
    "for x in X:\n",
    "    value = len(newRetold[(newRetold['annotatorAge'] == x) & (newRetold['sentiment'] == 'Negative')])\n",
    "    negative.append(value)\n",
    "    negative_total+=value\n",
    "\n",
    "negative_percentage = []\n",
    "for x in negative:\n",
    "    negative_percentage.append((x/negative_total) * 100)\n",
    "\n",
    "plt.xticks(x_axis, X)\n",
    "plt.bar(x_axis + 0.2 ,positive_percentage,0.4,label='Positive')\n",
    "plt.bar(x_axis - 0.2 ,negative_percentage,0.4,label='Negative')\n",
    "plt.ylabel('Percentage of Sentiment')\n",
    "plt.xlabel('Age')\n",
    "plt.title('Retold Sentiment')\n",
    "plt.legend()\n",
    "plt.show()\n",
    "\n",
    "positive_stats = {}\n",
    "negative_stats = {}\n",
    "index = 0\n",
    "for val in X:\n",
    "    positive_stats[val] = positive_percentage[index]\n",
    "    negative_stats[val] = negative_percentage[index]\n",
    "    index+=1\n",
    "print('---------- Positive Stats ----------')\n",
    "for i in positive_stats:\n",
    "    print(\"Age: {}\".format(i) + \" Percentage: {}\".format(positive_stats[i]))\n",
    "\n",
    "print('---------- Negative Stats ----------')\n",
    "for i in negative_stats:\n",
    "    print(\"Age: {}\".format(i) + \" Percentage: {}\".format(negative_stats[i]))"
   ]
  },
  {
   "cell_type": "markdown",
   "metadata": {},
   "source": [
    "The previous graph showed us the relationships between Posiitve and Negative Sentiments by **Age**. We can see that the results between Sentiments by Age are pretty spread out and that there is no clear relationship between the 3 graphs. Though, if we look at each graph individually, we can see some trends throughout the different years. For example, for Recalled, there is a period of increased positivity between the ages 25 to 35. We can also see that for the Recalled and Retold graphs, between the ages of 45-55, there is mostly a negative sentiment within the groups. Next, we will look at the relationship between Positive and Negative Sentiments by **AgeGroup**. "
   ]
  },
  {
   "cell_type": "code",
   "execution_count": 60,
   "metadata": {},
   "outputs": [
    {
     "data": {
      "text/plain": [
       "Text(0.5, 1.0, 'Retold Sentiment')"
      ]
     },
     "execution_count": 60,
     "metadata": {},
     "output_type": "execute_result"
    },
    {
     "data": {
      "image/png": "[encoded data removed]",
      "text/plain": [
       "<Figure size 720x1080 with 3 Axes>"
      ]
     },
     "metadata": {
      "needs_background": "light"
     },
     "output_type": "display_data"
    }
   ],
   "source": [
    "#Plot settings\n",
    "fig, axes = plt.subplots(3, 1,figsize=(10,15))\n",
    "fig.tight_layout(h_pad = 4.0)\n",
    "\n",
    "#Recalled Visualization\n",
    "graph_2 = sns.histplot(data = newRecalled, x=\"AgeGroup\", hue = 'sentiment', hue_order = ['Positive','Negative'],multiple='dodge', stat = 'percent',common_norm=False,ax=axes[0])\n",
    "for container in graph_2.containers:\n",
    "    graph_2.bar_label(container)\n",
    "\n",
    "graph_2.set(xlabel = 'Age Group')\n",
    "axes[0].set_title('Recalled Sentiment', fontsize=20)\n",
    "\n",
    "#Imagined Visualization\n",
    "graph_2 = sns.histplot(data = newImagined, x=\"AgeGroup\", hue = 'sentiment', hue_order = ['Positive','Negative'],multiple='dodge', stat = 'percent',common_norm=False,ax=axes[1])\n",
    "for container in graph_2.containers:\n",
    "    graph_2.bar_label(container)\n",
    "\n",
    "graph_2.set(xlabel = 'Age Group')\n",
    "axes[1].set_title('Imagined Sentiment', fontsize=20)\n",
    "\n",
    "#Retold Visualization\n",
    "graph_2 = sns.histplot(data = newRetold, x=\"AgeGroup\", hue = 'sentiment', hue_order = ['Positive','Negative'],multiple='dodge', stat = 'percent',common_norm=False,ax=axes[2])\n",
    "for container in graph_2.containers:\n",
    "    graph_2.bar_label(container)\n",
    "\n",
    "graph_2.set(xlabel = 'Age Group')\n",
    "axes[2].set_title('Retold Sentiment', fontsize=20)"
   ]
  },
  {
   "cell_type": "markdown",
   "metadata": {},
   "source": [
    "Comparing these graphs, the strongest relationship that stood out is how the Adult AgeGroup column seems to have a more Positive Sentiment than Negative relationship in all 3 Retold, Recalled, and Imagined Sentiments. Maybe this has something to do with the adult stage in life where people tend to be happier? Next, let's visualize the Sentimental Analysis between Retold vs. Recalled Stories"
   ]
  },
  {
   "cell_type": "code",
   "execution_count": 61,
   "metadata": {},
   "outputs": [
    {
     "data": {
      "image/png": "[encoded data removed]",
      "text/plain": [
       "<Figure size 720x360 with 1 Axes>"
      ]
     },
     "metadata": {
      "needs_background": "light"
     },
     "output_type": "display_data"
    }
   ],
   "source": [
    "#select positive and negative sentiments (remove neutral sentiment)\n",
    "posnegRetold = newRetold[(newRetold['sentiment'] == 'Positive') | (newRetold['sentiment'] == 'Negative')]\n",
    "posnegRecalled = newRecalled[(newRecalled['sentiment'] == 'Positive') | (newRecalled['sentiment'] == 'Negative')]\n",
    "\n",
    "#plot parameters\n",
    "x = posnegRetold['sentiment']\n",
    "y = posnegRecalled['sentiment']\n",
    "fig, ax = plt.subplots(figsize=(10,5))\n",
    "values, bins, patches = plt.hist([x, y], bins=np.arange(3)-0.5, label=['Retold Stories', 'Recalled Stories'],density=True)\n",
    " \n",
    "plt.legend(loc='upper right')\n",
    "plt.gca().yaxis.set_major_formatter(PercentFormatter(1))\n",
    "for container in ax.containers:\n",
    "    labels = [f'{x:.1%}' for x in container.datavalues]\n",
    "    ax.bar_label(container, labels=labels)\n",
    "plt.show()"
   ]
  },
  {
   "cell_type": "markdown",
   "metadata": {},
   "source": [
    "From this graph, we can see that when comparing Positive and Negative sentiments between Retold and Recalled stories, there are more Positive Retold stories than Recalled stories. Also, there are more negative stories in Recalled than Retold. Finally, for consistency, we will add the plots that we've seen and analyzed from the spacy analysis."
   ]
  },
  {
   "cell_type": "code",
   "execution_count": 62,
   "metadata": {},
   "outputs": [
    {
     "data": {
      "text/plain": [
       "<AxesSubplot:xlabel='time since recalled', ylabel='spacy_sim'>"
      ]
     },
     "execution_count": 62,
     "metadata": {},
     "output_type": "execute_result"
    },
    {
     "data": {
      "image/png": "[encoded data removed]",
      "text/plain": [
       "<Figure size 432x288 with 1 Axes>"
      ]
     },
     "metadata": {
      "needs_background": "light"
     },
     "output_type": "display_data"
    }
   ],
   "source": [
    "cleanedRecalledAndRetold.plot.scatter(x='time since recalled', y = 'spacy_sim')"
   ]
  },
  {
   "cell_type": "code",
   "execution_count": 63,
   "metadata": {},
   "outputs": [
    {
     "data": {
      "text/plain": [
       "<AxesSubplot:xlabel='time since recalled', ylabel='spacy_sim'>"
      ]
     },
     "execution_count": 63,
     "metadata": {},
     "output_type": "execute_result"
    },
    {
     "data": {
      "image/png": "[encoded data removed]",
      "text/plain": [
       "<Figure size 432x288 with 1 Axes>"
      ]
     },
     "metadata": {
      "needs_background": "light"
     },
     "output_type": "display_data"
    }
   ],
   "source": [
    "test = cleanedRecalledAndRetold[cleanedRecalledAndRetold['time since recalled'] < 250]\n",
    "test.plot.scatter(x='time since recalled', y = 'spacy_sim')"
   ]
  },
  {
   "cell_type": "code",
   "execution_count": 64,
   "metadata": {},
   "outputs": [
    {
     "data": {
      "image/png": "[encoded data removed]",
      "text/plain": [
       "<Figure size 647.35x360 with 1 Axes>"
      ]
     },
     "metadata": {
      "needs_background": "light"
     },
     "output_type": "display_data"
    }
   ],
   "source": [
    "_ages = ['Youth','Adult','Senior']\n",
    "sns.relplot(data=combinedAnalysis, x='time since recalled', y='spacy_sim', hue='AgeGroup', hue_order=_ages, aspect=1.61)\n",
    "plt.show()"
   ]
  },
  {
   "cell_type": "markdown",
   "metadata": {},
   "source": [
    "# III. Conclusion and Discussion"
   ]
  },
  {
   "cell_type": "markdown",
   "metadata": {},
   "source": [
    "As states above we want to see how emotion effects memory so lets look into the results we got. First lets see if the emotion of our age group has increase or decreased over time."
   ]
  },
  {
   "cell_type": "code",
   "execution_count": 65,
   "metadata": {},
   "outputs": [
    {
     "data": {
      "text/plain": [
       "<AxesSubplot:xlabel='AgeGroup', ylabel='count'>"
      ]
     },
     "execution_count": 65,
     "metadata": {},
     "output_type": "execute_result"
    },
    {
     "data": {
      "image/png": "[encoded data removed]",
      "text/plain": [
       "<Figure size 432x288 with 1 Axes>"
      ]
     },
     "metadata": {
      "needs_background": "light"
     },
     "output_type": "display_data"
    }
   ],
   "source": [
    "sns.countplot(x='AgeGroup',hue='sentChange',data=combinedAnalysis)"
   ]
  },
  {
   "cell_type": "markdown",
   "metadata": {},
   "source": [
    "As we can see, the emotion change was actually more positive over time in the Adult and Senior age group. As for the youth group the negative and positive emotion is about the same."
   ]
  },
  {
   "cell_type": "code",
   "execution_count": null,
   "metadata": {},
   "outputs": [
    {
     "data": {
      "text/plain": [
       "<seaborn.axisgrid.FacetGrid at 0x7fbd0ce7d6d0>"
      ]
     },
     "execution_count": 124,
     "metadata": {},
     "output_type": "execute_result"
    },
    {
     "data": {
      "image/png": "[encoded data removed]",
      "text/plain": [
       "<Figure size 360x360 with 1 Axes>"
      ]
     },
     "metadata": {
      "needs_background": "light"
     },
     "output_type": "display_data"
    },
    {
     "data": {
      "image/png": "[encoded data removed]",
      "text/plain": [
       "<Figure size 360x360 with 1 Axes>"
      ]
     },
     "metadata": {
      "needs_background": "light"
     },
     "output_type": "display_data"
    },
    {
     "data": {
      "image/png": "[encoded data removed]",
      "text/plain": [
       "<Figure size 360x360 with 1 Axes>"
      ]
     },
     "metadata": {
      "needs_background": "light"
     },
     "output_type": "display_data"
    }
   ],
   "source": [
    "youth = sns.displot(youthOnly, x='spacy_sim',bins=15)\n",
    "youth.set(title='Youth Spacy Distribution')\n",
    "adult = sns.displot(adultOnly, x='spacy_sim',bins=15,color='orange')\n",
    "adult.set(title='Adult Spacy Distribution')\n",
    "senior = sns.displot(seniorOnly, x='spacy_sim',bins=15)\n",
    "senior.set(title='Senior Spacy Distribution')"
   ]
  },
  {
   "cell_type": "markdown",
   "metadata": {},
   "source": [
    "Next, looking at the distributions, the Adult distribution appears show the overall best retelling of the previous story, then Youth, and then finally Senior. This shows that even if there is better emotion it does not necessarily lead to better memory. If emotion were to help memory we would see the Senior distrubition being the best followed by Adult and then finally Youth.\n",
    "\n",
    "Let's look at the emotion variables that might be driving this increase. We decided that the variables that speak the most about emotion are:\n",
    "- Draining which describes how emotionally drained the individual was when telling the story\n",
    "- Importance which decribes how driven the individual was when telling the story\n",
    "- Stressful which describes how stressed the individual was when telling the story"
   ]
  },
  {
   "cell_type": "code",
   "execution_count": null,
   "metadata": {},
   "outputs": [
    {
     "data": {
      "text/html": [
       "<div>\n",
       "<style scoped>\n",
       "    .dataframe tbody tr th:only-of-type {\n",
       "        vertical-align: middle;\n",
       "    }\n",
       "\n",
       "    .dataframe tbody tr th {\n",
       "        vertical-align: top;\n",
       "    }\n",
       "\n",
       "    .dataframe thead th {\n",
       "        text-align: right;\n",
       "    }\n",
       "</style>\n",
       "<table border=\"1\" class=\"dataframe\">\n",
       "  <thead>\n",
       "    <tr style=\"text-align: right;\">\n",
       "      <th></th>\n",
       "      <th>draining</th>\n",
       "      <th>importance</th>\n",
       "      <th>stressful</th>\n",
       "    </tr>\n",
       "    <tr>\n",
       "      <th>AgeGroup</th>\n",
       "      <th></th>\n",
       "      <th></th>\n",
       "      <th></th>\n",
       "    </tr>\n",
       "  </thead>\n",
       "  <tbody>\n",
       "    <tr>\n",
       "      <th>Adult</th>\n",
       "      <td>2.337594</td>\n",
       "      <td>4.480451</td>\n",
       "      <td>2.339850</td>\n",
       "    </tr>\n",
       "    <tr>\n",
       "      <th>Senior</th>\n",
       "      <td>2.506897</td>\n",
       "      <td>4.653448</td>\n",
       "      <td>2.475862</td>\n",
       "    </tr>\n",
       "    <tr>\n",
       "      <th>Youth</th>\n",
       "      <td>2.303488</td>\n",
       "      <td>4.472093</td>\n",
       "      <td>2.293023</td>\n",
       "    </tr>\n",
       "  </tbody>\n",
       "</table>\n",
       "</div>"
      ],
      "text/plain": [
       "          draining  importance  stressful\n",
       "AgeGroup                                 \n",
       "Adult     2.337594    4.480451   2.339850\n",
       "Senior    2.506897    4.653448   2.475862\n",
       "Youth     2.303488    4.472093   2.293023"
      ]
     },
     "execution_count": 125,
     "metadata": {},
     "output_type": "execute_result"
    }
   ],
   "source": [
    "newRecalled.groupby('AgeGroup').mean().drop(columns=['annotatorAge','frequency','logTimeSinceEvent',\n",
    "                                                   'similarity','timeSinceEvent','distracted'])"
   ]
  },
  {
   "cell_type": "code",
   "execution_count": null,
   "metadata": {},
   "outputs": [
    {
     "data": {
      "text/html": [
       "<div>\n",
       "<style scoped>\n",
       "    .dataframe tbody tr th:only-of-type {\n",
       "        vertical-align: middle;\n",
       "    }\n",
       "\n",
       "    .dataframe tbody tr th {\n",
       "        vertical-align: top;\n",
       "    }\n",
       "\n",
       "    .dataframe thead th {\n",
       "        text-align: right;\n",
       "    }\n",
       "</style>\n",
       "<table border=\"1\" class=\"dataframe\">\n",
       "  <thead>\n",
       "    <tr style=\"text-align: right;\">\n",
       "      <th></th>\n",
       "      <th>draining</th>\n",
       "      <th>importance</th>\n",
       "      <th>stressful</th>\n",
       "    </tr>\n",
       "    <tr>\n",
       "      <th>AgeGroup</th>\n",
       "      <th></th>\n",
       "      <th></th>\n",
       "      <th></th>\n",
       "    </tr>\n",
       "  </thead>\n",
       "  <tbody>\n",
       "    <tr>\n",
       "      <th>Adult</th>\n",
       "      <td>2.126739</td>\n",
       "      <td>4.268934</td>\n",
       "      <td>2.128284</td>\n",
       "    </tr>\n",
       "    <tr>\n",
       "      <th>Senior</th>\n",
       "      <td>2.285294</td>\n",
       "      <td>4.491176</td>\n",
       "      <td>2.200000</td>\n",
       "    </tr>\n",
       "    <tr>\n",
       "      <th>Youth</th>\n",
       "      <td>1.975460</td>\n",
       "      <td>4.168712</td>\n",
       "      <td>2.015337</td>\n",
       "    </tr>\n",
       "  </tbody>\n",
       "</table>\n",
       "</div>"
      ],
      "text/plain": [
       "          draining  importance  stressful\n",
       "AgeGroup                                 \n",
       "Adult     2.126739    4.268934   2.128284\n",
       "Senior    2.285294    4.491176   2.200000\n",
       "Youth     1.975460    4.168712   2.015337"
      ]
     },
     "execution_count": 126,
     "metadata": {},
     "output_type": "execute_result"
    }
   ],
   "source": [
    "newRetold.groupby('AgeGroup').mean().drop(columns=['annotatorAge','frequency','logTimeSinceEvent',\n",
    "                                                   'similarity','timeSinceEvent','distracted'])"
   ]
  },
  {
   "cell_type": "markdown",
   "metadata": {},
   "source": [
    "These three emotional variables are done on a Likert scale, meaning 5 is the most stress 3 is neutal amount of stress and 1 is no stress at all. As we can see the individuals on average were less emtionally drained during the retelling of the story, the average importance level decreased for each age group, and the stress decresed for each age group\n",
    "\n",
    "We can also look at violon plots to help us better see the distribution of the emotions by age group"
   ]
  },
  {
   "cell_type": "code",
   "execution_count": null,
   "metadata": {},
   "outputs": [
    {
     "data": {
      "text/plain": [
       "[Text(0.5, 1.0, 'Recalled Stress Distribution')]"
      ]
     },
     "execution_count": 131,
     "metadata": {},
     "output_type": "execute_result"
    },
    {
     "data": {
      "image/png": "[encoded data removed]",
      "text/plain": [
       "<Figure size 432x288 with 1 Axes>"
      ]
     },
     "metadata": {
      "needs_background": "light"
     },
     "output_type": "display_data"
    }
   ],
   "source": [
    "stressRec = sns.violinplot(x='AgeGroup',data=newRecalled,\n",
    "            y='stressful')\n",
    "stressRec.set(title='Recalled Stress Distribution')"
   ]
  },
  {
   "cell_type": "code",
   "execution_count": null,
   "metadata": {
    "scrolled": true
   },
   "outputs": [
    {
     "data": {
      "text/plain": [
       "[Text(0.5, 1.0, 'Retold Stress Distribution')]"
      ]
     },
     "execution_count": 130,
     "metadata": {},
     "output_type": "execute_result"
    },
    {
     "data": {
      "image/png": "[encoded data removed]",
      "text/plain": [
       "<Figure size 432x288 with 1 Axes>"
      ]
     },
     "metadata": {
      "needs_background": "light"
     },
     "output_type": "display_data"
    }
   ],
   "source": [
    "stressRet = sns.violinplot(x='AgeGroup',data=newRetold,\n",
    "            y='stressful')\n",
    "stressRet.set(title='Retold Stress Distribution')"
   ]
  },
  {
   "cell_type": "markdown",
   "metadata": {},
   "source": [
    "We can see that the stress distribution thinned out at 6 and increase from 2 - 3"
   ]
  },
  {
   "cell_type": "code",
   "execution_count": null,
   "metadata": {},
   "outputs": [
    {
     "data": {
      "text/plain": [
       "[Text(0.5, 1.0, 'Recalled Importance Distribution')]"
      ]
     },
     "execution_count": 136,
     "metadata": {},
     "output_type": "execute_result"
    },
    {
     "data": {
      "image/png": "[encoded data removed]",
      "text/plain": [
       "<Figure size 432x288 with 1 Axes>"
      ]
     },
     "metadata": {
      "needs_background": "light"
     },
     "output_type": "display_data"
    }
   ],
   "source": [
    "importanceRec = sns.violinplot(x='AgeGroup',data=newRecalled,\n",
    "            y='importance')\n",
    "importanceRec.set(title='Recalled Importance Distribution')"
   ]
  },
  {
   "cell_type": "code",
   "execution_count": null,
   "metadata": {},
   "outputs": [
    {
     "data": {
      "text/plain": [
       "[Text(0.5, 1.0, 'Retold Importance Distribution')]"
      ]
     },
     "execution_count": 137,
     "metadata": {},
     "output_type": "execute_result"
    },
    {
     "data": {
      "image/png": "[encoded data removed]",
      "text/plain": [
       "<Figure size 432x288 with 1 Axes>"
      ]
     },
     "metadata": {
      "needs_background": "light"
     },
     "output_type": "display_data"
    }
   ],
   "source": [
    "importanceRet = sns.violinplot(x='AgeGroup',data=newRetold,\n",
    "            y='importance')\n",
    "importanceRet.set(title='Retold Importance Distribution')"
   ]
  },
  {
   "cell_type": "markdown",
   "metadata": {},
   "source": [
    "We can see the importance distribution filled in the thinner spots and grew more from 4 to 2"
   ]
  },
  {
   "cell_type": "code",
   "execution_count": null,
   "metadata": {},
   "outputs": [
    {
     "data": {
      "text/plain": [
       "[Text(0.5, 1.0, 'Recalled Draining Distribution')]"
      ]
     },
     "execution_count": 134,
     "metadata": {},
     "output_type": "execute_result"
    },
    {
     "data": {
      "image/png": "[encoded data removed]",
      "text/plain": [
       "<Figure size 432x288 with 1 Axes>"
      ]
     },
     "metadata": {
      "needs_background": "light"
     },
     "output_type": "display_data"
    }
   ],
   "source": [
    "drainingRec = sns.violinplot(x='AgeGroup',data=newRecalled,\n",
    "            y='draining')\n",
    "drainingRec.set(title='Recalled Draining Distribution')"
   ]
  },
  {
   "cell_type": "code",
   "execution_count": null,
   "metadata": {},
   "outputs": [
    {
     "data": {
      "text/plain": [
       "[Text(0.5, 1.0, 'Retold Draining Distribution')]"
      ]
     },
     "execution_count": 135,
     "metadata": {},
     "output_type": "execute_result"
    },
    {
     "data": {
      "image/png": "[encoded data removed]",
      "text/plain": [
       "<Figure size 432x288 with 1 Axes>"
      ]
     },
     "metadata": {
      "needs_background": "light"
     },
     "output_type": "display_data"
    }
   ],
   "source": [
    "drainingRet = sns.violinplot(x='AgeGroup',data=newRetold,\n",
    "            y='draining')\n",
    "drainingRet.set(title='Retold Draining Distribution')"
   ]
  },
  {
   "cell_type": "markdown",
   "metadata": {},
   "source": [
    "We can see that draining followed a similar pattern as stressed did"
   ]
  },
  {
   "cell_type": "markdown",
   "metadata": {},
   "source": [
    "### Overall\n",
    "We can are unable to conclusively say that emotion drives better memory from this dataset and the data points that we used. "
   ]
  },
  {
   "cell_type": "code",
   "execution_count": null,
   "metadata": {},
   "outputs": [],
   "source": [
    "#Conclusion\n",
    "#Discussion of your results and how they address your experimental question\n",
    "#Limitations of analysis discussed\n",
    "#What additional experiments would be interesting, and what data would you need?"
   ]
  }
 ],
 "metadata": {
  "interpreter": {
   "hash": "aee8b7b246df8f9039afb4144a1f6fd8d2ca17a180786b69acc140d282b71a49"
  },
  "kernelspec": {
   "display_name": "Python 3 (ipykernel)",
   "language": "python",
   "name": "python3"
  },
  "language_info": {
   "codemirror_mode": {
    "name": "ipython",
    "version": 3
   },
   "file_extension": ".py",
   "mimetype": "text/x-python",
   "name": "python",
   "nbconvert_exporter": "python",
   "pygments_lexer": "ipython3",
   "version": "3.10.2"
  }
 },
 "nbformat": 4,
 "nbformat_minor": 4
}
