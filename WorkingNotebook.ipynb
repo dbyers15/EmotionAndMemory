{
 "cells": [
  {
   "cell_type": "code",
   "execution_count": 1,
   "metadata": {},
   "outputs": [],
   "source": [
    "#pip install vaderSentiment"
   ]
  },
  {
   "cell_type": "markdown",
   "metadata": {},
   "source": [
    "# PROJECT NAME"
   ]
  },
  {
   "cell_type": "markdown",
   "metadata": {},
   "source": [
    "### PROJECT MEMBERS"
   ]
  },
  {
   "cell_type": "code",
   "execution_count": 2,
   "metadata": {},
   "outputs": [],
   "source": [
    "#Research Question and Background\n",
    "#Hypothesis"
   ]
  },
  {
   "cell_type": "markdown",
   "metadata": {},
   "source": [
    "# Overall question\n",
    "- Does emotion(postive/negative) influence reaction time\n",
    "    - fear\n",
    "- Does isolation affect emotion\n",
    "- Emotion and memory\n",
    "    - Happy, sad, fear, sentimental, bored, depression\n",
    "    - Does music help\n",
    "    - Does being happy/sad/mad help\n",
    "    - Enviornment \n",
    "        - Loction of learning, learning at school Environment help retain knowledge \n",
    "            -Does the emotion in that environment affect it\n",
    "        - How well can people adapt to forced learning measures\n",
    "        - \n",
    "     - Does body posture affect memory\n",
    "     - Do drugs imporve memory\n",
    "         - Does time of consumtion matter\n",
    "     - \n",
    "             \n",
    "    \n",
    "- Emotion and music"
   ]
  },
  {
   "cell_type": "markdown",
   "metadata": {},
   "source": [
    "# Emotions that we want to look at:\n",
    "- FEAR\n",
    "- ANGER\n",
    "- SADNESS\n",
    "- SENTIMENTAL\n",
    "\n",
    "# Regions in the brain we want to look at:\n",
    "- Amygdala\n",
    "- Temporal lobe\n",
    "- Prefrontal Cortex\n",
    "- Hippocampus\n"
   ]
  },
  {
   "cell_type": "markdown",
   "metadata": {},
   "source": [
    "# I. Set Up"
   ]
  },
  {
   "cell_type": "code",
   "execution_count": 4,
   "metadata": {
    "scrolled": true
   },
   "outputs": [],
   "source": [
    "from lisc import Counts\n",
    "from lisc.utils.db import SCDB\n",
    "from lisc.plts.counts import *\n",
    "import pandas as pd\n",
    "from vaderSentiment.vaderSentiment import SentimentIntensityAnalyzer\n",
    "import numpy as np\n",
    "import matplotlib.pyplot as plt\n",
    "import seaborn as sns\n",
    "\n",
    "#Data Import\n",
    "hippDf = pd.read_csv('hippoCorpusV2.csv')\n",
    "islandersDf = pd.read_csv('Islander_data.csv')"
   ]
  },
  {
   "cell_type": "markdown",
   "metadata": {},
   "source": [
    "### 1a. Text Mining"
   ]
  },
  {
   "cell_type": "code",
   "execution_count": 26,
   "metadata": {},
   "outputs": [
    {
     "name": "stdout",
     "output_type": "stream",
     "text": [
      "Running counts for:  \"fear\"\n",
      "Running counts for:  \"anger\"\n",
      "Running counts for:  \"sadness\"\n",
      "Running counts for:  \"sentimental\"\n",
      "The number of documents found for each search term is:\n",
      "  '\"fear\"'          -   75931\n",
      "  '\"anger\"'         -   16745\n",
      "  '\"sadness\"'       -    6460\n",
      "  '\"sentimental\"'   -     236\n"
     ]
    }
   ],
   "source": [
    "#First term list we are searching for\n",
    "terms_a = [['\"fear\"'], ['\"anger\"'], ['\"sadness\"'], ['\"sentimental\"']]\n",
    "\n",
    "# Initialize counts object and use the add_terms method to add terms that we want to search\n",
    "counts = Counts()\n",
    "counts.add_terms(terms_a)\n",
    "\n",
    "# Collect data using the run_collection method\n",
    "counts.run_collection(verbose=True, db='pubmed', field='tiab')\n",
    "\n",
    "# Check how many articles were found for each search term\n",
    "counts.check_counts()"
   ]
  },
  {
   "cell_type": "code",
   "execution_count": 27,
   "metadata": {},
   "outputs": [
    {
     "data": {
      "text/plain": [
       "array([[   0, 2972, 1953,   11],\n",
       "       [2972,    0, 2418,    4],\n",
       "       [1953, 2418,    0,    2],\n",
       "       [  11,    4,    2,    0]])"
      ]
     },
     "execution_count": 27,
     "metadata": {},
     "output_type": "execute_result"
    }
   ],
   "source": [
    "counts.counts"
   ]
  },
  {
   "cell_type": "code",
   "execution_count": 28,
   "metadata": {},
   "outputs": [
    {
     "name": "stdout",
     "output_type": "stream",
     "text": [
      "Running counts for:  \"amygdala\"\n",
      "Running counts for:  \"temporal lobe\"\n",
      "Running counts for:  \"prefrontal cortex\"\n",
      "Running counts for:  \"hippocampus\"\n",
      "The number of documents found for each search term is:\n",
      "  '\"amygdala\"'            -    38241\n",
      "  '\"temporal lobe\"'       -    34521\n",
      "  '\"prefrontal cortex\"'   -    52479\n",
      "  '\"hippocampus\"'         -   119487\n"
     ]
    }
   ],
   "source": [
    "#Second term list we are searching for\n",
    "terms_b = [['\"amygdala\"'], ['\"temporal lobe\"'], ['\"prefrontal cortex\"'], ['\"hippocampus\"']]\n",
    "\n",
    "# Initialize counts object and use the add_terms method to add terms that we want to search\n",
    "counts2 = Counts()\n",
    "counts2.add_terms(terms_b)\n",
    "\n",
    "# Collect data using the run_collection method\n",
    "counts2.run_collection(verbose=True, db='pubmed', field='tiab')\n",
    "\n",
    "# Check how many articles were found for each search term\n",
    "counts2.check_counts()"
   ]
  },
  {
   "cell_type": "code",
   "execution_count": 29,
   "metadata": {},
   "outputs": [
    {
     "data": {
      "text/plain": [
       "array([[    0,  2286,  6593, 11830],\n",
       "       [ 2286,     0,  1656,  6502],\n",
       "       [ 6593,  1656,     0,  8840],\n",
       "       [11830,  6502,  8840,     0]])"
      ]
     },
     "execution_count": 29,
     "metadata": {},
     "output_type": "execute_result"
    }
   ],
   "source": [
    "counts2.counts"
   ]
  },
  {
   "cell_type": "code",
   "execution_count": 30,
   "metadata": {},
   "outputs": [
    {
     "name": "stdout",
     "output_type": "stream",
     "text": [
      "Running counts for:  \"amygdala\"\n",
      "Running counts for:  \"hippocampus\"\n",
      "Running counts for:  \"fear\"\n",
      "Running counts for:  \"anger\"\n",
      "The number of documents found for each search term is:\n",
      "  '\"amygdala\"'      -    38241\n",
      "  '\"hippocampus\"'   -   119487\n",
      "  '\"fear\"'          -    75931\n",
      "  '\"anger\"'         -    16745\n"
     ]
    }
   ],
   "source": [
    "#Third term list we are searching for\n",
    "terms_c = [['\"amygdala\"'], ['\"hippocampus\"'],['\"fear\"'], ['\"anger\"']]\n",
    "\n",
    "# Initialize counts object and use the add_terms method to add terms that we want to search\n",
    "counts3 = Counts()\n",
    "counts3.add_terms(terms_c)\n",
    "\n",
    "# Collect data using the run_collection method\n",
    "counts3.run_collection(verbose=True, db='pubmed', field='tiab')\n",
    "\n",
    "# Check how many articles were found for each search term\n",
    "counts3.check_counts()"
   ]
  },
  {
   "cell_type": "code",
   "execution_count": 31,
   "metadata": {},
   "outputs": [
    {
     "name": "stdout",
     "output_type": "stream",
     "text": [
      "Running counts for:  \"amygdala\"\n",
      "Running counts for:  \"prefrontal cortex\"\n",
      "Running counts for:  \"fear\"\n",
      "Running counts for:  \"attention\"\n",
      "The number of documents found for each search term is:\n",
      "  '\"amygdala\"'            -    38241\n",
      "  '\"prefrontal cortex\"'   -    52479\n",
      "  '\"fear\"'                -    75931\n",
      "  '\"attention\"'           -   478114\n"
     ]
    }
   ],
   "source": [
    "#Fourth term list we are searching for\n",
    "terms_d = [['\"amygdala\"'], ['\"prefrontal cortex\"'],['\"fear\"'], ['\"attention\"']]\n",
    "\n",
    "# Initialize counts object and use the add_terms method to add terms that we want to search\n",
    "counts4 = Counts()\n",
    "counts4.add_terms(terms_d)\n",
    "\n",
    "# Collect data using the run_collection method\n",
    "counts4.run_collection(verbose=True, db='pubmed', field='tiab')\n",
    "\n",
    "# Check how many articles were found for each search term\n",
    "counts4.check_counts()"
   ]
  },
  {
   "cell_type": "code",
   "execution_count": 32,
   "metadata": {},
   "outputs": [
    {
     "data": {
      "text/plain": [
       "array([[   0, 6593, 5168, 1678],\n",
       "       [6593,    0, 2096, 5083],\n",
       "       [5168, 2096,    0, 3852],\n",
       "       [1678, 5083, 3852,    0]])"
      ]
     },
     "execution_count": 32,
     "metadata": {},
     "output_type": "execute_result"
    }
   ],
   "source": [
    "counts4.counts"
   ]
  },
  {
   "cell_type": "markdown",
   "metadata": {},
   "source": [
    "# II. Data Cleaning"
   ]
  },
  {
   "cell_type": "markdown",
   "metadata": {},
   "source": [
    "\n",
    "Going to focus on these columns and check for null values:\n",
    "- annotatorAge: Lower limit of the age bucket of the worker.\n",
    "  Buckets are: 18-24, 25-29, 30-34, 35-39, 40-44, 45-49, 50-54,55+\n",
    "  \n",
    "- story: Story about the imagined or recalled event (15-25     sentences)\n",
    "- distracted: How distracted were you while writing your story? (5-point Likert)\n",
    "\n",
    "- draining: How taxing/draining was writing for you emotionally? (5-point Likert)\n",
    "\n",
    "- frequency: How often do you think about or talk about this event? (5-point Likert)\n",
    "\n",
    "- importance: How impactful, important, or personal is this story/event to you? (5-point Likert)\n",
    "\n",
    "- logTimeSinceEvent: Log of time (days) since the recalled event happened\n",
    "\n",
    "- mainEvent: Short phrase describing the main event described\n",
    "\n",
    "- similarity: How similar to your life does this event/story feel to you? (5-point Likert)\n",
    "\n",
    "- stressful: How stressful was this writing task? (5-point Likert)\n",
    "\n",
    "- summary: Summary of the events in the story (1-3 sentences)\n",
    "\n",
    "- timeSinceEvent: Time (number of days) since the recalled event happened"
   ]
  },
  {
   "cell_type": "code",
   "execution_count": 25,
   "metadata": {},
   "outputs": [
    {
     "name": "stdout",
     "output_type": "stream",
     "text": [
      "AnnotatorAge null values ...  True\n",
      "Story null values ...         False\n",
      "Distracted null values ...    False\n",
      "Draining null values ...      False\n",
      "Frequency null values ...     True\n",
      "Importance null values ...    True\n",
      "LTSinceEvent null values ...  False\n",
      "Similarity null values ...    True\n",
      "Stressful null values ...     False\n",
      "TimeSinceEvent null values .. False\n"
     ]
    }
   ],
   "source": [
    "#Check for null values, if null value found returns True\n",
    "print('AnnotatorAge null values ... ',hippDf['annotatorAge'].isnull().values.any())\n",
    "print('Story null values ...        ',hippDf['story'].isnull().values.any())\n",
    "print('Distracted null values ...   ', hippDf['distracted'].isnull().values.any())\n",
    "print('Draining null values ...     ', hippDf['draining'].isnull().values.any())\n",
    "print('Frequency null values ...    ', hippDf['frequency'].isnull().values.any())\n",
    "print('Importance null values ...   ', hippDf['importance'].isnull().values.any())\n",
    "print('LTSinceEvent null values ... ', hippDf['logTimeSinceEvent'].isnull().values.any())\n",
    "print('Similarity null values ...   ', hippDf['similarity'].isnull().values.any())\n",
    "print('Stressful null values ...    ', hippDf['stressful'].isnull().values.any())\n",
    "print('TimeSinceEvent null values ..', hippDf['timeSinceEvent'].isnull().values.any())\n"
   ]
  },
  {
   "cell_type": "markdown",
   "metadata": {},
   "source": [
    "As we can see there are some null values so lets remove all those rows that contain a null value in these columns. However ordinal valued columns are the ones we need to insure have no NaN values. So we will remove rows that contain NaN values from the AnnotatorAge column. Later on we will look into the NaN values for frequency and importance as these varry based on their groups"
   ]
  },
  {
   "cell_type": "code",
   "execution_count": 30,
   "metadata": {},
   "outputs": [],
   "source": [
    "noNaNHippDf = hippDf.dropna(subset=['annotatorAge'])\n"
   ]
  },
  {
   "cell_type": "code",
   "execution_count": 31,
   "metadata": {},
   "outputs": [
    {
     "data": {
      "text/plain": [
       "array([25., 35., 30., 18., 50., 40., 45., 55.])"
      ]
     },
     "execution_count": 31,
     "metadata": {},
     "output_type": "execute_result"
    }
   ],
   "source": [
    "noNaNHippDf['annotatorAge'].unique()"
   ]
  },
  {
   "cell_type": "markdown",
   "metadata": {},
   "source": [
    "\n",
    "From this, we can see that there are 8 unique age variables. For this project, we will classify the age bucket 18 and 25 as 'Youth', 30,35,40 as 'Adults', and 45,50,55 as 'Seniors' into a new column called \"AgeGroup\""
   ]
  },
  {
   "cell_type": "code",
   "execution_count": 32,
   "metadata": {},
   "outputs": [],
   "source": [
    "def ageGroup(row):\n",
    "    if row['annotatorAge'] == 18 or row['annotatorAge'] == 25:\n",
    "        return 'Youth'\n",
    "    elif row['annotatorAge'] == 30 or row['annotatorAge'] == 35 or row['annotatorAge'] == 40:\n",
    "        return 'Adult'\n",
    "    elif row['annotatorAge'] == 45 or row['annotatorAge'] == 50 or row['annotatorAge'] == 55:\n",
    "        return 'Senior'\n",
    "    else:\n",
    "        return None"
   ]
  },
  {
   "cell_type": "code",
   "execution_count": 33,
   "metadata": {},
   "outputs": [
    {
     "name": "stderr",
     "output_type": "stream",
     "text": [
      "/var/folders/wr/0q2rvryx0jn018lpjc485t9m0000gn/T/ipykernel_98780/187246375.py:1: SettingWithCopyWarning: \n",
      "A value is trying to be set on a copy of a slice from a DataFrame.\n",
      "Try using .loc[row_indexer,col_indexer] = value instead\n",
      "\n",
      "See the caveats in the documentation: https://pandas.pydata.org/pandas-docs/stable/user_guide/indexing.html#returning-a-view-versus-a-copy\n",
      "  noNaNHippDf['AgeGroup'] = noNaNHippDf.apply(lambda row: ageGroup(row),axis=1)\n"
     ]
    },
    {
     "data": {
      "text/html": [
       "<div>\n",
       "<style scoped>\n",
       "    .dataframe tbody tr th:only-of-type {\n",
       "        vertical-align: middle;\n",
       "    }\n",
       "\n",
       "    .dataframe tbody tr th {\n",
       "        vertical-align: top;\n",
       "    }\n",
       "\n",
       "    .dataframe thead th {\n",
       "        text-align: right;\n",
       "    }\n",
       "</style>\n",
       "<table border=\"1\" class=\"dataframe\">\n",
       "  <thead>\n",
       "    <tr style=\"text-align: right;\">\n",
       "      <th></th>\n",
       "      <th>AssignmentId</th>\n",
       "      <th>WorkTimeInSeconds</th>\n",
       "      <th>WorkerId</th>\n",
       "      <th>annotatorAge</th>\n",
       "      <th>annotatorGender</th>\n",
       "      <th>annotatorRace</th>\n",
       "      <th>distracted</th>\n",
       "      <th>draining</th>\n",
       "      <th>frequency</th>\n",
       "      <th>importance</th>\n",
       "      <th>...</th>\n",
       "      <th>openness</th>\n",
       "      <th>recAgnPairId</th>\n",
       "      <th>recImgPairId</th>\n",
       "      <th>similarity</th>\n",
       "      <th>similarityReason</th>\n",
       "      <th>story</th>\n",
       "      <th>stressful</th>\n",
       "      <th>summary</th>\n",
       "      <th>timeSinceEvent</th>\n",
       "      <th>AgeGroup</th>\n",
       "    </tr>\n",
       "  </thead>\n",
       "  <tbody>\n",
       "    <tr>\n",
       "      <th>0</th>\n",
       "      <td>32RIADZISTQWI5XIVG5BN0VMYFRS4U</td>\n",
       "      <td>1641</td>\n",
       "      <td>XI8VK89S</td>\n",
       "      <td>25.0</td>\n",
       "      <td>man</td>\n",
       "      <td>white</td>\n",
       "      <td>1.0</td>\n",
       "      <td>1.0</td>\n",
       "      <td>NaN</td>\n",
       "      <td>3.0</td>\n",
       "      <td>...</td>\n",
       "      <td>0.000</td>\n",
       "      <td>NaN</td>\n",
       "      <td>3018Q3ZVOJCZJFDMPSFXATCQ4DARA2</td>\n",
       "      <td>3.0</td>\n",
       "      <td>I've been to a couple concerts, but not many.</td>\n",
       "      <td>Concerts are my most favorite thing, and my bo...</td>\n",
       "      <td>1.0</td>\n",
       "      <td>My boyfriend and I went to a concert together ...</td>\n",
       "      <td>90.0</td>\n",
       "      <td>Youth</td>\n",
       "    </tr>\n",
       "    <tr>\n",
       "      <th>1</th>\n",
       "      <td>3018Q3ZVOJCZJFDMPSFXATCQ4DARA2</td>\n",
       "      <td>1245</td>\n",
       "      <td>1HN5ZZ1D</td>\n",
       "      <td>25.0</td>\n",
       "      <td>woman</td>\n",
       "      <td>white</td>\n",
       "      <td>1.0</td>\n",
       "      <td>1.0</td>\n",
       "      <td>3.0</td>\n",
       "      <td>4.0</td>\n",
       "      <td>...</td>\n",
       "      <td>1.000</td>\n",
       "      <td>NaN</td>\n",
       "      <td>3018Q3ZVOJCZJFDMPSFXATCQ4DARA2</td>\n",
       "      <td>NaN</td>\n",
       "      <td>NaN</td>\n",
       "      <td>The day started perfectly, with a great drive ...</td>\n",
       "      <td>1.0</td>\n",
       "      <td>My boyfriend and I went to a concert together ...</td>\n",
       "      <td>90.0</td>\n",
       "      <td>Youth</td>\n",
       "    </tr>\n",
       "    <tr>\n",
       "      <th>2</th>\n",
       "      <td>3IRIK4HM3B6UQBC0HI8Q5TBJZLEC61</td>\n",
       "      <td>1159</td>\n",
       "      <td>8SBPL7EI</td>\n",
       "      <td>35.0</td>\n",
       "      <td>woman</td>\n",
       "      <td>black</td>\n",
       "      <td>1.0</td>\n",
       "      <td>1.0</td>\n",
       "      <td>NaN</td>\n",
       "      <td>4.0</td>\n",
       "      <td>...</td>\n",
       "      <td>0.500</td>\n",
       "      <td>NaN</td>\n",
       "      <td>3018Q3ZVOJCZJFDMPSFXATCQG04RAI</td>\n",
       "      <td>3.0</td>\n",
       "      <td>I am a mother myself</td>\n",
       "      <td>It seems just like yesterday but today makes f...</td>\n",
       "      <td>1.0</td>\n",
       "      <td>My sister gave birth to my twin niece and neph...</td>\n",
       "      <td>150.0</td>\n",
       "      <td>Adult</td>\n",
       "    </tr>\n",
       "    <tr>\n",
       "      <th>3</th>\n",
       "      <td>3018Q3ZVOJCZJFDMPSFXATCQG04RAI</td>\n",
       "      <td>500</td>\n",
       "      <td>M1QQED2V</td>\n",
       "      <td>30.0</td>\n",
       "      <td>woman</td>\n",
       "      <td>white</td>\n",
       "      <td>1.0</td>\n",
       "      <td>4.0</td>\n",
       "      <td>3.0</td>\n",
       "      <td>5.0</td>\n",
       "      <td>...</td>\n",
       "      <td>1.000</td>\n",
       "      <td>NaN</td>\n",
       "      <td>3018Q3ZVOJCZJFDMPSFXATCQG04RAI</td>\n",
       "      <td>NaN</td>\n",
       "      <td>NaN</td>\n",
       "      <td>Five months ago, my niece and nephew were born...</td>\n",
       "      <td>2.0</td>\n",
       "      <td>My sister gave birth to my twin niece and neph...</td>\n",
       "      <td>150.0</td>\n",
       "      <td>Adult</td>\n",
       "    </tr>\n",
       "    <tr>\n",
       "      <th>4</th>\n",
       "      <td>3MTMREQS4W44RBU8OMP3XSK8NMJAWZ</td>\n",
       "      <td>1074</td>\n",
       "      <td>DU3RPZDB</td>\n",
       "      <td>25.0</td>\n",
       "      <td>man</td>\n",
       "      <td>white</td>\n",
       "      <td>2.0</td>\n",
       "      <td>2.0</td>\n",
       "      <td>NaN</td>\n",
       "      <td>3.0</td>\n",
       "      <td>...</td>\n",
       "      <td>0.250</td>\n",
       "      <td>NaN</td>\n",
       "      <td>3018Q3ZVOJCZJFDMPSFXATCQG06AR3</td>\n",
       "      <td>4.0</td>\n",
       "      <td>Because I also have money problems</td>\n",
       "      <td>About a month ago I went to burning man. I was...</td>\n",
       "      <td>4.0</td>\n",
       "      <td>It is always a journey for me to go to burning...</td>\n",
       "      <td>30.0</td>\n",
       "      <td>Youth</td>\n",
       "    </tr>\n",
       "    <tr>\n",
       "      <th>...</th>\n",
       "      <td>...</td>\n",
       "      <td>...</td>\n",
       "      <td>...</td>\n",
       "      <td>...</td>\n",
       "      <td>...</td>\n",
       "      <td>...</td>\n",
       "      <td>...</td>\n",
       "      <td>...</td>\n",
       "      <td>...</td>\n",
       "      <td>...</td>\n",
       "      <td>...</td>\n",
       "      <td>...</td>\n",
       "      <td>...</td>\n",
       "      <td>...</td>\n",
       "      <td>...</td>\n",
       "      <td>...</td>\n",
       "      <td>...</td>\n",
       "      <td>...</td>\n",
       "      <td>...</td>\n",
       "      <td>...</td>\n",
       "      <td>...</td>\n",
       "    </tr>\n",
       "    <tr>\n",
       "      <th>6849</th>\n",
       "      <td>3SKEMFQBZ4RZDN7C2AMMDQKHCV68K1</td>\n",
       "      <td>926</td>\n",
       "      <td>KVSO6L8P</td>\n",
       "      <td>30.0</td>\n",
       "      <td>woman</td>\n",
       "      <td>other</td>\n",
       "      <td>3.0</td>\n",
       "      <td>5.0</td>\n",
       "      <td>3.0</td>\n",
       "      <td>5.0</td>\n",
       "      <td>...</td>\n",
       "      <td>0.125</td>\n",
       "      <td>NaN</td>\n",
       "      <td>NaN</td>\n",
       "      <td>NaN</td>\n",
       "      <td>NaN</td>\n",
       "      <td>My dog was diagnosed with lymphoma a year ago ...</td>\n",
       "      <td>5.0</td>\n",
       "      <td>My dog, who had lymphoma, was suffering so I h...</td>\n",
       "      <td>150.0</td>\n",
       "      <td>Adult</td>\n",
       "    </tr>\n",
       "    <tr>\n",
       "      <th>6850</th>\n",
       "      <td>39PAAFCODNMWRITC4CBO6VRL6O4TV3</td>\n",
       "      <td>3044</td>\n",
       "      <td>QJB7AXPP</td>\n",
       "      <td>18.0</td>\n",
       "      <td>woman</td>\n",
       "      <td>asian</td>\n",
       "      <td>4.0</td>\n",
       "      <td>2.0</td>\n",
       "      <td>4.0</td>\n",
       "      <td>2.0</td>\n",
       "      <td>...</td>\n",
       "      <td>-0.500</td>\n",
       "      <td>NaN</td>\n",
       "      <td>NaN</td>\n",
       "      <td>NaN</td>\n",
       "      <td>NaN</td>\n",
       "      <td>Over my vacation from my job, I went to Casper...</td>\n",
       "      <td>5.0</td>\n",
       "      <td>On vacation, a side job was taken to plan an e...</td>\n",
       "      <td>570.0</td>\n",
       "      <td>Youth</td>\n",
       "    </tr>\n",
       "    <tr>\n",
       "      <th>6851</th>\n",
       "      <td>3FE2ERCCZYU396R8MJGQ6TWGLSMOPR</td>\n",
       "      <td>1008</td>\n",
       "      <td>IJP8D12L</td>\n",
       "      <td>35.0</td>\n",
       "      <td>man</td>\n",
       "      <td>asian</td>\n",
       "      <td>1.0</td>\n",
       "      <td>2.0</td>\n",
       "      <td>2.0</td>\n",
       "      <td>4.0</td>\n",
       "      <td>...</td>\n",
       "      <td>0.500</td>\n",
       "      <td>NaN</td>\n",
       "      <td>NaN</td>\n",
       "      <td>NaN</td>\n",
       "      <td>NaN</td>\n",
       "      <td>This event was a birthday party for my nephew....</td>\n",
       "      <td>2.0</td>\n",
       "      <td>This was a birthday party for my nephew that h...</td>\n",
       "      <td>21.0</td>\n",
       "      <td>Adult</td>\n",
       "    </tr>\n",
       "    <tr>\n",
       "      <th>6852</th>\n",
       "      <td>3J88R45B2HKQ3F50NA3MP6N9XXKPXS</td>\n",
       "      <td>1462</td>\n",
       "      <td>LCKEHYRF</td>\n",
       "      <td>30.0</td>\n",
       "      <td>man</td>\n",
       "      <td>hisp</td>\n",
       "      <td>1.0</td>\n",
       "      <td>1.0</td>\n",
       "      <td>3.0</td>\n",
       "      <td>3.0</td>\n",
       "      <td>...</td>\n",
       "      <td>0.500</td>\n",
       "      <td>NaN</td>\n",
       "      <td>NaN</td>\n",
       "      <td>NaN</td>\n",
       "      <td>NaN</td>\n",
       "      <td>This event occurred about two weeks ago. I was...</td>\n",
       "      <td>2.0</td>\n",
       "      <td>It was my little cousin's birthday and went to...</td>\n",
       "      <td>14.0</td>\n",
       "      <td>Adult</td>\n",
       "    </tr>\n",
       "    <tr>\n",
       "      <th>6853</th>\n",
       "      <td>3YW4XOSQKR7V5JS3X3H943670Y51UE</td>\n",
       "      <td>1662</td>\n",
       "      <td>YMC00EM1</td>\n",
       "      <td>45.0</td>\n",
       "      <td>woman</td>\n",
       "      <td>white</td>\n",
       "      <td>1.0</td>\n",
       "      <td>5.0</td>\n",
       "      <td>4.0</td>\n",
       "      <td>5.0</td>\n",
       "      <td>...</td>\n",
       "      <td>0.750</td>\n",
       "      <td>NaN</td>\n",
       "      <td>NaN</td>\n",
       "      <td>NaN</td>\n",
       "      <td>NaN</td>\n",
       "      <td>Over the past year I have been involved with a...</td>\n",
       "      <td>4.0</td>\n",
       "      <td>My daughter had my granddaughter removed from ...</td>\n",
       "      <td>49.0</td>\n",
       "      <td>Senior</td>\n",
       "    </tr>\n",
       "  </tbody>\n",
       "</table>\n",
       "<p>6831 rows × 24 columns</p>\n",
       "</div>"
      ],
      "text/plain": [
       "                        AssignmentId  WorkTimeInSeconds  WorkerId  \\\n",
       "0     32RIADZISTQWI5XIVG5BN0VMYFRS4U               1641  XI8VK89S   \n",
       "1     3018Q3ZVOJCZJFDMPSFXATCQ4DARA2               1245  1HN5ZZ1D   \n",
       "2     3IRIK4HM3B6UQBC0HI8Q5TBJZLEC61               1159  8SBPL7EI   \n",
       "3     3018Q3ZVOJCZJFDMPSFXATCQG04RAI                500  M1QQED2V   \n",
       "4     3MTMREQS4W44RBU8OMP3XSK8NMJAWZ               1074  DU3RPZDB   \n",
       "...                              ...                ...       ...   \n",
       "6849  3SKEMFQBZ4RZDN7C2AMMDQKHCV68K1                926  KVSO6L8P   \n",
       "6850  39PAAFCODNMWRITC4CBO6VRL6O4TV3               3044  QJB7AXPP   \n",
       "6851  3FE2ERCCZYU396R8MJGQ6TWGLSMOPR               1008  IJP8D12L   \n",
       "6852  3J88R45B2HKQ3F50NA3MP6N9XXKPXS               1462  LCKEHYRF   \n",
       "6853  3YW4XOSQKR7V5JS3X3H943670Y51UE               1662  YMC00EM1   \n",
       "\n",
       "      annotatorAge annotatorGender annotatorRace  distracted  draining  \\\n",
       "0             25.0             man         white         1.0       1.0   \n",
       "1             25.0           woman         white         1.0       1.0   \n",
       "2             35.0           woman         black         1.0       1.0   \n",
       "3             30.0           woman         white         1.0       4.0   \n",
       "4             25.0             man         white         2.0       2.0   \n",
       "...            ...             ...           ...         ...       ...   \n",
       "6849          30.0           woman         other         3.0       5.0   \n",
       "6850          18.0           woman         asian         4.0       2.0   \n",
       "6851          35.0             man         asian         1.0       2.0   \n",
       "6852          30.0             man          hisp         1.0       1.0   \n",
       "6853          45.0           woman         white         1.0       5.0   \n",
       "\n",
       "      frequency  importance  ...  openness recAgnPairId  \\\n",
       "0           NaN         3.0  ...     0.000          NaN   \n",
       "1           3.0         4.0  ...     1.000          NaN   \n",
       "2           NaN         4.0  ...     0.500          NaN   \n",
       "3           3.0         5.0  ...     1.000          NaN   \n",
       "4           NaN         3.0  ...     0.250          NaN   \n",
       "...         ...         ...  ...       ...          ...   \n",
       "6849        3.0         5.0  ...     0.125          NaN   \n",
       "6850        4.0         2.0  ...    -0.500          NaN   \n",
       "6851        2.0         4.0  ...     0.500          NaN   \n",
       "6852        3.0         3.0  ...     0.500          NaN   \n",
       "6853        4.0         5.0  ...     0.750          NaN   \n",
       "\n",
       "                        recImgPairId similarity  \\\n",
       "0     3018Q3ZVOJCZJFDMPSFXATCQ4DARA2        3.0   \n",
       "1     3018Q3ZVOJCZJFDMPSFXATCQ4DARA2        NaN   \n",
       "2     3018Q3ZVOJCZJFDMPSFXATCQG04RAI        3.0   \n",
       "3     3018Q3ZVOJCZJFDMPSFXATCQG04RAI        NaN   \n",
       "4     3018Q3ZVOJCZJFDMPSFXATCQG06AR3        4.0   \n",
       "...                              ...        ...   \n",
       "6849                             NaN        NaN   \n",
       "6850                             NaN        NaN   \n",
       "6851                             NaN        NaN   \n",
       "6852                             NaN        NaN   \n",
       "6853                             NaN        NaN   \n",
       "\n",
       "                                   similarityReason  \\\n",
       "0     I've been to a couple concerts, but not many.   \n",
       "1                                               NaN   \n",
       "2                              I am a mother myself   \n",
       "3                                               NaN   \n",
       "4                Because I also have money problems   \n",
       "...                                             ...   \n",
       "6849                                            NaN   \n",
       "6850                                            NaN   \n",
       "6851                                            NaN   \n",
       "6852                                            NaN   \n",
       "6853                                            NaN   \n",
       "\n",
       "                                                  story stressful  \\\n",
       "0     Concerts are my most favorite thing, and my bo...       1.0   \n",
       "1     The day started perfectly, with a great drive ...       1.0   \n",
       "2     It seems just like yesterday but today makes f...       1.0   \n",
       "3     Five months ago, my niece and nephew were born...       2.0   \n",
       "4     About a month ago I went to burning man. I was...       4.0   \n",
       "...                                                 ...       ...   \n",
       "6849  My dog was diagnosed with lymphoma a year ago ...       5.0   \n",
       "6850  Over my vacation from my job, I went to Casper...       5.0   \n",
       "6851  This event was a birthday party for my nephew....       2.0   \n",
       "6852  This event occurred about two weeks ago. I was...       2.0   \n",
       "6853  Over the past year I have been involved with a...       4.0   \n",
       "\n",
       "                                                summary timeSinceEvent  \\\n",
       "0     My boyfriend and I went to a concert together ...           90.0   \n",
       "1     My boyfriend and I went to a concert together ...           90.0   \n",
       "2     My sister gave birth to my twin niece and neph...          150.0   \n",
       "3     My sister gave birth to my twin niece and neph...          150.0   \n",
       "4     It is always a journey for me to go to burning...           30.0   \n",
       "...                                                 ...            ...   \n",
       "6849  My dog, who had lymphoma, was suffering so I h...          150.0   \n",
       "6850  On vacation, a side job was taken to plan an e...          570.0   \n",
       "6851  This was a birthday party for my nephew that h...           21.0   \n",
       "6852  It was my little cousin's birthday and went to...           14.0   \n",
       "6853  My daughter had my granddaughter removed from ...           49.0   \n",
       "\n",
       "     AgeGroup  \n",
       "0       Youth  \n",
       "1       Youth  \n",
       "2       Adult  \n",
       "3       Adult  \n",
       "4       Youth  \n",
       "...       ...  \n",
       "6849    Adult  \n",
       "6850    Youth  \n",
       "6851    Adult  \n",
       "6852    Adult  \n",
       "6853   Senior  \n",
       "\n",
       "[6831 rows x 24 columns]"
      ]
     },
     "execution_count": 33,
     "metadata": {},
     "output_type": "execute_result"
    }
   ],
   "source": [
    "noNaNHippDf['AgeGroup'] = noNaNHippDf.apply(lambda row: ageGroup(row),axis=1)\n",
    "noNaNHippDf"
   ]
  },
  {
   "cell_type": "code",
   "execution_count": 34,
   "metadata": {},
   "outputs": [
    {
     "data": {
      "text/plain": [
       "array(['Youth', 'Adult', 'Senior'], dtype=object)"
      ]
     },
     "execution_count": 34,
     "metadata": {},
     "output_type": "execute_result"
    }
   ],
   "source": [
    "noNaNHippDf['AgeGroup'].unique()"
   ]
  },
  {
   "cell_type": "code",
   "execution_count": null,
   "metadata": {},
   "outputs": [],
   "source": [
    "#Categorizes annotatorAge into different age groups\n",
    "new_df.loc[(new_df['annotatorAge'] <= 18),  'AgeGroup'] = \"Youth\"\n",
    "new_df.loc[(new_df['annotatorAge'] <= 18),  'AgeGroup'] = \"Youth\"\n",
    "new_df.loc[(new_df['annotatorAge'] >= 50),  'AgeGroup'] = \"Senior\"\n",
    "new_df['AgeGroup'].fillna(\"Adult\", inplace=True)\n",
    "\n",
    "#Move the AgeGroup column\n",
    "new_df = new_df[['AgeGroup','annotatorAge','story']]\n",
    "\n",
    "#View dataframe\n",
    "new_df"
   ]
  },
  {
   "cell_type": "code",
   "execution_count": 8,
   "metadata": {},
   "outputs": [],
   "source": [
    "recalled_df = hippDf[hippDf['memType']==\"recalled\"]\n",
    "imagined_df = hippDf[hippDf['memType']==\"imagined\"]\n",
    "retold_df = hippDf[hippDf['memType']==\"retold\"]\n"
   ]
  },
  {
   "cell_type": "markdown",
   "metadata": {},
   "source": [
    "Going to focus on these columns:\n",
    "- annotatorAge: Lower limit of the age bucket of the worker.\n",
    "  Buckets are: 18-24, 25-29, 30-34, 35-39, 40-44, 45-49, 50-54,55+\n",
    "  \n",
    "- story: Story about the imagined or recalled event (15-25     sentences)\n",
    "- distracted: How distracted were you while writing your story? (5-point Likert)\n",
    "\n",
    "- draining: How taxing/draining was writing for you emotionally? (5-point Likert)\n",
    "\n",
    "- frequency: How often do you think about or talk about this event? (5-point Likert)\n",
    "\n",
    "- importance: How impactful, important, or personal is this story/event to you? (5-point Likert)\n",
    "\n",
    "- logTimeSinceEvent: Log of time (days) since the recalled event happened\n",
    "\n",
    "- mainEvent: Short phrase describing the main event described\n",
    "\n",
    "- similarity: How similar to your life does this event/story feel to you? (5-point Likert)\n",
    "\n",
    "- stressful: How stressful was this writing task? (5-point Likert)\n",
    "\n",
    "- summary: Summary of the events in the story (1-3 sentences)\n",
    "\n",
    "- timeSinceEvent: Time (number of days) since the recalled event happened\n",
    "\n"
   ]
  },
  {
   "cell_type": "markdown",
   "metadata": {},
   "source": [
    "## Splitting data by group\n",
    "Splitting the data with the memType column with \"recalled\",\"imagined\", and \"retold\""
   ]
  },
  {
   "cell_type": "code",
   "execution_count": 10,
   "metadata": {},
   "outputs": [],
   "source": [
    "newRecalled = recalled_df[['annotatorAge','story','distracted','draining','frequency',\n",
    "                                         'importance','logTimeSinceEvent','mainEvent','similarity',\n",
    "                                         'stressful','summary','timeSinceEvent']]\n",
    "newImagined = imagined_df[['annotatorAge','story','distracted','draining','frequency',\n",
    "                                         'importance','logTimeSinceEvent','mainEvent','similarity',\n",
    "                                         'stressful','summary','timeSinceEvent']]\n",
    "newRetold = retold_df[['annotatorAge','story','distracted','draining','frequency',\n",
    "                                         'importance','logTimeSinceEvent','mainEvent','similarity',\n",
    "                                         'stressful','summary','timeSinceEvent']]"
   ]
  },
  {
   "cell_type": "code",
   "execution_count": 85,
   "metadata": {},
   "outputs": [
    {
     "data": {
      "text/html": [
       "<div>\n",
       "<style scoped>\n",
       "    .dataframe tbody tr th:only-of-type {\n",
       "        vertical-align: middle;\n",
       "    }\n",
       "\n",
       "    .dataframe tbody tr th {\n",
       "        vertical-align: top;\n",
       "    }\n",
       "\n",
       "    .dataframe thead th {\n",
       "        text-align: right;\n",
       "    }\n",
       "</style>\n",
       "<table border=\"1\" class=\"dataframe\">\n",
       "  <thead>\n",
       "    <tr style=\"text-align: right;\">\n",
       "      <th></th>\n",
       "      <th>annotatorAge</th>\n",
       "      <th>story</th>\n",
       "    </tr>\n",
       "  </thead>\n",
       "  <tbody>\n",
       "    <tr>\n",
       "      <th>0</th>\n",
       "      <td>25.0</td>\n",
       "      <td>Concerts are my most favorite thing, and my bo...</td>\n",
       "    </tr>\n",
       "    <tr>\n",
       "      <th>1</th>\n",
       "      <td>25.0</td>\n",
       "      <td>The day started perfectly, with a great drive ...</td>\n",
       "    </tr>\n",
       "    <tr>\n",
       "      <th>2</th>\n",
       "      <td>35.0</td>\n",
       "      <td>It seems just like yesterday but today makes f...</td>\n",
       "    </tr>\n",
       "    <tr>\n",
       "      <th>3</th>\n",
       "      <td>30.0</td>\n",
       "      <td>Five months ago, my niece and nephew were born...</td>\n",
       "    </tr>\n",
       "    <tr>\n",
       "      <th>4</th>\n",
       "      <td>25.0</td>\n",
       "      <td>About a month ago I went to burning man. I was...</td>\n",
       "    </tr>\n",
       "    <tr>\n",
       "      <th>...</th>\n",
       "      <td>...</td>\n",
       "      <td>...</td>\n",
       "    </tr>\n",
       "    <tr>\n",
       "      <th>6849</th>\n",
       "      <td>30.0</td>\n",
       "      <td>My dog was diagnosed with lymphoma a year ago ...</td>\n",
       "    </tr>\n",
       "    <tr>\n",
       "      <th>6850</th>\n",
       "      <td>18.0</td>\n",
       "      <td>Over my vacation from my job, I went to Casper...</td>\n",
       "    </tr>\n",
       "    <tr>\n",
       "      <th>6851</th>\n",
       "      <td>35.0</td>\n",
       "      <td>This event was a birthday party for my nephew....</td>\n",
       "    </tr>\n",
       "    <tr>\n",
       "      <th>6852</th>\n",
       "      <td>30.0</td>\n",
       "      <td>This event occurred about two weeks ago. I was...</td>\n",
       "    </tr>\n",
       "    <tr>\n",
       "      <th>6853</th>\n",
       "      <td>45.0</td>\n",
       "      <td>Over the past year I have been involved with a...</td>\n",
       "    </tr>\n",
       "  </tbody>\n",
       "</table>\n",
       "<p>6854 rows × 2 columns</p>\n",
       "</div>"
      ],
      "text/plain": [
       "      annotatorAge                                              story\n",
       "0             25.0  Concerts are my most favorite thing, and my bo...\n",
       "1             25.0  The day started perfectly, with a great drive ...\n",
       "2             35.0  It seems just like yesterday but today makes f...\n",
       "3             30.0  Five months ago, my niece and nephew were born...\n",
       "4             25.0  About a month ago I went to burning man. I was...\n",
       "...            ...                                                ...\n",
       "6849          30.0  My dog was diagnosed with lymphoma a year ago ...\n",
       "6850          18.0  Over my vacation from my job, I went to Casper...\n",
       "6851          35.0  This event was a birthday party for my nephew....\n",
       "6852          30.0  This event occurred about two weeks ago. I was...\n",
       "6853          45.0  Over the past year I have been involved with a...\n",
       "\n",
       "[6854 rows x 2 columns]"
      ]
     },
     "execution_count": 85,
     "metadata": {},
     "output_type": "execute_result"
    }
   ],
   "source": [
    "# Selected annotatorAge and story columns\n",
    "new_df = hippDf[['annotatorAge','story']]\n",
    "new_df"
   ]
  },
  {
   "cell_type": "code",
   "execution_count": 86,
   "metadata": {},
   "outputs": [
    {
     "data": {
      "text/plain": [
       "array([25., 35., 30., 18., 50., 40., 45., 55., nan])"
      ]
     },
     "execution_count": 86,
     "metadata": {},
     "output_type": "execute_result"
    }
   ],
   "source": [
    "#Show unique values of age\n",
    "hippDf['annotatorAge'].unique()"
   ]
  },
  {
   "cell_type": "markdown",
   "metadata": {},
   "source": [
    "From this, we can see that there are 8 unique age variables. For this project, we will classify the ages 0-18 as 'Youth', 19-49 as 'Adults', and 50+ as 'Seniors' into a new column called \"AgeGroup\""
   ]
  },
  {
   "cell_type": "code",
   "execution_count": 87,
   "metadata": {},
   "outputs": [
    {
     "name": "stderr",
     "output_type": "stream",
     "text": [
      "/Library/Frameworks/Python.framework/Versions/3.9/lib/python3.9/site-packages/pandas/core/indexing.py:1684: SettingWithCopyWarning: \n",
      "A value is trying to be set on a copy of a slice from a DataFrame.\n",
      "Try using .loc[row_indexer,col_indexer] = value instead\n",
      "\n",
      "See the caveats in the documentation: https://pandas.pydata.org/pandas-docs/stable/user_guide/indexing.html#returning-a-view-versus-a-copy\n",
      "  self.obj[key] = infer_fill_value(value)\n",
      "/Library/Frameworks/Python.framework/Versions/3.9/lib/python3.9/site-packages/pandas/core/indexing.py:1817: SettingWithCopyWarning: \n",
      "A value is trying to be set on a copy of a slice from a DataFrame.\n",
      "Try using .loc[row_indexer,col_indexer] = value instead\n",
      "\n",
      "See the caveats in the documentation: https://pandas.pydata.org/pandas-docs/stable/user_guide/indexing.html#returning-a-view-versus-a-copy\n",
      "  self._setitem_single_column(loc, value, pi)\n",
      "/Library/Frameworks/Python.framework/Versions/3.9/lib/python3.9/site-packages/pandas/core/generic.py:6392: SettingWithCopyWarning: \n",
      "A value is trying to be set on a copy of a slice from a DataFrame\n",
      "\n",
      "See the caveats in the documentation: https://pandas.pydata.org/pandas-docs/stable/user_guide/indexing.html#returning-a-view-versus-a-copy\n",
      "  return self._update_inplace(result)\n"
     ]
    },
    {
     "data": {
      "text/html": [
       "<div>\n",
       "<style scoped>\n",
       "    .dataframe tbody tr th:only-of-type {\n",
       "        vertical-align: middle;\n",
       "    }\n",
       "\n",
       "    .dataframe tbody tr th {\n",
       "        vertical-align: top;\n",
       "    }\n",
       "\n",
       "    .dataframe thead th {\n",
       "        text-align: right;\n",
       "    }\n",
       "</style>\n",
       "<table border=\"1\" class=\"dataframe\">\n",
       "  <thead>\n",
       "    <tr style=\"text-align: right;\">\n",
       "      <th></th>\n",
       "      <th>AgeGroup</th>\n",
       "      <th>annotatorAge</th>\n",
       "      <th>story</th>\n",
       "    </tr>\n",
       "  </thead>\n",
       "  <tbody>\n",
       "    <tr>\n",
       "      <th>0</th>\n",
       "      <td>Adult</td>\n",
       "      <td>25.0</td>\n",
       "      <td>Concerts are my most favorite thing, and my bo...</td>\n",
       "    </tr>\n",
       "    <tr>\n",
       "      <th>1</th>\n",
       "      <td>Adult</td>\n",
       "      <td>25.0</td>\n",
       "      <td>The day started perfectly, with a great drive ...</td>\n",
       "    </tr>\n",
       "    <tr>\n",
       "      <th>2</th>\n",
       "      <td>Adult</td>\n",
       "      <td>35.0</td>\n",
       "      <td>It seems just like yesterday but today makes f...</td>\n",
       "    </tr>\n",
       "    <tr>\n",
       "      <th>3</th>\n",
       "      <td>Adult</td>\n",
       "      <td>30.0</td>\n",
       "      <td>Five months ago, my niece and nephew were born...</td>\n",
       "    </tr>\n",
       "    <tr>\n",
       "      <th>4</th>\n",
       "      <td>Adult</td>\n",
       "      <td>25.0</td>\n",
       "      <td>About a month ago I went to burning man. I was...</td>\n",
       "    </tr>\n",
       "    <tr>\n",
       "      <th>...</th>\n",
       "      <td>...</td>\n",
       "      <td>...</td>\n",
       "      <td>...</td>\n",
       "    </tr>\n",
       "    <tr>\n",
       "      <th>6849</th>\n",
       "      <td>Adult</td>\n",
       "      <td>30.0</td>\n",
       "      <td>My dog was diagnosed with lymphoma a year ago ...</td>\n",
       "    </tr>\n",
       "    <tr>\n",
       "      <th>6850</th>\n",
       "      <td>Youth</td>\n",
       "      <td>18.0</td>\n",
       "      <td>Over my vacation from my job, I went to Casper...</td>\n",
       "    </tr>\n",
       "    <tr>\n",
       "      <th>6851</th>\n",
       "      <td>Adult</td>\n",
       "      <td>35.0</td>\n",
       "      <td>This event was a birthday party for my nephew....</td>\n",
       "    </tr>\n",
       "    <tr>\n",
       "      <th>6852</th>\n",
       "      <td>Adult</td>\n",
       "      <td>30.0</td>\n",
       "      <td>This event occurred about two weeks ago. I was...</td>\n",
       "    </tr>\n",
       "    <tr>\n",
       "      <th>6853</th>\n",
       "      <td>Adult</td>\n",
       "      <td>45.0</td>\n",
       "      <td>Over the past year I have been involved with a...</td>\n",
       "    </tr>\n",
       "  </tbody>\n",
       "</table>\n",
       "<p>6854 rows × 3 columns</p>\n",
       "</div>"
      ],
      "text/plain": [
       "     AgeGroup  annotatorAge                                              story\n",
       "0       Adult          25.0  Concerts are my most favorite thing, and my bo...\n",
       "1       Adult          25.0  The day started perfectly, with a great drive ...\n",
       "2       Adult          35.0  It seems just like yesterday but today makes f...\n",
       "3       Adult          30.0  Five months ago, my niece and nephew were born...\n",
       "4       Adult          25.0  About a month ago I went to burning man. I was...\n",
       "...       ...           ...                                                ...\n",
       "6849    Adult          30.0  My dog was diagnosed with lymphoma a year ago ...\n",
       "6850    Youth          18.0  Over my vacation from my job, I went to Casper...\n",
       "6851    Adult          35.0  This event was a birthday party for my nephew....\n",
       "6852    Adult          30.0  This event occurred about two weeks ago. I was...\n",
       "6853    Adult          45.0  Over the past year I have been involved with a...\n",
       "\n",
       "[6854 rows x 3 columns]"
      ]
     },
     "execution_count": 87,
     "metadata": {},
     "output_type": "execute_result"
    }
   ],
   "source": [
    "#Categorizes annotatorAge into different age groups\n",
    "new_df.loc[(new_df['annotatorAge'] <= 18),  'AgeGroup'] = \"Youth\"\n",
    "new_df.loc[(new_df['annotatorAge'] <= 18),  'AgeGroup'] = \"Youth\"\n",
    "new_df.loc[(new_df['annotatorAge'] >= 50),  'AgeGroup'] = \"Senior\"\n",
    "new_df['AgeGroup'].fillna(\"Adult\", inplace=True)\n",
    "\n",
    "#Move the AgeGroup column\n",
    "new_df = new_df[['AgeGroup','annotatorAge','story']]\n",
    "\n",
    "#View dataframe\n",
    "new_df"
   ]
  },
  {
   "cell_type": "code",
   "execution_count": 88,
   "metadata": {},
   "outputs": [
    {
     "name": "stdout",
     "output_type": "stream",
     "text": [
      "0\n",
      "0\n",
      "0\n"
     ]
    },
    {
     "name": "stderr",
     "output_type": "stream",
     "text": [
      "/Library/Frameworks/Python.framework/Versions/3.9/lib/python3.9/site-packages/pandas/util/_decorators.py:311: SettingWithCopyWarning: \n",
      "A value is trying to be set on a copy of a slice from a DataFrame\n",
      "\n",
      "See the caveats in the documentation: https://pandas.pydata.org/pandas-docs/stable/user_guide/indexing.html#returning-a-view-versus-a-copy\n",
      "  return func(*args, **kwargs)\n"
     ]
    }
   ],
   "source": [
    "#Drop all null values\n",
    "new_df.dropna(inplace=True)\n",
    "new_df.reset_index(drop=True, inplace=True)\n",
    "print(new_df['story'].isna().sum())\n",
    "print(new_df['annotatorAge'].isna().sum())\n",
    "print(new_df['AgeGroup'].isna().sum())\n"
   ]
  },
  {
   "cell_type": "markdown",
   "metadata": {},
   "source": [
    "Dropped all null values in case it could affect our analysis"
   ]
  },
  {
   "cell_type": "markdown",
   "metadata": {},
   "source": [
    "# III. Exploratory Data Analysis"
   ]
  },
  {
   "cell_type": "markdown",
   "metadata": {},
   "source": [
    "### IIIa. Sentiment Analysis"
   ]
  },
  {
   "cell_type": "code",
   "execution_count": 89,
   "metadata": {},
   "outputs": [],
   "source": [
    "# Sentiment Analysis\n",
    "sentiment_score = []\n",
    "sentiment = []\n",
    "sentiment_obj = SentimentIntensityAnalyzer()\n",
    "for i in range(len(new_df['story'])):\n",
    "    sentiment_score.append(sentiment_obj.polarity_scores(new_df['story'][i]))\n",
    "    score = sentiment_obj.polarity_scores(new_df['story'][i])['compound']\n",
    "    if score > 0.05:\n",
    "        sentiment.append(\"Positive\")\n",
    "    elif score <= -0.05:\n",
    "        sentiment.append(\"Negative\")\n",
    "    else:\n",
    "        sentiment.append(\"Neutral\")\n",
    "    "
   ]
  },
  {
   "cell_type": "code",
   "execution_count": 90,
   "metadata": {},
   "outputs": [
    {
     "name": "stderr",
     "output_type": "stream",
     "text": [
      "/var/folders/93/dy9vvt2s2rl2nhwc9km6br000000gn/T/ipykernel_24412/597929542.py:2: SettingWithCopyWarning: \n",
      "A value is trying to be set on a copy of a slice from a DataFrame.\n",
      "Try using .loc[row_indexer,col_indexer] = value instead\n",
      "\n",
      "See the caveats in the documentation: https://pandas.pydata.org/pandas-docs/stable/user_guide/indexing.html#returning-a-view-versus-a-copy\n",
      "  new_df['sentiment_score'] = sentiment_score\n",
      "/var/folders/93/dy9vvt2s2rl2nhwc9km6br000000gn/T/ipykernel_24412/597929542.py:3: SettingWithCopyWarning: \n",
      "A value is trying to be set on a copy of a slice from a DataFrame.\n",
      "Try using .loc[row_indexer,col_indexer] = value instead\n",
      "\n",
      "See the caveats in the documentation: https://pandas.pydata.org/pandas-docs/stable/user_guide/indexing.html#returning-a-view-versus-a-copy\n",
      "  new_df['sentiment'] = sentiment\n"
     ]
    },
    {
     "data": {
      "text/html": [
       "<div>\n",
       "<style scoped>\n",
       "    .dataframe tbody tr th:only-of-type {\n",
       "        vertical-align: middle;\n",
       "    }\n",
       "\n",
       "    .dataframe tbody tr th {\n",
       "        vertical-align: top;\n",
       "    }\n",
       "\n",
       "    .dataframe thead th {\n",
       "        text-align: right;\n",
       "    }\n",
       "</style>\n",
       "<table border=\"1\" class=\"dataframe\">\n",
       "  <thead>\n",
       "    <tr style=\"text-align: right;\">\n",
       "      <th></th>\n",
       "      <th>AgeGroup</th>\n",
       "      <th>annotatorAge</th>\n",
       "      <th>story</th>\n",
       "      <th>sentiment_score</th>\n",
       "      <th>sentiment</th>\n",
       "    </tr>\n",
       "  </thead>\n",
       "  <tbody>\n",
       "    <tr>\n",
       "      <th>0</th>\n",
       "      <td>Adult</td>\n",
       "      <td>25.0</td>\n",
       "      <td>Concerts are my most favorite thing, and my bo...</td>\n",
       "      <td>{'neg': 0.011, 'neu': 0.714, 'pos': 0.274, 'co...</td>\n",
       "      <td>Positive</td>\n",
       "    </tr>\n",
       "    <tr>\n",
       "      <th>1</th>\n",
       "      <td>Adult</td>\n",
       "      <td>25.0</td>\n",
       "      <td>The day started perfectly, with a great drive ...</td>\n",
       "      <td>{'neg': 0.03, 'neu': 0.704, 'pos': 0.266, 'com...</td>\n",
       "      <td>Positive</td>\n",
       "    </tr>\n",
       "    <tr>\n",
       "      <th>2</th>\n",
       "      <td>Adult</td>\n",
       "      <td>35.0</td>\n",
       "      <td>It seems just like yesterday but today makes f...</td>\n",
       "      <td>{'neg': 0.023, 'neu': 0.826, 'pos': 0.151, 'co...</td>\n",
       "      <td>Positive</td>\n",
       "    </tr>\n",
       "    <tr>\n",
       "      <th>3</th>\n",
       "      <td>Adult</td>\n",
       "      <td>30.0</td>\n",
       "      <td>Five months ago, my niece and nephew were born...</td>\n",
       "      <td>{'neg': 0.041, 'neu': 0.794, 'pos': 0.165, 'co...</td>\n",
       "      <td>Positive</td>\n",
       "    </tr>\n",
       "    <tr>\n",
       "      <th>4</th>\n",
       "      <td>Adult</td>\n",
       "      <td>25.0</td>\n",
       "      <td>About a month ago I went to burning man. I was...</td>\n",
       "      <td>{'neg': 0.052, 'neu': 0.872, 'pos': 0.076, 'co...</td>\n",
       "      <td>Positive</td>\n",
       "    </tr>\n",
       "  </tbody>\n",
       "</table>\n",
       "</div>"
      ],
      "text/plain": [
       "  AgeGroup  annotatorAge                                              story  \\\n",
       "0    Adult          25.0  Concerts are my most favorite thing, and my bo...   \n",
       "1    Adult          25.0  The day started perfectly, with a great drive ...   \n",
       "2    Adult          35.0  It seems just like yesterday but today makes f...   \n",
       "3    Adult          30.0  Five months ago, my niece and nephew were born...   \n",
       "4    Adult          25.0  About a month ago I went to burning man. I was...   \n",
       "\n",
       "                                     sentiment_score sentiment  \n",
       "0  {'neg': 0.011, 'neu': 0.714, 'pos': 0.274, 'co...  Positive  \n",
       "1  {'neg': 0.03, 'neu': 0.704, 'pos': 0.266, 'com...  Positive  \n",
       "2  {'neg': 0.023, 'neu': 0.826, 'pos': 0.151, 'co...  Positive  \n",
       "3  {'neg': 0.041, 'neu': 0.794, 'pos': 0.165, 'co...  Positive  \n",
       "4  {'neg': 0.052, 'neu': 0.872, 'pos': 0.076, 'co...  Positive  "
      ]
     },
     "execution_count": 90,
     "metadata": {},
     "output_type": "execute_result"
    }
   ],
   "source": [
    "#Add 2 new columns to the dataframe\n",
    "new_df['sentiment_score'] = sentiment_score\n",
    "new_df['sentiment'] = sentiment\n",
    "\n",
    "#View dataset\n",
    "new_df.head()"
   ]
  },
  {
   "cell_type": "markdown",
   "metadata": {},
   "source": [
    "### IIIb. Visualizations"
   ]
  },
  {
   "cell_type": "code",
   "execution_count": 91,
   "metadata": {},
   "outputs": [
    {
     "data": {
      "image/png": "[encoded data removed]",
      "text/plain": [
       "<Figure size 432x288 with 1 Axes>"
      ]
     },
     "metadata": {
      "needs_background": "light"
     },
     "output_type": "display_data"
    }
   ],
   "source": [
    "X = new_df['annotatorAge'].unique()\n",
    "X.sort()\n",
    "x_axis = np.arange(len(new_df['annotatorAge'].unique()))\n",
    "positive = []\n",
    "for x in X:\n",
    "    positive.append(len(new_df[(new_df['annotatorAge'] == x) & (new_df['sentiment'] == 'Positive')]))\n",
    "positive\n",
    "\n",
    "negative = []\n",
    "for x in X:\n",
    "    negative.append(len(new_df[(new_df['annotatorAge'] == x) & (new_df['sentiment'] == 'Negative')]))\n",
    "negative\n",
    "\n",
    "plt.xticks(x_axis, X)\n",
    "\n",
    "plt.bar(x_axis + 0.2 ,positive,0.4,label='Positive')\n",
    "plt.bar(x_axis - 0.2 ,negative,0.4,label='Negative')\n",
    "plt.ylabel('# of Sentiment')\n",
    "plt.xlabel('Age')\n",
    "plt.legend()\n",
    "plt.show()"
   ]
  },
  {
   "cell_type": "markdown",
   "metadata": {},
   "source": [
    "From this graph we can see that..."
   ]
  },
  {
   "cell_type": "code",
   "execution_count": 92,
   "metadata": {},
   "outputs": [
    {
     "data": {
      "text/plain": [
       "Text(0.5, 1.0, 'Number of Sentiment Observations by Age Group')"
      ]
     },
     "execution_count": 92,
     "metadata": {},
     "output_type": "execute_result"
    },
    {
     "data": {
      "image/png": "[encoded data removed]",
      "text/plain": [
       "<Figure size 432x288 with 1 Axes>"
      ]
     },
     "metadata": {
      "needs_background": "light"
     },
     "output_type": "display_data"
    }
   ],
   "source": [
    "graph_2 = sns.histplot(x=\"AgeGroup\", hue=\"sentiment\", data=new_df, multiple = \"dodge\")\n",
    "\n",
    "graph_2.set(xlabel = 'Age Group', ylabel='Number of Sentiment Observations')\n",
    "plt.title(\"Number of Sentiment Observations by Age Group\")"
   ]
  },
  {
   "cell_type": "markdown",
   "metadata": {},
   "source": [
    "Next, we will look at the number of positive, negative, and neutral sentiments between different age groups. We can see that both positive and negative sentiments follow the same trend: Adults with the most observations, followed by Senior, and finally Youth. "
   ]
  },
  {
   "cell_type": "markdown",
   "metadata": {},
   "source": [
    "# IV. Conclusion and Discussion"
   ]
  },
  {
   "cell_type": "code",
   "execution_count": null,
   "metadata": {},
   "outputs": [],
   "source": [
    "#Conclusion"
   ]
  }
 ],
 "metadata": {
  "interpreter": {
   "hash": "aee8b7b246df8f9039afb4144a1f6fd8d2ca17a180786b69acc140d282b71a49"
  },
  "kernelspec": {
   "display_name": "Python 3 (ipykernel)",
   "language": "python",
   "name": "python3"
  },
  "language_info": {
   "codemirror_mode": {
    "name": "ipython",
    "version": 3
   },
   "file_extension": ".py",
   "mimetype": "text/x-python",
   "name": "python",
   "nbconvert_exporter": "python",
   "pygments_lexer": "ipython3",
   "version": "3.8.5"
  }
 },
 "nbformat": 4,
 "nbformat_minor": 4
}
