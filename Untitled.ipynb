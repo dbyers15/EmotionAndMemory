{
 "cells": [
  {
   "cell_type": "code",
<<<<<<< HEAD
   "execution_count": 5,
   "metadata": {},
   "outputs": [
    {
     "ename": "ModuleNotFoundError",
     "evalue": "No module named 'lisc'",
     "output_type": "error",
     "traceback": [
      "\u001b[0;31m---------------------------------------------------------------------------\u001b[0m",
      "\u001b[0;31mModuleNotFoundError\u001b[0m                       Traceback (most recent call last)",
      "\u001b[0;32m/var/folders/93/dy9vvt2s2rl2nhwc9km6br000000gn/T/ipykernel_16967/2489105081.py\u001b[0m in \u001b[0;36m<module>\u001b[0;34m\u001b[0m\n\u001b[0;32m----> 1\u001b[0;31m \u001b[0;32mfrom\u001b[0m \u001b[0mlisc\u001b[0m \u001b[0;32mimport\u001b[0m \u001b[0mCounts\u001b[0m\u001b[0;34m\u001b[0m\u001b[0;34m\u001b[0m\u001b[0m\n\u001b[0m\u001b[1;32m      2\u001b[0m \u001b[0;32mfrom\u001b[0m \u001b[0mlisc\u001b[0m\u001b[0;34m.\u001b[0m\u001b[0mutils\u001b[0m\u001b[0;34m.\u001b[0m\u001b[0mdb\u001b[0m \u001b[0;32mimport\u001b[0m \u001b[0mSCDB\u001b[0m\u001b[0;34m\u001b[0m\u001b[0;34m\u001b[0m\u001b[0m\n\u001b[1;32m      3\u001b[0m \u001b[0;32mfrom\u001b[0m \u001b[0mlisc\u001b[0m\u001b[0;34m.\u001b[0m\u001b[0mplts\u001b[0m\u001b[0;34m.\u001b[0m\u001b[0mcounts\u001b[0m \u001b[0;32mimport\u001b[0m \u001b[0;34m*\u001b[0m\u001b[0;34m\u001b[0m\u001b[0;34m\u001b[0m\u001b[0m\n\u001b[1;32m      4\u001b[0m \u001b[0;34m\u001b[0m\u001b[0m\n\u001b[1;32m      5\u001b[0m \u001b[0mterms_a\u001b[0m \u001b[0;34m=\u001b[0m \u001b[0;34m[\u001b[0m\u001b[0;34m[\u001b[0m\u001b[0;34m'\"fear\"'\u001b[0m\u001b[0;34m]\u001b[0m\u001b[0;34m,\u001b[0m \u001b[0;34m[\u001b[0m\u001b[0;34m'\"anger\"'\u001b[0m\u001b[0;34m]\u001b[0m\u001b[0;34m,\u001b[0m \u001b[0;34m[\u001b[0m\u001b[0;34m'\"sadness\"'\u001b[0m\u001b[0;34m]\u001b[0m\u001b[0;34m,\u001b[0m \u001b[0;34m[\u001b[0m\u001b[0;34m'\"sentimental\"'\u001b[0m\u001b[0;34m]\u001b[0m\u001b[0;34m]\u001b[0m\u001b[0;34m\u001b[0m\u001b[0;34m\u001b[0m\u001b[0m\n",
      "\u001b[0;31mModuleNotFoundError\u001b[0m: No module named 'lisc'"
=======
   "execution_count": 19,
   "metadata": {},
   "outputs": [
    {
     "name": "stdout",
     "output_type": "stream",
     "text": [
      "Running counts for:  \"fear\"\n",
      "Running counts for:  \"anger\"\n",
      "Running counts for:  \"sadness\"\n",
      "Running counts for:  \"sentimental\"\n",
      "The number of documents found for each search term is:\n",
      "  '\"fear\"'          -   75931\n",
      "  '\"anger\"'         -   16745\n",
      "  '\"sadness\"'       -    6460\n",
      "  '\"sentimental\"'   -     236\n"
>>>>>>> 6e3562f8ada27b41af9cc5b2227d528c4f3d2978
     ]
    }
   ],
   "source": [
    "from lisc import Counts\n",
    "from lisc.utils.db import SCDB\n",
    "from lisc.plts.counts import *\n",
    "import pandas as pd\n",
    "from vaderSentiment.vaderSentiment import SentimentIntensityAnalyzer\n",
    "import numpy as np\n",
    "import matplotlib.pyplot as plt\n",
    "\n",
    "terms_a = [['\"fear\"'], ['\"anger\"'], ['\"sadness\"'], ['\"sentimental\"']]\n",
    "\n",
    "# Initialize counts object and use the add_terms method to add terms that we want to search\n",
    "counts = Counts()\n",
    "counts.add_terms(terms_a)\n",
    "\n",
    "# Collect data using the run_collection method\n",
    "counts.run_collection(verbose=True, db='pubmed', field='tiab')\n",
    "\n",
    "# Check how many articles were found for each search term\n",
    "counts.check_counts()"
   ]
  },
  {
   "cell_type": "code",
   "execution_count": 2,
   "metadata": {},
   "outputs": [
    {
<<<<<<< HEAD
     "ename": "NameError",
     "evalue": "name 'counts' is not defined",
     "output_type": "error",
     "traceback": [
      "\u001b[0;31m---------------------------------------------------------------------------\u001b[0m",
      "\u001b[0;31mNameError\u001b[0m                                 Traceback (most recent call last)",
      "\u001b[0;32m/var/folders/93/dy9vvt2s2rl2nhwc9km6br000000gn/T/ipykernel_16967/684682226.py\u001b[0m in \u001b[0;36m<module>\u001b[0;34m\u001b[0m\n\u001b[0;32m----> 1\u001b[0;31m \u001b[0mcounts\u001b[0m\u001b[0;34m.\u001b[0m\u001b[0mcounts\u001b[0m\u001b[0;34m\u001b[0m\u001b[0;34m\u001b[0m\u001b[0m\n\u001b[0m",
      "\u001b[0;31mNameError\u001b[0m: name 'counts' is not defined"
     ]
=======
     "data": {
      "text/plain": [
       "array([[   0, 2972, 1953,   11],\n",
       "       [2972,    0, 2418,    4],\n",
       "       [1953, 2418,    0,    2],\n",
       "       [  11,    4,    2,    0]])"
      ]
     },
     "execution_count": 2,
     "metadata": {},
     "output_type": "execute_result"
>>>>>>> 6e3562f8ada27b41af9cc5b2227d528c4f3d2978
    }
   ],
   "source": [
    "counts.counts"
   ]
  },
  {
   "cell_type": "code",
<<<<<<< HEAD
   "execution_count": 4,
   "metadata": {},
   "outputs": [
    {
     "ename": "NameError",
     "evalue": "name 'Counts' is not defined",
     "output_type": "error",
     "traceback": [
      "\u001b[0;31m---------------------------------------------------------------------------\u001b[0m",
      "\u001b[0;31mNameError\u001b[0m                                 Traceback (most recent call last)",
      "\u001b[0;32m/var/folders/93/dy9vvt2s2rl2nhwc9km6br000000gn/T/ipykernel_16967/1393904742.py\u001b[0m in \u001b[0;36m<module>\u001b[0;34m\u001b[0m\n\u001b[1;32m      2\u001b[0m \u001b[0;34m\u001b[0m\u001b[0m\n\u001b[1;32m      3\u001b[0m \u001b[0;31m# Initialize counts object and use the add_terms method to add terms that we want to search\u001b[0m\u001b[0;34m\u001b[0m\u001b[0;34m\u001b[0m\u001b[0m\n\u001b[0;32m----> 4\u001b[0;31m \u001b[0mcounts2\u001b[0m \u001b[0;34m=\u001b[0m \u001b[0mCounts\u001b[0m\u001b[0;34m(\u001b[0m\u001b[0;34m)\u001b[0m\u001b[0;34m\u001b[0m\u001b[0;34m\u001b[0m\u001b[0m\n\u001b[0m\u001b[1;32m      5\u001b[0m \u001b[0mcounts2\u001b[0m\u001b[0;34m.\u001b[0m\u001b[0madd_terms\u001b[0m\u001b[0;34m(\u001b[0m\u001b[0mterms_b\u001b[0m\u001b[0;34m)\u001b[0m\u001b[0;34m\u001b[0m\u001b[0;34m\u001b[0m\u001b[0m\n\u001b[1;32m      6\u001b[0m \u001b[0;34m\u001b[0m\u001b[0m\n",
      "\u001b[0;31mNameError\u001b[0m: name 'Counts' is not defined"
=======
   "execution_count": 3,
   "metadata": {},
   "outputs": [
    {
     "name": "stdout",
     "output_type": "stream",
     "text": [
      "Running counts for:  \"amygdala\"\n",
      "Running counts for:  \"temporal lobe\"\n",
      "Running counts for:  \"prefrontal cortex\"\n",
      "Running counts for:  \"hippocampus\"\n",
      "The number of documents found for each search term is:\n",
      "  '\"amygdala\"'            -    38241\n",
      "  '\"temporal lobe\"'       -    34521\n",
      "  '\"prefrontal cortex\"'   -    52479\n",
      "  '\"hippocampus\"'         -   119487\n"
>>>>>>> 6e3562f8ada27b41af9cc5b2227d528c4f3d2978
     ]
    }
   ],
   "source": [
    "\n",
    "terms_b = [['\"amygdala\"'], ['\"temporal lobe\"'], ['\"prefrontal cortex\"'], ['\"hippocampus\"']]\n",
    "\n",
    "# Initialize counts object and use the add_terms method to add terms that we want to search\n",
    "counts2 = Counts()\n",
    "counts2.add_terms(terms_b)\n",
    "\n",
    "# Collect data using the run_collection method\n",
    "counts2.run_collection(verbose=True, db='pubmed', field='tiab')\n",
    "\n",
    "# Check how many articles were found for each search term\n",
    "counts2.check_counts()"
   ]
  },
  {
   "cell_type": "code",
<<<<<<< HEAD
   "execution_count": null,
=======
   "execution_count": 4,
>>>>>>> 6e3562f8ada27b41af9cc5b2227d528c4f3d2978
   "metadata": {},
   "outputs": [
    {
     "data": {
      "text/plain": [
       "array([[    0,  2286,  6593, 11830],\n",
       "       [ 2286,     0,  1656,  6502],\n",
       "       [ 6593,  1656,     0,  8840],\n",
       "       [11830,  6502,  8840,     0]])"
      ]
     },
     "execution_count": 4,
     "metadata": {},
     "output_type": "execute_result"
    }
   ],
   "source": [
    "counts2.counts"
   ]
  },
  {
   "cell_type": "code",
   "execution_count": 5,
   "metadata": {},
   "outputs": [
    {
     "name": "stdout",
     "output_type": "stream",
     "text": [
      "Running counts for:  \"amygdala\"\n",
      "Running counts for:  \"hippocampus\"\n",
      "Running counts for:  \"fear\"\n",
      "Running counts for:  \"anger\"\n",
      "The number of documents found for each search term is:\n",
      "  '\"amygdala\"'      -    38241\n",
      "  '\"hippocampus\"'   -   119487\n",
      "  '\"fear\"'          -    75931\n",
      "  '\"anger\"'         -    16745\n"
     ]
    }
   ],
   "source": [
    "terms_c = [['\"amygdala\"'], ['\"hippocampus\"'],['\"fear\"'], ['\"anger\"']]\n",
    "\n",
    "# Initialize counts object and use the add_terms method to add terms that we want to search\n",
    "counts3 = Counts()\n",
    "counts3.add_terms(terms_c)\n",
    "\n",
    "# Collect data using the run_collection method\n",
    "counts3.run_collection(verbose=True, db='pubmed', field='tiab')\n",
    "\n",
    "# Check how many articles were found for each search term\n",
    "counts3.check_counts()"
   ]
  },
  {
   "cell_type": "code",
   "execution_count": 6,
   "metadata": {},
   "outputs": [
    {
     "name": "stdout",
     "output_type": "stream",
     "text": [
      "Running counts for:  \"amygdala\"\n",
      "Running counts for:  \"prefrontal cortex\"\n",
      "Running counts for:  \"fear\"\n",
      "Running counts for:  \"attention\"\n",
      "The number of documents found for each search term is:\n",
      "  '\"amygdala\"'            -    38241\n",
      "  '\"prefrontal cortex\"'   -    52479\n",
      "  '\"fear\"'                -    75931\n",
      "  '\"attention\"'           -   478114\n"
     ]
    }
   ],
   "source": [
    "terms_d = [['\"amygdala\"'], ['\"prefrontal cortex\"'],['\"fear\"'], ['\"attention\"']]\n",
    "\n",
    "# Initialize counts object and use the add_terms method to add terms that we want to search\n",
    "counts4 = Counts()\n",
    "counts4.add_terms(terms_d)\n",
    "\n",
    "# Collect data using the run_collection method\n",
    "counts4.run_collection(verbose=True, db='pubmed', field='tiab')\n",
    "\n",
    "# Check how many articles were found for each search term\n",
    "counts4.check_counts()"
   ]
  },
  {
   "cell_type": "code",
   "execution_count": 7,
   "metadata": {},
   "outputs": [
    {
     "data": {
      "text/plain": [
       "array([[   0, 6593, 5168, 1678],\n",
       "       [6593,    0, 2096, 5083],\n",
       "       [5168, 2096,    0, 3852],\n",
       "       [1678, 5083, 3852,    0]])"
      ]
     },
     "execution_count": 7,
     "metadata": {},
     "output_type": "execute_result"
    }
   ],
   "source": [
    "counts4.counts"
   ]
  },
  {
   "cell_type": "markdown",
   "metadata": {},
   "source": [
    "# Emotions that we want to look at:\n",
    "- FEAR\n",
    "- ANGER\n",
    "- SADNESS\n",
    "- SENTIMENTAL\n",
    "\n",
    "# Regions in the brain we want to look at:\n",
    "- Amygdala\n",
    "- Temporal lobe\n",
    "- Prefrontal Cortex\n",
    "- Hippocampus\n"
   ]
  },
  {
   "cell_type": "markdown",
   "metadata": {},
   "source": [
    "# Overall question\n",
    "- Does emotion(postive/negative) influence reaction time\n",
    "    - fear\n",
    "- Does isolation affect emotion\n",
    "- Emotion and memory\n",
    "    - Happy, sad, fear, sentimental, bored, depression\n",
    "    - Does music help\n",
    "    - Does being happy/sad/mad help\n",
    "    - Enviornment \n",
    "        - Loction of learning, learning at school Environment help retain knowledge \n",
    "            -Does the emotion in that environment affect it\n",
    "        - How well can people adapt to forced learning measures\n",
    "        - \n",
    "     - Does body posture affect memory\n",
    "     - Do drugs imporve memory\n",
    "         - Does time of consumtion matter\n",
    "     - \n",
    "             \n",
    "    \n",
    "- Emotion and music"
   ]
  },
  {
   "cell_type": "code",
   "execution_count": 8,
   "metadata": {},
   "outputs": [],
   "source": [
    "\n",
    "\n",
    "hippDf = pd.read_csv('hippoCorpusV2.csv')\n",
    "islandersDf = pd.read_csv('Islander_data.csv')"
   ]
  },
  {
   "cell_type": "code",
<<<<<<< HEAD
   "execution_count": 1,
   "metadata": {},
   "outputs": [
    {
     "ename": "NameError",
     "evalue": "name 'hippDf' is not defined",
     "output_type": "error",
     "traceback": [
      "\u001b[0;31m---------------------------------------------------------------------------\u001b[0m",
      "\u001b[0;31mNameError\u001b[0m                                 Traceback (most recent call last)",
      "\u001b[0;32m/var/folders/93/dy9vvt2s2rl2nhwc9km6br000000gn/T/ipykernel_16967/568427241.py\u001b[0m in \u001b[0;36m<module>\u001b[0;34m\u001b[0m\n\u001b[1;32m      1\u001b[0m \u001b[0;31m# Get age and story columns\u001b[0m\u001b[0;34m\u001b[0m\u001b[0;34m\u001b[0m\u001b[0m\n\u001b[0;32m----> 2\u001b[0;31m \u001b[0mnew_df\u001b[0m \u001b[0;34m=\u001b[0m \u001b[0mhippDf\u001b[0m\u001b[0;34m[\u001b[0m\u001b[0;34m[\u001b[0m\u001b[0;34m'annotatorAge'\u001b[0m\u001b[0;34m,\u001b[0m\u001b[0;34m'story'\u001b[0m\u001b[0;34m]\u001b[0m\u001b[0;34m]\u001b[0m\u001b[0;34m\u001b[0m\u001b[0;34m\u001b[0m\u001b[0m\n\u001b[0m\u001b[1;32m      3\u001b[0m \u001b[0mnew_df\u001b[0m\u001b[0;34m\u001b[0m\u001b[0;34m\u001b[0m\u001b[0m\n",
      "\u001b[0;31mNameError\u001b[0m: name 'hippDf' is not defined"
     ]
    }
   ],
   "source": [
    "# Get age and story columns\n",
    "new_df = hippDf[['annotatorAge','story']]\n",
    "new_df"
=======
   "execution_count": 9,
   "metadata": {},
   "outputs": [
    {
     "data": {
      "text/html": [
       "<div>\n",
       "<style scoped>\n",
       "    .dataframe tbody tr th:only-of-type {\n",
       "        vertical-align: middle;\n",
       "    }\n",
       "\n",
       "    .dataframe tbody tr th {\n",
       "        vertical-align: top;\n",
       "    }\n",
       "\n",
       "    .dataframe thead th {\n",
       "        text-align: right;\n",
       "    }\n",
       "</style>\n",
       "<table border=\"1\" class=\"dataframe\">\n",
       "  <thead>\n",
       "    <tr style=\"text-align: right;\">\n",
       "      <th></th>\n",
       "      <th>annotatorAge</th>\n",
       "      <th>story</th>\n",
       "    </tr>\n",
       "  </thead>\n",
       "  <tbody>\n",
       "    <tr>\n",
       "      <th>0</th>\n",
       "      <td>25.0</td>\n",
       "      <td>Concerts are my most favorite thing, and my bo...</td>\n",
       "    </tr>\n",
       "    <tr>\n",
       "      <th>1</th>\n",
       "      <td>25.0</td>\n",
       "      <td>The day started perfectly, with a great drive ...</td>\n",
       "    </tr>\n",
       "    <tr>\n",
       "      <th>2</th>\n",
       "      <td>35.0</td>\n",
       "      <td>It seems just like yesterday but today makes f...</td>\n",
       "    </tr>\n",
       "    <tr>\n",
       "      <th>3</th>\n",
       "      <td>30.0</td>\n",
       "      <td>Five months ago, my niece and nephew were born...</td>\n",
       "    </tr>\n",
       "    <tr>\n",
       "      <th>4</th>\n",
       "      <td>25.0</td>\n",
       "      <td>About a month ago I went to burning man. I was...</td>\n",
       "    </tr>\n",
       "    <tr>\n",
       "      <th>...</th>\n",
       "      <td>...</td>\n",
       "      <td>...</td>\n",
       "    </tr>\n",
       "    <tr>\n",
       "      <th>6849</th>\n",
       "      <td>30.0</td>\n",
       "      <td>My dog was diagnosed with lymphoma a year ago ...</td>\n",
       "    </tr>\n",
       "    <tr>\n",
       "      <th>6850</th>\n",
       "      <td>18.0</td>\n",
       "      <td>Over my vacation from my job, I went to Casper...</td>\n",
       "    </tr>\n",
       "    <tr>\n",
       "      <th>6851</th>\n",
       "      <td>35.0</td>\n",
       "      <td>This event was a birthday party for my nephew....</td>\n",
       "    </tr>\n",
       "    <tr>\n",
       "      <th>6852</th>\n",
       "      <td>30.0</td>\n",
       "      <td>This event occurred about two weeks ago. I was...</td>\n",
       "    </tr>\n",
       "    <tr>\n",
       "      <th>6853</th>\n",
       "      <td>45.0</td>\n",
       "      <td>Over the past year I have been involved with a...</td>\n",
       "    </tr>\n",
       "  </tbody>\n",
       "</table>\n",
       "<p>6854 rows × 2 columns</p>\n",
       "</div>"
      ],
      "text/plain": [
       "      annotatorAge                                              story\n",
       "0             25.0  Concerts are my most favorite thing, and my bo...\n",
       "1             25.0  The day started perfectly, with a great drive ...\n",
       "2             35.0  It seems just like yesterday but today makes f...\n",
       "3             30.0  Five months ago, my niece and nephew were born...\n",
       "4             25.0  About a month ago I went to burning man. I was...\n",
       "...            ...                                                ...\n",
       "6849          30.0  My dog was diagnosed with lymphoma a year ago ...\n",
       "6850          18.0  Over my vacation from my job, I went to Casper...\n",
       "6851          35.0  This event was a birthday party for my nephew....\n",
       "6852          30.0  This event occurred about two weeks ago. I was...\n",
       "6853          45.0  Over the past year I have been involved with a...\n",
       "\n",
       "[6854 rows x 2 columns]"
      ]
     },
     "execution_count": 9,
     "metadata": {},
     "output_type": "execute_result"
    }
   ],
   "source": [
    "# Selected annotatorAge and story columns\n",
    "new_df = hippDf[['annotatorAge','story']]\n",
    "new_df\n"
   ]
  },
  {
   "cell_type": "code",
   "execution_count": 10,
   "metadata": {},
   "outputs": [
    {
     "data": {
      "text/plain": [
       "0"
      ]
     },
     "execution_count": 10,
     "metadata": {},
     "output_type": "execute_result"
    }
   ],
   "source": [
    "# Checked the ammount of null values\n",
    "new_df['story'].isna().sum()"
   ]
  },
  {
   "cell_type": "code",
   "execution_count": 11,
   "metadata": {},
   "outputs": [],
   "source": [
    "# Sentiment Analysis\n",
    "sentiment_score = []\n",
    "sentiment = []\n",
    "sentiment_obj = SentimentIntensityAnalyzer()\n",
    "for i in range(len(new_df['story'])):\n",
    "    sentiment_score.append(sentiment_obj.polarity_scores(new_df['story'][i]))\n",
    "    score = sentiment_obj.polarity_scores(new_df['story'][i])['compound']\n",
    "    if score > 0.05:\n",
    "        sentiment.append(\"Positive\")\n",
    "    elif score <= -0.05:\n",
    "        sentiment.append(\"Negative\")\n",
    "    else:\n",
    "        sentiment.append(\"Neutral\")\n",
    "    "
   ]
  },
  {
   "cell_type": "code",
   "execution_count": 12,
   "metadata": {},
   "outputs": [
    {
     "name": "stderr",
     "output_type": "stream",
     "text": [
      "/var/folders/93/dy9vvt2s2rl2nhwc9km6br000000gn/T/ipykernel_18272/4076535744.py:1: SettingWithCopyWarning: \n",
      "A value is trying to be set on a copy of a slice from a DataFrame.\n",
      "Try using .loc[row_indexer,col_indexer] = value instead\n",
      "\n",
      "See the caveats in the documentation: https://pandas.pydata.org/pandas-docs/stable/user_guide/indexing.html#returning-a-view-versus-a-copy\n",
      "  new_df['sentiment_score'] = sentiment_score\n",
      "/var/folders/93/dy9vvt2s2rl2nhwc9km6br000000gn/T/ipykernel_18272/4076535744.py:2: SettingWithCopyWarning: \n",
      "A value is trying to be set on a copy of a slice from a DataFrame.\n",
      "Try using .loc[row_indexer,col_indexer] = value instead\n",
      "\n",
      "See the caveats in the documentation: https://pandas.pydata.org/pandas-docs/stable/user_guide/indexing.html#returning-a-view-versus-a-copy\n",
      "  new_df['sentiment'] = sentiment\n"
     ]
    }
   ],
   "source": [
    "new_df['sentiment_score'] = sentiment_score\n",
    "new_df['sentiment'] = sentiment"
   ]
  },
  {
   "cell_type": "code",
   "execution_count": 37,
   "metadata": {},
   "outputs": [
    {
     "data": {
      "text/html": [
       "<div>\n",
       "<style scoped>\n",
       "    .dataframe tbody tr th:only-of-type {\n",
       "        vertical-align: middle;\n",
       "    }\n",
       "\n",
       "    .dataframe tbody tr th {\n",
       "        vertical-align: top;\n",
       "    }\n",
       "\n",
       "    .dataframe thead th {\n",
       "        text-align: right;\n",
       "    }\n",
       "</style>\n",
       "<table border=\"1\" class=\"dataframe\">\n",
       "  <thead>\n",
       "    <tr style=\"text-align: right;\">\n",
       "      <th></th>\n",
       "      <th>annotatorAge</th>\n",
       "      <th>story</th>\n",
       "      <th>sentiment_score</th>\n",
       "      <th>sentiment</th>\n",
       "    </tr>\n",
       "  </thead>\n",
       "  <tbody>\n",
       "    <tr>\n",
       "      <th>0</th>\n",
       "      <td>25.0</td>\n",
       "      <td>Concerts are my most favorite thing, and my bo...</td>\n",
       "      <td>{'neg': 0.011, 'neu': 0.714, 'pos': 0.274, 'co...</td>\n",
       "      <td>Positive</td>\n",
       "    </tr>\n",
       "    <tr>\n",
       "      <th>1</th>\n",
       "      <td>25.0</td>\n",
       "      <td>The day started perfectly, with a great drive ...</td>\n",
       "      <td>{'neg': 0.03, 'neu': 0.704, 'pos': 0.266, 'com...</td>\n",
       "      <td>Positive</td>\n",
       "    </tr>\n",
       "    <tr>\n",
       "      <th>2</th>\n",
       "      <td>35.0</td>\n",
       "      <td>It seems just like yesterday but today makes f...</td>\n",
       "      <td>{'neg': 0.023, 'neu': 0.826, 'pos': 0.151, 'co...</td>\n",
       "      <td>Positive</td>\n",
       "    </tr>\n",
       "    <tr>\n",
       "      <th>3</th>\n",
       "      <td>30.0</td>\n",
       "      <td>Five months ago, my niece and nephew were born...</td>\n",
       "      <td>{'neg': 0.041, 'neu': 0.794, 'pos': 0.165, 'co...</td>\n",
       "      <td>Positive</td>\n",
       "    </tr>\n",
       "    <tr>\n",
       "      <th>4</th>\n",
       "      <td>25.0</td>\n",
       "      <td>About a month ago I went to burning man. I was...</td>\n",
       "      <td>{'neg': 0.052, 'neu': 0.872, 'pos': 0.076, 'co...</td>\n",
       "      <td>Positive</td>\n",
       "    </tr>\n",
       "    <tr>\n",
       "      <th>...</th>\n",
       "      <td>...</td>\n",
       "      <td>...</td>\n",
       "      <td>...</td>\n",
       "      <td>...</td>\n",
       "    </tr>\n",
       "    <tr>\n",
       "      <th>6849</th>\n",
       "      <td>30.0</td>\n",
       "      <td>My dog was diagnosed with lymphoma a year ago ...</td>\n",
       "      <td>{'neg': 0.134, 'neu': 0.817, 'pos': 0.049, 'co...</td>\n",
       "      <td>Negative</td>\n",
       "    </tr>\n",
       "    <tr>\n",
       "      <th>6850</th>\n",
       "      <td>18.0</td>\n",
       "      <td>Over my vacation from my job, I went to Casper...</td>\n",
       "      <td>{'neg': 0.081, 'neu': 0.846, 'pos': 0.074, 'co...</td>\n",
       "      <td>Negative</td>\n",
       "    </tr>\n",
       "    <tr>\n",
       "      <th>6851</th>\n",
       "      <td>35.0</td>\n",
       "      <td>This event was a birthday party for my nephew....</td>\n",
       "      <td>{'neg': 0.0, 'neu': 0.787, 'pos': 0.213, 'comp...</td>\n",
       "      <td>Positive</td>\n",
       "    </tr>\n",
       "    <tr>\n",
       "      <th>6852</th>\n",
       "      <td>30.0</td>\n",
       "      <td>This event occurred about two weeks ago. I was...</td>\n",
       "      <td>{'neg': 0.105, 'neu': 0.778, 'pos': 0.118, 'co...</td>\n",
       "      <td>Positive</td>\n",
       "    </tr>\n",
       "    <tr>\n",
       "      <th>6853</th>\n",
       "      <td>45.0</td>\n",
       "      <td>Over the past year I have been involved with a...</td>\n",
       "      <td>{'neg': 0.046, 'neu': 0.801, 'pos': 0.153, 'co...</td>\n",
       "      <td>Positive</td>\n",
       "    </tr>\n",
       "  </tbody>\n",
       "</table>\n",
       "<p>6831 rows × 4 columns</p>\n",
       "</div>"
      ],
      "text/plain": [
       "      annotatorAge                                              story  \\\n",
       "0             25.0  Concerts are my most favorite thing, and my bo...   \n",
       "1             25.0  The day started perfectly, with a great drive ...   \n",
       "2             35.0  It seems just like yesterday but today makes f...   \n",
       "3             30.0  Five months ago, my niece and nephew were born...   \n",
       "4             25.0  About a month ago I went to burning man. I was...   \n",
       "...            ...                                                ...   \n",
       "6849          30.0  My dog was diagnosed with lymphoma a year ago ...   \n",
       "6850          18.0  Over my vacation from my job, I went to Casper...   \n",
       "6851          35.0  This event was a birthday party for my nephew....   \n",
       "6852          30.0  This event occurred about two weeks ago. I was...   \n",
       "6853          45.0  Over the past year I have been involved with a...   \n",
       "\n",
       "                                        sentiment_score sentiment  \n",
       "0     {'neg': 0.011, 'neu': 0.714, 'pos': 0.274, 'co...  Positive  \n",
       "1     {'neg': 0.03, 'neu': 0.704, 'pos': 0.266, 'com...  Positive  \n",
       "2     {'neg': 0.023, 'neu': 0.826, 'pos': 0.151, 'co...  Positive  \n",
       "3     {'neg': 0.041, 'neu': 0.794, 'pos': 0.165, 'co...  Positive  \n",
       "4     {'neg': 0.052, 'neu': 0.872, 'pos': 0.076, 'co...  Positive  \n",
       "...                                                 ...       ...  \n",
       "6849  {'neg': 0.134, 'neu': 0.817, 'pos': 0.049, 'co...  Negative  \n",
       "6850  {'neg': 0.081, 'neu': 0.846, 'pos': 0.074, 'co...  Negative  \n",
       "6851  {'neg': 0.0, 'neu': 0.787, 'pos': 0.213, 'comp...  Positive  \n",
       "6852  {'neg': 0.105, 'neu': 0.778, 'pos': 0.118, 'co...  Positive  \n",
       "6853  {'neg': 0.046, 'neu': 0.801, 'pos': 0.153, 'co...  Positive  \n",
       "\n",
       "[6831 rows x 4 columns]"
      ]
     },
     "execution_count": 37,
     "metadata": {},
     "output_type": "execute_result"
    }
   ],
   "source": [
    "new_df = new_df.dropna()\n",
    "new_df"
   ]
  },
  {
   "cell_type": "code",
   "execution_count": 78,
   "metadata": {},
   "outputs": [
    {
     "data": {
      "image/png": "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",
      "text/plain": [
       "<Figure size 432x288 with 1 Axes>"
      ]
     },
     "metadata": {
      "needs_background": "light"
     },
     "output_type": "display_data"
    }
   ],
   "source": [
    "X = new_df['annotatorAge'].unique()\n",
    "X.sort()\n",
    "x_axis = np.arange(len(new_df['annotatorAge'].unique()))\n",
    "positive = []\n",
    "for x in X:\n",
    "    positive.append(len(new_df[(new_df['annotatorAge'] == x) & (new_df['sentiment'] == 'Positive')]))\n",
    "positive\n",
    "\n",
    "negative = []\n",
    "for x in X:\n",
    "    negative.append(len(new_df[(new_df['annotatorAge'] == x) & (new_df['sentiment'] == 'Negative')]))\n",
    "negative\n",
    "\n",
    "plt.xticks(x_axis, X)\n",
    "\n",
    "plt.bar(x_axis + 0.2 ,positive,0.4,label='Positive')\n",
    "plt.bar(x_axis - 0.2 ,negative,0.4,label='Negative')\n",
    "plt.ylabel('# of Sentiment')\n",
    "plt.xlabel('Age')\n",
    "plt.legend()\n",
    "plt.show()"
>>>>>>> 6e3562f8ada27b41af9cc5b2227d528c4f3d2978
   ]
  },
  {
   "cell_type": "code",
   "execution_count": null,
   "metadata": {},
   "outputs": [],
   "source": []
  }
 ],
 "metadata": {
  "interpreter": {
   "hash": "aee8b7b246df8f9039afb4144a1f6fd8d2ca17a180786b69acc140d282b71a49"
  },
  "kernelspec": {
   "display_name": "Python 3.9.7 64-bit",
   "name": "python3"
  },
  "language_info": {
   "codemirror_mode": {
    "name": "ipython",
    "version": 3
   },
   "file_extension": ".py",
   "mimetype": "text/x-python",
   "name": "python",
   "nbconvert_exporter": "python",
   "pygments_lexer": "ipython3",
   "version": "3.9.7"
  }
 },
 "nbformat": 4,
 "nbformat_minor": 4
}
