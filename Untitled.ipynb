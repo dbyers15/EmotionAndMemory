{
 "cells": [
  {
   "cell_type": "code",
   "execution_count": 3,
   "metadata": {},
   "outputs": [
    {
     "name": "stdout",
     "output_type": "stream",
     "text": [
      "Running counts for:  \"fear\"\n",
      "Running counts for:  \"anger\"\n",
      "Running counts for:  \"sadness\"\n",
      "Running counts for:  \"sentimental\"\n",
      "The number of documents found for each search term is:\n",
      "  '\"fear\"'          -   75898\n",
      "  '\"anger\"'         -   16735\n",
      "  '\"sadness\"'       -    6458\n",
      "  '\"sentimental\"'   -     236\n"
     ]
    }
   ],
   "source": [
    "from lisc import Counts\n",
    "from lisc.utils.db import SCDB\n",
    "from lisc.plts.counts import *\n",
    "import pandas as pd\n",
    "from vaderSentiment.vaderSentiment import SentimentIntensityAnalyzer\n",
    "\n",
    "terms_a = [['\"fear\"'], ['\"anger\"'], ['\"sadness\"'], ['\"sentimental\"']]\n",
    "\n",
    "# Initialize counts object and use the add_terms method to add terms that we want to search\n",
    "counts = Counts()\n",
    "counts.add_terms(terms_a)\n",
    "\n",
    "# Collect data using the run_collection method\n",
    "counts.run_collection(verbose=True, db='pubmed', field='tiab')\n",
    "\n",
    "# Check how many articles were found for each search term\n",
    "counts.check_counts()"
   ]
  },
  {
   "cell_type": "code",
   "execution_count": 2,
   "metadata": {},
   "outputs": [
    {
     "data": {
      "text/plain": [
       "array([[   0, 2970, 1953,   11],\n",
       "       [2970,    0, 2417,    4],\n",
       "       [1953, 2417,    0,    2],\n",
       "       [  11,    4,    2,    0]])"
      ]
     },
     "execution_count": 2,
     "metadata": {},
     "output_type": "execute_result"
    }
   ],
   "source": [
    "counts.counts"
   ]
  },
  {
   "cell_type": "code",
   "execution_count": 3,
   "metadata": {},
   "outputs": [
    {
     "name": "stdout",
     "output_type": "stream",
     "text": [
      "Running counts for:  \"amygdala\"\n",
      "Running counts for:  \"temporal lobe\"\n",
      "Running counts for:  \"prefrontal cortex\"\n",
      "Running counts for:  \"hippocampus\"\n",
      "The number of documents found for each search term is:\n",
      "  '\"amygdala\"'            -    38232\n",
      "  '\"temporal lobe\"'       -    34508\n",
      "  '\"prefrontal cortex\"'   -    52462\n",
      "  '\"hippocampus\"'         -   119453\n"
     ]
    }
   ],
   "source": [
    "\n",
    "terms_b = [['\"amygdala\"'], ['\"temporal lobe\"'], ['\"prefrontal cortex\"'], ['\"hippocampus\"']]\n",
    "\n",
    "# Initialize counts object and use the add_terms method to add terms that we want to search\n",
    "counts2 = Counts()\n",
    "counts2.add_terms(terms_b)\n",
    "\n",
    "# Collect data using the run_collection method\n",
    "counts2.run_collection(verbose=True, db='pubmed', field='tiab')\n",
    "\n",
    "# Check how many articles were found for each search term\n",
    "counts2.check_counts()"
   ]
  },
  {
   "cell_type": "code",
   "execution_count": 4,
   "metadata": {},
   "outputs": [
    {
     "data": {
      "text/plain": [
       "array([[    0,  2285,  6589, 11829],\n",
       "       [ 2285,     0,  1655,  6500],\n",
       "       [ 6589,  1655,     0,  8836],\n",
       "       [11829,  6500,  8836,     0]])"
      ]
     },
     "execution_count": 4,
     "metadata": {},
     "output_type": "execute_result"
    }
   ],
   "source": [
    "counts2.counts"
   ]
  },
  {
   "cell_type": "code",
   "execution_count": 5,
   "metadata": {},
   "outputs": [
    {
     "name": "stdout",
     "output_type": "stream",
     "text": [
      "Running counts for:  \"amygdala\"\n",
      "Running counts for:  \"hippocampus\"\n",
      "Running counts for:  \"fear\"\n",
      "Running counts for:  \"anger\"\n",
      "The number of documents found for each search term is:\n",
      "  '\"amygdala\"'      -    38232\n",
      "  '\"hippocampus\"'   -   119453\n",
      "  '\"fear\"'          -    75898\n",
      "  '\"anger\"'         -    16735\n"
     ]
    }
   ],
   "source": [
    "terms_c = [['\"amygdala\"'], ['\"hippocampus\"'],['\"fear\"'], ['\"anger\"']]\n",
    "\n",
    "# Initialize counts object and use the add_terms method to add terms that we want to search\n",
    "counts3 = Counts()\n",
    "counts3.add_terms(terms_c)\n",
    "\n",
    "# Collect data using the run_collection method\n",
    "counts3.run_collection(verbose=True, db='pubmed', field='tiab')\n",
    "\n",
    "# Check how many articles were found for each search term\n",
    "counts3.check_counts()"
   ]
  },
  {
   "cell_type": "code",
   "execution_count": 6,
   "metadata": {},
   "outputs": [
    {
     "name": "stdout",
     "output_type": "stream",
     "text": [
      "Running counts for:  \"amygdala\"\n",
      "Running counts for:  \"prefrontal cortex\"\n",
      "Running counts for:  \"fear\"\n",
      "Running counts for:  \"attention\"\n",
      "The number of documents found for each search term is:\n",
      "  '\"amygdala\"'            -    38232\n",
      "  '\"prefrontal cortex\"'   -    52462\n",
      "  '\"fear\"'                -    75898\n",
      "  '\"attention\"'           -   477792\n"
     ]
    }
   ],
   "source": [
    "terms_d = [['\"amygdala\"'], ['\"prefrontal cortex\"'],['\"fear\"'], ['\"attention\"']]\n",
    "\n",
    "# Initialize counts object and use the add_terms method to add terms that we want to search\n",
    "counts4 = Counts()\n",
    "counts4.add_terms(terms_d)\n",
    "\n",
    "# Collect data using the run_collection method\n",
    "counts4.run_collection(verbose=True, db='pubmed', field='tiab')\n",
    "\n",
    "# Check how many articles were found for each search term\n",
    "counts4.check_counts()"
   ]
  },
  {
   "cell_type": "code",
   "execution_count": 7,
   "metadata": {},
   "outputs": [
    {
     "data": {
      "text/plain": [
       "array([[   0, 6589, 5168, 1678],\n",
       "       [6589,    0, 2096, 5083],\n",
       "       [5168, 2096,    0, 3852],\n",
       "       [1678, 5083, 3852,    0]])"
      ]
     },
     "execution_count": 7,
     "metadata": {},
     "output_type": "execute_result"
    }
   ],
   "source": [
    "counts4.counts"
   ]
  },
  {
   "cell_type": "markdown",
   "metadata": {},
   "source": [
    "# Emotions that we want to look at:\n",
    "- FEAR\n",
    "- ANGER\n",
    "- SADNESS\n",
    "- SENTIMENTAL\n",
    "\n",
    "# Regions in the brain we want to look at:\n",
    "- Amygdala\n",
    "- Temporal lobe\n",
    "- Prefrontal Cortex\n",
    "- Hippocampus\n"
   ]
  },
  {
   "cell_type": "markdown",
   "metadata": {},
   "source": [
    "# Overall question\n",
    "- Does emotion(postive/negative) influence reaction time\n",
    "    - fear\n",
    "- Does isolation affect emotion\n",
    "- Emotion and memory\n",
    "    - Happy, sad, fear, sentimental, bored, depression\n",
    "    - Does music help\n",
    "    - Does being happy/sad/mad help\n",
    "    - Enviornment \n",
    "        - Loction of learning, learning at school Environment help retain knowledge \n",
    "            -Does the emotion in that environment affect it\n",
    "        - How well can people adapt to forced learning measures\n",
    "        - \n",
    "     - Does body posture affect memory\n",
    "     - Do drugs imporve memory\n",
    "         - Does time of consumtion matter\n",
    "     - \n",
    "             \n",
    "    \n",
    "- Emotion and music"
   ]
  },
  {
   "cell_type": "code",
   "execution_count": 7,
   "metadata": {},
   "outputs": [],
   "source": [
    "\n",
    "\n",
    "hippDf = pd.read_csv('hippoCorpusV2.csv')\n",
    "islandersDf = pd.read_csv('Islander_data.csv')"
   ]
  },
  {
   "cell_type": "code",
   "execution_count": 8,
   "metadata": {},
   "outputs": [
    {
     "data": {
      "text/html": [
       "<div>\n",
       "<style scoped>\n",
       "    .dataframe tbody tr th:only-of-type {\n",
       "        vertical-align: middle;\n",
       "    }\n",
       "\n",
       "    .dataframe tbody tr th {\n",
       "        vertical-align: top;\n",
       "    }\n",
       "\n",
       "    .dataframe thead th {\n",
       "        text-align: right;\n",
       "    }\n",
       "</style>\n",
       "<table border=\"1\" class=\"dataframe\">\n",
       "  <thead>\n",
       "    <tr style=\"text-align: right;\">\n",
       "      <th></th>\n",
       "      <th>annotatorAge</th>\n",
       "      <th>story</th>\n",
       "    </tr>\n",
       "  </thead>\n",
       "  <tbody>\n",
       "    <tr>\n",
       "      <th>0</th>\n",
       "      <td>25.0</td>\n",
       "      <td>Concerts are my most favorite thing, and my bo...</td>\n",
       "    </tr>\n",
       "    <tr>\n",
       "      <th>1</th>\n",
       "      <td>25.0</td>\n",
       "      <td>The day started perfectly, with a great drive ...</td>\n",
       "    </tr>\n",
       "    <tr>\n",
       "      <th>2</th>\n",
       "      <td>35.0</td>\n",
       "      <td>It seems just like yesterday but today makes f...</td>\n",
       "    </tr>\n",
       "    <tr>\n",
       "      <th>3</th>\n",
       "      <td>30.0</td>\n",
       "      <td>Five months ago, my niece and nephew were born...</td>\n",
       "    </tr>\n",
       "    <tr>\n",
       "      <th>4</th>\n",
       "      <td>25.0</td>\n",
       "      <td>About a month ago I went to burning man. I was...</td>\n",
       "    </tr>\n",
       "    <tr>\n",
       "      <th>...</th>\n",
       "      <td>...</td>\n",
       "      <td>...</td>\n",
       "    </tr>\n",
       "    <tr>\n",
       "      <th>6849</th>\n",
       "      <td>30.0</td>\n",
       "      <td>My dog was diagnosed with lymphoma a year ago ...</td>\n",
       "    </tr>\n",
       "    <tr>\n",
       "      <th>6850</th>\n",
       "      <td>18.0</td>\n",
       "      <td>Over my vacation from my job, I went to Casper...</td>\n",
       "    </tr>\n",
       "    <tr>\n",
       "      <th>6851</th>\n",
       "      <td>35.0</td>\n",
       "      <td>This event was a birthday party for my nephew....</td>\n",
       "    </tr>\n",
       "    <tr>\n",
       "      <th>6852</th>\n",
       "      <td>30.0</td>\n",
       "      <td>This event occurred about two weeks ago. I was...</td>\n",
       "    </tr>\n",
       "    <tr>\n",
       "      <th>6853</th>\n",
       "      <td>45.0</td>\n",
       "      <td>Over the past year I have been involved with a...</td>\n",
       "    </tr>\n",
       "  </tbody>\n",
       "</table>\n",
       "<p>6854 rows × 2 columns</p>\n",
       "</div>"
      ],
      "text/plain": [
       "      annotatorAge                                              story\n",
       "0             25.0  Concerts are my most favorite thing, and my bo...\n",
       "1             25.0  The day started perfectly, with a great drive ...\n",
       "2             35.0  It seems just like yesterday but today makes f...\n",
       "3             30.0  Five months ago, my niece and nephew were born...\n",
       "4             25.0  About a month ago I went to burning man. I was...\n",
       "...            ...                                                ...\n",
       "6849          30.0  My dog was diagnosed with lymphoma a year ago ...\n",
       "6850          18.0  Over my vacation from my job, I went to Casper...\n",
       "6851          35.0  This event was a birthday party for my nephew....\n",
       "6852          30.0  This event occurred about two weeks ago. I was...\n",
       "6853          45.0  Over the past year I have been involved with a...\n",
       "\n",
       "[6854 rows x 2 columns]"
      ]
     },
     "execution_count": 8,
     "metadata": {},
     "output_type": "execute_result"
    }
   ],
   "source": [
    "# Selected annotatorAge and story columns\n",
    "new_df = hippDf[['annotatorAge','story']]\n",
    "new_df\n"
   ]
  },
  {
   "cell_type": "code",
   "execution_count": 21,
   "metadata": {},
   "outputs": [
    {
     "data": {
      "text/plain": [
       "0"
      ]
     },
     "execution_count": 21,
     "metadata": {},
     "output_type": "execute_result"
    }
   ],
   "source": [
    "# Checked the ammount of null values\n",
    "new_df['story'].isna().sum()"
   ]
  },
  {
   "cell_type": "code",
   "execution_count": 14,
   "metadata": {},
   "outputs": [],
   "source": [
    "# Sentiment Analysis\n",
    "sentiment_score = []\n",
    "sentiment = []\n",
    "sentiment_obj = SentimentIntensityAnalyzer()\n",
    "for i in range(len(new_df['story'])):\n",
    "    sentiment_score.append(sentiment_obj.polarity_scores(new_df['story'][i]))\n",
    "    score = sentiment_obj.polarity_scores(new_df['story'][i])['compound']\n",
    "    if score > 0.05:\n",
    "        sentiment.append(\"Positive\")\n",
    "    elif score <= -0.05:\n",
    "        sentiment.append(\"Negative\")\n",
    "    else:\n",
    "        sentiment.append(\"Neutral\")\n",
    "    "
   ]
  },
  {
   "cell_type": "code",
   "execution_count": 15,
   "metadata": {},
   "outputs": [
    {
     "name": "stderr",
     "output_type": "stream",
     "text": [
      "/var/folders/93/dy9vvt2s2rl2nhwc9km6br000000gn/T/ipykernel_17428/4076535744.py:1: SettingWithCopyWarning: \n",
      "A value is trying to be set on a copy of a slice from a DataFrame.\n",
      "Try using .loc[row_indexer,col_indexer] = value instead\n",
      "\n",
      "See the caveats in the documentation: https://pandas.pydata.org/pandas-docs/stable/user_guide/indexing.html#returning-a-view-versus-a-copy\n",
      "  new_df['sentiment_score'] = sentiment_score\n",
      "/var/folders/93/dy9vvt2s2rl2nhwc9km6br000000gn/T/ipykernel_17428/4076535744.py:2: SettingWithCopyWarning: \n",
      "A value is trying to be set on a copy of a slice from a DataFrame.\n",
      "Try using .loc[row_indexer,col_indexer] = value instead\n",
      "\n",
      "See the caveats in the documentation: https://pandas.pydata.org/pandas-docs/stable/user_guide/indexing.html#returning-a-view-versus-a-copy\n",
      "  new_df['sentiment'] = sentiment\n"
     ]
    }
   ],
   "source": [
    "new_df['sentiment_score'] = sentiment_score\n",
    "new_df['sentiment'] = sentiment"
   ]
  },
  {
   "cell_type": "code",
   "execution_count": 16,
   "metadata": {},
   "outputs": [
    {
     "data": {
      "text/html": [
       "<div>\n",
       "<style scoped>\n",
       "    .dataframe tbody tr th:only-of-type {\n",
       "        vertical-align: middle;\n",
       "    }\n",
       "\n",
       "    .dataframe tbody tr th {\n",
       "        vertical-align: top;\n",
       "    }\n",
       "\n",
       "    .dataframe thead th {\n",
       "        text-align: right;\n",
       "    }\n",
       "</style>\n",
       "<table border=\"1\" class=\"dataframe\">\n",
       "  <thead>\n",
       "    <tr style=\"text-align: right;\">\n",
       "      <th></th>\n",
       "      <th>annotatorAge</th>\n",
       "      <th>story</th>\n",
       "      <th>sentiment_score</th>\n",
       "      <th>sentiment</th>\n",
       "    </tr>\n",
       "  </thead>\n",
       "  <tbody>\n",
       "    <tr>\n",
       "      <th>0</th>\n",
       "      <td>25.0</td>\n",
       "      <td>Concerts are my most favorite thing, and my bo...</td>\n",
       "      <td>{'neg': 0.011, 'neu': 0.714, 'pos': 0.274, 'co...</td>\n",
       "      <td>Positive</td>\n",
       "    </tr>\n",
       "    <tr>\n",
       "      <th>1</th>\n",
       "      <td>25.0</td>\n",
       "      <td>The day started perfectly, with a great drive ...</td>\n",
       "      <td>{'neg': 0.03, 'neu': 0.704, 'pos': 0.266, 'com...</td>\n",
       "      <td>Positive</td>\n",
       "    </tr>\n",
       "    <tr>\n",
       "      <th>2</th>\n",
       "      <td>35.0</td>\n",
       "      <td>It seems just like yesterday but today makes f...</td>\n",
       "      <td>{'neg': 0.023, 'neu': 0.826, 'pos': 0.151, 'co...</td>\n",
       "      <td>Positive</td>\n",
       "    </tr>\n",
       "    <tr>\n",
       "      <th>3</th>\n",
       "      <td>30.0</td>\n",
       "      <td>Five months ago, my niece and nephew were born...</td>\n",
       "      <td>{'neg': 0.041, 'neu': 0.794, 'pos': 0.165, 'co...</td>\n",
       "      <td>Positive</td>\n",
       "    </tr>\n",
       "    <tr>\n",
       "      <th>4</th>\n",
       "      <td>25.0</td>\n",
       "      <td>About a month ago I went to burning man. I was...</td>\n",
       "      <td>{'neg': 0.052, 'neu': 0.872, 'pos': 0.076, 'co...</td>\n",
       "      <td>Positive</td>\n",
       "    </tr>\n",
       "    <tr>\n",
       "      <th>...</th>\n",
       "      <td>...</td>\n",
       "      <td>...</td>\n",
       "      <td>...</td>\n",
       "      <td>...</td>\n",
       "    </tr>\n",
       "    <tr>\n",
       "      <th>6849</th>\n",
       "      <td>30.0</td>\n",
       "      <td>My dog was diagnosed with lymphoma a year ago ...</td>\n",
       "      <td>{'neg': 0.134, 'neu': 0.817, 'pos': 0.049, 'co...</td>\n",
       "      <td>Negative</td>\n",
       "    </tr>\n",
       "    <tr>\n",
       "      <th>6850</th>\n",
       "      <td>18.0</td>\n",
       "      <td>Over my vacation from my job, I went to Casper...</td>\n",
       "      <td>{'neg': 0.081, 'neu': 0.846, 'pos': 0.074, 'co...</td>\n",
       "      <td>Negative</td>\n",
       "    </tr>\n",
       "    <tr>\n",
       "      <th>6851</th>\n",
       "      <td>35.0</td>\n",
       "      <td>This event was a birthday party for my nephew....</td>\n",
       "      <td>{'neg': 0.0, 'neu': 0.787, 'pos': 0.213, 'comp...</td>\n",
       "      <td>Positive</td>\n",
       "    </tr>\n",
       "    <tr>\n",
       "      <th>6852</th>\n",
       "      <td>30.0</td>\n",
       "      <td>This event occurred about two weeks ago. I was...</td>\n",
       "      <td>{'neg': 0.105, 'neu': 0.778, 'pos': 0.118, 'co...</td>\n",
       "      <td>Positive</td>\n",
       "    </tr>\n",
       "    <tr>\n",
       "      <th>6853</th>\n",
       "      <td>45.0</td>\n",
       "      <td>Over the past year I have been involved with a...</td>\n",
       "      <td>{'neg': 0.046, 'neu': 0.801, 'pos': 0.153, 'co...</td>\n",
       "      <td>Positive</td>\n",
       "    </tr>\n",
       "  </tbody>\n",
       "</table>\n",
       "<p>6854 rows × 4 columns</p>\n",
       "</div>"
      ],
      "text/plain": [
       "      annotatorAge                                              story  \\\n",
       "0             25.0  Concerts are my most favorite thing, and my bo...   \n",
       "1             25.0  The day started perfectly, with a great drive ...   \n",
       "2             35.0  It seems just like yesterday but today makes f...   \n",
       "3             30.0  Five months ago, my niece and nephew were born...   \n",
       "4             25.0  About a month ago I went to burning man. I was...   \n",
       "...            ...                                                ...   \n",
       "6849          30.0  My dog was diagnosed with lymphoma a year ago ...   \n",
       "6850          18.0  Over my vacation from my job, I went to Casper...   \n",
       "6851          35.0  This event was a birthday party for my nephew....   \n",
       "6852          30.0  This event occurred about two weeks ago. I was...   \n",
       "6853          45.0  Over the past year I have been involved with a...   \n",
       "\n",
       "                                        sentiment_score sentiment  \n",
       "0     {'neg': 0.011, 'neu': 0.714, 'pos': 0.274, 'co...  Positive  \n",
       "1     {'neg': 0.03, 'neu': 0.704, 'pos': 0.266, 'com...  Positive  \n",
       "2     {'neg': 0.023, 'neu': 0.826, 'pos': 0.151, 'co...  Positive  \n",
       "3     {'neg': 0.041, 'neu': 0.794, 'pos': 0.165, 'co...  Positive  \n",
       "4     {'neg': 0.052, 'neu': 0.872, 'pos': 0.076, 'co...  Positive  \n",
       "...                                                 ...       ...  \n",
       "6849  {'neg': 0.134, 'neu': 0.817, 'pos': 0.049, 'co...  Negative  \n",
       "6850  {'neg': 0.081, 'neu': 0.846, 'pos': 0.074, 'co...  Negative  \n",
       "6851  {'neg': 0.0, 'neu': 0.787, 'pos': 0.213, 'comp...  Positive  \n",
       "6852  {'neg': 0.105, 'neu': 0.778, 'pos': 0.118, 'co...  Positive  \n",
       "6853  {'neg': 0.046, 'neu': 0.801, 'pos': 0.153, 'co...  Positive  \n",
       "\n",
       "[6854 rows x 4 columns]"
      ]
     },
     "execution_count": 16,
     "metadata": {},
     "output_type": "execute_result"
    }
   ],
   "source": [
    "new_df"
   ]
  },
  {
   "cell_type": "code",
   "execution_count": null,
   "metadata": {},
   "outputs": [],
   "source": []
  }
 ],
 "metadata": {
  "interpreter": {
   "hash": "aee8b7b246df8f9039afb4144a1f6fd8d2ca17a180786b69acc140d282b71a49"
  },
  "kernelspec": {
   "display_name": "Python 3.9.7 64-bit",
   "name": "python3"
  },
  "language_info": {
   "codemirror_mode": {
    "name": "ipython",
    "version": 3
   },
   "file_extension": ".py",
   "mimetype": "text/x-python",
   "name": "python",
   "nbconvert_exporter": "python",
   "pygments_lexer": "ipython3",
   "version": "3.9.7"
  }
 },
 "nbformat": 4,
 "nbformat_minor": 4
}
